{
 "cells": [
  {
   "cell_type": "markdown",
   "id": "4b1e6718",
   "metadata": {},
   "source": [
    "# RNN으로_금융앱리뷰_분석하기"
   ]
  },
  {
   "cell_type": "code",
   "execution_count": 38,
   "id": "d7eb1055",
   "metadata": {},
   "outputs": [
    {
     "name": "stdout",
     "output_type": "stream",
     "text": [
      "Requirement already satisfied: konlpy in /home/fintech/miniforge3/envs/fintech/lib/python3.9/site-packages (0.6.0)\n",
      "Requirement already satisfied: JPype1>=0.7.0 in /home/fintech/miniforge3/envs/fintech/lib/python3.9/site-packages (from konlpy) (1.5.2)\n",
      "Requirement already satisfied: lxml>=4.1.0 in /home/fintech/miniforge3/envs/fintech/lib/python3.9/site-packages (from konlpy) (5.4.0)\n",
      "Requirement already satisfied: numpy>=1.6 in /home/fintech/miniforge3/envs/fintech/lib/python3.9/site-packages (from konlpy) (1.23.5)\n",
      "Requirement already satisfied: packaging in /home/fintech/miniforge3/envs/fintech/lib/python3.9/site-packages (from JPype1>=0.7.0->konlpy) (25.0)\n"
     ]
    }
   ],
   "source": [
    "!pip install konlpy"
   ]
  },
  {
   "cell_type": "code",
   "execution_count": 2,
   "id": "b916b733",
   "metadata": {},
   "outputs": [
    {
     "name": "stderr",
     "output_type": "stream",
     "text": [
      "2025-05-22 10:16:35.634506: I tensorflow/core/util/port.cc:153] oneDNN custom operations are on. You may see slightly different numerical results due to floating-point round-off errors from different computation orders. To turn them off, set the environment variable `TF_ENABLE_ONEDNN_OPTS=0`.\n",
      "2025-05-22 10:16:35.942203: E external/local_xla/xla/stream_executor/cuda/cuda_fft.cc:467] Unable to register cuFFT factory: Attempting to register factory for plugin cuFFT when one has already been registered\n",
      "WARNING: All log messages before absl::InitializeLog() is called are written to STDERR\n",
      "E0000 00:00:1747876596.082469    1786 cuda_dnn.cc:8579] Unable to register cuDNN factory: Attempting to register factory for plugin cuDNN when one has already been registered\n",
      "E0000 00:00:1747876596.133049    1786 cuda_blas.cc:1407] Unable to register cuBLAS factory: Attempting to register factory for plugin cuBLAS when one has already been registered\n",
      "W0000 00:00:1747876596.510020    1786 computation_placer.cc:177] computation placer already registered. Please check linkage and avoid linking the same target more than once.\n",
      "W0000 00:00:1747876596.510096    1786 computation_placer.cc:177] computation placer already registered. Please check linkage and avoid linking the same target more than once.\n",
      "W0000 00:00:1747876596.510098    1786 computation_placer.cc:177] computation placer already registered. Please check linkage and avoid linking the same target more than once.\n",
      "W0000 00:00:1747876596.510099    1786 computation_placer.cc:177] computation placer already registered. Please check linkage and avoid linking the same target more than once.\n",
      "2025-05-22 10:16:36.560108: I tensorflow/core/platform/cpu_feature_guard.cc:210] This TensorFlow binary is optimized to use available CPU instructions in performance-critical operations.\n",
      "To enable the following instructions: AVX2 AVX512F AVX512_VNNI FMA, in other operations, rebuild TensorFlow with the appropriate compiler flags.\n"
     ]
    }
   ],
   "source": [
    "from konlpy.tag import Mecab\n",
    "import pandas as pd\n",
    "import numpy as np\n",
    "from tensorflow.keras.preprocessing.text import Tokenizer, text_to_word_sequence\n",
    "from tensorflow.keras.preprocessing.sequence import pad_sequences\n",
    "from tensorflow.keras.models import Sequential\n",
    "from tensorflow.keras.layers import Dense, Flatten, Embedding\n",
    "from tensorflow.keras.utils import to_categorical"
   ]
  },
  {
   "cell_type": "code",
   "execution_count": 3,
   "id": "b4dc09f9",
   "metadata": {},
   "outputs": [
    {
     "data": {
      "text/html": [
       "<div>\n",
       "<style scoped>\n",
       "    .dataframe tbody tr th:only-of-type {\n",
       "        vertical-align: middle;\n",
       "    }\n",
       "\n",
       "    .dataframe tbody tr th {\n",
       "        vertical-align: top;\n",
       "    }\n",
       "\n",
       "    .dataframe thead th {\n",
       "        text-align: right;\n",
       "    }\n",
       "</style>\n",
       "<table border=\"1\" class=\"dataframe\">\n",
       "  <thead>\n",
       "    <tr style=\"text-align: right;\">\n",
       "      <th></th>\n",
       "      <th>리뷰일</th>\n",
       "      <th>평점</th>\n",
       "      <th>사용자리뷰</th>\n",
       "      <th>업체답변</th>\n",
       "      <th>은행명</th>\n",
       "    </tr>\n",
       "  </thead>\n",
       "  <tbody>\n",
       "    <tr>\n",
       "      <th>0</th>\n",
       "      <td>2023-12-21</td>\n",
       "      <td>5</td>\n",
       "      <td>엄빠 폰에 설치해드렸는데 두분 다 쓰기 편하다고 하시네요 ㅎㅎ 저도 쓰고있음!</td>\n",
       "      <td>NaN</td>\n",
       "      <td>하나</td>\n",
       "    </tr>\n",
       "    <tr>\n",
       "      <th>1</th>\n",
       "      <td>2025-02-17</td>\n",
       "      <td>1</td>\n",
       "      <td>Cd기 축소 연장하려면 이 어플 깔라는데 왜 30퍼에서 안깔리는지 아니 애초에 슈퍼...</td>\n",
       "      <td>안녕하세요. 신한은행입니다.\\n먼저 SOL사용에 불편을 드려 죄송합니다.\\n어플의 ...</td>\n",
       "      <td>신한</td>\n",
       "    </tr>\n",
       "    <tr>\n",
       "      <th>2</th>\n",
       "      <td>2024-07-26</td>\n",
       "      <td>5</td>\n",
       "      <td>서비스가 통합되어 있어서 점점 사용빈도가 높아지네요.</td>\n",
       "      <td>고객님 안녕하세요! KB스타뱅킹을 이용해 주셔서 진심으로 감사드립니다. KB스타뱅킹...</td>\n",
       "      <td>국민</td>\n",
       "    </tr>\n",
       "    <tr>\n",
       "      <th>3</th>\n",
       "      <td>2024-09-01</td>\n",
       "      <td>1</td>\n",
       "      <td>카드 충천이 안됌</td>\n",
       "      <td>안녕하세요. 전민구 님, 토스팀입니다. 남겨주신 내용만으로는 겪고계신 불편사항의 자...</td>\n",
       "      <td>토스</td>\n",
       "    </tr>\n",
       "    <tr>\n",
       "      <th>4</th>\n",
       "      <td>2023-11-13</td>\n",
       "      <td>1</td>\n",
       "      <td>알뜰폰 인증이 안돼요.....</td>\n",
       "      <td>안녕하세요 헤이모두들안녕님, 우리은행입니다. 먼저 이용에 불편을 드려 매우 죄송합니...</td>\n",
       "      <td>우리</td>\n",
       "    </tr>\n",
       "  </tbody>\n",
       "</table>\n",
       "</div>"
      ],
      "text/plain": [
       "          리뷰일  평점                                              사용자리뷰  \\\n",
       "0  2023-12-21   5        엄빠 폰에 설치해드렸는데 두분 다 쓰기 편하다고 하시네요 ㅎㅎ 저도 쓰고있음!   \n",
       "1  2025-02-17   1  Cd기 축소 연장하려면 이 어플 깔라는데 왜 30퍼에서 안깔리는지 아니 애초에 슈퍼...   \n",
       "2  2024-07-26   5                      서비스가 통합되어 있어서 점점 사용빈도가 높아지네요.   \n",
       "3  2024-09-01   1                                          카드 충천이 안됌   \n",
       "4  2023-11-13   1                                   알뜰폰 인증이 안돼요.....   \n",
       "\n",
       "                                                업체답변 은행명  \n",
       "0                                                NaN  하나  \n",
       "1  안녕하세요. 신한은행입니다.\\n먼저 SOL사용에 불편을 드려 죄송합니다.\\n어플의 ...  신한  \n",
       "2  고객님 안녕하세요! KB스타뱅킹을 이용해 주셔서 진심으로 감사드립니다. KB스타뱅킹...  국민  \n",
       "3  안녕하세요. 전민구 님, 토스팀입니다. 남겨주신 내용만으로는 겪고계신 불편사항의 자...  토스  \n",
       "4  안녕하세요 헤이모두들안녕님, 우리은행입니다. 먼저 이용에 불편을 드려 매우 죄송합니...  우리  "
      ]
     },
     "execution_count": 3,
     "metadata": {},
     "output_type": "execute_result"
    }
   ],
   "source": [
    "train_data = pd.read_csv(\"../05machine_learning/data/bank_app_reviews_train.csv\")\n",
    "train_data.head()"
   ]
  },
  {
   "cell_type": "markdown",
   "id": "c2b2a5f2",
   "metadata": {},
   "source": [
    "특수문자 제거 함수"
   ]
  },
  {
   "cell_type": "code",
   "execution_count": 4,
   "id": "2bed0e08",
   "metadata": {},
   "outputs": [],
   "source": [
    "import re\n",
    "\n",
    "def clean_text(text):\n",
    "    cleaned = re.sub(r'[^가-힣a-zA-Z0-9\\s]','', text) #한글, 영문, 숫자\n",
    "    cleaned = re.sub(r'\\s+', ' ', cleaned) # 연속된 공백을 하나의 공백\n",
    "    return cleaned.strip()"
   ]
  },
  {
   "cell_type": "markdown",
   "id": "5353cfe7",
   "metadata": {},
   "source": [
    "사용자 리뷰에서 특수문자 제거"
   ]
  },
  {
   "cell_type": "code",
   "execution_count": 5,
   "id": "345b8f0f",
   "metadata": {},
   "outputs": [
    {
     "data": {
      "text/plain": [
       "0                  엄빠 폰에 설치해드렸는데 두분 다 쓰기 편하다고 하시네요 저도 쓰고있음\n",
       "1        Cd기 축소 연장하려면 이 어플 깔라는데 왜 30퍼에서 안깔리는지 아니 애초에 슈퍼...\n",
       "2                             서비스가 통합되어 있어서 점점 사용빈도가 높아지네요\n",
       "3                                                카드 충천이 안됌\n",
       "4                                              알뜰폰 인증이 안돼요\n",
       "                               ...                        \n",
       "22241                                      어플 시작오류가 가끔 나네요\n",
       "22242                              업데이트 후에 계좌이체하는 게 자주 튕겨요\n",
       "22243                                                  굳굳굳\n",
       "22244                                  오래시간 같이한 나의은행 든든합니다\n",
       "22245    라이브 광고 전보다 더 안좋네 아무리 주기 싫어도 겨우 3원줄거면서 너무 쪼잔하게 ...\n",
       "Name: 사용자리뷰, Length: 22246, dtype: object"
      ]
     },
     "execution_count": 5,
     "metadata": {},
     "output_type": "execute_result"
    }
   ],
   "source": [
    "train_data['사용자리뷰'] = train_data['사용자리뷰'].apply(clean_text)\n",
    "train_data['사용자리뷰']"
   ]
  },
  {
   "cell_type": "markdown",
   "id": "715f7c73",
   "metadata": {},
   "source": [
    "is_good 컬럼 추가, 평점 4이상은 긍정: 1, 3이하는 부정: 0"
   ]
  },
  {
   "cell_type": "code",
   "execution_count": 6,
   "id": "4707a0d7",
   "metadata": {},
   "outputs": [
    {
     "data": {
      "text/plain": [
       "0        1\n",
       "1        0\n",
       "2        1\n",
       "3        0\n",
       "4        0\n",
       "        ..\n",
       "22241    0\n",
       "22242    0\n",
       "22243    1\n",
       "22244    1\n",
       "22245    0\n",
       "Name: is_good, Length: 22246, dtype: int64"
      ]
     },
     "execution_count": 6,
     "metadata": {},
     "output_type": "execute_result"
    }
   ],
   "source": [
    "train_data['is_good'] = train_data['평점'].apply(lambda x: 1 if x >=4 else 0)\n",
    "train_data['is_good']"
   ]
  },
  {
   "cell_type": "markdown",
   "id": "97ec5c27",
   "metadata": {},
   "source": [
    "토큰화"
   ]
  },
  {
   "cell_type": "code",
   "execution_count": 7,
   "id": "8e2297d0",
   "metadata": {},
   "outputs": [
    {
     "data": {
      "text/plain": [
       "0                  엄빠 폰에 설치해드렸는데 두분 다 쓰기 편하다고 하시네요 저도 쓰고있음\n",
       "1        Cd기 축소 연장하려면 이 어플 깔라는데 왜 30퍼에서 안깔리는지 아니 애초에 슈퍼...\n",
       "2                             서비스가 통합되어 있어서 점점 사용빈도가 높아지네요\n",
       "3                                                카드 충천이 안됌\n",
       "4                                              알뜰폰 인증이 안돼요\n",
       "                               ...                        \n",
       "22241                                      어플 시작오류가 가끔 나네요\n",
       "22242                              업데이트 후에 계좌이체하는 게 자주 튕겨요\n",
       "22243                                                  굳굳굳\n",
       "22244                                  오래시간 같이한 나의은행 든든합니다\n",
       "22245    라이브 광고 전보다 더 안좋네 아무리 주기 싫어도 겨우 3원줄거면서 너무 쪼잔하게 ...\n",
       "Name: 사용자리뷰, Length: 22246, dtype: object"
      ]
     },
     "execution_count": 7,
     "metadata": {},
     "output_type": "execute_result"
    }
   ],
   "source": [
    "train_data['사용자리뷰']"
   ]
  },
  {
   "cell_type": "code",
   "execution_count": 8,
   "id": "4c018248",
   "metadata": {},
   "outputs": [],
   "source": [
    "# !pip install mecab-python3"
   ]
  },
  {
   "cell_type": "code",
   "execution_count": 9,
   "id": "14c60c35",
   "metadata": {},
   "outputs": [
    {
     "data": {
      "text/plain": [
       "['엄',\n",
       " '빠',\n",
       " '폰',\n",
       " '에',\n",
       " '설치',\n",
       " '해',\n",
       " '드렸',\n",
       " '는데',\n",
       " '두',\n",
       " '분',\n",
       " '다',\n",
       " '쓰',\n",
       " '기',\n",
       " '편하',\n",
       " '다고',\n",
       " '하',\n",
       " '시',\n",
       " '네요',\n",
       " '저',\n",
       " '도',\n",
       " '쓰',\n",
       " '고',\n",
       " '있',\n",
       " '음']"
      ]
     },
     "execution_count": 9,
     "metadata": {},
     "output_type": "execute_result"
    }
   ],
   "source": [
    "mecab = Mecab()\n",
    "mecab.morphs(train_data['사용자리뷰'][0])"
   ]
  },
  {
   "cell_type": "markdown",
   "id": "452cbad1",
   "metadata": {},
   "source": [
    "전체 문장을 토큰화 한 후 tokenized_docs에 저장"
   ]
  },
  {
   "cell_type": "code",
   "execution_count": 10,
   "id": "aab58e10",
   "metadata": {},
   "outputs": [],
   "source": [
    "tokenized_docs = train_data['사용자리뷰'].apply(mecab.morphs)"
   ]
  },
  {
   "cell_type": "code",
   "execution_count": 11,
   "id": "71358783",
   "metadata": {},
   "outputs": [
    {
     "data": {
      "text/plain": [
       "['서비스',\n",
       " '가',\n",
       " '통합',\n",
       " '되',\n",
       " '어',\n",
       " '있',\n",
       " '어서',\n",
       " '점점',\n",
       " '사용',\n",
       " '빈도',\n",
       " '가',\n",
       " '높',\n",
       " '아',\n",
       " '지',\n",
       " '네요']"
      ]
     },
     "execution_count": 11,
     "metadata": {},
     "output_type": "execute_result"
    }
   ],
   "source": [
    "tokenized_docs[2]"
   ]
  },
  {
   "cell_type": "markdown",
   "id": "bc927a9d",
   "metadata": {},
   "source": [
    "단어 인덱스 생성"
   ]
  },
  {
   "cell_type": "code",
   "execution_count": 12,
   "id": "07321153",
   "metadata": {},
   "outputs": [
    {
     "name": "stdout",
     "output_type": "stream",
     "text": [
      "13010\n"
     ]
    }
   ],
   "source": [
    "token = Tokenizer(lower=False)\n",
    "token.fit_on_texts(tokenized_docs)\n",
    "print(len(token.word_index))"
   ]
  },
  {
   "cell_type": "markdown",
   "id": "0d75f914",
   "metadata": {},
   "source": [
    "문장 벡터화"
   ]
  },
  {
   "cell_type": "code",
   "execution_count": 13,
   "id": "4ebfbea3",
   "metadata": {},
   "outputs": [
    {
     "name": "stdout",
     "output_type": "stream",
     "text": [
      "[5400, 1682, 170, 11, 159, 37, 2292, 14, 301, 184, 28, 45, 19, 106, 123, 1, 76, 15, 216, 5, 45, 2, 10, 64]\n"
     ]
    }
   ],
   "source": [
    "x = token.texts_to_sequences(tokenized_docs)\n",
    "print(x[0])"
   ]
  },
  {
   "cell_type": "markdown",
   "id": "5934d178",
   "metadata": {},
   "source": [
    "가장 긴 문장의 길이 구하기"
   ]
  },
  {
   "cell_type": "code",
   "execution_count": 14,
   "id": "948157ba",
   "metadata": {},
   "outputs": [
    {
     "data": {
      "text/plain": [
       "302"
      ]
     },
     "execution_count": 14,
     "metadata": {},
     "output_type": "execute_result"
    }
   ],
   "source": [
    "max_length = max([len(i) for i in x]) + 1\n",
    "max_length"
   ]
  },
  {
   "cell_type": "code",
   "execution_count": null,
   "id": "d40a11f1",
   "metadata": {},
   "outputs": [],
   "source": [
    "joblib.dump(token, \"./model/bank_app_tokenizer.joblib\")\n",
    "joblib.dump(max_length, \"model/bank_app_max_length.joblib\")"
   ]
  },
  {
   "cell_type": "markdown",
   "id": "33b1a93d",
   "metadata": {},
   "source": [
    "가장 긴 길이에 맞춰서 패딩\n",
    "* RNN의 경우 패딩을 post로 주는 것이 더 좋음, 단어가 앞, 0이 뒤에 붙음\n",
    "* Transformer계열은 위치 정보가 따로 있으므로 post, pre든 차이가 없음"
   ]
  },
  {
   "cell_type": "code",
   "execution_count": 15,
   "id": "7edfde84",
   "metadata": {},
   "outputs": [
    {
     "name": "stdout",
     "output_type": "stream",
     "text": [
      "[7174   19 2404 1948    1  414    3   18   52  210 1258   51  521 1604\n",
      "   42    6 3601  143   90 1518   11  725  553 1003  114    3   18   52\n",
      "  435    2  725  923   11   94  221   18   29  485   51 4003 4523 4004\n",
      "   58  277   77  725  923  923  251   28  210   13  366    4   39  250\n",
      " 2830  332    0    0    0    0    0    0    0    0    0    0    0    0\n",
      "    0    0    0    0    0    0    0    0    0    0    0    0    0    0\n",
      "    0    0    0    0    0    0    0    0    0    0    0    0    0    0\n",
      "    0    0    0    0    0    0    0    0    0    0    0    0    0    0\n",
      "    0    0    0    0    0    0    0    0    0    0    0    0    0    0\n",
      "    0    0    0    0    0    0    0    0    0    0    0    0    0    0\n",
      "    0    0    0    0    0    0    0    0    0    0    0    0    0    0\n",
      "    0    0    0    0    0    0    0    0    0    0    0    0    0    0\n",
      "    0    0    0    0    0    0    0    0    0    0    0    0    0    0\n",
      "    0    0    0    0    0    0    0    0    0    0    0    0    0    0\n",
      "    0    0    0    0    0    0    0    0    0    0    0    0    0    0\n",
      "    0    0    0    0    0    0    0    0    0    0    0    0    0    0\n",
      "    0    0    0    0    0    0    0    0    0    0    0    0    0    0\n",
      "    0    0    0    0    0    0    0    0    0    0    0    0    0    0\n",
      "    0    0    0    0    0    0    0    0    0    0    0    0    0    0\n",
      "    0    0    0    0    0    0    0    0    0    0    0    0    0    0\n",
      "    0    0    0    0    0    0    0    0    0    0    0    0    0    0\n",
      "    0    0    0    0    0    0    0    0]\n"
     ]
    }
   ],
   "source": [
    "X_padded = pad_sequences(x, maxlen=max_length, padding='post')\n",
    "print(X_padded[1])"
   ]
  },
  {
   "cell_type": "code",
   "execution_count": 16,
   "id": "13468639",
   "metadata": {},
   "outputs": [
    {
     "data": {
      "text/plain": [
       "(22246, 302)"
      ]
     },
     "execution_count": 16,
     "metadata": {},
     "output_type": "execute_result"
    }
   ],
   "source": [
    "X_padded.shape"
   ]
  },
  {
   "cell_type": "code",
   "execution_count": 17,
   "id": "0ac29c46",
   "metadata": {},
   "outputs": [
    {
     "data": {
      "text/plain": [
       "is_good\n",
       "1    13240\n",
       "0     9006\n",
       "Name: count, dtype: int64"
      ]
     },
     "execution_count": 17,
     "metadata": {},
     "output_type": "execute_result"
    }
   ],
   "source": [
    "y = train_data['is_good']\n",
    "y.value_counts()"
   ]
  },
  {
   "cell_type": "markdown",
   "id": "6d656a1d",
   "metadata": {},
   "source": [
    "홀드아웃"
   ]
  },
  {
   "cell_type": "code",
   "execution_count": 18,
   "id": "279571d9",
   "metadata": {},
   "outputs": [],
   "source": [
    "# !pip install scikit-learn"
   ]
  },
  {
   "cell_type": "code",
   "execution_count": 19,
   "id": "e4df60c2",
   "metadata": {},
   "outputs": [],
   "source": [
    "from sklearn.model_selection import train_test_split"
   ]
  },
  {
   "cell_type": "code",
   "execution_count": 20,
   "id": "788df5e2",
   "metadata": {},
   "outputs": [],
   "source": [
    "X_train, X_valid, y_train, y_valid = train_test_split(X_padded, y, test_size=0.3, stratify=y, random_state=42)"
   ]
  },
  {
   "cell_type": "code",
   "execution_count": 21,
   "id": "6dda44ab",
   "metadata": {},
   "outputs": [
    {
     "name": "stdout",
     "output_type": "stream",
     "text": [
      "13011\n"
     ]
    }
   ],
   "source": [
    "# 임베딩에 입력할 단어 수 추출\n",
    "word_size = len(token.word_index) + 1\n",
    "print(word_size)"
   ]
  },
  {
   "cell_type": "markdown",
   "id": "62da0967",
   "metadata": {},
   "source": [
    "# 양방향 RNN 네트워크를 이용해 텍스트 분석"
   ]
  },
  {
   "cell_type": "code",
   "execution_count": 22,
   "id": "ad713cf2",
   "metadata": {},
   "outputs": [],
   "source": [
    "import tensorflow as tf\n",
    "import matplotlib.pyplot as plt\n",
    "from tensorflow.keras.layers import Input, Embedding, SimpleRNN, Dense, Dropout, Bidirectional\n",
    "from tensorflow.keras.callbacks import EarlyStopping, ModelCheckpoint"
   ]
  },
  {
   "cell_type": "code",
   "execution_count": 23,
   "id": "9d8e6f7e",
   "metadata": {},
   "outputs": [
    {
     "name": "stderr",
     "output_type": "stream",
     "text": [
      "I0000 00:00:1747876607.494361    1786 gpu_device.cc:2019] Created device /job:localhost/replica:0/task:0/device:GPU:0 with 1347 MB memory:  -> device: 0, name: NVIDIA GeForce MX450, pci bus id: 0000:01:00.0, compute capability: 7.5\n"
     ]
    },
    {
     "data": {
      "text/html": [
       "<pre style=\"white-space:pre;overflow-x:auto;line-height:normal;font-family:Menlo,'DejaVu Sans Mono',consolas,'Courier New',monospace\"><span style=\"font-weight: bold\">Model: \"sequential\"</span>\n",
       "</pre>\n"
      ],
      "text/plain": [
       "\u001b[1mModel: \"sequential\"\u001b[0m\n"
      ]
     },
     "metadata": {},
     "output_type": "display_data"
    },
    {
     "data": {
      "text/html": [
       "<pre style=\"white-space:pre;overflow-x:auto;line-height:normal;font-family:Menlo,'DejaVu Sans Mono',consolas,'Courier New',monospace\">┏━━━━━━━━━━━━━━━━━━━━━━━━━━━━━━━━━┳━━━━━━━━━━━━━━━━━━━━━━━━┳━━━━━━━━━━━━━━━┓\n",
       "┃<span style=\"font-weight: bold\"> Layer (type)                    </span>┃<span style=\"font-weight: bold\"> Output Shape           </span>┃<span style=\"font-weight: bold\">       Param # </span>┃\n",
       "┡━━━━━━━━━━━━━━━━━━━━━━━━━━━━━━━━━╇━━━━━━━━━━━━━━━━━━━━━━━━╇━━━━━━━━━━━━━━━┩\n",
       "│ embedding (<span style=\"color: #0087ff; text-decoration-color: #0087ff\">Embedding</span>)           │ (<span style=\"color: #00d7ff; text-decoration-color: #00d7ff\">None</span>, <span style=\"color: #00af00; text-decoration-color: #00af00\">302</span>, <span style=\"color: #00af00; text-decoration-color: #00af00\">64</span>)        │       <span style=\"color: #00af00; text-decoration-color: #00af00\">832,704</span> │\n",
       "├─────────────────────────────────┼────────────────────────┼───────────────┤\n",
       "│ bidirectional (<span style=\"color: #0087ff; text-decoration-color: #0087ff\">Bidirectional</span>)   │ (<span style=\"color: #00d7ff; text-decoration-color: #00d7ff\">None</span>, <span style=\"color: #00af00; text-decoration-color: #00af00\">256</span>)            │        <span style=\"color: #00af00; text-decoration-color: #00af00\">49,408</span> │\n",
       "├─────────────────────────────────┼────────────────────────┼───────────────┤\n",
       "│ dense (<span style=\"color: #0087ff; text-decoration-color: #0087ff\">Dense</span>)                   │ (<span style=\"color: #00d7ff; text-decoration-color: #00d7ff\">None</span>, <span style=\"color: #00af00; text-decoration-color: #00af00\">32</span>)             │         <span style=\"color: #00af00; text-decoration-color: #00af00\">8,224</span> │\n",
       "├─────────────────────────────────┼────────────────────────┼───────────────┤\n",
       "│ dropout (<span style=\"color: #0087ff; text-decoration-color: #0087ff\">Dropout</span>)               │ (<span style=\"color: #00d7ff; text-decoration-color: #00d7ff\">None</span>, <span style=\"color: #00af00; text-decoration-color: #00af00\">32</span>)             │             <span style=\"color: #00af00; text-decoration-color: #00af00\">0</span> │\n",
       "├─────────────────────────────────┼────────────────────────┼───────────────┤\n",
       "│ dense_1 (<span style=\"color: #0087ff; text-decoration-color: #0087ff\">Dense</span>)                 │ (<span style=\"color: #00d7ff; text-decoration-color: #00d7ff\">None</span>, <span style=\"color: #00af00; text-decoration-color: #00af00\">1</span>)              │            <span style=\"color: #00af00; text-decoration-color: #00af00\">33</span> │\n",
       "└─────────────────────────────────┴────────────────────────┴───────────────┘\n",
       "</pre>\n"
      ],
      "text/plain": [
       "┏━━━━━━━━━━━━━━━━━━━━━━━━━━━━━━━━━┳━━━━━━━━━━━━━━━━━━━━━━━━┳━━━━━━━━━━━━━━━┓\n",
       "┃\u001b[1m \u001b[0m\u001b[1mLayer (type)                   \u001b[0m\u001b[1m \u001b[0m┃\u001b[1m \u001b[0m\u001b[1mOutput Shape          \u001b[0m\u001b[1m \u001b[0m┃\u001b[1m \u001b[0m\u001b[1m      Param #\u001b[0m\u001b[1m \u001b[0m┃\n",
       "┡━━━━━━━━━━━━━━━━━━━━━━━━━━━━━━━━━╇━━━━━━━━━━━━━━━━━━━━━━━━╇━━━━━━━━━━━━━━━┩\n",
       "│ embedding (\u001b[38;5;33mEmbedding\u001b[0m)           │ (\u001b[38;5;45mNone\u001b[0m, \u001b[38;5;34m302\u001b[0m, \u001b[38;5;34m64\u001b[0m)        │       \u001b[38;5;34m832,704\u001b[0m │\n",
       "├─────────────────────────────────┼────────────────────────┼───────────────┤\n",
       "│ bidirectional (\u001b[38;5;33mBidirectional\u001b[0m)   │ (\u001b[38;5;45mNone\u001b[0m, \u001b[38;5;34m256\u001b[0m)            │        \u001b[38;5;34m49,408\u001b[0m │\n",
       "├─────────────────────────────────┼────────────────────────┼───────────────┤\n",
       "│ dense (\u001b[38;5;33mDense\u001b[0m)                   │ (\u001b[38;5;45mNone\u001b[0m, \u001b[38;5;34m32\u001b[0m)             │         \u001b[38;5;34m8,224\u001b[0m │\n",
       "├─────────────────────────────────┼────────────────────────┼───────────────┤\n",
       "│ dropout (\u001b[38;5;33mDropout\u001b[0m)               │ (\u001b[38;5;45mNone\u001b[0m, \u001b[38;5;34m32\u001b[0m)             │             \u001b[38;5;34m0\u001b[0m │\n",
       "├─────────────────────────────────┼────────────────────────┼───────────────┤\n",
       "│ dense_1 (\u001b[38;5;33mDense\u001b[0m)                 │ (\u001b[38;5;45mNone\u001b[0m, \u001b[38;5;34m1\u001b[0m)              │            \u001b[38;5;34m33\u001b[0m │\n",
       "└─────────────────────────────────┴────────────────────────┴───────────────┘\n"
      ]
     },
     "metadata": {},
     "output_type": "display_data"
    },
    {
     "data": {
      "text/html": [
       "<pre style=\"white-space:pre;overflow-x:auto;line-height:normal;font-family:Menlo,'DejaVu Sans Mono',consolas,'Courier New',monospace\"><span style=\"font-weight: bold\"> Total params: </span><span style=\"color: #00af00; text-decoration-color: #00af00\">890,369</span> (3.40 MB)\n",
       "</pre>\n"
      ],
      "text/plain": [
       "\u001b[1m Total params: \u001b[0m\u001b[38;5;34m890,369\u001b[0m (3.40 MB)\n"
      ]
     },
     "metadata": {},
     "output_type": "display_data"
    },
    {
     "data": {
      "text/html": [
       "<pre style=\"white-space:pre;overflow-x:auto;line-height:normal;font-family:Menlo,'DejaVu Sans Mono',consolas,'Courier New',monospace\"><span style=\"font-weight: bold\"> Trainable params: </span><span style=\"color: #00af00; text-decoration-color: #00af00\">890,369</span> (3.40 MB)\n",
       "</pre>\n"
      ],
      "text/plain": [
       "\u001b[1m Trainable params: \u001b[0m\u001b[38;5;34m890,369\u001b[0m (3.40 MB)\n"
      ]
     },
     "metadata": {},
     "output_type": "display_data"
    },
    {
     "data": {
      "text/html": [
       "<pre style=\"white-space:pre;overflow-x:auto;line-height:normal;font-family:Menlo,'DejaVu Sans Mono',consolas,'Courier New',monospace\"><span style=\"font-weight: bold\"> Non-trainable params: </span><span style=\"color: #00af00; text-decoration-color: #00af00\">0</span> (0.00 B)\n",
       "</pre>\n"
      ],
      "text/plain": [
       "\u001b[1m Non-trainable params: \u001b[0m\u001b[38;5;34m0\u001b[0m (0.00 B)\n"
      ]
     },
     "metadata": {},
     "output_type": "display_data"
    }
   ],
   "source": [
    "birnn = Sequential()\n",
    "birnn.add(Input(shape=(max_length,)))\n",
    "birnn.add(Embedding(input_dim=word_size, output_dim=64))\n",
    "birnn.add(Bidirectional(SimpleRNN(128, return_sequences=False, activation='tanh')))\n",
    "birnn.add(Dense(32, activation='relu'))\n",
    "birnn.add(Dropout(0.5))\n",
    "birnn.add(Dense(1, activation='sigmoid'))\n",
    "birnn.summary()\n"
   ]
  },
  {
   "cell_type": "code",
   "execution_count": 24,
   "id": "672d2aa3",
   "metadata": {
    "scrolled": true
   },
   "outputs": [
    {
     "name": "stdout",
     "output_type": "stream",
     "text": [
      "Epoch 1/1000\n"
     ]
    },
    {
     "name": "stderr",
     "output_type": "stream",
     "text": [
      "WARNING: All log messages before absl::InitializeLog() is called are written to STDERR\n",
      "I0000 00:00:1747876611.816227    1836 service.cc:152] XLA service 0x561e86ee9e50 initialized for platform CUDA (this does not guarantee that XLA will be used). Devices:\n",
      "I0000 00:00:1747876611.816272    1836 service.cc:160]   StreamExecutor device (0): NVIDIA GeForce MX450, Compute Capability 7.5\n",
      "2025-05-22 10:16:51.915270: I tensorflow/compiler/mlir/tensorflow/utils/dump_mlir_util.cc:269] disabling MLIR crash reproducer, set env var `MLIR_CRASH_REPRODUCER_DIRECTORY` to enable.\n",
      "I0000 00:00:1747876611.612402    1836 cuda_dnn.cc:529] Loaded cuDNN version 90300\n",
      "I0000 00:00:1747876614.453249    1836 device_compiler.h:188] Compiled cluster using XLA!  This line is logged at most once for the lifetime of the process.\n"
     ]
    },
    {
     "name": "stdout",
     "output_type": "stream",
     "text": [
      "\u001b[1m61/61\u001b[0m \u001b[32m━━━━━━━━━━━━━━━━━━━━\u001b[0m\u001b[37m\u001b[0m \u001b[1m0s\u001b[0m 251ms/step - accuracy: 0.6538 - auc: 0.6952 - loss: 0.6082\n",
      "Epoch 1: val_loss improved from inf to 0.37791, saving model to ./model/bank_app_review_birnn.keras\n",
      "\u001b[1m61/61\u001b[0m \u001b[32m━━━━━━━━━━━━━━━━━━━━\u001b[0m\u001b[37m\u001b[0m \u001b[1m25s\u001b[0m 329ms/step - accuracy: 0.6550 - auc: 0.6970 - loss: 0.6069 - val_accuracy: 0.8415 - val_auc: 0.9137 - val_loss: 0.3779\n",
      "Epoch 2/1000\n",
      "\u001b[1m61/61\u001b[0m \u001b[32m━━━━━━━━━━━━━━━━━━━━\u001b[0m\u001b[37m\u001b[0m \u001b[1m0s\u001b[0m 221ms/step - accuracy: 0.8610 - auc: 0.9182 - loss: 0.3544\n",
      "Epoch 2: val_loss improved from 0.37791 to 0.27975, saving model to ./model/bank_app_review_birnn.keras\n",
      "\u001b[1m61/61\u001b[0m \u001b[32m━━━━━━━━━━━━━━━━━━━━\u001b[0m\u001b[37m\u001b[0m \u001b[1m15s\u001b[0m 242ms/step - accuracy: 0.8612 - auc: 0.9183 - loss: 0.3541 - val_accuracy: 0.8911 - val_auc: 0.9484 - val_loss: 0.2797\n",
      "Epoch 3/1000\n",
      "\u001b[1m61/61\u001b[0m \u001b[32m━━━━━━━━━━━━━━━━━━━━\u001b[0m\u001b[37m\u001b[0m \u001b[1m0s\u001b[0m 262ms/step - accuracy: 0.9129 - auc: 0.9554 - loss: 0.2543\n",
      "Epoch 3: val_loss did not improve from 0.27975\n",
      "\u001b[1m61/61\u001b[0m \u001b[32m━━━━━━━━━━━━━━━━━━━━\u001b[0m\u001b[37m\u001b[0m \u001b[1m17s\u001b[0m 282ms/step - accuracy: 0.9129 - auc: 0.9555 - loss: 0.2542 - val_accuracy: 0.8870 - val_auc: 0.9505 - val_loss: 0.2831\n",
      "Epoch 4/1000\n",
      "\u001b[1m61/61\u001b[0m \u001b[32m━━━━━━━━━━━━━━━━━━━━\u001b[0m\u001b[37m\u001b[0m \u001b[1m0s\u001b[0m 292ms/step - accuracy: 0.9311 - auc: 0.9691 - loss: 0.2113\n",
      "Epoch 4: val_loss did not improve from 0.27975\n",
      "\u001b[1m61/61\u001b[0m \u001b[32m━━━━━━━━━━━━━━━━━━━━\u001b[0m\u001b[37m\u001b[0m \u001b[1m19s\u001b[0m 308ms/step - accuracy: 0.9309 - auc: 0.9690 - loss: 0.2115 - val_accuracy: 0.8864 - val_auc: 0.9489 - val_loss: 0.2867\n",
      "Epoch 5/1000\n",
      "\u001b[1m61/61\u001b[0m \u001b[32m━━━━━━━━━━━━━━━━━━━━\u001b[0m\u001b[37m\u001b[0m \u001b[1m0s\u001b[0m 212ms/step - accuracy: 0.9372 - auc: 0.9696 - loss: 0.2073\n",
      "Epoch 5: val_loss did not improve from 0.27975\n",
      "\u001b[1m61/61\u001b[0m \u001b[32m━━━━━━━━━━━━━━━━━━━━\u001b[0m\u001b[37m\u001b[0m \u001b[1m14s\u001b[0m 221ms/step - accuracy: 0.9370 - auc: 0.9695 - loss: 0.2078 - val_accuracy: 0.8160 - val_auc: 0.8919 - val_loss: 0.4290\n",
      "Epoch 6/1000\n",
      "\u001b[1m61/61\u001b[0m \u001b[32m━━━━━━━━━━━━━━━━━━━━\u001b[0m\u001b[37m\u001b[0m \u001b[1m0s\u001b[0m 246ms/step - accuracy: 0.8447 - auc: 0.9100 - loss: 0.3815\n",
      "Epoch 6: val_loss did not improve from 0.27975\n",
      "\u001b[1m61/61\u001b[0m \u001b[32m━━━━━━━━━━━━━━━━━━━━\u001b[0m\u001b[37m\u001b[0m \u001b[1m16s\u001b[0m 262ms/step - accuracy: 0.8449 - auc: 0.9102 - loss: 0.3809 - val_accuracy: 0.8647 - val_auc: 0.9341 - val_loss: 0.3214\n",
      "Epoch 7/1000\n",
      "\u001b[1m61/61\u001b[0m \u001b[32m━━━━━━━━━━━━━━━━━━━━\u001b[0m\u001b[37m\u001b[0m \u001b[1m0s\u001b[0m 399ms/step - accuracy: 0.8976 - auc: 0.9535 - loss: 0.2697\n",
      "Epoch 7: val_loss did not improve from 0.27975\n",
      "\u001b[1m61/61\u001b[0m \u001b[32m━━━━━━━━━━━━━━━━━━━━\u001b[0m\u001b[37m\u001b[0m \u001b[1m26s\u001b[0m 420ms/step - accuracy: 0.8978 - auc: 0.9536 - loss: 0.2693 - val_accuracy: 0.8936 - val_auc: 0.9517 - val_loss: 0.2848\n",
      "Epoch 8/1000\n",
      "\u001b[1m61/61\u001b[0m \u001b[32m━━━━━━━━━━━━━━━━━━━━\u001b[0m\u001b[37m\u001b[0m \u001b[1m0s\u001b[0m 273ms/step - accuracy: 0.9409 - auc: 0.9773 - loss: 0.1789\n",
      "Epoch 8: val_loss did not improve from 0.27975\n",
      "\u001b[1m61/61\u001b[0m \u001b[32m━━━━━━━━━━━━━━━━━━━━\u001b[0m\u001b[37m\u001b[0m \u001b[1m17s\u001b[0m 274ms/step - accuracy: 0.9408 - auc: 0.9773 - loss: 0.1791 - val_accuracy: 0.8864 - val_auc: 0.9479 - val_loss: 0.3061\n",
      "Epoch 9/1000\n",
      "\u001b[1m61/61\u001b[0m \u001b[32m━━━━━━━━━━━━━━━━━━━━\u001b[0m\u001b[37m\u001b[0m \u001b[1m0s\u001b[0m 287ms/step - accuracy: 0.9529 - auc: 0.9803 - loss: 0.1619\n",
      "Epoch 9: val_loss did not improve from 0.27975\n",
      "\u001b[1m61/61\u001b[0m \u001b[32m━━━━━━━━━━━━━━━━━━━━\u001b[0m\u001b[37m\u001b[0m \u001b[1m18s\u001b[0m 302ms/step - accuracy: 0.9529 - auc: 0.9803 - loss: 0.1619 - val_accuracy: 0.8854 - val_auc: 0.9475 - val_loss: 0.3254\n",
      "Epoch 10/1000\n",
      "\u001b[1m61/61\u001b[0m \u001b[32m━━━━━━━━━━━━━━━━━━━━\u001b[0m\u001b[37m\u001b[0m \u001b[1m0s\u001b[0m 257ms/step - accuracy: 0.9611 - auc: 0.9859 - loss: 0.1329\n",
      "Epoch 10: val_loss did not improve from 0.27975\n",
      "\u001b[1m61/61\u001b[0m \u001b[32m━━━━━━━━━━━━━━━━━━━━\u001b[0m\u001b[37m\u001b[0m \u001b[1m17s\u001b[0m 275ms/step - accuracy: 0.9610 - auc: 0.9859 - loss: 0.1329 - val_accuracy: 0.8845 - val_auc: 0.9439 - val_loss: 0.3491\n",
      "Epoch 11/1000\n",
      "\u001b[1m61/61\u001b[0m \u001b[32m━━━━━━━━━━━━━━━━━━━━\u001b[0m\u001b[37m\u001b[0m \u001b[1m0s\u001b[0m 260ms/step - accuracy: 0.9673 - auc: 0.9879 - loss: 0.1136\n",
      "Epoch 11: val_loss did not improve from 0.27975\n",
      "\u001b[1m61/61\u001b[0m \u001b[32m━━━━━━━━━━━━━━━━━━━━\u001b[0m\u001b[37m\u001b[0m \u001b[1m17s\u001b[0m 276ms/step - accuracy: 0.9673 - auc: 0.9879 - loss: 0.1137 - val_accuracy: 0.8807 - val_auc: 0.9355 - val_loss: 0.3970\n",
      "Epoch 12/1000\n",
      "\u001b[1m61/61\u001b[0m \u001b[32m━━━━━━━━━━━━━━━━━━━━\u001b[0m\u001b[37m\u001b[0m \u001b[1m0s\u001b[0m 293ms/step - accuracy: 0.9732 - auc: 0.9908 - loss: 0.0965\n",
      "Epoch 12: val_loss did not improve from 0.27975\n",
      "\u001b[1m61/61\u001b[0m \u001b[32m━━━━━━━━━━━━━━━━━━━━\u001b[0m\u001b[37m\u001b[0m \u001b[1m19s\u001b[0m 309ms/step - accuracy: 0.9732 - auc: 0.9908 - loss: 0.0965 - val_accuracy: 0.8822 - val_auc: 0.9293 - val_loss: 0.4439\n"
     ]
    }
   ],
   "source": [
    "birnn.compile(loss='binary_crossentropy', optimizer='adam',\n",
    "             metrics=['accuracy', tf.keras.metrics.AUC(name='auc')])\n",
    "early_stop = EarlyStopping(patience=10, restore_best_weights=True)\n",
    "model_path = \"./model/bank_app_review_birnn.keras\"\n",
    "checkpoint = ModelCheckpoint(filepath=model_path, monitor='val_loss',\n",
    "                            save_best_only=True,\n",
    "                            verbose=1)\n",
    "birnn_history = birnn.fit(X_train, y_train, epochs=1000, batch_size=256,\n",
    "                         validation_data=(X_valid, y_valid),\n",
    "                         callbacks=[early_stop, checkpoint])\n"
   ]
  },
  {
   "cell_type": "code",
   "execution_count": 25,
   "id": "e428799e",
   "metadata": {},
   "outputs": [
    {
     "data": {
      "image/png": "[encoded data removed]",
      "text/plain": [
       "<Figure size 800x500 with 1 Axes>"
      ]
     },
     "metadata": {},
     "output_type": "display_data"
    }
   ],
   "source": [
    "plt.figure(figsize=(8, 5))\n",
    "plt.plot(birnn_history.history['loss'])\n",
    "plt.plot(birnn_history.history['val_loss'])\n",
    "plt.xlabel('epochs')\n",
    "plt.ylabel('loss')\n",
    "plt.legend(['train', 'valid'])\n",
    "plt.show()"
   ]
  },
  {
   "cell_type": "code",
   "execution_count": 26,
   "id": "833579e3",
   "metadata": {},
   "outputs": [
    {
     "name": "stdout",
     "output_type": "stream",
     "text": [
      "\u001b[1m209/209\u001b[0m \u001b[32m━━━━━━━━━━━━━━━━━━━━\u001b[0m\u001b[37m\u001b[0m \u001b[1m7s\u001b[0m 24ms/step - accuracy: 0.8953 - auc: 0.9505 - loss: 0.2723\n",
      "[0.2797475755214691, 0.8910698294639587, 0.9484132528305054]\n"
     ]
    }
   ],
   "source": [
    "print(birnn.evaluate(X_valid, y_valid))"
   ]
  },
  {
   "cell_type": "code",
   "execution_count": 27,
   "id": "0402fbad",
   "metadata": {},
   "outputs": [
    {
     "name": "stdout",
     "output_type": "stream",
     "text": [
      "\u001b[1m209/209\u001b[0m \u001b[32m━━━━━━━━━━━━━━━━━━━━\u001b[0m\u001b[37m\u001b[0m \u001b[1m6s\u001b[0m 22ms/step\n"
     ]
    },
    {
     "data": {
      "text/plain": [
       "array([[0.9859772 ],\n",
       "       [0.85665524],\n",
       "       [0.05407849],\n",
       "       ...,\n",
       "       [0.8756681 ],\n",
       "       [0.07050267],\n",
       "       [0.9544403 ]], dtype=float32)"
      ]
     },
     "execution_count": 27,
     "metadata": {},
     "output_type": "execute_result"
    }
   ],
   "source": [
    "pred = birnn.predict(X_valid)\n",
    "pred"
   ]
  },
  {
   "cell_type": "code",
   "execution_count": 28,
   "id": "45a534d0",
   "metadata": {},
   "outputs": [
    {
     "data": {
      "text/plain": [
       "(6674, 1)"
      ]
     },
     "execution_count": 28,
     "metadata": {},
     "output_type": "execute_result"
    }
   ],
   "source": [
    "pred.shape"
   ]
  },
  {
   "cell_type": "code",
   "execution_count": 29,
   "id": "09836e6d",
   "metadata": {},
   "outputs": [],
   "source": [
    "pred = pd.DataFrame(pred)"
   ]
  },
  {
   "cell_type": "code",
   "execution_count": 30,
   "id": "e6774f5c",
   "metadata": {},
   "outputs": [
    {
     "data": {
      "text/html": [
       "<div>\n",
       "<style scoped>\n",
       "    .dataframe tbody tr th:only-of-type {\n",
       "        vertical-align: middle;\n",
       "    }\n",
       "\n",
       "    .dataframe tbody tr th {\n",
       "        vertical-align: top;\n",
       "    }\n",
       "\n",
       "    .dataframe thead th {\n",
       "        text-align: right;\n",
       "    }\n",
       "</style>\n",
       "<table border=\"1\" class=\"dataframe\">\n",
       "  <thead>\n",
       "    <tr style=\"text-align: right;\">\n",
       "      <th></th>\n",
       "      <th>is_good</th>\n",
       "    </tr>\n",
       "  </thead>\n",
       "  <tbody>\n",
       "    <tr>\n",
       "      <th>0</th>\n",
       "      <td>1</td>\n",
       "    </tr>\n",
       "    <tr>\n",
       "      <th>1</th>\n",
       "      <td>1</td>\n",
       "    </tr>\n",
       "    <tr>\n",
       "      <th>2</th>\n",
       "      <td>0</td>\n",
       "    </tr>\n",
       "    <tr>\n",
       "      <th>3</th>\n",
       "      <td>1</td>\n",
       "    </tr>\n",
       "    <tr>\n",
       "      <th>4</th>\n",
       "      <td>0</td>\n",
       "    </tr>\n",
       "    <tr>\n",
       "      <th>...</th>\n",
       "      <td>...</td>\n",
       "    </tr>\n",
       "    <tr>\n",
       "      <th>6669</th>\n",
       "      <td>0</td>\n",
       "    </tr>\n",
       "    <tr>\n",
       "      <th>6670</th>\n",
       "      <td>1</td>\n",
       "    </tr>\n",
       "    <tr>\n",
       "      <th>6671</th>\n",
       "      <td>1</td>\n",
       "    </tr>\n",
       "    <tr>\n",
       "      <th>6672</th>\n",
       "      <td>0</td>\n",
       "    </tr>\n",
       "    <tr>\n",
       "      <th>6673</th>\n",
       "      <td>1</td>\n",
       "    </tr>\n",
       "  </tbody>\n",
       "</table>\n",
       "<p>6674 rows × 1 columns</p>\n",
       "</div>"
      ],
      "text/plain": [
       "      is_good\n",
       "0           1\n",
       "1           1\n",
       "2           0\n",
       "3           1\n",
       "4           0\n",
       "...       ...\n",
       "6669        0\n",
       "6670        1\n",
       "6671        1\n",
       "6672        0\n",
       "6673        1\n",
       "\n",
       "[6674 rows x 1 columns]"
      ]
     },
     "execution_count": 30,
     "metadata": {},
     "output_type": "execute_result"
    }
   ],
   "source": [
    "y_valid = pd.DataFrame(y_valid.reset_index(drop=True))\n",
    "y_valid"
   ]
  },
  {
   "cell_type": "code",
   "execution_count": 31,
   "id": "bd9e992b",
   "metadata": {},
   "outputs": [
    {
     "data": {
      "text/html": [
       "<div>\n",
       "<style scoped>\n",
       "    .dataframe tbody tr th:only-of-type {\n",
       "        vertical-align: middle;\n",
       "    }\n",
       "\n",
       "    .dataframe tbody tr th {\n",
       "        vertical-align: top;\n",
       "    }\n",
       "\n",
       "    .dataframe thead th {\n",
       "        text-align: right;\n",
       "    }\n",
       "</style>\n",
       "<table border=\"1\" class=\"dataframe\">\n",
       "  <thead>\n",
       "    <tr style=\"text-align: right;\">\n",
       "      <th></th>\n",
       "      <th>is_good</th>\n",
       "      <th>0</th>\n",
       "    </tr>\n",
       "  </thead>\n",
       "  <tbody>\n",
       "    <tr>\n",
       "      <th>0</th>\n",
       "      <td>1</td>\n",
       "      <td>0.985977</td>\n",
       "    </tr>\n",
       "    <tr>\n",
       "      <th>1</th>\n",
       "      <td>1</td>\n",
       "      <td>0.856655</td>\n",
       "    </tr>\n",
       "    <tr>\n",
       "      <th>2</th>\n",
       "      <td>0</td>\n",
       "      <td>0.054078</td>\n",
       "    </tr>\n",
       "    <tr>\n",
       "      <th>3</th>\n",
       "      <td>1</td>\n",
       "      <td>0.992201</td>\n",
       "    </tr>\n",
       "    <tr>\n",
       "      <th>4</th>\n",
       "      <td>0</td>\n",
       "      <td>0.050931</td>\n",
       "    </tr>\n",
       "    <tr>\n",
       "      <th>...</th>\n",
       "      <td>...</td>\n",
       "      <td>...</td>\n",
       "    </tr>\n",
       "    <tr>\n",
       "      <th>6669</th>\n",
       "      <td>0</td>\n",
       "      <td>0.029768</td>\n",
       "    </tr>\n",
       "    <tr>\n",
       "      <th>6670</th>\n",
       "      <td>1</td>\n",
       "      <td>0.889031</td>\n",
       "    </tr>\n",
       "    <tr>\n",
       "      <th>6671</th>\n",
       "      <td>1</td>\n",
       "      <td>0.875668</td>\n",
       "    </tr>\n",
       "    <tr>\n",
       "      <th>6672</th>\n",
       "      <td>0</td>\n",
       "      <td>0.070503</td>\n",
       "    </tr>\n",
       "    <tr>\n",
       "      <th>6673</th>\n",
       "      <td>1</td>\n",
       "      <td>0.954440</td>\n",
       "    </tr>\n",
       "  </tbody>\n",
       "</table>\n",
       "<p>6674 rows × 2 columns</p>\n",
       "</div>"
      ],
      "text/plain": [
       "      is_good         0\n",
       "0           1  0.985977\n",
       "1           1  0.856655\n",
       "2           0  0.054078\n",
       "3           1  0.992201\n",
       "4           0  0.050931\n",
       "...       ...       ...\n",
       "6669        0  0.029768\n",
       "6670        1  0.889031\n",
       "6671        1  0.875668\n",
       "6672        0  0.070503\n",
       "6673        1  0.954440\n",
       "\n",
       "[6674 rows x 2 columns]"
      ]
     },
     "execution_count": 31,
     "metadata": {},
     "output_type": "execute_result"
    }
   ],
   "source": [
    "result = pd.concat([y_valid, pred], axis=1)\n",
    "result"
   ]
  },
  {
   "cell_type": "code",
   "execution_count": 32,
   "id": "c4ebf866",
   "metadata": {},
   "outputs": [
    {
     "data": {
      "text/html": [
       "<div>\n",
       "<style scoped>\n",
       "    .dataframe tbody tr th:only-of-type {\n",
       "        vertical-align: middle;\n",
       "    }\n",
       "\n",
       "    .dataframe tbody tr th {\n",
       "        vertical-align: top;\n",
       "    }\n",
       "\n",
       "    .dataframe thead th {\n",
       "        text-align: right;\n",
       "    }\n",
       "</style>\n",
       "<table border=\"1\" class=\"dataframe\">\n",
       "  <thead>\n",
       "    <tr style=\"text-align: right;\">\n",
       "      <th></th>\n",
       "      <th>is_good</th>\n",
       "      <th>pred</th>\n",
       "    </tr>\n",
       "  </thead>\n",
       "  <tbody>\n",
       "    <tr>\n",
       "      <th>0</th>\n",
       "      <td>1</td>\n",
       "      <td>0.985977</td>\n",
       "    </tr>\n",
       "    <tr>\n",
       "      <th>1</th>\n",
       "      <td>1</td>\n",
       "      <td>0.856655</td>\n",
       "    </tr>\n",
       "    <tr>\n",
       "      <th>2</th>\n",
       "      <td>0</td>\n",
       "      <td>0.054078</td>\n",
       "    </tr>\n",
       "    <tr>\n",
       "      <th>3</th>\n",
       "      <td>1</td>\n",
       "      <td>0.992201</td>\n",
       "    </tr>\n",
       "    <tr>\n",
       "      <th>4</th>\n",
       "      <td>0</td>\n",
       "      <td>0.050931</td>\n",
       "    </tr>\n",
       "    <tr>\n",
       "      <th>...</th>\n",
       "      <td>...</td>\n",
       "      <td>...</td>\n",
       "    </tr>\n",
       "    <tr>\n",
       "      <th>6669</th>\n",
       "      <td>0</td>\n",
       "      <td>0.029768</td>\n",
       "    </tr>\n",
       "    <tr>\n",
       "      <th>6670</th>\n",
       "      <td>1</td>\n",
       "      <td>0.889031</td>\n",
       "    </tr>\n",
       "    <tr>\n",
       "      <th>6671</th>\n",
       "      <td>1</td>\n",
       "      <td>0.875668</td>\n",
       "    </tr>\n",
       "    <tr>\n",
       "      <th>6672</th>\n",
       "      <td>0</td>\n",
       "      <td>0.070503</td>\n",
       "    </tr>\n",
       "    <tr>\n",
       "      <th>6673</th>\n",
       "      <td>1</td>\n",
       "      <td>0.954440</td>\n",
       "    </tr>\n",
       "  </tbody>\n",
       "</table>\n",
       "<p>6674 rows × 2 columns</p>\n",
       "</div>"
      ],
      "text/plain": [
       "      is_good      pred\n",
       "0           1  0.985977\n",
       "1           1  0.856655\n",
       "2           0  0.054078\n",
       "3           1  0.992201\n",
       "4           0  0.050931\n",
       "...       ...       ...\n",
       "6669        0  0.029768\n",
       "6670        1  0.889031\n",
       "6671        1  0.875668\n",
       "6672        0  0.070503\n",
       "6673        1  0.954440\n",
       "\n",
       "[6674 rows x 2 columns]"
      ]
     },
     "execution_count": 32,
     "metadata": {},
     "output_type": "execute_result"
    }
   ],
   "source": [
    "result.columns = ['is_good', 'pred']\n",
    "result"
   ]
  },
  {
   "cell_type": "code",
   "execution_count": 33,
   "id": "f1fa9d81",
   "metadata": {},
   "outputs": [],
   "source": [
    "result['pred'] = result['pred'].apply(lambda x: 1 if x > 0.5 else 0)"
   ]
  },
  {
   "cell_type": "code",
   "execution_count": 34,
   "id": "01c43c9c",
   "metadata": {},
   "outputs": [
    {
     "name": "stdout",
     "output_type": "stream",
     "text": [
      "              precision    recall  f1-score   support\n",
      "\n",
      "           0       0.85      0.89      0.87      2702\n",
      "           1       0.92      0.89      0.91      3972\n",
      "\n",
      "    accuracy                           0.89      6674\n",
      "   macro avg       0.89      0.89      0.89      6674\n",
      "weighted avg       0.89      0.89      0.89      6674\n",
      "\n"
     ]
    }
   ],
   "source": [
    "from sklearn.metrics import classification_report\n",
    "print(classification_report(result['is_good'], result['pred']))"
   ]
  },
  {
   "cell_type": "markdown",
   "id": "63ea5e2c",
   "metadata": {},
   "source": [
    "# LSTM과 CNN 조합 모델로 분석\n",
    "- 양방향 적용된 상태에서."
   ]
  },
  {
   "cell_type": "code",
   "execution_count": 35,
   "id": "058f9ee8",
   "metadata": {},
   "outputs": [],
   "source": [
    "from tensorflow.keras.layers import Conv1D, MaxPooling1D, LSTM, GlobalMaxPooling1D"
   ]
  },
  {
   "cell_type": "code",
   "execution_count": 36,
   "id": "437bae20",
   "metadata": {},
   "outputs": [
    {
     "data": {
      "text/html": [
       "<pre style=\"white-space:pre;overflow-x:auto;line-height:normal;font-family:Menlo,'DejaVu Sans Mono',consolas,'Courier New',monospace\"><span style=\"font-weight: bold\">Model: \"sequential_1\"</span>\n",
       "</pre>\n"
      ],
      "text/plain": [
       "\u001b[1mModel: \"sequential_1\"\u001b[0m\n"
      ]
     },
     "metadata": {},
     "output_type": "display_data"
    },
    {
     "data": {
      "text/html": [
       "<pre style=\"white-space:pre;overflow-x:auto;line-height:normal;font-family:Menlo,'DejaVu Sans Mono',consolas,'Courier New',monospace\">┏━━━━━━━━━━━━━━━━━━━━━━━━━━━━━━━━━┳━━━━━━━━━━━━━━━━━━━━━━━━┳━━━━━━━━━━━━━━━┓\n",
       "┃<span style=\"font-weight: bold\"> Layer (type)                    </span>┃<span style=\"font-weight: bold\"> Output Shape           </span>┃<span style=\"font-weight: bold\">       Param # </span>┃\n",
       "┡━━━━━━━━━━━━━━━━━━━━━━━━━━━━━━━━━╇━━━━━━━━━━━━━━━━━━━━━━━━╇━━━━━━━━━━━━━━━┩\n",
       "│ embedding_1 (<span style=\"color: #0087ff; text-decoration-color: #0087ff\">Embedding</span>)         │ (<span style=\"color: #00d7ff; text-decoration-color: #00d7ff\">None</span>, <span style=\"color: #00af00; text-decoration-color: #00af00\">302</span>, <span style=\"color: #00af00; text-decoration-color: #00af00\">128</span>)       │     <span style=\"color: #00af00; text-decoration-color: #00af00\">1,665,408</span> │\n",
       "├─────────────────────────────────┼────────────────────────┼───────────────┤\n",
       "│ dropout_1 (<span style=\"color: #0087ff; text-decoration-color: #0087ff\">Dropout</span>)             │ (<span style=\"color: #00d7ff; text-decoration-color: #00d7ff\">None</span>, <span style=\"color: #00af00; text-decoration-color: #00af00\">302</span>, <span style=\"color: #00af00; text-decoration-color: #00af00\">128</span>)       │             <span style=\"color: #00af00; text-decoration-color: #00af00\">0</span> │\n",
       "├─────────────────────────────────┼────────────────────────┼───────────────┤\n",
       "│ conv1d (<span style=\"color: #0087ff; text-decoration-color: #0087ff\">Conv1D</span>)                 │ (<span style=\"color: #00d7ff; text-decoration-color: #00d7ff\">None</span>, <span style=\"color: #00af00; text-decoration-color: #00af00\">298</span>, <span style=\"color: #00af00; text-decoration-color: #00af00\">128</span>)       │        <span style=\"color: #00af00; text-decoration-color: #00af00\">82,048</span> │\n",
       "├─────────────────────────────────┼────────────────────────┼───────────────┤\n",
       "│ max_pooling1d (<span style=\"color: #0087ff; text-decoration-color: #0087ff\">MaxPooling1D</span>)    │ (<span style=\"color: #00d7ff; text-decoration-color: #00d7ff\">None</span>, <span style=\"color: #00af00; text-decoration-color: #00af00\">74</span>, <span style=\"color: #00af00; text-decoration-color: #00af00\">128</span>)        │             <span style=\"color: #00af00; text-decoration-color: #00af00\">0</span> │\n",
       "├─────────────────────────────────┼────────────────────────┼───────────────┤\n",
       "│ conv1d_1 (<span style=\"color: #0087ff; text-decoration-color: #0087ff\">Conv1D</span>)               │ (<span style=\"color: #00d7ff; text-decoration-color: #00d7ff\">None</span>, <span style=\"color: #00af00; text-decoration-color: #00af00\">70</span>, <span style=\"color: #00af00; text-decoration-color: #00af00\">128</span>)        │        <span style=\"color: #00af00; text-decoration-color: #00af00\">82,048</span> │\n",
       "├─────────────────────────────────┼────────────────────────┼───────────────┤\n",
       "│ max_pooling1d_1 (<span style=\"color: #0087ff; text-decoration-color: #0087ff\">MaxPooling1D</span>)  │ (<span style=\"color: #00d7ff; text-decoration-color: #00d7ff\">None</span>, <span style=\"color: #00af00; text-decoration-color: #00af00\">17</span>, <span style=\"color: #00af00; text-decoration-color: #00af00\">128</span>)        │             <span style=\"color: #00af00; text-decoration-color: #00af00\">0</span> │\n",
       "├─────────────────────────────────┼────────────────────────┼───────────────┤\n",
       "│ bidirectional_1 (<span style=\"color: #0087ff; text-decoration-color: #0087ff\">Bidirectional</span>) │ (<span style=\"color: #00d7ff; text-decoration-color: #00d7ff\">None</span>, <span style=\"color: #00af00; text-decoration-color: #00af00\">17</span>, <span style=\"color: #00af00; text-decoration-color: #00af00\">512</span>)        │       <span style=\"color: #00af00; text-decoration-color: #00af00\">788,480</span> │\n",
       "├─────────────────────────────────┼────────────────────────┼───────────────┤\n",
       "│ global_max_pooling1d            │ (<span style=\"color: #00d7ff; text-decoration-color: #00d7ff\">None</span>, <span style=\"color: #00af00; text-decoration-color: #00af00\">512</span>)            │             <span style=\"color: #00af00; text-decoration-color: #00af00\">0</span> │\n",
       "│ (<span style=\"color: #0087ff; text-decoration-color: #0087ff\">GlobalMaxPooling1D</span>)            │                        │               │\n",
       "├─────────────────────────────────┼────────────────────────┼───────────────┤\n",
       "│ dense_2 (<span style=\"color: #0087ff; text-decoration-color: #0087ff\">Dense</span>)                 │ (<span style=\"color: #00d7ff; text-decoration-color: #00d7ff\">None</span>, <span style=\"color: #00af00; text-decoration-color: #00af00\">64</span>)             │        <span style=\"color: #00af00; text-decoration-color: #00af00\">32,832</span> │\n",
       "├─────────────────────────────────┼────────────────────────┼───────────────┤\n",
       "│ dropout_2 (<span style=\"color: #0087ff; text-decoration-color: #0087ff\">Dropout</span>)             │ (<span style=\"color: #00d7ff; text-decoration-color: #00d7ff\">None</span>, <span style=\"color: #00af00; text-decoration-color: #00af00\">64</span>)             │             <span style=\"color: #00af00; text-decoration-color: #00af00\">0</span> │\n",
       "├─────────────────────────────────┼────────────────────────┼───────────────┤\n",
       "│ dense_3 (<span style=\"color: #0087ff; text-decoration-color: #0087ff\">Dense</span>)                 │ (<span style=\"color: #00d7ff; text-decoration-color: #00d7ff\">None</span>, <span style=\"color: #00af00; text-decoration-color: #00af00\">32</span>)             │         <span style=\"color: #00af00; text-decoration-color: #00af00\">2,080</span> │\n",
       "├─────────────────────────────────┼────────────────────────┼───────────────┤\n",
       "│ dense_4 (<span style=\"color: #0087ff; text-decoration-color: #0087ff\">Dense</span>)                 │ (<span style=\"color: #00d7ff; text-decoration-color: #00d7ff\">None</span>, <span style=\"color: #00af00; text-decoration-color: #00af00\">1</span>)              │            <span style=\"color: #00af00; text-decoration-color: #00af00\">33</span> │\n",
       "└─────────────────────────────────┴────────────────────────┴───────────────┘\n",
       "</pre>\n"
      ],
      "text/plain": [
       "┏━━━━━━━━━━━━━━━━━━━━━━━━━━━━━━━━━┳━━━━━━━━━━━━━━━━━━━━━━━━┳━━━━━━━━━━━━━━━┓\n",
       "┃\u001b[1m \u001b[0m\u001b[1mLayer (type)                   \u001b[0m\u001b[1m \u001b[0m┃\u001b[1m \u001b[0m\u001b[1mOutput Shape          \u001b[0m\u001b[1m \u001b[0m┃\u001b[1m \u001b[0m\u001b[1m      Param #\u001b[0m\u001b[1m \u001b[0m┃\n",
       "┡━━━━━━━━━━━━━━━━━━━━━━━━━━━━━━━━━╇━━━━━━━━━━━━━━━━━━━━━━━━╇━━━━━━━━━━━━━━━┩\n",
       "│ embedding_1 (\u001b[38;5;33mEmbedding\u001b[0m)         │ (\u001b[38;5;45mNone\u001b[0m, \u001b[38;5;34m302\u001b[0m, \u001b[38;5;34m128\u001b[0m)       │     \u001b[38;5;34m1,665,408\u001b[0m │\n",
       "├─────────────────────────────────┼────────────────────────┼───────────────┤\n",
       "│ dropout_1 (\u001b[38;5;33mDropout\u001b[0m)             │ (\u001b[38;5;45mNone\u001b[0m, \u001b[38;5;34m302\u001b[0m, \u001b[38;5;34m128\u001b[0m)       │             \u001b[38;5;34m0\u001b[0m │\n",
       "├─────────────────────────────────┼────────────────────────┼───────────────┤\n",
       "│ conv1d (\u001b[38;5;33mConv1D\u001b[0m)                 │ (\u001b[38;5;45mNone\u001b[0m, \u001b[38;5;34m298\u001b[0m, \u001b[38;5;34m128\u001b[0m)       │        \u001b[38;5;34m82,048\u001b[0m │\n",
       "├─────────────────────────────────┼────────────────────────┼───────────────┤\n",
       "│ max_pooling1d (\u001b[38;5;33mMaxPooling1D\u001b[0m)    │ (\u001b[38;5;45mNone\u001b[0m, \u001b[38;5;34m74\u001b[0m, \u001b[38;5;34m128\u001b[0m)        │             \u001b[38;5;34m0\u001b[0m │\n",
       "├─────────────────────────────────┼────────────────────────┼───────────────┤\n",
       "│ conv1d_1 (\u001b[38;5;33mConv1D\u001b[0m)               │ (\u001b[38;5;45mNone\u001b[0m, \u001b[38;5;34m70\u001b[0m, \u001b[38;5;34m128\u001b[0m)        │        \u001b[38;5;34m82,048\u001b[0m │\n",
       "├─────────────────────────────────┼────────────────────────┼───────────────┤\n",
       "│ max_pooling1d_1 (\u001b[38;5;33mMaxPooling1D\u001b[0m)  │ (\u001b[38;5;45mNone\u001b[0m, \u001b[38;5;34m17\u001b[0m, \u001b[38;5;34m128\u001b[0m)        │             \u001b[38;5;34m0\u001b[0m │\n",
       "├─────────────────────────────────┼────────────────────────┼───────────────┤\n",
       "│ bidirectional_1 (\u001b[38;5;33mBidirectional\u001b[0m) │ (\u001b[38;5;45mNone\u001b[0m, \u001b[38;5;34m17\u001b[0m, \u001b[38;5;34m512\u001b[0m)        │       \u001b[38;5;34m788,480\u001b[0m │\n",
       "├─────────────────────────────────┼────────────────────────┼───────────────┤\n",
       "│ global_max_pooling1d            │ (\u001b[38;5;45mNone\u001b[0m, \u001b[38;5;34m512\u001b[0m)            │             \u001b[38;5;34m0\u001b[0m │\n",
       "│ (\u001b[38;5;33mGlobalMaxPooling1D\u001b[0m)            │                        │               │\n",
       "├─────────────────────────────────┼────────────────────────┼───────────────┤\n",
       "│ dense_2 (\u001b[38;5;33mDense\u001b[0m)                 │ (\u001b[38;5;45mNone\u001b[0m, \u001b[38;5;34m64\u001b[0m)             │        \u001b[38;5;34m32,832\u001b[0m │\n",
       "├─────────────────────────────────┼────────────────────────┼───────────────┤\n",
       "│ dropout_2 (\u001b[38;5;33mDropout\u001b[0m)             │ (\u001b[38;5;45mNone\u001b[0m, \u001b[38;5;34m64\u001b[0m)             │             \u001b[38;5;34m0\u001b[0m │\n",
       "├─────────────────────────────────┼────────────────────────┼───────────────┤\n",
       "│ dense_3 (\u001b[38;5;33mDense\u001b[0m)                 │ (\u001b[38;5;45mNone\u001b[0m, \u001b[38;5;34m32\u001b[0m)             │         \u001b[38;5;34m2,080\u001b[0m │\n",
       "├─────────────────────────────────┼────────────────────────┼───────────────┤\n",
       "│ dense_4 (\u001b[38;5;33mDense\u001b[0m)                 │ (\u001b[38;5;45mNone\u001b[0m, \u001b[38;5;34m1\u001b[0m)              │            \u001b[38;5;34m33\u001b[0m │\n",
       "└─────────────────────────────────┴────────────────────────┴───────────────┘\n"
      ]
     },
     "metadata": {},
     "output_type": "display_data"
    },
    {
     "data": {
      "text/html": [
       "<pre style=\"white-space:pre;overflow-x:auto;line-height:normal;font-family:Menlo,'DejaVu Sans Mono',consolas,'Courier New',monospace\"><span style=\"font-weight: bold\"> Total params: </span><span style=\"color: #00af00; text-decoration-color: #00af00\">2,652,929</span> (10.12 MB)\n",
       "</pre>\n"
      ],
      "text/plain": [
       "\u001b[1m Total params: \u001b[0m\u001b[38;5;34m2,652,929\u001b[0m (10.12 MB)\n"
      ]
     },
     "metadata": {},
     "output_type": "display_data"
    },
    {
     "data": {
      "text/html": [
       "<pre style=\"white-space:pre;overflow-x:auto;line-height:normal;font-family:Menlo,'DejaVu Sans Mono',consolas,'Courier New',monospace\"><span style=\"font-weight: bold\"> Trainable params: </span><span style=\"color: #00af00; text-decoration-color: #00af00\">2,652,929</span> (10.12 MB)\n",
       "</pre>\n"
      ],
      "text/plain": [
       "\u001b[1m Trainable params: \u001b[0m\u001b[38;5;34m2,652,929\u001b[0m (10.12 MB)\n"
      ]
     },
     "metadata": {},
     "output_type": "display_data"
    },
    {
     "data": {
      "text/html": [
       "<pre style=\"white-space:pre;overflow-x:auto;line-height:normal;font-family:Menlo,'DejaVu Sans Mono',consolas,'Courier New',monospace\"><span style=\"font-weight: bold\"> Non-trainable params: </span><span style=\"color: #00af00; text-decoration-color: #00af00\">0</span> (0.00 B)\n",
       "</pre>\n"
      ],
      "text/plain": [
       "\u001b[1m Non-trainable params: \u001b[0m\u001b[38;5;34m0\u001b[0m (0.00 B)\n"
      ]
     },
     "metadata": {},
     "output_type": "display_data"
    }
   ],
   "source": [
    "lstm_cnn = Sequential()\n",
    "lstm_cnn.add(Input(shape=(max_length,)))\n",
    "lstm_cnn.add(Embedding(input_dim=word_size, output_dim=128))\n",
    "lstm_cnn.add(Dropout(0.3))\n",
    "lstm_cnn.add(Conv1D(128, 5, padding='valid', activation='relu'))\n",
    "lstm_cnn.add(MaxPooling1D(pool_size=4))\n",
    "lstm_cnn.add(Conv1D(128, 5, padding='valid', activation='relu'))\n",
    "lstm_cnn.add(MaxPooling1D(pool_size=4))\n",
    "lstm_cnn.add(Bidirectional(LSTM(256, return_sequences=True)))\n",
    "lstm_cnn.add(GlobalMaxPooling1D())\n",
    "lstm_cnn.add(Dense(64, activation='relu'))\n",
    "lstm_cnn.add(Dropout(0.3))\n",
    "lstm_cnn.add(Dense(32, activation='relu'))\n",
    "lstm_cnn.add(Dense(1, activation='sigmoid'))\n",
    "lstm_cnn.summary()\n",
    "\n"
   ]
  },
  {
   "cell_type": "code",
   "execution_count": null,
   "id": "3141e36a",
   "metadata": {
    "scrolled": true
   },
   "outputs": [],
   "source": [
    "lstm_cnn.compile(loss='binary_crossentropy', optimizer='adam',\n",
    "             metrics=['accuracy', tf.keras.metrics.AUC(name='auc')])\n",
    "early_stop = EarlyStopping(patience=10, restore_best_weights=True)\n",
    "model_path = \"./model/bank_app_review_lstm_cnn.keras\"\n",
    "checkpoint = ModelCheckpoint(filepath=model_path, monitor='val_loss',\n",
    "                            save_best_only=True,\n",
    "                            verbose=1)\n",
    "lstm_cnn_history = lstm_cnn.fit(X_train, y_train, epochs=1000, batch_size=128,\n",
    "                         validation_data=(X_valid, y_valid),\n",
    "                         callbacks=[early_stop, checkpoint])\n",
    "plt.figure(figsize=(8, 5))\n",
    "plt.plot(lstm_cnn_history.history['loss'])\n",
    "plt.plot(lstm_cnn_history.history['val_loss'])\n",
    "plt.xlabel('epochs')\n",
    "plt.ylabel('loss')\n",
    "plt.legend(['train', 'valid'])\n",
    "plt.show()"
   ]
  },
  {
   "cell_type": "code",
   "execution_count": null,
   "id": "5723f19c",
   "metadata": {},
   "outputs": [],
   "source": [
    "# 컨볼루션 연산을 통해 계산량이 획기적으로 줄어 빠르게 처리되는점.\n"
   ]
  },
  {
   "cell_type": "code",
   "execution_count": 39,
   "id": "3d9ab3bd",
   "metadata": {
    "scrolled": true
   },
   "outputs": [
    {
     "name": "stdout",
     "output_type": "stream",
     "text": [
      "\u001b[1m209/209\u001b[0m \u001b[32m━━━━━━━━━━━━━━━━━━━━\u001b[0m\u001b[37m\u001b[0m \u001b[1m5s\u001b[0m 22ms/step - accuracy: 0.8998 - auc: 0.9534 - loss: 0.2647\n",
      "[0.26945361495018005, 0.8922684788703918, 0.951819896697998]\n"
     ]
    }
   ],
   "source": [
    "print(lstm_cnn.evaluate(X_valid, y_valid))"
   ]
  },
  {
   "cell_type": "code",
   "execution_count": 40,
   "id": "bdb5863c",
   "metadata": {},
   "outputs": [],
   "source": [
    "result['pred'] = result['pred'].apply(lambda x: 1 if x > 0.5 else 0)"
   ]
  },
  {
   "cell_type": "code",
   "execution_count": 41,
   "id": "a6d9e301",
   "metadata": {},
   "outputs": [
    {
     "name": "stdout",
     "output_type": "stream",
     "text": [
      "              precision    recall  f1-score   support\n",
      "\n",
      "           0       0.85      0.89      0.87      2702\n",
      "           1       0.92      0.89      0.91      3972\n",
      "\n",
      "    accuracy                           0.89      6674\n",
      "   macro avg       0.89      0.89      0.89      6674\n",
      "weighted avg       0.89      0.89      0.89      6674\n",
      "\n"
     ]
    }
   ],
   "source": [
    "from sklearn.metrics import classification_report\n",
    "print(classification_report(result['is_good'], result['pred']))"
   ]
  },
  {
   "cell_type": "markdown",
   "id": "1feba89c",
   "metadata": {},
   "source": [
    "# Attention 붙이기\n",
    "- gpt개발의 근간이된 필요한 부분에만 집중 주목. <-> 기존 RNN은 전체 문장에 집중"
   ]
  },
  {
   "cell_type": "code",
   "execution_count": 42,
   "id": "4a90ac74",
   "metadata": {
    "scrolled": true
   },
   "outputs": [
    {
     "name": "stdout",
     "output_type": "stream",
     "text": [
      "Collecting attention\n",
      "  Downloading attention-5.0.0-py3-none-any.whl.metadata (4.3 kB)\n",
      "Requirement already satisfied: numpy>=1.18.1 in /home/fintech/miniforge3/envs/fintech/lib/python3.9/site-packages (from attention) (1.23.5)\n",
      "Requirement already satisfied: tensorflow>=2.1 in /home/fintech/miniforge3/envs/fintech/lib/python3.9/site-packages (from attention) (2.19.0)\n",
      "Requirement already satisfied: absl-py>=1.0.0 in /home/fintech/miniforge3/envs/fintech/lib/python3.9/site-packages (from tensorflow>=2.1->attention) (2.2.2)\n",
      "Requirement already satisfied: astunparse>=1.6.0 in /home/fintech/miniforge3/envs/fintech/lib/python3.9/site-packages (from tensorflow>=2.1->attention) (1.6.3)\n",
      "Requirement already satisfied: flatbuffers>=24.3.25 in /home/fintech/miniforge3/envs/fintech/lib/python3.9/site-packages (from tensorflow>=2.1->attention) (25.2.10)\n",
      "Requirement already satisfied: gast!=0.5.0,!=0.5.1,!=0.5.2,>=0.2.1 in /home/fintech/miniforge3/envs/fintech/lib/python3.9/site-packages (from tensorflow>=2.1->attention) (0.6.0)\n",
      "Requirement already satisfied: google-pasta>=0.1.1 in /home/fintech/miniforge3/envs/fintech/lib/python3.9/site-packages (from tensorflow>=2.1->attention) (0.2.0)\n",
      "Requirement already satisfied: libclang>=13.0.0 in /home/fintech/miniforge3/envs/fintech/lib/python3.9/site-packages (from tensorflow>=2.1->attention) (18.1.1)\n",
      "Requirement already satisfied: opt-einsum>=2.3.2 in /home/fintech/miniforge3/envs/fintech/lib/python3.9/site-packages (from tensorflow>=2.1->attention) (3.4.0)\n",
      "Requirement already satisfied: packaging in /home/fintech/miniforge3/envs/fintech/lib/python3.9/site-packages (from tensorflow>=2.1->attention) (25.0)\n",
      "Requirement already satisfied: protobuf!=4.21.0,!=4.21.1,!=4.21.2,!=4.21.3,!=4.21.4,!=4.21.5,<6.0.0dev,>=3.20.3 in /home/fintech/miniforge3/envs/fintech/lib/python3.9/site-packages (from tensorflow>=2.1->attention) (5.29.4)\n",
      "Requirement already satisfied: requests<3,>=2.21.0 in /home/fintech/miniforge3/envs/fintech/lib/python3.9/site-packages (from tensorflow>=2.1->attention) (2.32.3)\n",
      "Requirement already satisfied: setuptools in /home/fintech/miniforge3/envs/fintech/lib/python3.9/site-packages (from tensorflow>=2.1->attention) (80.1.0)\n",
      "Requirement already satisfied: six>=1.12.0 in /home/fintech/miniforge3/envs/fintech/lib/python3.9/site-packages (from tensorflow>=2.1->attention) (1.17.0)\n",
      "Requirement already satisfied: termcolor>=1.1.0 in /home/fintech/miniforge3/envs/fintech/lib/python3.9/site-packages (from tensorflow>=2.1->attention) (3.1.0)\n",
      "Requirement already satisfied: typing-extensions>=3.6.6 in /home/fintech/miniforge3/envs/fintech/lib/python3.9/site-packages (from tensorflow>=2.1->attention) (4.13.2)\n",
      "Requirement already satisfied: wrapt>=1.11.0 in /home/fintech/miniforge3/envs/fintech/lib/python3.9/site-packages (from tensorflow>=2.1->attention) (1.17.2)\n",
      "Requirement already satisfied: grpcio<2.0,>=1.24.3 in /home/fintech/miniforge3/envs/fintech/lib/python3.9/site-packages (from tensorflow>=2.1->attention) (1.71.0)\n",
      "Requirement already satisfied: tensorboard~=2.19.0 in /home/fintech/miniforge3/envs/fintech/lib/python3.9/site-packages (from tensorflow>=2.1->attention) (2.19.0)\n",
      "Requirement already satisfied: keras>=3.5.0 in /home/fintech/miniforge3/envs/fintech/lib/python3.9/site-packages (from tensorflow>=2.1->attention) (3.9.2)\n",
      "Collecting numpy>=1.18.1 (from attention)\n",
      "  Using cached numpy-2.0.2-cp39-cp39-manylinux_2_17_x86_64.manylinux2014_x86_64.whl.metadata (60 kB)\n",
      "Requirement already satisfied: h5py>=3.11.0 in /home/fintech/miniforge3/envs/fintech/lib/python3.9/site-packages (from tensorflow>=2.1->attention) (3.13.0)\n",
      "Requirement already satisfied: ml-dtypes<1.0.0,>=0.5.1 in /home/fintech/miniforge3/envs/fintech/lib/python3.9/site-packages (from tensorflow>=2.1->attention) (0.5.1)\n",
      "Requirement already satisfied: tensorflow-io-gcs-filesystem>=0.23.1 in /home/fintech/miniforge3/envs/fintech/lib/python3.9/site-packages (from tensorflow>=2.1->attention) (0.37.1)\n",
      "Requirement already satisfied: charset-normalizer<4,>=2 in /home/fintech/miniforge3/envs/fintech/lib/python3.9/site-packages (from requests<3,>=2.21.0->tensorflow>=2.1->attention) (3.4.2)\n",
      "Requirement already satisfied: idna<4,>=2.5 in /home/fintech/miniforge3/envs/fintech/lib/python3.9/site-packages (from requests<3,>=2.21.0->tensorflow>=2.1->attention) (3.10)\n",
      "Requirement already satisfied: urllib3<3,>=1.21.1 in /home/fintech/miniforge3/envs/fintech/lib/python3.9/site-packages (from requests<3,>=2.21.0->tensorflow>=2.1->attention) (2.4.0)\n",
      "Requirement already satisfied: certifi>=2017.4.17 in /home/fintech/miniforge3/envs/fintech/lib/python3.9/site-packages (from requests<3,>=2.21.0->tensorflow>=2.1->attention) (2025.4.26)\n",
      "Requirement already satisfied: markdown>=2.6.8 in /home/fintech/miniforge3/envs/fintech/lib/python3.9/site-packages (from tensorboard~=2.19.0->tensorflow>=2.1->attention) (3.8)\n",
      "Requirement already satisfied: tensorboard-data-server<0.8.0,>=0.7.0 in /home/fintech/miniforge3/envs/fintech/lib/python3.9/site-packages (from tensorboard~=2.19.0->tensorflow>=2.1->attention) (0.7.2)\n",
      "Requirement already satisfied: werkzeug>=1.0.1 in /home/fintech/miniforge3/envs/fintech/lib/python3.9/site-packages (from tensorboard~=2.19.0->tensorflow>=2.1->attention) (3.1.3)\n",
      "Requirement already satisfied: wheel<1.0,>=0.23.0 in /home/fintech/miniforge3/envs/fintech/lib/python3.9/site-packages (from astunparse>=1.6.0->tensorflow>=2.1->attention) (0.45.1)\n",
      "Requirement already satisfied: rich in /home/fintech/miniforge3/envs/fintech/lib/python3.9/site-packages (from keras>=3.5.0->tensorflow>=2.1->attention) (14.0.0)\n",
      "Requirement already satisfied: namex in /home/fintech/miniforge3/envs/fintech/lib/python3.9/site-packages (from keras>=3.5.0->tensorflow>=2.1->attention) (0.0.9)\n",
      "Requirement already satisfied: optree in /home/fintech/miniforge3/envs/fintech/lib/python3.9/site-packages (from keras>=3.5.0->tensorflow>=2.1->attention) (0.15.0)\n",
      "Requirement already satisfied: importlib-metadata>=4.4 in /home/fintech/miniforge3/envs/fintech/lib/python3.9/site-packages (from markdown>=2.6.8->tensorboard~=2.19.0->tensorflow>=2.1->attention) (8.6.1)\n",
      "Requirement already satisfied: zipp>=3.20 in /home/fintech/miniforge3/envs/fintech/lib/python3.9/site-packages (from importlib-metadata>=4.4->markdown>=2.6.8->tensorboard~=2.19.0->tensorflow>=2.1->attention) (3.21.0)\n",
      "Requirement already satisfied: MarkupSafe>=2.1.1 in /home/fintech/miniforge3/envs/fintech/lib/python3.9/site-packages (from werkzeug>=1.0.1->tensorboard~=2.19.0->tensorflow>=2.1->attention) (3.0.2)\n",
      "Requirement already satisfied: markdown-it-py>=2.2.0 in /home/fintech/miniforge3/envs/fintech/lib/python3.9/site-packages (from rich->keras>=3.5.0->tensorflow>=2.1->attention) (3.0.0)\n",
      "Requirement already satisfied: pygments<3.0.0,>=2.13.0 in /home/fintech/miniforge3/envs/fintech/lib/python3.9/site-packages (from rich->keras>=3.5.0->tensorflow>=2.1->attention) (2.19.1)\n",
      "Requirement already satisfied: mdurl~=0.1 in /home/fintech/miniforge3/envs/fintech/lib/python3.9/site-packages (from markdown-it-py>=2.2.0->rich->keras>=3.5.0->tensorflow>=2.1->attention) (0.1.2)\n",
      "Downloading attention-5.0.0-py3-none-any.whl (9.0 kB)\n",
      "Using cached numpy-2.0.2-cp39-cp39-manylinux_2_17_x86_64.manylinux2014_x86_64.whl (19.5 MB)\n",
      "Installing collected packages: numpy, attention\n",
      "\u001b[2K  Attempting uninstall: numpy\n",
      "\u001b[2K    Found existing installation: numpy 1.23.5\n",
      "\u001b[2K    Uninstalling numpy-1.23.5:\n",
      "\u001b[2K      Successfully uninstalled numpy-1.23.5\n",
      "\u001b[2K   \u001b[90m━━━━━━━━━━━━━━━━━━━━━━━━━━━━━━━━━━━━━━━━\u001b[0m \u001b[32m2/2\u001b[0m [attention]\n",
      "\u001b[1A\u001b[2K\u001b[31mERROR: pip's dependency resolver does not currently take into account all the packages that are installed. This behaviour is the source of the following dependency conflicts.\n",
      "gensim 4.3.3 requires numpy<2.0,>=1.18.5, but you have numpy 2.0.2 which is incompatible.\u001b[0m\u001b[31m\n",
      "\u001b[0mSuccessfully installed attention-5.0.0 numpy-2.0.2\n"
     ]
    }
   ],
   "source": [
    "!pip install attention"
   ]
  },
  {
   "cell_type": "code",
   "execution_count": 43,
   "id": "0d7784da",
   "metadata": {},
   "outputs": [],
   "source": [
    "from attention import Attention"
   ]
  },
  {
   "cell_type": "code",
   "execution_count": 44,
   "id": "229aa6b3",
   "metadata": {},
   "outputs": [],
   "source": [
    "from tensorflow.keras.layers import GlobalAveragePooling1D, LayerNormalization, MultiHeadAttention, Add\n",
    "from tensorflow.keras.models import Model\n",
    "# from tensorflow.keras. import \n",
    "# from tensorflow.keras. import \n",
    "# from tensorflow.keras. import \n",
    "# from tensorflow.keras. import "
   ]
  },
  {
   "cell_type": "code",
   "execution_count": 48,
   "id": "5d935fe0",
   "metadata": {
    "scrolled": true
   },
   "outputs": [
    {
     "data": {
      "text/html": [
       "<pre style=\"white-space:pre;overflow-x:auto;line-height:normal;font-family:Menlo,'DejaVu Sans Mono',consolas,'Courier New',monospace\"><span style=\"font-weight: bold\">Model: \"functional_18\"</span>\n",
       "</pre>\n"
      ],
      "text/plain": [
       "\u001b[1mModel: \"functional_18\"\u001b[0m\n"
      ]
     },
     "metadata": {},
     "output_type": "display_data"
    },
    {
     "data": {
      "text/html": [
       "<pre style=\"white-space:pre;overflow-x:auto;line-height:normal;font-family:Menlo,'DejaVu Sans Mono',consolas,'Courier New',monospace\">┏━━━━━━━━━━━━━━━━━━━━━┳━━━━━━━━━━━━━━━━━━━┳━━━━━━━━━━━━┳━━━━━━━━━━━━━━━━━━━┓\n",
       "┃<span style=\"font-weight: bold\"> Layer (type)        </span>┃<span style=\"font-weight: bold\"> Output Shape      </span>┃<span style=\"font-weight: bold\">    Param # </span>┃<span style=\"font-weight: bold\"> Connected to      </span>┃\n",
       "┡━━━━━━━━━━━━━━━━━━━━━╇━━━━━━━━━━━━━━━━━━━╇━━━━━━━━━━━━╇━━━━━━━━━━━━━━━━━━━┩\n",
       "│ input_layer_5       │ (<span style=\"color: #00d7ff; text-decoration-color: #00d7ff\">None</span>, <span style=\"color: #00af00; text-decoration-color: #00af00\">302</span>)       │          <span style=\"color: #00af00; text-decoration-color: #00af00\">0</span> │ -                 │\n",
       "│ (<span style=\"color: #0087ff; text-decoration-color: #0087ff\">InputLayer</span>)        │                   │            │                   │\n",
       "├─────────────────────┼───────────────────┼────────────┼───────────────────┤\n",
       "│ embedding_5         │ (<span style=\"color: #00d7ff; text-decoration-color: #00d7ff\">None</span>, <span style=\"color: #00af00; text-decoration-color: #00af00\">302</span>, <span style=\"color: #00af00; text-decoration-color: #00af00\">128</span>)  │  <span style=\"color: #00af00; text-decoration-color: #00af00\">1,665,408</span> │ input_layer_5[<span style=\"color: #00af00; text-decoration-color: #00af00\">0</span>]… │\n",
       "│ (<span style=\"color: #0087ff; text-decoration-color: #0087ff\">Embedding</span>)         │                   │            │                   │\n",
       "├─────────────────────┼───────────────────┼────────────┼───────────────────┤\n",
       "│ dropout_11          │ (<span style=\"color: #00d7ff; text-decoration-color: #00d7ff\">None</span>, <span style=\"color: #00af00; text-decoration-color: #00af00\">302</span>, <span style=\"color: #00af00; text-decoration-color: #00af00\">128</span>)  │          <span style=\"color: #00af00; text-decoration-color: #00af00\">0</span> │ embedding_5[<span style=\"color: #00af00; text-decoration-color: #00af00\">0</span>][<span style=\"color: #00af00; text-decoration-color: #00af00\">0</span>] │\n",
       "│ (<span style=\"color: #0087ff; text-decoration-color: #0087ff\">Dropout</span>)           │                   │            │                   │\n",
       "├─────────────────────┼───────────────────┼────────────┼───────────────────┤\n",
       "│ bidirectional_5     │ (<span style=\"color: #00d7ff; text-decoration-color: #00d7ff\">None</span>, <span style=\"color: #00af00; text-decoration-color: #00af00\">302</span>, <span style=\"color: #00af00; text-decoration-color: #00af00\">256</span>)  │    <span style=\"color: #00af00; text-decoration-color: #00af00\">263,168</span> │ dropout_11[<span style=\"color: #00af00; text-decoration-color: #00af00\">0</span>][<span style=\"color: #00af00; text-decoration-color: #00af00\">0</span>]  │\n",
       "│ (<span style=\"color: #0087ff; text-decoration-color: #0087ff\">Bidirectional</span>)     │                   │            │                   │\n",
       "├─────────────────────┼───────────────────┼────────────┼───────────────────┤\n",
       "│ multi_head_attenti… │ (<span style=\"color: #00d7ff; text-decoration-color: #00d7ff\">None</span>, <span style=\"color: #00af00; text-decoration-color: #00af00\">302</span>, <span style=\"color: #00af00; text-decoration-color: #00af00\">256</span>)  │    <span style=\"color: #00af00; text-decoration-color: #00af00\">263,168</span> │ bidirectional_5[<span style=\"color: #00af00; text-decoration-color: #00af00\">…</span> │\n",
       "│ (<span style=\"color: #0087ff; text-decoration-color: #0087ff\">MultiHeadAttentio…</span> │                   │            │ bidirectional_5[<span style=\"color: #00af00; text-decoration-color: #00af00\">…</span> │\n",
       "├─────────────────────┼───────────────────┼────────────┼───────────────────┤\n",
       "│ dropout_13          │ (<span style=\"color: #00d7ff; text-decoration-color: #00d7ff\">None</span>, <span style=\"color: #00af00; text-decoration-color: #00af00\">302</span>, <span style=\"color: #00af00; text-decoration-color: #00af00\">256</span>)  │          <span style=\"color: #00af00; text-decoration-color: #00af00\">0</span> │ multi_head_atten… │\n",
       "│ (<span style=\"color: #0087ff; text-decoration-color: #0087ff\">Dropout</span>)           │                   │            │                   │\n",
       "├─────────────────────┼───────────────────┼────────────┼───────────────────┤\n",
       "│ add_1 (<span style=\"color: #0087ff; text-decoration-color: #0087ff\">Add</span>)         │ (<span style=\"color: #00d7ff; text-decoration-color: #00d7ff\">None</span>, <span style=\"color: #00af00; text-decoration-color: #00af00\">302</span>, <span style=\"color: #00af00; text-decoration-color: #00af00\">256</span>)  │          <span style=\"color: #00af00; text-decoration-color: #00af00\">0</span> │ bidirectional_5[<span style=\"color: #00af00; text-decoration-color: #00af00\">…</span> │\n",
       "│                     │                   │            │ dropout_13[<span style=\"color: #00af00; text-decoration-color: #00af00\">0</span>][<span style=\"color: #00af00; text-decoration-color: #00af00\">0</span>]  │\n",
       "├─────────────────────┼───────────────────┼────────────┼───────────────────┤\n",
       "│ layer_normalizatio… │ (<span style=\"color: #00d7ff; text-decoration-color: #00d7ff\">None</span>, <span style=\"color: #00af00; text-decoration-color: #00af00\">302</span>, <span style=\"color: #00af00; text-decoration-color: #00af00\">256</span>)  │        <span style=\"color: #00af00; text-decoration-color: #00af00\">512</span> │ add_1[<span style=\"color: #00af00; text-decoration-color: #00af00\">0</span>][<span style=\"color: #00af00; text-decoration-color: #00af00\">0</span>]       │\n",
       "│ (<span style=\"color: #0087ff; text-decoration-color: #0087ff\">LayerNormalizatio…</span> │                   │            │                   │\n",
       "├─────────────────────┼───────────────────┼────────────┼───────────────────┤\n",
       "│ global_max_pooling… │ (<span style=\"color: #00d7ff; text-decoration-color: #00d7ff\">None</span>, <span style=\"color: #00af00; text-decoration-color: #00af00\">256</span>)       │          <span style=\"color: #00af00; text-decoration-color: #00af00\">0</span> │ layer_normalizat… │\n",
       "│ (<span style=\"color: #0087ff; text-decoration-color: #0087ff\">GlobalMaxPooling1…</span> │                   │            │                   │\n",
       "├─────────────────────┼───────────────────┼────────────┼───────────────────┤\n",
       "│ dense_9 (<span style=\"color: #0087ff; text-decoration-color: #0087ff\">Dense</span>)     │ (<span style=\"color: #00d7ff; text-decoration-color: #00d7ff\">None</span>, <span style=\"color: #00af00; text-decoration-color: #00af00\">128</span>)       │     <span style=\"color: #00af00; text-decoration-color: #00af00\">32,896</span> │ global_max_pooli… │\n",
       "├─────────────────────┼───────────────────┼────────────┼───────────────────┤\n",
       "│ dropout_14          │ (<span style=\"color: #00d7ff; text-decoration-color: #00d7ff\">None</span>, <span style=\"color: #00af00; text-decoration-color: #00af00\">128</span>)       │          <span style=\"color: #00af00; text-decoration-color: #00af00\">0</span> │ dense_9[<span style=\"color: #00af00; text-decoration-color: #00af00\">0</span>][<span style=\"color: #00af00; text-decoration-color: #00af00\">0</span>]     │\n",
       "│ (<span style=\"color: #0087ff; text-decoration-color: #0087ff\">Dropout</span>)           │                   │            │                   │\n",
       "├─────────────────────┼───────────────────┼────────────┼───────────────────┤\n",
       "│ dense_10 (<span style=\"color: #0087ff; text-decoration-color: #0087ff\">Dense</span>)    │ (<span style=\"color: #00d7ff; text-decoration-color: #00d7ff\">None</span>, <span style=\"color: #00af00; text-decoration-color: #00af00\">64</span>)        │      <span style=\"color: #00af00; text-decoration-color: #00af00\">8,256</span> │ dropout_14[<span style=\"color: #00af00; text-decoration-color: #00af00\">0</span>][<span style=\"color: #00af00; text-decoration-color: #00af00\">0</span>]  │\n",
       "├─────────────────────┼───────────────────┼────────────┼───────────────────┤\n",
       "│ dense_11 (<span style=\"color: #0087ff; text-decoration-color: #0087ff\">Dense</span>)    │ (<span style=\"color: #00d7ff; text-decoration-color: #00d7ff\">None</span>, <span style=\"color: #00af00; text-decoration-color: #00af00\">32</span>)        │      <span style=\"color: #00af00; text-decoration-color: #00af00\">2,080</span> │ dense_10[<span style=\"color: #00af00; text-decoration-color: #00af00\">0</span>][<span style=\"color: #00af00; text-decoration-color: #00af00\">0</span>]    │\n",
       "├─────────────────────┼───────────────────┼────────────┼───────────────────┤\n",
       "│ dense_12 (<span style=\"color: #0087ff; text-decoration-color: #0087ff\">Dense</span>)    │ (<span style=\"color: #00d7ff; text-decoration-color: #00d7ff\">None</span>, <span style=\"color: #00af00; text-decoration-color: #00af00\">1</span>)         │         <span style=\"color: #00af00; text-decoration-color: #00af00\">33</span> │ dense_11[<span style=\"color: #00af00; text-decoration-color: #00af00\">0</span>][<span style=\"color: #00af00; text-decoration-color: #00af00\">0</span>]    │\n",
       "└─────────────────────┴───────────────────┴────────────┴───────────────────┘\n",
       "</pre>\n"
      ],
      "text/plain": [
       "┏━━━━━━━━━━━━━━━━━━━━━┳━━━━━━━━━━━━━━━━━━━┳━━━━━━━━━━━━┳━━━━━━━━━━━━━━━━━━━┓\n",
       "┃\u001b[1m \u001b[0m\u001b[1mLayer (type)       \u001b[0m\u001b[1m \u001b[0m┃\u001b[1m \u001b[0m\u001b[1mOutput Shape     \u001b[0m\u001b[1m \u001b[0m┃\u001b[1m \u001b[0m\u001b[1m   Param #\u001b[0m\u001b[1m \u001b[0m┃\u001b[1m \u001b[0m\u001b[1mConnected to     \u001b[0m\u001b[1m \u001b[0m┃\n",
       "┡━━━━━━━━━━━━━━━━━━━━━╇━━━━━━━━━━━━━━━━━━━╇━━━━━━━━━━━━╇━━━━━━━━━━━━━━━━━━━┩\n",
       "│ input_layer_5       │ (\u001b[38;5;45mNone\u001b[0m, \u001b[38;5;34m302\u001b[0m)       │          \u001b[38;5;34m0\u001b[0m │ -                 │\n",
       "│ (\u001b[38;5;33mInputLayer\u001b[0m)        │                   │            │                   │\n",
       "├─────────────────────┼───────────────────┼────────────┼───────────────────┤\n",
       "│ embedding_5         │ (\u001b[38;5;45mNone\u001b[0m, \u001b[38;5;34m302\u001b[0m, \u001b[38;5;34m128\u001b[0m)  │  \u001b[38;5;34m1,665,408\u001b[0m │ input_layer_5[\u001b[38;5;34m0\u001b[0m]… │\n",
       "│ (\u001b[38;5;33mEmbedding\u001b[0m)         │                   │            │                   │\n",
       "├─────────────────────┼───────────────────┼────────────┼───────────────────┤\n",
       "│ dropout_11          │ (\u001b[38;5;45mNone\u001b[0m, \u001b[38;5;34m302\u001b[0m, \u001b[38;5;34m128\u001b[0m)  │          \u001b[38;5;34m0\u001b[0m │ embedding_5[\u001b[38;5;34m0\u001b[0m][\u001b[38;5;34m0\u001b[0m] │\n",
       "│ (\u001b[38;5;33mDropout\u001b[0m)           │                   │            │                   │\n",
       "├─────────────────────┼───────────────────┼────────────┼───────────────────┤\n",
       "│ bidirectional_5     │ (\u001b[38;5;45mNone\u001b[0m, \u001b[38;5;34m302\u001b[0m, \u001b[38;5;34m256\u001b[0m)  │    \u001b[38;5;34m263,168\u001b[0m │ dropout_11[\u001b[38;5;34m0\u001b[0m][\u001b[38;5;34m0\u001b[0m]  │\n",
       "│ (\u001b[38;5;33mBidirectional\u001b[0m)     │                   │            │                   │\n",
       "├─────────────────────┼───────────────────┼────────────┼───────────────────┤\n",
       "│ multi_head_attenti… │ (\u001b[38;5;45mNone\u001b[0m, \u001b[38;5;34m302\u001b[0m, \u001b[38;5;34m256\u001b[0m)  │    \u001b[38;5;34m263,168\u001b[0m │ bidirectional_5[\u001b[38;5;34m…\u001b[0m │\n",
       "│ (\u001b[38;5;33mMultiHeadAttentio…\u001b[0m │                   │            │ bidirectional_5[\u001b[38;5;34m…\u001b[0m │\n",
       "├─────────────────────┼───────────────────┼────────────┼───────────────────┤\n",
       "│ dropout_13          │ (\u001b[38;5;45mNone\u001b[0m, \u001b[38;5;34m302\u001b[0m, \u001b[38;5;34m256\u001b[0m)  │          \u001b[38;5;34m0\u001b[0m │ multi_head_atten… │\n",
       "│ (\u001b[38;5;33mDropout\u001b[0m)           │                   │            │                   │\n",
       "├─────────────────────┼───────────────────┼────────────┼───────────────────┤\n",
       "│ add_1 (\u001b[38;5;33mAdd\u001b[0m)         │ (\u001b[38;5;45mNone\u001b[0m, \u001b[38;5;34m302\u001b[0m, \u001b[38;5;34m256\u001b[0m)  │          \u001b[38;5;34m0\u001b[0m │ bidirectional_5[\u001b[38;5;34m…\u001b[0m │\n",
       "│                     │                   │            │ dropout_13[\u001b[38;5;34m0\u001b[0m][\u001b[38;5;34m0\u001b[0m]  │\n",
       "├─────────────────────┼───────────────────┼────────────┼───────────────────┤\n",
       "│ layer_normalizatio… │ (\u001b[38;5;45mNone\u001b[0m, \u001b[38;5;34m302\u001b[0m, \u001b[38;5;34m256\u001b[0m)  │        \u001b[38;5;34m512\u001b[0m │ add_1[\u001b[38;5;34m0\u001b[0m][\u001b[38;5;34m0\u001b[0m]       │\n",
       "│ (\u001b[38;5;33mLayerNormalizatio…\u001b[0m │                   │            │                   │\n",
       "├─────────────────────┼───────────────────┼────────────┼───────────────────┤\n",
       "│ global_max_pooling… │ (\u001b[38;5;45mNone\u001b[0m, \u001b[38;5;34m256\u001b[0m)       │          \u001b[38;5;34m0\u001b[0m │ layer_normalizat… │\n",
       "│ (\u001b[38;5;33mGlobalMaxPooling1…\u001b[0m │                   │            │                   │\n",
       "├─────────────────────┼───────────────────┼────────────┼───────────────────┤\n",
       "│ dense_9 (\u001b[38;5;33mDense\u001b[0m)     │ (\u001b[38;5;45mNone\u001b[0m, \u001b[38;5;34m128\u001b[0m)       │     \u001b[38;5;34m32,896\u001b[0m │ global_max_pooli… │\n",
       "├─────────────────────┼───────────────────┼────────────┼───────────────────┤\n",
       "│ dropout_14          │ (\u001b[38;5;45mNone\u001b[0m, \u001b[38;5;34m128\u001b[0m)       │          \u001b[38;5;34m0\u001b[0m │ dense_9[\u001b[38;5;34m0\u001b[0m][\u001b[38;5;34m0\u001b[0m]     │\n",
       "│ (\u001b[38;5;33mDropout\u001b[0m)           │                   │            │                   │\n",
       "├─────────────────────┼───────────────────┼────────────┼───────────────────┤\n",
       "│ dense_10 (\u001b[38;5;33mDense\u001b[0m)    │ (\u001b[38;5;45mNone\u001b[0m, \u001b[38;5;34m64\u001b[0m)        │      \u001b[38;5;34m8,256\u001b[0m │ dropout_14[\u001b[38;5;34m0\u001b[0m][\u001b[38;5;34m0\u001b[0m]  │\n",
       "├─────────────────────┼───────────────────┼────────────┼───────────────────┤\n",
       "│ dense_11 (\u001b[38;5;33mDense\u001b[0m)    │ (\u001b[38;5;45mNone\u001b[0m, \u001b[38;5;34m32\u001b[0m)        │      \u001b[38;5;34m2,080\u001b[0m │ dense_10[\u001b[38;5;34m0\u001b[0m][\u001b[38;5;34m0\u001b[0m]    │\n",
       "├─────────────────────┼───────────────────┼────────────┼───────────────────┤\n",
       "│ dense_12 (\u001b[38;5;33mDense\u001b[0m)    │ (\u001b[38;5;45mNone\u001b[0m, \u001b[38;5;34m1\u001b[0m)         │         \u001b[38;5;34m33\u001b[0m │ dense_11[\u001b[38;5;34m0\u001b[0m][\u001b[38;5;34m0\u001b[0m]    │\n",
       "└─────────────────────┴───────────────────┴────────────┴───────────────────┘\n"
      ]
     },
     "metadata": {},
     "output_type": "display_data"
    },
    {
     "data": {
      "text/html": [
       "<pre style=\"white-space:pre;overflow-x:auto;line-height:normal;font-family:Menlo,'DejaVu Sans Mono',consolas,'Courier New',monospace\"><span style=\"font-weight: bold\"> Total params: </span><span style=\"color: #00af00; text-decoration-color: #00af00\">2,235,521</span> (8.53 MB)\n",
       "</pre>\n"
      ],
      "text/plain": [
       "\u001b[1m Total params: \u001b[0m\u001b[38;5;34m2,235,521\u001b[0m (8.53 MB)\n"
      ]
     },
     "metadata": {},
     "output_type": "display_data"
    },
    {
     "data": {
      "text/html": [
       "<pre style=\"white-space:pre;overflow-x:auto;line-height:normal;font-family:Menlo,'DejaVu Sans Mono',consolas,'Courier New',monospace\"><span style=\"font-weight: bold\"> Trainable params: </span><span style=\"color: #00af00; text-decoration-color: #00af00\">2,235,521</span> (8.53 MB)\n",
       "</pre>\n"
      ],
      "text/plain": [
       "\u001b[1m Trainable params: \u001b[0m\u001b[38;5;34m2,235,521\u001b[0m (8.53 MB)\n"
      ]
     },
     "metadata": {},
     "output_type": "display_data"
    },
    {
     "data": {
      "text/html": [
       "<pre style=\"white-space:pre;overflow-x:auto;line-height:normal;font-family:Menlo,'DejaVu Sans Mono',consolas,'Courier New',monospace\"><span style=\"font-weight: bold\"> Non-trainable params: </span><span style=\"color: #00af00; text-decoration-color: #00af00\">0</span> (0.00 B)\n",
       "</pre>\n"
      ],
      "text/plain": [
       "\u001b[1m Non-trainable params: \u001b[0m\u001b[38;5;34m0\u001b[0m (0.00 B)\n"
      ]
     },
     "metadata": {},
     "output_type": "display_data"
    }
   ],
   "source": [
    "inputs = Input(shape=(max_length,))\n",
    "x = Embedding(input_dim=word_size, output_dim=128)(inputs)\n",
    "x = Dropout(0.3)(x)\n",
    "# 양방향 lstm 등장\n",
    "x = Bidirectional(LSTM(128, return_sequences=True))(x)\n",
    "\n",
    "# 멀티헤드 어텐션\n",
    "attn_output = MultiHeadAttention(num_heads=4, key_dim=64)(x,x) # s 누락 조심\n",
    "attn_output = Dropout(0.3)(attn_output)\n",
    "x=Add()([x,attn_output])\n",
    "x=LayerNormalization()(x)\n",
    "x=GlobalMaxPooling1D()(x)\n",
    "\n",
    "# DNN 신경망은 짜는 룰이 있어서 맞추기만 하면된다.\n",
    "x = Dense(128, activation='relu')(x) \n",
    "x = Dropout(0.3)(x)\n",
    "x = Dense(64, activation='relu')(x) \n",
    "x = Dense(32, activation='relu')(x)\n",
    "# 출력층\n",
    "outputs = Dense(1, activation='sigmoid')(x)\n",
    "\n",
    "# 모델 정의\n",
    "attn_model = Model(inputs=inputs, outputs=outputs)\n",
    "attn_model.summary()"
   ]
  },
  {
   "cell_type": "code",
   "execution_count": null,
   "id": "64a0d9ce",
   "metadata": {
    "scrolled": true
   },
   "outputs": [
    {
     "name": "stdout",
     "output_type": "stream",
     "text": [
      "Epoch 1/1000\n",
      "\u001b[1m122/122\u001b[0m \u001b[32m━━━━━━━━━━━━━━━━━━━━\u001b[0m\u001b[37m\u001b[0m \u001b[1m0s\u001b[0m 684ms/step - accuracy: 0.9444 - auc: 0.9783 - loss: 0.1693\n",
      "Epoch 1: val_loss improved from inf to 0.29479, saving model to ./model/bank_app_review_attn_model.keras\n",
      "\u001b[1m122/122\u001b[0m \u001b[32m━━━━━━━━━━━━━━━━━━━━\u001b[0m\u001b[37m\u001b[0m \u001b[1m103s\u001b[0m 820ms/step - accuracy: 0.9444 - auc: 0.9783 - loss: 0.1692 - val_accuracy: 0.8897 - val_auc: 0.9532 - val_loss: 0.2948\n",
      "Epoch 2/1000\n",
      "\u001b[1m122/122\u001b[0m \u001b[32m━━━━━━━━━━━━━━━━━━━━\u001b[0m\u001b[37m\u001b[0m \u001b[1m0s\u001b[0m 939ms/step - accuracy: 0.9645 - auc: 0.9877 - loss: 0.1159\n",
      "Epoch 2: val_loss did not improve from 0.29479\n",
      "\u001b[1m122/122\u001b[0m \u001b[32m━━━━━━━━━━━━━━━━━━━━\u001b[0m\u001b[37m\u001b[0m \u001b[1m132s\u001b[0m 1s/step - accuracy: 0.9645 - auc: 0.9877 - loss: 0.1159 - val_accuracy: 0.8912 - val_auc: 0.9464 - val_loss: 0.3037\n",
      "Epoch 3/1000\n",
      "\u001b[1m122/122\u001b[0m \u001b[32m━━━━━━━━━━━━━━━━━━━━\u001b[0m\u001b[37m\u001b[0m \u001b[1m0s\u001b[0m 1s/step - accuracy: 0.9703 - auc: 0.9912 - loss: 0.0965\n",
      "Epoch 3: val_loss did not improve from 0.29479\n",
      "\u001b[1m122/122\u001b[0m \u001b[32m━━━━━━━━━━━━━━━━━━━━\u001b[0m\u001b[37m\u001b[0m \u001b[1m142s\u001b[0m 1s/step - accuracy: 0.9702 - auc: 0.9912 - loss: 0.0966 - val_accuracy: 0.8897 - val_auc: 0.9421 - val_loss: 0.3431\n",
      "Epoch 4/1000\n",
      "\u001b[1m 99/122\u001b[0m \u001b[32m━━━━━━━━━━━━━━━━\u001b[0m\u001b[37m━━━━\u001b[0m \u001b[1m23s\u001b[0m 1s/step - accuracy: 0.9732 - auc: 0.9924 - loss: 0.0860"
     ]
    }
   ],
   "source": [
    "attn_model.compile(loss='binary_crossentropy', optimizer='adam',\n",
    "             metrics=['accuracy', tf.keras.metrics.AUC(name='auc')])\n",
    "early_stop = EarlyStopping(patience=10, restore_best_weights=True)\n",
    "model_path = \"./model/bank_app_review_attn_model.keras\"\n",
    "checkpoint = ModelCheckpoint(filepath=model_path, monitor='val_loss',\n",
    "                            save_best_only=True,\n",
    "                            verbose=1)\n",
    "attn_model_history = attn_model.fit(X_train, y_train, epochs=1000, batch_size=128,\n",
    "                         validation_data=(X_valid, y_valid),\n",
    "                         callbacks=[early_stop, checkpoint])\n",
    "plt.figure(figsize=(8, 5))\n",
    "plt.plot(attn_model_history.history['loss'])\n",
    "plt.plot(attn_model_history.history['val_loss'])\n",
    "plt.xlabel('epochs')\n",
    "plt.ylabel('loss')\n",
    "plt.legend(['train', 'valid'])\n",
    "plt.show()"
   ]
  },
  {
   "cell_type": "code",
   "execution_count": 50,
   "id": "237d31ec",
   "metadata": {
    "scrolled": true
   },
   "outputs": [
    {
     "name": "stdout",
     "output_type": "stream",
     "text": [
      "\u001b[1m209/209\u001b[0m \u001b[32m━━━━━━━━━━━━━━━━━━━━\u001b[0m\u001b[37m\u001b[0m \u001b[1m14s\u001b[0m 67ms/step - accuracy: 0.9040 - auc: 0.9600 - loss: 0.2459\n",
      "[0.25376248359680176, 0.9005094170570374, 0.9576181769371033]\n"
     ]
    }
   ],
   "source": [
    "print(attn_model.evaluate(X_valid, y_valid))"
   ]
  },
  {
   "cell_type": "code",
   "execution_count": 40,
   "id": "63ce32c1",
   "metadata": {},
   "outputs": [],
   "source": [
    "result['pred'] = result['pred'].apply(lambda x: 1 if x > 0.5 else 0)"
   ]
  },
  {
   "cell_type": "code",
   "execution_count": 41,
   "id": "7a018866",
   "metadata": {
    "scrolled": true
   },
   "outputs": [
    {
     "name": "stdout",
     "output_type": "stream",
     "text": [
      "              precision    recall  f1-score   support\n",
      "\n",
      "           0       0.85      0.89      0.87      2702\n",
      "           1       0.92      0.89      0.91      3972\n",
      "\n",
      "    accuracy                           0.89      6674\n",
      "   macro avg       0.89      0.89      0.89      6674\n",
      "weighted avg       0.89      0.89      0.89      6674\n",
      "\n"
     ]
    }
   ],
   "source": [
    "# from sklearn.metrics import classification_report\n",
    "print(classification_report(result['is_good'], result['pred']))"
   ]
  },
  {
   "cell_type": "code",
   "execution_count": null,
   "id": "da6acf55",
   "metadata": {},
   "outputs": [],
   "source": []
  },
  {
   "cell_type": "code",
   "execution_count": null,
   "id": "5a3785d6",
   "metadata": {},
   "outputs": [],
   "source": []
  },
  {
   "cell_type": "code",
   "execution_count": null,
   "id": "8581002a",
   "metadata": {},
   "outputs": [],
   "source": []
  },
  {
   "cell_type": "code",
   "execution_count": null,
   "id": "4eea3dc4",
   "metadata": {},
   "outputs": [],
   "source": []
  },
  {
   "cell_type": "code",
   "execution_count": null,
   "id": "929171fd",
   "metadata": {},
   "outputs": [],
   "source": []
  },
  {
   "cell_type": "code",
   "execution_count": null,
   "id": "ea70308e",
   "metadata": {},
   "outputs": [],
   "source": []
  },
  {
   "cell_type": "code",
   "execution_count": null,
   "id": "df046934",
   "metadata": {},
   "outputs": [],
   "source": []
  },
  {
   "cell_type": "code",
   "execution_count": null,
   "id": "19d9af0e",
   "metadata": {},
   "outputs": [],
   "source": []
  },
  {
   "cell_type": "code",
   "execution_count": null,
   "id": "6184baaf",
   "metadata": {},
   "outputs": [],
   "source": []
  },
  {
   "cell_type": "code",
   "execution_count": null,
   "id": "7539d20a",
   "metadata": {},
   "outputs": [],
   "source": []
  },
  {
   "cell_type": "code",
   "execution_count": null,
   "id": "9ce4bd73",
   "metadata": {},
   "outputs": [],
   "source": []
  },
  {
   "cell_type": "code",
   "execution_count": null,
   "id": "ae965024",
   "metadata": {},
   "outputs": [],
   "source": []
  }
 ],
 "metadata": {
  "kernelspec": {
   "display_name": "Python 3 (ipykernel)",
   "language": "python",
   "name": "python3"
  },
  "language_info": {
   "codemirror_mode": {
    "name": "ipython",
    "version": 3
   },
   "file_extension": ".py",
   "mimetype": "text/x-python",
   "name": "python",
   "nbconvert_exporter": "python",
   "pygments_lexer": "ipython3",
   "version": "3.9.22"
  }
 },
 "nbformat": 4,
 "nbformat_minor": 5
}
