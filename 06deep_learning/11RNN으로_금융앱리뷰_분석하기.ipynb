{
 "cells": [
  {
   "cell_type": "markdown",
   "id": "6afaccee",
   "metadata": {},
   "source": [
    "# RNN으로 금융앱 리뷰 분석하기"
   ]
  },
  {
   "cell_type": "code",
   "execution_count": 1,
   "id": "a1adabdc",
   "metadata": {},
   "outputs": [
    {
     "name": "stdout",
     "output_type": "stream",
     "text": [
      "Requirement already satisfied: konlpy in /home/fintech/miniforge3/envs/tf/lib/python3.9/site-packages (0.6.0)\n",
      "Requirement already satisfied: JPype1>=0.7.0 in /home/fintech/miniforge3/envs/tf/lib/python3.9/site-packages (from konlpy) (1.5.2)\n",
      "Requirement already satisfied: lxml>=4.1.0 in /home/fintech/miniforge3/envs/tf/lib/python3.9/site-packages (from konlpy) (5.3.1)\n",
      "Requirement already satisfied: numpy>=1.6 in /home/fintech/miniforge3/envs/tf/lib/python3.9/site-packages (from konlpy) (1.26.4)\n",
      "Requirement already satisfied: packaging in /home/fintech/miniforge3/envs/tf/lib/python3.9/site-packages (from JPype1>=0.7.0->konlpy) (24.2)\n"
     ]
    }
   ],
   "source": [
    "# mecab설치\n",
    "!pip install konlpy"
   ]
  },
  {
   "cell_type": "code",
   "execution_count": 5,
   "id": "93a8de4f",
   "metadata": {},
   "outputs": [],
   "source": [
    "from konlpy.tag import Mecab # 우분투에 mecab설치한적있어서 경로맞으면 바로 실행됨\n",
    "import pandas as pd\n",
    "import numpy as np\n",
    "from tensorflow.keras.preprocessing.text import Tokenizer, text_to_word_sequence\n",
    "from tensorflow.keras.preprocessing.sequence import pad_sequences\n",
    "from tensorflow.keras.models import Sequential\n",
    "from tensorflow.keras.layers import Dense, Flatten, Embedding\n",
    "from tensorflow.keras.utils import to_categorical"
   ]
  },
  {
   "cell_type": "code",
   "execution_count": 7,
   "id": "ba393733",
   "metadata": {},
   "outputs": [],
   "source": [
    "train_data= pd.read_csv('./data/bank_app_reviews_train.csv')\n",
    "test_data= pd.read_csv('./data/bank_app_reviews_test.csv')"
   ]
  },
  {
   "cell_type": "code",
   "execution_count": null,
   "id": "c5a984c1",
   "metadata": {},
   "outputs": [],
   "source": [
    "# 데이터 제대로 들어왔는지 df 찍어보고 다음으로."
   ]
  },
  {
   "cell_type": "markdown",
   "id": "0032ef2f",
   "metadata": {},
   "source": [
    "### 1) 특수문자 제거 함수 정의"
   ]
  },
  {
   "cell_type": "code",
   "execution_count": 8,
   "id": "4cb57cb7",
   "metadata": {},
   "outputs": [],
   "source": [
    "import re\n",
    "def clean_text(text):\n",
    "    cleaned = re.sub(r'[^가-힣a-zA-Z0-9\\s]','',text) # 한글, 영문, 숫자\n",
    "    cleaned = re.sub(r'\\s+',' ',cleaned) # 연속된 공백을 하나의 공백으로\n",
    "    return cleaned.strip()"
   ]
  },
  {
   "cell_type": "markdown",
   "id": "d4548823",
   "metadata": {},
   "source": [
    "### 사용자리뷰 내용의 특수문자 제거"
   ]
  },
  {
   "cell_type": "code",
   "execution_count": 10,
   "id": "574f22a4",
   "metadata": {},
   "outputs": [
    {
     "data": {
      "text/plain": [
       "0                  엄빠 폰에 설치해드렸는데 두분 다 쓰기 편하다고 하시네요 저도 쓰고있음\n",
       "1        Cd기 축소 연장하려면 이 어플 깔라는데 왜 30퍼에서 안깔리는지 아니 애초에 슈퍼...\n",
       "2                             서비스가 통합되어 있어서 점점 사용빈도가 높아지네요\n",
       "3                                                카드 충천이 안됌\n",
       "4                                              알뜰폰 인증이 안돼요\n",
       "                               ...                        \n",
       "22241                                      어플 시작오류가 가끔 나네요\n",
       "22242                              업데이트 후에 계좌이체하는 게 자주 튕겨요\n",
       "22243                                                  굳굳굳\n",
       "22244                                  오래시간 같이한 나의은행 든든합니다\n",
       "22245    라이브 광고 전보다 더 안좋네 아무리 주기 싫어도 겨우 3원줄거면서 너무 쪼잔하게 ...\n",
       "Name: 사용자리뷰, Length: 22246, dtype: object"
      ]
     },
     "execution_count": 10,
     "metadata": {},
     "output_type": "execute_result"
    }
   ],
   "source": [
    "train_data['사용자리뷰'] = train_data['사용자리뷰'].apply(clean_text)\n",
    "train_data['사용자리뷰']"
   ]
  },
  {
   "cell_type": "markdown",
   "id": "37310688",
   "metadata": {},
   "source": [
    "### is_good 컬럼 추가, 평점4점 이상은 긍정(1) 3이하는 부정(0)"
   ]
  },
  {
   "cell_type": "code",
   "execution_count": 9,
   "id": "7af98243",
   "metadata": {},
   "outputs": [
    {
     "data": {
      "text/plain": [
       "0        1\n",
       "1        0\n",
       "2        1\n",
       "3        0\n",
       "4        0\n",
       "        ..\n",
       "22241    0\n",
       "22242    0\n",
       "22243    1\n",
       "22244    1\n",
       "22245    0\n",
       "Name: is_good, Length: 22246, dtype: int64"
      ]
     },
     "execution_count": 9,
     "metadata": {},
     "output_type": "execute_result"
    }
   ],
   "source": [
    "train_data['is_good']=train_data['평점'].apply(lambda x: 1 if x>=4 else 0)\n",
    "train_data['is_good']"
   ]
  },
  {
   "cell_type": "markdown",
   "id": "dab5736b",
   "metadata": {},
   "source": [
    "### 토큰화"
   ]
  },
  {
   "cell_type": "code",
   "execution_count": 12,
   "id": "7e7b03be",
   "metadata": {
    "scrolled": true
   },
   "outputs": [
    {
     "data": {
      "text/plain": [
       "['엄',\n",
       " '빠',\n",
       " '폰',\n",
       " '에',\n",
       " '설치',\n",
       " '해',\n",
       " '드렸',\n",
       " '는데',\n",
       " '두',\n",
       " '분',\n",
       " '다',\n",
       " '쓰',\n",
       " '기',\n",
       " '편하',\n",
       " '다고',\n",
       " '하',\n",
       " '시',\n",
       " '네요',\n",
       " '저',\n",
       " '도',\n",
       " '쓰',\n",
       " '고',\n",
       " '있',\n",
       " '음']"
      ]
     },
     "execution_count": 12,
     "metadata": {},
     "output_type": "execute_result"
    }
   ],
   "source": [
    "mecab=Mecab()\n",
    "mecab.morphs(train_data['사용자리뷰'][0]) # 형태소쪼개기"
   ]
  },
  {
   "cell_type": "code",
   "execution_count": null,
   "id": "8aa7bd4c",
   "metadata": {},
   "outputs": [],
   "source": [
    "# 혹시 안된다면\n",
    "# ! pip install mecab-python3 진행"
   ]
  },
  {
   "cell_type": "markdown",
   "id": "642c80a4",
   "metadata": {},
   "source": [
    "### 전체문장 토큰화 후 tokenized_docs에 저장"
   ]
  },
  {
   "cell_type": "code",
   "execution_count": null,
   "id": "a7a0d1a2",
   "metadata": {},
   "outputs": [],
   "source": []
  },
  {
   "cell_type": "markdown",
   "id": "b721014c",
   "metadata": {},
   "source": [
    "# LSTM과 CNN 조합 모델로 분석"
   ]
  },
  {
   "cell_type": "code",
   "execution_count": 13,
   "id": "92d23f56",
   "metadata": {},
   "outputs": [],
   "source": [
    "from tensorflow.keras.layers import Conv1D, MaxPooling1D, LSTM, GlobalMaxPooling1D"
   ]
  },
  {
   "cell_type": "code",
   "execution_count": null,
   "id": "678a7a95",
   "metadata": {},
   "outputs": [],
   "source": [
    "# 모델 구성\n",
    "lstm_cnn = Sequential()\n",
    "lstm_cnn.add(Input(shape=(max_length,)))\n",
    "lstm_cnn.add(Embedding(input_dim=word_size, output_dim=128))\n",
    "lstm_cnn"
   ]
  },
  {
   "cell_type": "code",
   "execution_count": null,
   "id": "3d06b66c",
   "metadata": {},
   "outputs": [],
   "source": []
  },
  {
   "cell_type": "code",
   "execution_count": null,
   "id": "31cad9de",
   "metadata": {},
   "outputs": [],
   "source": []
  },
  {
   "cell_type": "code",
   "execution_count": null,
   "id": "1169307a",
   "metadata": {},
   "outputs": [],
   "source": []
  },
  {
   "cell_type": "code",
   "execution_count": null,
   "id": "d4fef534",
   "metadata": {},
   "outputs": [],
   "source": []
  },
  {
   "cell_type": "code",
   "execution_count": null,
   "id": "a63e2646",
   "metadata": {},
   "outputs": [],
   "source": []
  },
  {
   "cell_type": "code",
   "execution_count": null,
   "id": "43c90817",
   "metadata": {},
   "outputs": [],
   "source": []
  }
 ],
 "metadata": {
  "kernelspec": {
   "display_name": "Python 3 (ipykernel)",
   "language": "python",
   "name": "python3"
  },
  "language_info": {
   "codemirror_mode": {
    "name": "ipython",
    "version": 3
   },
   "file_extension": ".py",
   "mimetype": "text/x-python",
   "name": "python",
   "nbconvert_exporter": "python",
   "pygments_lexer": "ipython3",
   "version": "3.9.22"
  }
 },
 "nbformat": 4,
 "nbformat_minor": 5
}
