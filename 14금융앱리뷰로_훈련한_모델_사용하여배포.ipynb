{
 "cells": [
  {
   "cell_type": "markdown",
   "id": "74dc4377",
   "metadata": {},
   "source": [
    "# 14금융앱리뷰로_훈련한_모델_사용하여배포"
   ]
  },
  {
   "cell_type": "markdown",
   "id": "023616e6",
   "metadata": {},
   "source": [
    "아래 코드가 실행되지 않을경우  wsl에서 commit 후 compose up 으로 올려야함."
   ]
  },
  {
   "cell_type": "code",
   "execution_count": 2,
   "id": "e859b4e3",
   "metadata": {},
   "outputs": [
    {
     "data": {
      "text/plain": [
       "['형태소', '분석', '기', '테스트']"
      ]
     },
     "execution_count": 2,
     "metadata": {},
     "output_type": "execute_result"
    }
   ],
   "source": [
    "# konlpy 설치\n",
    "from konlpy.tag import Okt\n",
    "okt = Okt()\n",
    "okt.nouns(\"형태소 분석기 테스트\")\n"
   ]
  },
  {
   "cell_type": "code",
   "execution_count": null,
   "id": "3696eeeb",
   "metadata": {},
   "outputs": [],
   "source": []
  },
  {
   "cell_type": "code",
   "execution_count": null,
   "id": "99de0ae3",
   "metadata": {},
   "outputs": [],
   "source": []
  },
  {
   "cell_type": "code",
   "execution_count": null,
   "id": "599d0d02",
   "metadata": {},
   "outputs": [],
   "source": []
  },
  {
   "cell_type": "code",
   "execution_count": null,
   "id": "b46df71c",
   "metadata": {},
   "outputs": [],
   "source": []
  },
  {
   "cell_type": "code",
   "execution_count": null,
   "id": "e48b1fb1",
   "metadata": {},
   "outputs": [],
   "source": []
  }
 ],
 "metadata": {
  "kernelspec": {
   "display_name": "Python 3 (ipykernel)",
   "language": "python",
   "name": "python3"
  },
  "language_info": {
   "codemirror_mode": {
    "name": "ipython",
    "version": 3
   },
   "file_extension": ".py",
   "mimetype": "text/x-python",
   "name": "python",
   "nbconvert_exporter": "python",
   "pygments_lexer": "ipython3",
   "version": "3.9.22"
  }
 },
 "nbformat": 4,
 "nbformat_minor": 5
}
