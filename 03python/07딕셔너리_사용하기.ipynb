{
 "cells": [
  {
   "cell_type": "markdown",
   "id": "823c898c",
   "metadata": {},
   "source": [
    "# 딕셔너리 사용하기\n",
    "- dict타입, Json형 \n",
    "- web에서 자료를 주고 받을 때 쓰임\n",
    "- key:value 쌍으로 이뤄짐.\n",
    "- key호출하면 value를 출력\n",
    "- key자리는 list, dict를 제외한 자료형 받음\n",
    "- value는 모든 자료형 가능"
   ]
  },
  {
   "cell_type": "markdown",
   "id": "ccef39fc",
   "metadata": {},
   "source": [
    "# 딕셔너리 만들기\n",
    "- 딕셔너리 형태로 키가 만들어진다.\n",
    "- 형태는 {key:value}\n",
    "- 빈 딕셔너리도 생성가능 {}만 줘도됨.\n",
    "- dict() 함수를 이용해서 딕셔너리 대량생성."
   ]
  },
  {
   "cell_type": "code",
   "execution_count": 1,
   "id": "3d32501d",
   "metadata": {},
   "outputs": [
    {
     "data": {
      "text/plain": [
       "{'년월': '20250314', '국가': '미국', '방문자수': 1000}"
      ]
     },
     "execution_count": 1,
     "metadata": {},
     "output_type": "execute_result"
    }
   ],
   "source": [
    "d= {'년월' : '20250314', '국가':'미국', '방문자수':1000 }\n",
    "d"
   ]
  },
  {
   "cell_type": "code",
   "execution_count": 2,
   "id": "a948a05e",
   "metadata": {},
   "outputs": [
    {
     "data": {
      "text/plain": [
       "'미국'"
      ]
     },
     "execution_count": 2,
     "metadata": {},
     "output_type": "execute_result"
    }
   ],
   "source": [
    "d['국가']"
   ]
  },
  {
   "cell_type": "code",
   "execution_count": 3,
   "id": "16df32dd",
   "metadata": {},
   "outputs": [
    {
     "name": "stdout",
     "output_type": "stream",
     "text": [
      "{} <class 'dict'>\n"
     ]
    }
   ],
   "source": [
    "d2={}\n",
    "print(d2,type(d2))"
   ]
  },
  {
   "cell_type": "markdown",
   "id": "55823335",
   "metadata": {},
   "source": [
    "## dict key의 자료형\n",
    "- str, int, float, bullyn, tuple\n",
    "- dict, list를 key로 받지 않음\n",
    "- 보통 str과 tuple을 key로 흔히씀"
   ]
  },
  {
   "cell_type": "code",
   "execution_count": 10,
   "id": "024ab803",
   "metadata": {},
   "outputs": [
    {
     "data": {
      "text/plain": [
       "{'백': 100, 100: '백', 3.5: [3.6, 3.7], False: 0, (0, '서울'): '종로구'}"
      ]
     },
     "execution_count": 10,
     "metadata": {},
     "output_type": "execute_result"
    }
   ],
   "source": [
    "d3={'백':100, 100:'백', 3.5:[3.6,3.7], False:0, (0,'서울'):\"종로구\"}\n",
    "d3  # srt     int      float        bullyn    tuple"
   ]
  },
  {
   "cell_type": "code",
   "execution_count": 8,
   "id": "2c6f4ff8",
   "metadata": {},
   "outputs": [
    {
     "ename": "SyntaxError",
     "evalue": "invalid syntax (3767508520.py, line 1)",
     "output_type": "error",
     "traceback": [
      "\u001b[1;36m  Cell \u001b[1;32mIn[8], line 1\u001b[1;36m\u001b[0m\n\u001b[1;33m    d4={1:1,2:2,[3,]{4:4,5:5}} # 딕셔너리는 안받는다.\u001b[0m\n\u001b[1;37m                    ^\u001b[0m\n\u001b[1;31mSyntaxError\u001b[0m\u001b[1;31m:\u001b[0m invalid syntax\n"
     ]
    }
   ],
   "source": [
    "d4={1:1,2:2,[3,]{4:4,5:5}} # 딕셔너리는 안받는다."
   ]
  },
  {
   "cell_type": "code",
   "execution_count": 12,
   "id": "c6dda626",
   "metadata": {},
   "outputs": [
    {
     "data": {
      "text/plain": [
       "100"
      ]
     },
     "execution_count": 12,
     "metadata": {},
     "output_type": "execute_result"
    }
   ],
   "source": [
    "d3['백'] # 괄호조심할것"
   ]
  },
  {
   "cell_type": "code",
   "execution_count": 13,
   "id": "6ad0938c",
   "metadata": {},
   "outputs": [
    {
     "data": {
      "text/plain": [
       "0"
      ]
     },
     "execution_count": 13,
     "metadata": {},
     "output_type": "execute_result"
    }
   ],
   "source": [
    "d3[False]"
   ]
  },
  {
   "cell_type": "code",
   "execution_count": 14,
   "id": "e661bdc6",
   "metadata": {},
   "outputs": [
    {
     "data": {
      "text/plain": [
       "'종로구'"
      ]
     },
     "execution_count": 14,
     "metadata": {},
     "output_type": "execute_result"
    }
   ],
   "source": [
    "d3[(0,'서울')] # 튜플이 키로 왔을때는 째로 써야함."
   ]
  },
  {
   "cell_type": "markdown",
   "id": "f8dea631",
   "metadata": {},
   "source": [
    "## 딕셔너리 value의 자료형 - 모든 자료형"
   ]
  },
  {
   "cell_type": "code",
   "execution_count": 17,
   "id": "8bd3c157",
   "metadata": {},
   "outputs": [
    {
     "data": {
      "text/plain": [
       "{'정수': 100,\n",
       " '실수': 3.5,\n",
       " '문자열': 'Value',\n",
       " '리스트': ['영', 1, 2, 3],\n",
       " '튜플': (1, 2, 3, 4),\n",
       " '딕셔너리': {'key': 'value'},\n",
       " 'bullyn': True}"
      ]
     },
     "execution_count": 17,
     "metadata": {},
     "output_type": "execute_result"
    }
   ],
   "source": [
    "d4={'정수':100, '실수':3.5, \"문자열\":'Value', '리스트':['영',1,2,3], '튜플':(1,2,3,4), \n",
    "    '딕셔너리':{'key':\"value\"},'bullyn':True}\n",
    "d4"
   ]
  },
  {
   "cell_type": "code",
   "execution_count": 18,
   "id": "0972a2ee",
   "metadata": {},
   "outputs": [
    {
     "data": {
      "text/plain": [
       "3.5"
      ]
     },
     "execution_count": 18,
     "metadata": {},
     "output_type": "execute_result"
    }
   ],
   "source": [
    "d4['실수']"
   ]
  },
  {
   "cell_type": "code",
   "execution_count": 19,
   "id": "d70fc45f",
   "metadata": {},
   "outputs": [
    {
     "data": {
      "text/plain": [
       "(1, 2, 3, 4)"
      ]
     },
     "execution_count": 19,
     "metadata": {},
     "output_type": "execute_result"
    }
   ],
   "source": [
    "d4['튜플']"
   ]
  },
  {
   "cell_type": "code",
   "execution_count": 20,
   "id": "38f5e1e9",
   "metadata": {},
   "outputs": [
    {
     "data": {
      "text/plain": [
       "{'key': 'value'}"
      ]
     },
     "execution_count": 20,
     "metadata": {},
     "output_type": "execute_result"
    }
   ],
   "source": [
    "d4['딕셔너리']"
   ]
  },
  {
   "cell_type": "code",
   "execution_count": 21,
   "id": "643fed9f",
   "metadata": {},
   "outputs": [
    {
     "data": {
      "text/plain": [
       "'영'"
      ]
     },
     "execution_count": 21,
     "metadata": {},
     "output_type": "execute_result"
    }
   ],
   "source": [
    "d4['리스트'][0] # 인덱싱 얹을 수 있음"
   ]
  },
  {
   "cell_type": "code",
   "execution_count": 22,
   "id": "b546aca5",
   "metadata": {},
   "outputs": [
    {
     "data": {
      "text/plain": [
       "'value'"
      ]
     },
     "execution_count": 22,
     "metadata": {},
     "output_type": "execute_result"
    }
   ],
   "source": [
    "d4['딕셔너리']['key'] # 딕셔너리 형태의 value에서 key 만 호출"
   ]
  },
  {
   "cell_type": "markdown",
   "id": "fdb0e282",
   "metadata": {},
   "source": [
    "## 빈 딕셔너리 만들기\n",
    "- 변수 = {}\n",
    "- 변수 = dict()"
   ]
  },
  {
   "cell_type": "code",
   "execution_count": 23,
   "id": "e49b8438",
   "metadata": {},
   "outputs": [
    {
     "name": "stdout",
     "output_type": "stream",
     "text": [
      "{} <class 'dict'>\n"
     ]
    }
   ],
   "source": [
    "d5={}\n",
    "print(d5, type(d5))"
   ]
  },
  {
   "cell_type": "code",
   "execution_count": 24,
   "id": "23e5340e",
   "metadata": {},
   "outputs": [
    {
     "name": "stdout",
     "output_type": "stream",
     "text": [
      "{} <class 'dict'>\n"
     ]
    }
   ],
   "source": [
    "d6= dict()\n",
    "print(d6, type(d6))"
   ]
  },
  {
   "cell_type": "markdown",
   "id": "6ca1fb17",
   "metadata": {},
   "source": [
    "## 딕셔너리에 자료 추가\n",
    "- 변수['key']=value\n",
    "- 추가할때 이전 key에 덮어씀"
   ]
  },
  {
   "cell_type": "code",
   "execution_count": 25,
   "id": "92a4fc2e",
   "metadata": {},
   "outputs": [],
   "source": [
    "d5['번호']=0"
   ]
  },
  {
   "cell_type": "code",
   "execution_count": 26,
   "id": "dd542727",
   "metadata": {},
   "outputs": [
    {
     "data": {
      "text/plain": [
       "{'번호': 0}"
      ]
     },
     "execution_count": 26,
     "metadata": {},
     "output_type": "execute_result"
    }
   ],
   "source": [
    "d5 # '번호'라는 키와 value를 받음 # 이건 dict만 할수있는거"
   ]
  },
  {
   "cell_type": "code",
   "execution_count": 27,
   "id": "06091cc5",
   "metadata": {},
   "outputs": [
    {
     "data": {
      "text/plain": [
       "{'번호': 0, '리스트': [3, 2, 1]}"
      ]
     },
     "execution_count": 27,
     "metadata": {},
     "output_type": "execute_result"
    }
   ],
   "source": [
    "d5['리스트']=[3,2,1]\n",
    "d5"
   ]
  },
  {
   "cell_type": "code",
   "execution_count": 28,
   "id": "4737ac82",
   "metadata": {},
   "outputs": [],
   "source": [
    "#아까 번호 만들었지만 또 만든다면\n",
    "d5[\"번호\"]=0,1"
   ]
  },
  {
   "cell_type": "code",
   "execution_count": 29,
   "id": "224da6ec",
   "metadata": {},
   "outputs": [
    {
     "data": {
      "text/plain": [
       "{'번호': (0, 1), '리스트': [3, 2, 1]}"
      ]
     },
     "execution_count": 29,
     "metadata": {},
     "output_type": "execute_result"
    }
   ],
   "source": [
    "d5"
   ]
  },
  {
   "cell_type": "code",
   "execution_count": 33,
   "id": "14a919b0",
   "metadata": {},
   "outputs": [],
   "source": [
    "########## 리스트화 하려면 이렇게?? ##########\n",
    "d5['번호']=list(d5['번호'])"
   ]
  },
  {
   "cell_type": "code",
   "execution_count": 34,
   "id": "60e7798f",
   "metadata": {},
   "outputs": [
    {
     "data": {
      "text/plain": [
       "{'번호': [0, 1], '리스트': [3, 2, 1]}"
      ]
     },
     "execution_count": 34,
     "metadata": {},
     "output_type": "execute_result"
    }
   ],
   "source": [
    "d5"
   ]
  },
  {
   "cell_type": "markdown",
   "id": "2ce605e5",
   "metadata": {},
   "source": [
    "### 주의) 키중복되는 경우는 가장 마지막 내용만 남긴다."
   ]
  },
  {
   "cell_type": "code",
   "execution_count": 35,
   "id": "d3f4d700",
   "metadata": {},
   "outputs": [
    {
     "data": {
      "text/plain": [
       "{'번호': 1, '이름': '둘리', '나이': 30}"
      ]
     },
     "execution_count": 35,
     "metadata": {},
     "output_type": "execute_result"
    }
   ],
   "source": [
    "d7={'번호':0, '이름':'홍길동', '이름':'둘리','나이':30, '번호':1 }\n",
    "d7 # 처음 생성하더라도 해당됨."
   ]
  },
  {
   "cell_type": "markdown",
   "id": "a21be36b",
   "metadata": {},
   "source": [
    "# dict생성하는 dict 함수"
   ]
  },
  {
   "cell_type": "markdown",
   "id": "97497abf",
   "metadata": {},
   "source": [
    "- dict(key1=value1, key2=value2, key3=value3)\n",
    "    이런식으로 쓰는데\n",
    "- key자리에 ''나 \"\"는 안받음\n",
    "- key에 어떤 값 넣든 str로 바뀜.\n",
    "- value에 'str' 따옴표 필수"
   ]
  },
  {
   "cell_type": "markdown",
   "id": "a77ce8b9",
   "metadata": {},
   "source": [
    "### dict 함수 (1)"
   ]
  },
  {
   "cell_type": "code",
   "execution_count": 37,
   "id": "76006cab",
   "metadata": {},
   "outputs": [
    {
     "data": {
      "text/plain": [
       "{'정수': 100,\n",
       " '실수': 3.5,\n",
       " '문자': 'str',\n",
       " '리스트': [0, 1, 2],\n",
       " '튜플': (3,),\n",
       " '딕셔너리': {'키': 'vlalue'}}"
      ]
     },
     "execution_count": 37,
     "metadata": {},
     "output_type": "execute_result"
    }
   ],
   "source": [
    "dict_ex1=dict(정수=100, 실수=3.5, \n",
    "              문자='str', 리스트=[0,1,2], \n",
    "              튜플=(3,), 딕셔너리={'키':'vlalue'})\n",
    "# 변수에 할당하듯 따옴생략됨.\n",
    "dict_ex1                      #자동으로 키에 따옴 추가됨."
   ]
  },
  {
   "cell_type": "code",
   "execution_count": 42,
   "id": "1ac15820",
   "metadata": {},
   "outputs": [
    {
     "data": {
      "text/plain": [
       "['정수', '실수', '문자', '리스트', '튜플', '딕셔너리']"
      ]
     },
     "execution_count": 42,
     "metadata": {},
     "output_type": "execute_result"
    }
   ],
   "source": [
    "dicx=list(dict_ex1)  # 궁금해서 찍어봄\n",
    "dicx"
   ]
  },
  {
   "cell_type": "code",
   "execution_count": 43,
   "id": "3a457d43",
   "metadata": {},
   "outputs": [
    {
     "ename": "ValueError",
     "evalue": "could not convert string to float: '정수'",
     "output_type": "error",
     "traceback": [
      "\u001b[1;31m---------------------------------------------------------------------------\u001b[0m",
      "\u001b[1;31mValueError\u001b[0m                                Traceback (most recent call last)",
      "Cell \u001b[1;32mIn[43], line 1\u001b[0m\n\u001b[1;32m----> 1\u001b[0m dicxx\u001b[38;5;241m=\u001b[39m\u001b[38;5;28;43mlist\u001b[39;49m\u001b[43m(\u001b[49m\u001b[38;5;28;43mmap\u001b[39;49m\u001b[43m(\u001b[49m\u001b[38;5;28;43mfloat\u001b[39;49m\u001b[43m,\u001b[49m\u001b[43mdicx\u001b[49m\u001b[43m)\u001b[49m\u001b[43m)\u001b[49m\n\u001b[0;32m      2\u001b[0m dicxx\n",
      "\u001b[1;31mValueError\u001b[0m: could not convert string to float: '정수'"
     ]
    }
   ],
   "source": [
    "dicxx=list(map(float,dicx)) # 실수화\n",
    "dicxx"
   ]
  },
  {
   "cell_type": "markdown",
   "id": "d344a9d2",
   "metadata": {},
   "source": [
    "- 나중에 리퀘스트라는 라이브러리 사용할때 JSON형태로 생성하게됨\n",
    "- 이럴때 따옴 생략하니 좀 편하다\n",
    "-\n",
    "\n",
    "- 개인적 생각으로는 dict를 리스트화 하면 키에 따옴표 생성이되니 이걸 그대로 다시 dict함수에서 쓸 수 있지않을까. \n",
    "\n",
    "\n",
    "### dict 함수 (2)\n",
    "\n",
    "- dict([(key1, value1), (key2,value2)])\n",
    "- 리스트 안에 튜플로 키벨쌍을 넣는것"
   ]
  },
  {
   "cell_type": "code",
   "execution_count": 39,
   "id": "133422d6",
   "metadata": {},
   "outputs": [],
   "source": [
    "dict_ex2=dict([('정수',3),('실수',3.14),\n",
    "               ('문자열','문자열이요'),('list',[0,1,2]),\n",
    "               ('tuple',(4,3,2)),('dict',{\"key\":'value'})])"
   ]
  },
  {
   "cell_type": "code",
   "execution_count": 40,
   "id": "1bb61102",
   "metadata": {},
   "outputs": [
    {
     "data": {
      "text/plain": [
       "{'정수': 3,\n",
       " '실수': 3.14,\n",
       " '문자열': '문자열이요',\n",
       " 'list': [0, 1, 2],\n",
       " 'tuple': (4, 3, 2),\n",
       " 'dict': {'key': 'value'}}"
      ]
     },
     "execution_count": 40,
     "metadata": {},
     "output_type": "execute_result"
    }
   ],
   "source": [
    "dict_ex2"
   ]
  },
  {
   "attachments": {
    "image.png": {
     "image/png": "[encoded data removed]"
    }
   },
   "cell_type": "markdown",
   "id": "11b805df",
   "metadata": {},
   "source": [
    "### dict 함수 (3)\n",
    "- dict(zip([key1,key2,key3,key4], [value1,value2,value3,value4]))\n",
    "- key 묶음(리스트)와 value 리스트를 zip함수로 매칭한 후 dict 함수돌리기.\n",
    "- key 묶음 의 요소 개수와 value 요소의 개수가 일치해야함.\n",
    "- 1번 함수다음으로 3번이 많이쓰임.\n",
    "![image.png](attachment:image.png)"
   ]
  },
  {
   "cell_type": "code",
   "execution_count": 44,
   "id": "47bc491a",
   "metadata": {},
   "outputs": [
    {
     "name": "stdout",
     "output_type": "stream",
     "text": [
      "1 5\n",
      "2 6\n",
      "3 7\n",
      "4 8\n"
     ]
    }
   ],
   "source": [
    "for a,b in zip([1,2,3,4], [5,6,7,8]): print(a,b) # 매칭한 결과"
   ]
  },
  {
   "cell_type": "code",
   "execution_count": 46,
   "id": "8388d120",
   "metadata": {},
   "outputs": [
    {
     "name": "stdout",
     "output_type": "stream",
     "text": [
      "(1, 5)\n",
      "(2, 6)\n",
      "(3, 7)\n",
      "(4, 8)\n"
     ]
    }
   ],
   "source": [
    "for a in zip([1,2,3,4], [5,6,7,8]): print(a) \n",
    "    #매칭한거를 쌍으로 보여주려고하다보니 튜플로 보여줌"
   ]
  },
  {
   "cell_type": "code",
   "execution_count": 50,
   "id": "3ccb865c",
   "metadata": {},
   "outputs": [
    {
     "name": "stdout",
     "output_type": "stream",
     "text": [
      "(1, 5, 10)\n",
      "(2, 6, 12)\n",
      "(3, 7, 13)\n",
      "(4, 8, 11)\n"
     ]
    }
   ],
   "source": [
    "for a in zip([1,2,3,4], [5,6,7,8],[10,12,13,11]): print(a)"
   ]
  },
  {
   "cell_type": "code",
   "execution_count": 53,
   "id": "4b60a37f",
   "metadata": {},
   "outputs": [
    {
     "ename": "ValueError",
     "evalue": "too many values to unpack (expected 2)",
     "output_type": "error",
     "traceback": [
      "\u001b[1;31m---------------------------------------------------------------------------\u001b[0m",
      "\u001b[1;31mValueError\u001b[0m                                Traceback (most recent call last)",
      "Cell \u001b[1;32mIn[53], line 1\u001b[0m\n\u001b[1;32m----> 1\u001b[0m \u001b[38;5;28;01mfor\u001b[39;00m a,b \u001b[38;5;129;01min\u001b[39;00m \u001b[38;5;28mzip\u001b[39m([\u001b[38;5;241m1\u001b[39m,\u001b[38;5;241m2\u001b[39m,\u001b[38;5;241m3\u001b[39m,\u001b[38;5;241m4\u001b[39m], [\u001b[38;5;241m5\u001b[39m,\u001b[38;5;241m6\u001b[39m,\u001b[38;5;241m7\u001b[39m,\u001b[38;5;241m8\u001b[39m],[\u001b[38;5;241m10\u001b[39m,\u001b[38;5;241m12\u001b[39m,\u001b[38;5;241m13\u001b[39m,\u001b[38;5;241m11\u001b[39m]): \u001b[38;5;28mprint\u001b[39m(a)  \u001b[38;5;66;03m# 안됨\u001b[39;00m\n",
      "\u001b[1;31mValueError\u001b[0m: too many values to unpack (expected 2)"
     ]
    }
   ],
   "source": [
    "for a,b in zip([1,2,3,4], [5,6,7,8],[10,12,13,11]): print(a)  # 안됨"
   ]
  },
  {
   "cell_type": "markdown",
   "id": "07ad4222",
   "metadata": {},
   "source": [
    "zip은 인덱스번호 같은 것끼리 묶어줌"
   ]
  },
  {
   "cell_type": "code",
   "execution_count": 54,
   "id": "41cab16d",
   "metadata": {},
   "outputs": [
    {
     "name": "stdout",
     "output_type": "stream",
     "text": [
      "(1, 5, 10)\n",
      "(2, 6, 12)\n",
      "(3, 7, 13)\n"
     ]
    }
   ],
   "source": [
    "for a in zip([1,2,3], [5,6,7,8],[10,12,13,11]): print(a)\n",
    "    # 개수가 부족하면  되는데까지만 나온다."
   ]
  },
  {
   "cell_type": "code",
   "execution_count": 60,
   "id": "51a0565c",
   "metadata": {},
   "outputs": [
    {
     "data": {
      "text/plain": [
       "{'정수': 10,\n",
       " '실수': 13.5,\n",
       " '문자열': '문자열입니다',\n",
       " '리스트': [1, 2, 3],\n",
       " '튜플': (0,),\n",
       " '딕셔너리': {10: 30}}"
      ]
     },
     "execution_count": 60,
     "metadata": {},
     "output_type": "execute_result"
    }
   ],
   "source": [
    "dict_ex3=dict(zip(['정수','실수','문자열','리스트','튜플','딕셔너리'],\n",
    "                  [10, 13.5, '문자열입니다',[1,2,3],(0,),{10:30}]))\n",
    "dict_ex3"
   ]
  },
  {
   "cell_type": "markdown",
   "id": "3b2be371",
   "metadata": {},
   "source": [
    "## 딕셔너리에서 값 삭제\n",
    "- del 변수명['key']     key와 value 쌍이 모두 삭제\n",
    "- "
   ]
  },
  {
   "cell_type": "code",
   "execution_count": 56,
   "id": "4a30ca66",
   "metadata": {},
   "outputs": [
    {
     "data": {
      "text/plain": [
       "{'정수': 10, '실수': 13.5, '문자열': '문자열입니다', '리스트': [1, 2, 3], '튜플': (0,)}"
      ]
     },
     "execution_count": 56,
     "metadata": {},
     "output_type": "execute_result"
    }
   ],
   "source": [
    "dict_ex3"
   ]
  },
  {
   "cell_type": "code",
   "execution_count": 58,
   "id": "b128caa8",
   "metadata": {},
   "outputs": [],
   "source": [
    "del dict_ex3['튜플']"
   ]
  },
  {
   "cell_type": "code",
   "execution_count": 59,
   "id": "7f0fe776",
   "metadata": {},
   "outputs": [
    {
     "data": {
      "text/plain": [
       "{'정수': 10, '실수': 13.5, '문자열': '문자열입니다', '리스트': [1, 2, 3]}"
      ]
     },
     "execution_count": 59,
     "metadata": {},
     "output_type": "execute_result"
    }
   ],
   "source": [
    "dict_ex3"
   ]
  },
  {
   "cell_type": "code",
   "execution_count": 62,
   "id": "5cecac3e",
   "metadata": {
    "scrolled": true
   },
   "outputs": [
    {
     "data": {
      "text/plain": [
       "3"
      ]
     },
     "execution_count": 62,
     "metadata": {},
     "output_type": "execute_result"
    }
   ],
   "source": [
    "dict_ex3['리스트'].pop()  #리스트 키의 값들 중 끝값(pop) 삭제"
   ]
  },
  {
   "cell_type": "code",
   "execution_count": 64,
   "id": "2f6dd1f4",
   "metadata": {},
   "outputs": [],
   "source": [
    "dict_ex3['리스트'].append(2)"
   ]
  },
  {
   "cell_type": "code",
   "execution_count": 65,
   "id": "e23178a8",
   "metadata": {},
   "outputs": [
    {
     "data": {
      "text/plain": [
       "{'정수': 10,\n",
       " '실수': 13.5,\n",
       " '문자열': '문자열입니다',\n",
       " '리스트': [0, 1, 2, 2],\n",
       " '튜플': (0,),\n",
       " '딕셔너리': {10: 30}}"
      ]
     },
     "execution_count": 65,
     "metadata": {},
     "output_type": "execute_result"
    }
   ],
   "source": [
    "dict_ex3['리스트'].insert(0,0)  # insert함수에 숫자의미 너무 헷갈리네\n",
    "dict_ex3"
   ]
  },
  {
   "cell_type": "markdown",
   "id": "7afedf15",
   "metadata": {},
   "source": [
    "## 딕셔너리 안에 특정 key가 있는지 확인하기"
   ]
  },
  {
   "cell_type": "code",
   "execution_count": 66,
   "id": "b66988fc",
   "metadata": {},
   "outputs": [
    {
     "data": {
      "text/plain": [
       "True"
      ]
     },
     "execution_count": 66,
     "metadata": {},
     "output_type": "execute_result"
    }
   ],
   "source": [
    "'리스트' in dict_ex3"
   ]
  },
  {
   "cell_type": "code",
   "execution_count": 68,
   "id": "405bbc9c",
   "metadata": {},
   "outputs": [
    {
     "data": {
      "text/plain": [
       "{'정수': 10,\n",
       " '실수': 13.5,\n",
       " '문자열': '문자열입니다',\n",
       " '리스트': [0, 1, 2, 2],\n",
       " '튜플': (0,),\n",
       " '딕셔너리': {10: 30}}"
      ]
     },
     "execution_count": 68,
     "metadata": {},
     "output_type": "execute_result"
    }
   ],
   "source": [
    "dict_ex3"
   ]
  },
  {
   "cell_type": "code",
   "execution_count": 67,
   "id": "812c6271",
   "metadata": {},
   "outputs": [
    {
     "data": {
      "text/plain": [
       "False"
      ]
     },
     "execution_count": 67,
     "metadata": {},
     "output_type": "execute_result"
    }
   ],
   "source": [
    "10 in dict_ex3 # value중에 10이 있어도 못찾음"
   ]
  },
  {
   "cell_type": "code",
   "execution_count": 69,
   "id": "b5a50717",
   "metadata": {},
   "outputs": [
    {
     "data": {
      "text/plain": [
       "6"
      ]
     },
     "execution_count": 69,
     "metadata": {},
     "output_type": "execute_result"
    }
   ],
   "source": [
    "len(dict_ex3) "
   ]
  },
  {
   "attachments": {
    "image.png": {
     "image/png": "[encoded data removed]"
    }
   },
   "cell_type": "markdown",
   "id": "ea28f03a",
   "metadata": {},
   "source": [
    "## 딕셔너리 안의 key의 개수) len()\n",
    "- 중첩되지 않은 경우에는 키의 개수 세기 좋은데\n",
    "- 중첩dict인 경우에는 가장 바깥에있는 키개수만 셀 수 있음\n",
    "![image.png](attachment:image.png)\n",
    "-이런식으로 중첩된 경우."
   ]
  },
  {
   "cell_type": "markdown",
   "id": "ff97ff43",
   "metadata": {},
   "source": [
    "## 딕셔너리 함수 사용하기\n",
    "### setdefault(key, value) 셋디폴트\n",
    "- 딕셔너리에 kv 쌍을 추가. 중복되는 key 넣으려하면 받지않음.\n",
    "- key만 있고 value없으면 value자리에 none 넣음."
   ]
  },
  {
   "cell_type": "code",
   "execution_count": 71,
   "id": "b5187b95",
   "metadata": {},
   "outputs": [
    {
     "data": {
      "text/plain": [
       "{'년월': '20250314', '국가': '미국', '방문자수': 1000}"
      ]
     },
     "execution_count": 71,
     "metadata": {},
     "output_type": "execute_result"
    }
   ],
   "source": [
    "d"
   ]
  },
  {
   "cell_type": "code",
   "execution_count": 72,
   "id": "93ad0591",
   "metadata": {},
   "outputs": [],
   "source": [
    "d['년월'] # 이미있는 키\n",
    "d['년월'] = 20203030"
   ]
  },
  {
   "cell_type": "code",
   "execution_count": 73,
   "id": "7d0d622f",
   "metadata": {},
   "outputs": [
    {
     "data": {
      "text/plain": [
       "{'년월': 20203030, '국가': '미국', '방문자수': 1000}"
      ]
     },
     "execution_count": 73,
     "metadata": {},
     "output_type": "execute_result"
    }
   ],
   "source": [
    "d #덮어씀"
   ]
  },
  {
   "cell_type": "code",
   "execution_count": 74,
   "id": "0fa84911",
   "metadata": {},
   "outputs": [
    {
     "data": {
      "text/plain": [
       "20203030"
      ]
     },
     "execution_count": 74,
     "metadata": {},
     "output_type": "execute_result"
    }
   ],
   "source": [
    "d.setdefault('년월',20250314) #할당하려하면 이미 가진값 보여줌"
   ]
  },
  {
   "cell_type": "code",
   "execution_count": 75,
   "id": "b8ead368",
   "metadata": {},
   "outputs": [
    {
     "data": {
      "text/plain": [
       "{'년월': 20203030, '국가': '미국', '방문자수': 1000}"
      ]
     },
     "execution_count": 75,
     "metadata": {},
     "output_type": "execute_result"
    }
   ],
   "source": [
    "d # 원본을 지켜줌"
   ]
  },
  {
   "cell_type": "code",
   "execution_count": 76,
   "id": "436778fe",
   "metadata": {},
   "outputs": [
    {
     "data": {
      "text/plain": [
       "'맑음'"
      ]
     },
     "execution_count": 76,
     "metadata": {},
     "output_type": "execute_result"
    }
   ],
   "source": [
    "d.setdefault('날씨','맑음') #새로운kv 넣으면"
   ]
  },
  {
   "cell_type": "code",
   "execution_count": 77,
   "id": "cc524fe0",
   "metadata": {},
   "outputs": [
    {
     "data": {
      "text/plain": [
       "{'년월': 20203030, '국가': '미국', '방문자수': 1000, '날씨': '맑음'}"
      ]
     },
     "execution_count": 77,
     "metadata": {},
     "output_type": "execute_result"
    }
   ],
   "source": [
    "d # 받았음"
   ]
  },
  {
   "cell_type": "markdown",
   "id": "1c52508b",
   "metadata": {},
   "source": [
    "### update(key=value)\n",
    "- 기존kv에 새kv값으로 덮어씀\n",
    "- 기존k와 중복되지않는 k면\n",
    "- 따옴생략 k만 받음. dict함수와 동일"
   ]
  },
  {
   "cell_type": "code",
   "execution_count": 82,
   "id": "a79bcbdf",
   "metadata": {},
   "outputs": [
    {
     "ename": "SyntaxError",
     "evalue": "positional argument follows keyword argument (57158061.py, line 1)",
     "output_type": "error",
     "traceback": [
      "\u001b[1;36m  Cell \u001b[1;32mIn[82], line 1\u001b[1;36m\u001b[0m\n\u001b[1;33m    d.update(방문자수=500,600,700)\u001b[0m\n\u001b[1;37m                             ^\u001b[0m\n\u001b[1;31mSyntaxError\u001b[0m\u001b[1;31m:\u001b[0m positional argument follows keyword argument\n"
     ]
    }
   ],
   "source": [
    "d.update(방문자수=500,600,700)\n",
    "d"
   ]
  },
  {
   "cell_type": "code",
   "execution_count": null,
   "id": "7626cb0d",
   "metadata": {},
   "outputs": [],
   "source": [
    "d.update(방문자수=500) #복수는 안됨.\n",
    "d"
   ]
  },
  {
   "cell_type": "code",
   "execution_count": 85,
   "id": "58ee906a",
   "metadata": {},
   "outputs": [
    {
     "data": {
      "text/plain": [
       "{'년월': 20203030, '국가': '미국', '방문자수': 500, '날씨': '맑음', '바람': '강함'}"
      ]
     },
     "execution_count": 85,
     "metadata": {},
     "output_type": "execute_result"
    }
   ],
   "source": [
    "d.update(바람='강함')\n",
    "d"
   ]
  },
  {
   "cell_type": "markdown",
   "id": "61778895",
   "metadata": {},
   "source": [
    "## dictionary에서 value추출) .get()\n",
    "- .get(key, 빈key채울값) key자리 비어도 채워줌\n",
    "- dict내에 key가 있고없고가 섞여있으면 오류나는데 이걸 방지."
   ]
  },
  {
   "cell_type": "code",
   "execution_count": 83,
   "id": "3a5a1cc6",
   "metadata": {},
   "outputs": [
    {
     "data": {
      "text/plain": [
       "20203030"
      ]
     },
     "execution_count": 83,
     "metadata": {},
     "output_type": "execute_result"
    }
   ],
   "source": [
    "d['년월'] # 이렇게 인덱스를 통해 추출하려는데 키가 없는벨류값이 나오면 에러."
   ]
  },
  {
   "cell_type": "code",
   "execution_count": 88,
   "id": "b23b79d9",
   "metadata": {},
   "outputs": [
    {
     "data": {
      "text/plain": [
       "'이름없음'"
      ]
     },
     "execution_count": 88,
     "metadata": {},
     "output_type": "execute_result"
    }
   ],
   "source": [
    "#키가 없어도 돌아가게만들려면?  get get\n",
    "d.get('이름','이름없음')"
   ]
  },
  {
   "cell_type": "code",
   "execution_count": 89,
   "id": "8e332107",
   "metadata": {},
   "outputs": [
    {
     "data": {
      "text/plain": [
       "{'년월': 20203030, '국가': '미국', '방문자수': 500, '날씨': '맑음', '바람': '강함'}"
      ]
     },
     "execution_count": 89,
     "metadata": {},
     "output_type": "execute_result"
    }
   ],
   "source": [
    "d"
   ]
  },
  {
   "cell_type": "markdown",
   "id": "73c4e323",
   "metadata": {},
   "source": [
    "## dictionary에서 key,value,(key,value) 뽑기\n",
    "- keys()   key만 출력\n",
    "- values()  = 변수명['키명'] Value값만 출력\n",
    "- items()   딕셔너리의 key와 value를 튜플 묶음 형태로 출력(key, value)\n",
    "\n",
    "- list()    결과물이 객체일때 리스트화."
   ]
  },
  {
   "cell_type": "code",
   "execution_count": 91,
   "id": "c4103c44",
   "metadata": {},
   "outputs": [
    {
     "data": {
      "text/plain": [
       "dict_keys(['년월', '국가', '방문자수', '날씨', '바람'])"
      ]
     },
     "execution_count": 91,
     "metadata": {},
     "output_type": "execute_result"
    }
   ],
   "source": [
    "d.keys() #중첩된 안쪽 키들은 안해줌"
   ]
  },
  {
   "cell_type": "code",
   "execution_count": 95,
   "id": "ec46c187",
   "metadata": {},
   "outputs": [
    {
     "name": "stdout",
     "output_type": "stream",
     "text": [
      "<class 'dict_keys'>\n"
     ]
    }
   ],
   "source": [
    "print(type(d.keys())) #리스트가 아님 객체임."
   ]
  },
  {
   "cell_type": "code",
   "execution_count": 100,
   "id": "05e0bf5a",
   "metadata": {},
   "outputs": [
    {
     "name": "stdout",
     "output_type": "stream",
     "text": [
      "<class 'list'>\n"
     ]
    }
   ],
   "source": [
    "print(type(list(d.keys()))) #리스트가 되었으니 슬라이싱 인덱싱 가능한점"
   ]
  },
  {
   "cell_type": "code",
   "execution_count": 94,
   "id": "5e62429e",
   "metadata": {},
   "outputs": [
    {
     "name": "stdout",
     "output_type": "stream",
     "text": [
      "년월\n",
      "국가\n",
      "방문자수\n",
      "날씨\n",
      "바람\n"
     ]
    }
   ],
   "source": [
    "for i in d.keys(): print(i)"
   ]
  },
  {
   "attachments": {
    "image.png": {
     "image/png": "[encoded data removed]"
    }
   },
   "cell_type": "markdown",
   "id": "58c87a01",
   "metadata": {},
   "source": [
    "### values()  : value값만 출력\n",
    "- 중첩된 내용도 인덱싱할 수 있게됨\n",
    "![image.png](attachment:image.png)"
   ]
  },
  {
   "cell_type": "code",
   "execution_count": 103,
   "id": "196a0942",
   "metadata": {},
   "outputs": [
    {
     "data": {
      "text/plain": [
       "20203030"
      ]
     },
     "execution_count": 103,
     "metadata": {},
     "output_type": "execute_result"
    }
   ],
   "source": [
    "tuple(d.values())[0]"
   ]
  },
  {
   "cell_type": "code",
   "execution_count": 108,
   "id": "f7add7c9",
   "metadata": {},
   "outputs": [
    {
     "name": "stdout",
     "output_type": "stream",
     "text": [
      "20203030\n",
      "\n",
      "미국\n",
      "\n",
      "500\n",
      "\n",
      "맑음\n",
      "\n",
      "강함\n",
      "\n"
     ]
    }
   ],
   "source": [
    "for i in d.values(): print(i, end=\"\\n\\n\")"
   ]
  },
  {
   "cell_type": "markdown",
   "id": "14912893",
   "metadata": {},
   "source": [
    "### items(): key, value \n",
    "- kv를 튜플쌍으로 출력\n",
    "- list()를 이용해 리스트화 가능"
   ]
  },
  {
   "cell_type": "code",
   "execution_count": 109,
   "id": "688850d8",
   "metadata": {},
   "outputs": [
    {
     "data": {
      "text/plain": [
       "dict_items([('년월', 20203030), ('국가', '미국'), ('방문자수', 500), ('날씨', '맑음'), ('바람', '강함')])"
      ]
     },
     "execution_count": 109,
     "metadata": {},
     "output_type": "execute_result"
    }
   ],
   "source": [
    "d.items()"
   ]
  },
  {
   "cell_type": "code",
   "execution_count": 110,
   "id": "a6f79b43",
   "metadata": {},
   "outputs": [
    {
     "name": "stdout",
     "output_type": "stream",
     "text": [
      "('년월', 20203030)\n",
      "\n",
      "('국가', '미국')\n",
      "\n",
      "('방문자수', 500)\n",
      "\n",
      "('날씨', '맑음')\n",
      "\n",
      "('바람', '강함')\n",
      "\n"
     ]
    }
   ],
   "source": [
    "for item in d.items(): print(item, end='\\n\\n')\n",
    "    # d.items()가 묶여있는데 이걸 끊어서 두줄씩 내려 보여달라고 한것."
   ]
  },
  {
   "cell_type": "code",
   "execution_count": 111,
   "id": "a5799b93",
   "metadata": {},
   "outputs": [
    {
     "data": {
      "text/plain": [
       "[('년월', 20203030), ('국가', '미국'), ('방문자수', 500), ('날씨', '맑음'), ('바람', '강함')]"
      ]
     },
     "execution_count": 111,
     "metadata": {},
     "output_type": "execute_result"
    }
   ],
   "source": [
    "list(d.items())"
   ]
  },
  {
   "cell_type": "code",
   "execution_count": 112,
   "id": "564bb71b",
   "metadata": {},
   "outputs": [
    {
     "data": {
      "text/plain": [
       "('국가', '미국')"
      ]
     },
     "execution_count": 112,
     "metadata": {},
     "output_type": "execute_result"
    }
   ],
   "source": [
    "list(d.items())[1] #리스트 인덱스도 쌍으로 내줌."
   ]
  },
  {
   "cell_type": "code",
   "execution_count": 113,
   "id": "6e74fe49",
   "metadata": {},
   "outputs": [
    {
     "data": {
      "text/plain": [
       "tuple"
      ]
     },
     "execution_count": 113,
     "metadata": {},
     "output_type": "execute_result"
    }
   ],
   "source": [
    "type(list(d.items())[1]) #튜플쌍 맞네."
   ]
  },
  {
   "cell_type": "markdown",
   "id": "7424bec5",
   "metadata": {},
   "source": [
    "### 삭제할거 del d['년월'] 식으로 삭제했는데\n",
    "- d.pop() 도에러남. pop은 순서있는 변수의 내용물중 끝에서부터 날리는건데 \n",
    "- dict는 순서가 없기때문에 날리려는 키를 지정해야함."
   ]
  },
  {
   "cell_type": "code",
   "execution_count": 114,
   "id": "72a24a27",
   "metadata": {},
   "outputs": [
    {
     "data": {
      "text/plain": [
       "'강함'"
      ]
     },
     "execution_count": 114,
     "metadata": {},
     "output_type": "execute_result"
    }
   ],
   "source": [
    "d.pop('바람')"
   ]
  },
  {
   "cell_type": "code",
   "execution_count": 115,
   "id": "73ec7e1f",
   "metadata": {},
   "outputs": [
    {
     "data": {
      "text/plain": [
       "{'년월': 20203030, '국가': '미국', '방문자수': 500, '날씨': '맑음'}"
      ]
     },
     "execution_count": 115,
     "metadata": {},
     "output_type": "execute_result"
    }
   ],
   "source": [
    "d"
   ]
  },
  {
   "cell_type": "markdown",
   "id": "32d16310",
   "metadata": {},
   "source": [
    "# 여기까지 자료형 관련 내용 끝."
   ]
  },
  {
   "cell_type": "code",
   "execution_count": null,
   "id": "71d28741",
   "metadata": {},
   "outputs": [],
   "source": []
  },
  {
   "cell_type": "code",
   "execution_count": null,
   "id": "3cae8177",
   "metadata": {},
   "outputs": [],
   "source": []
  }
 ],
 "metadata": {
  "kernelspec": {
   "display_name": "Python 3 (ipykernel)",
   "language": "python",
   "name": "python3"
  },
  "language_info": {
   "codemirror_mode": {
    "name": "ipython",
    "version": 3
   },
   "file_extension": ".py",
   "mimetype": "text/x-python",
   "name": "python",
   "nbconvert_exporter": "python",
   "pygments_lexer": "ipython3",
   "version": "3.9.21"
  }
 },
 "nbformat": 4,
 "nbformat_minor": 5
}
