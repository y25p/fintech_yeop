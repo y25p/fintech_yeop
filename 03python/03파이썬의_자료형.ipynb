{
 "cells": [
  {
   "cell_type": "markdown",
   "id": "58c57712",
   "metadata": {},
   "source": [
    "# 파이썬의 자료형(data type)\n",
    "* 정확히 이해해야하는 부분.\n",
    "* 자료형에 맞추며 변화하는건 코드가 길어지면 단점이 되는 특징.\n",
    "* int: 정수 (소수점 없는 수)\n",
    "* flota: 실수(소수 자리 있는 수)\n",
    "* str: 문자/문자열\n",
    "* list: 여러개의 자료가 순서대로 저장된 자료형, 모든 자료형 보관 가능.\n",
    "* tuple: list와 비슷하지만 수정불가하다는 점.\n",
    "* dict: 사전의 자음:설명 처럼 **key:value 쌍**을이룸. 모든 자료형 가능."
   ]
  },
  {
   "cell_type": "markdown",
   "id": "c5e7c657",
   "metadata": {},
   "source": [
    "# 데이터 타입알려주는 함수 type(변수)\n",
    "# 정수형 변수(int)"
   ]
  },
  {
   "cell_type": "code",
   "execution_count": 1,
   "id": "7875115e",
   "metadata": {},
   "outputs": [
    {
     "name": "stdout",
     "output_type": "stream",
     "text": [
      "10\n"
     ]
    }
   ],
   "source": [
    "a=10 #a에 10 넣고 a출력하면 10 나오겠지\n",
    "print(a)"
   ]
  },
  {
   "cell_type": "code",
   "execution_count": 3,
   "id": "b43451cf",
   "metadata": {},
   "outputs": [
    {
     "name": "stdout",
     "output_type": "stream",
     "text": [
      "10\n"
     ]
    },
    {
     "data": {
      "text/plain": [
       "'10'"
      ]
     },
     "execution_count": 3,
     "metadata": {},
     "output_type": "execute_result"
    }
   ],
   "source": [
    "aa=\"10\"\n",
    "print(aa)\n",
    "aa #이렇게 출력하면 둘중에 뭐가 int인지 str인지"
   ]
  },
  {
   "cell_type": "code",
   "execution_count": 4,
   "id": "80cf896e",
   "metadata": {},
   "outputs": [
    {
     "data": {
      "text/plain": [
       "str"
      ]
     },
     "execution_count": 4,
     "metadata": {},
     "output_type": "execute_result"
    }
   ],
   "source": [
    "type(aa)"
   ]
  },
  {
   "cell_type": "code",
   "execution_count": 5,
   "id": "a38ed093",
   "metadata": {},
   "outputs": [
    {
     "data": {
      "text/plain": [
       "int"
      ]
     },
     "execution_count": 5,
     "metadata": {},
     "output_type": "execute_result"
    }
   ],
   "source": [
    "type(a)"
   ]
  },
  {
   "cell_type": "code",
   "execution_count": 6,
   "id": "f1c27e16",
   "metadata": {},
   "outputs": [
    {
     "name": "stdout",
     "output_type": "stream",
     "text": [
      "10 <class 'int'>\n"
     ]
    }
   ],
   "source": [
    "#출력 값이랑 dtype같이 출력\n",
    "print(a,type(a))"
   ]
  },
  {
   "attachments": {
    "image.png": {
     "image/png": "[encoded data removed]"
    }
   },
   "cell_type": "markdown",
   "id": "4a917c62",
   "metadata": {},
   "source": [
    "![image.png](attachment:image.png)\n",
    "*파이썬은 syntax지만 \n",
    "*다른 언어에선 이런식으로 dtype 정한대로 넣어주면 받는다.\n",
    "*여기에 할당된 자료가 어떤 타입인지에 따라 융통성있게 변수가 맞춰준다."
   ]
  },
  {
   "cell_type": "code",
   "execution_count": 10,
   "id": "d12d8e17",
   "metadata": {},
   "outputs": [
    {
     "data": {
      "text/plain": [
       "'512512512512512512512512512512'"
      ]
     },
     "execution_count": 10,
     "metadata": {},
     "output_type": "execute_result"
    }
   ],
   "source": [
    "b=\"512\"\n",
    "a * b # 타언어는 str과 연산할 경우 에러지만 파이썬은 됨.\n",
    "#그렇기 때문에 dtype을 미리 체크하는게 중요함."
   ]
  },
  {
   "cell_type": "markdown",
   "id": "66b9805d",
   "metadata": {},
   "source": [
    "### 실수형 변수 float"
   ]
  },
  {
   "cell_type": "code",
   "execution_count": 12,
   "id": "360ddd34",
   "metadata": {},
   "outputs": [
    {
     "data": {
      "text/plain": [
       "(3.14, float)"
      ]
     },
     "execution_count": 12,
     "metadata": {},
     "output_type": "execute_result"
    }
   ],
   "source": [
    "f=3.14\n",
    "f,type(f) #print(f,type(f))와 다르게 나옴"
   ]
  },
  {
   "cell_type": "markdown",
   "id": "873145a7",
   "metadata": {},
   "source": [
    "### 정수형 변수 +,-,*,/ 실수형 변수 = 실수형"
   ]
  },
  {
   "cell_type": "code",
   "execution_count": 13,
   "id": "8c3d3b27",
   "metadata": {},
   "outputs": [
    {
     "name": "stdout",
     "output_type": "stream",
     "text": [
      "4\n",
      "0.3333333333333333\n"
     ]
    }
   ],
   "source": [
    "a=1\n",
    "b=3\n",
    "print(a+b) \n",
    "print(a/b) # 정수간 계산하더라도 실수가 나올 수 있는 점"
   ]
  },
  {
   "cell_type": "code",
   "execution_count": 16,
   "id": "e671381f",
   "metadata": {},
   "outputs": [
    {
     "name": "stdout",
     "output_type": "stream",
     "text": [
      "4.140000000000001\n",
      "-2.14\n",
      "3.14\n",
      "0.3184713375796178\n"
     ]
    }
   ],
   "source": [
    "print(a+f)\n",
    "print(a-f)\n",
    "print(a*f) # a는 int f는 float \n",
    "print(a/f) # 결과값은 늘 float인점."
   ]
  },
  {
   "cell_type": "code",
   "execution_count": 20,
   "id": "3f4ae01d",
   "metadata": {},
   "outputs": [
    {
     "name": "stdout",
     "output_type": "stream",
     "text": [
      "a_plus_f: 4.140000000000001 <class 'float'>\n",
      "a_minus_f: -2.14 <class 'float'>\n",
      "a_mul_f: 3.14 <class 'float'>\n",
      "a_div_f: 0.3184713375796178 <class 'float'>\n"
     ]
    }
   ],
   "source": [
    "a_plus_f=a+f\n",
    "\n",
    "a_minus_f=a-f\n",
    "\n",
    "a_mul_f=a*f\n",
    "\n",
    "a_div_f=a/f\n",
    "\n",
    "print(\"a_plus_f\"\":\",a_plus_f, type(a_plus_f))\n",
    "\n",
    "print(\"a_minus_f\"\":\",a_minus_f, type(a_minus_f))\n",
    "\n",
    "print(\"a_mul_f\"\":\",a_mul_f, type(a_mul_f))\n",
    "\n",
    "print(\"a_div_f\"\":\",a_div_f, type(a_div_f))"
   ]
  },
  {
   "cell_type": "markdown",
   "id": "4fc518e1",
   "metadata": {},
   "source": [
    "# str변수의 연산"
   ]
  },
  {
   "cell_type": "code",
   "execution_count": 21,
   "id": "cf8eb8aa",
   "metadata": {},
   "outputs": [
    {
     "name": "stdout",
     "output_type": "stream",
     "text": [
      "문 <class 'str'>\n",
      "자 <class 'str'>\n",
      "문자열 <class 'str'>\n"
     ]
    }
   ],
   "source": [
    "c='문'\n",
    "d=\"자\"\n",
    "e=\"문자열\" #문자들이 여러개있지만 따옴표로 묶여서 1개\n",
    "\n",
    "print(c,type(c))\n",
    "print(d,type(d))\n",
    "print(e,type(e))\n",
    "\n",
    "# 다른언어에서는 문자와 문자열 구분하지만 파이썬은 str만 씀"
   ]
  },
  {
   "cell_type": "code",
   "execution_count": 22,
   "id": "206b972f",
   "metadata": {},
   "outputs": [
    {
     "data": {
      "text/plain": [
       "'문자열은 길어도 줄바꿈이 안된다는점.'"
      ]
     },
     "execution_count": 22,
     "metadata": {},
     "output_type": "execute_result"
    }
   ],
   "source": [
    "long_char=\"문자열은 길어도 줄바꿈이 안된다는점.\"\n",
    "long_char"
   ]
  },
  {
   "cell_type": "code",
   "execution_count": 34,
   "id": "dcd37d8b",
   "metadata": {},
   "outputs": [
    {
     "data": {
      "text/plain": [
       "\"문자열 '\\n 줄바꿈\""
      ]
     },
     "execution_count": 34,
     "metadata": {},
     "output_type": "execute_result"
    }
   ],
   "source": [
    "# 줄바꿈 할때는 \"\\\"를 넣되한줄로 저장.\n",
    "long_char=\"문자열 '\\n 줄바꿈\"\n",
    "long_char"
   ]
  },
  {
   "cell_type": "code",
   "execution_count": 35,
   "id": "13c52b5e",
   "metadata": {},
   "outputs": [
    {
     "name": "stdout",
     "output_type": "stream",
     "text": [
      "문자열 '\n",
      " 줄바꿈\n"
     ]
    }
   ],
   "source": [
    "print(long_char)"
   ]
  },
  {
   "cell_type": "code",
   "execution_count": 39,
   "id": "b3dd8e65",
   "metadata": {},
   "outputs": [
    {
     "name": "stdout",
     "output_type": "stream",
     "text": [
      "따옴표3개로 문자열 감싸면 \n",
      "   enter 줄바꿔도 그대로 출력된다 \n",
      "   쌍타옴표 3개나 홀따옴표 3개로 감싸면 된다.\n"
     ]
    }
   ],
   "source": [
    "long_char2='''따옴표3개로 문자열 감싸면 \n",
    "   enter 줄바꿔도 그대로 출력된다 \n",
    "   쌍타옴표 3개나 홀따옴표 3개로 감싸면 된다.'''\n",
    "print(long_char2)"
   ]
  },
  {
   "attachments": {
    "image.png": {
     "image/png": "[encoded data removed]"
    }
   },
   "cell_type": "markdown",
   "id": "0586bdcd",
   "metadata": {},
   "source": [
    "![image.png](attachment:image.png)\n",
    "* 줄바꿈은 당연하고 들여쓰기한 내용을 출력할 수도 있다."
   ]
  },
  {
   "cell_type": "code",
   "execution_count": 41,
   "id": "998fad26",
   "metadata": {},
   "outputs": [
    {
     "data": {
      "text/plain": [
       "'따옴표3개로 문자열 감싸면 \\n   enter 줄바꿔도 그대로 출력된다 \\n   쌍타옴표 3개나 홀따옴표 3개로 감싸면 된다.'"
      ]
     },
     "execution_count": 41,
     "metadata": {},
     "output_type": "execute_result"
    }
   ],
   "source": [
    "long_char2 #따옴표 3개는 \\n을 넣어준것을 볼 수 있다."
   ]
  },
  {
   "cell_type": "markdown",
   "id": "dd0a2a5c",
   "metadata": {},
   "source": [
    "### str 덧셈과 곱셈(반복)"
   ]
  },
  {
   "cell_type": "code",
   "execution_count": 42,
   "id": "30b19b1b",
   "metadata": {},
   "outputs": [
    {
     "data": {
      "text/plain": [
       "('문', '자')"
      ]
     },
     "execution_count": 42,
     "metadata": {},
     "output_type": "execute_result"
    }
   ],
   "source": [
    "c, d"
   ]
  },
  {
   "cell_type": "code",
   "execution_count": 43,
   "id": "f9e82f43",
   "metadata": {},
   "outputs": [
    {
     "data": {
      "text/plain": [
       "'문자'"
      ]
     },
     "execution_count": 43,
     "metadata": {},
     "output_type": "execute_result"
    }
   ],
   "source": [
    "c+d"
   ]
  },
  {
   "cell_type": "code",
   "execution_count": 48,
   "id": "ec5eb130",
   "metadata": {},
   "outputs": [
    {
     "ename": "TypeError",
     "evalue": "can't multiply sequence by non-int of type 'str'",
     "output_type": "error",
     "traceback": [
      "\u001b[1;31m---------------------------------------------------------------------------\u001b[0m",
      "\u001b[1;31mTypeError\u001b[0m                                 Traceback (most recent call last)",
      "Cell \u001b[1;32mIn[48], line 1\u001b[0m\n\u001b[1;32m----> 1\u001b[0m \u001b[43mc\u001b[49m\u001b[38;5;241;43m*\u001b[39;49m\u001b[43md\u001b[49m \u001b[38;5;66;03m# 이게 아님\u001b[39;00m\n",
      "\u001b[1;31mTypeError\u001b[0m: can't multiply sequence by non-int of type 'str'"
     ]
    }
   ],
   "source": [
    "c*d # 이게 아님"
   ]
  },
  {
   "cell_type": "code",
   "execution_count": 51,
   "id": "d9e30cc4",
   "metadata": {},
   "outputs": [
    {
     "data": {
      "text/plain": [
       "'문문문문'"
      ]
     },
     "execution_count": 51,
     "metadata": {},
     "output_type": "execute_result"
    }
   ],
   "source": [
    "c*4 # 이런식으로 정수와 곱하기 가능"
   ]
  },
  {
   "cell_type": "code",
   "execution_count": 50,
   "id": "b6655903",
   "metadata": {},
   "outputs": [
    {
     "ename": "TypeError",
     "evalue": "can't multiply sequence by non-int of type 'float'",
     "output_type": "error",
     "traceback": [
      "\u001b[1;31m---------------------------------------------------------------------------\u001b[0m",
      "\u001b[1;31mTypeError\u001b[0m                                 Traceback (most recent call last)",
      "Cell \u001b[1;32mIn[50], line 1\u001b[0m\n\u001b[1;32m----> 1\u001b[0m \u001b[43mc\u001b[49m\u001b[38;5;241;43m*\u001b[39;49m\u001b[38;5;241;43m4.4\u001b[39;49m \u001b[38;5;66;03m# 이런식으로 정수와 곱하기 가능\u001b[39;00m\n",
      "\u001b[1;31mTypeError\u001b[0m: can't multiply sequence by non-int of type 'float'"
     ]
    }
   ],
   "source": [
    "c*4.4 #실수랑은 안됨."
   ]
  },
  {
   "cell_type": "code",
   "execution_count": 55,
   "id": "85cc141e",
   "metadata": {},
   "outputs": [
    {
     "name": "stdout",
     "output_type": "stream",
     "text": [
      "--------------------------------------------------------------------------------\n",
      "문자\n",
      "=================================================================================\n"
     ]
    }
   ],
   "source": [
    "# -반복해서 줄치고 싶을 때\n",
    "print('-'*80)\n",
    "print(c+d)\n",
    "print(\"=\"*81)"
   ]
  },
  {
   "cell_type": "markdown",
   "id": "7b9eb097",
   "metadata": {},
   "source": [
    "# 문자열 길이 계산 : len"
   ]
  },
  {
   "cell_type": "code",
   "execution_count": 58,
   "id": "ad2e8c0c",
   "metadata": {},
   "outputs": [
    {
     "data": {
      "text/plain": [
       "'문문문문문문문문문문문문문문문문문문문문문문문문문문문문문문문문문문문문문문문문'"
      ]
     },
     "execution_count": 58,
     "metadata": {},
     "output_type": "execute_result"
    }
   ],
   "source": [
    "long_long_char=c*40\n",
    "long_long_char"
   ]
  },
  {
   "cell_type": "code",
   "execution_count": 59,
   "id": "9d703e1c",
   "metadata": {},
   "outputs": [
    {
     "data": {
      "text/plain": [
       "40"
      ]
     },
     "execution_count": 59,
     "metadata": {},
     "output_type": "execute_result"
    }
   ],
   "source": [
    "len(long_long_char) #40자"
   ]
  },
  {
   "cell_type": "markdown",
   "id": "a1108c95",
   "metadata": {},
   "source": [
    "# 인덱싱, 슬라이싱\n",
    "* 인덱싱: 변수명[인덱스번호]\n",
    "* 슬라이싱: 변수명[시작번호:끝번호]"
   ]
  },
  {
   "cell_type": "code",
   "execution_count": 62,
   "id": "712b60d8",
   "metadata": {},
   "outputs": [
    {
     "data": {
      "text/plain": [
       "68"
      ]
     },
     "execution_count": 62,
     "metadata": {},
     "output_type": "execute_result"
    }
   ],
   "source": [
    "len(long_char2) #지금 이 변수는 하나의 상자. 68개의 문자가 들어있는."
   ]
  },
  {
   "cell_type": "markdown",
   "id": "4dad9f53",
   "metadata": {},
   "source": [
    "### 68개의 글자가 아닌점 주의.\n",
    "### 0번부터 67번 중 몇번째 글자를 인덱싱해서 뽑을지 생각한 후"
   ]
  },
  {
   "cell_type": "code",
   "execution_count": null,
   "id": "895a97a1",
   "metadata": {},
   "outputs": [],
   "source": [
    "long_char2[4] #5번째 문자주세요"
   ]
  },
  {
   "cell_type": "code",
   "execution_count": 65,
   "id": "c6ff8ba6",
   "metadata": {},
   "outputs": [
    {
     "data": {
      "text/plain": [
       "'표3'"
      ]
     },
     "execution_count": 65,
     "metadata": {},
     "output_type": "execute_result"
    }
   ],
   "source": [
    "long_char2[2:4] #3번째부터 4번째 주세요"
   ]
  },
  {
   "cell_type": "markdown",
   "id": "2e295cfc",
   "metadata": {},
   "source": [
    "###  str, list, tuple은 인덱싱과 슬라이싱쓰니 개념이해 매우중요\n",
    "#### 문자열코딩에서 고통이 예상됨"
   ]
  },
  {
   "cell_type": "markdown",
   "id": "94b8c919",
   "metadata": {},
   "source": [
    "# 리스트 list\n",
    "* []안의 자료형이 여러개면 리스트.\n",
    "* 가능한 dtype: int, float, str, list, tuple, dict\n",
    "* 순서대로 나열된 형태니 슬라이싱, 인덱싱 가능\n",
    "* 덮어쓰기? 추가삭제가능"
   ]
  },
  {
   "cell_type": "code",
   "execution_count": 67,
   "id": "1fcad9b1",
   "metadata": {},
   "outputs": [
    {
     "data": {
      "text/plain": [
       "[1, 2.1, '삼', [1, 2, 3], (4, 5, 6), {'key': 'value'}]"
      ]
     },
     "execution_count": 67,
     "metadata": {},
     "output_type": "execute_result"
    }
   ],
   "source": [
    "L=[1,2.1,\"삼\",[1,2,3],(4,5,6),{\"key\":\"value\"}] \n",
    "L"
   ]
  },
  {
   "cell_type": "code",
   "execution_count": 68,
   "id": "9028e102",
   "metadata": {},
   "outputs": [
    {
     "name": "stdout",
     "output_type": "stream",
     "text": [
      "[1, 2.1, '삼', [1, 2, 3], (4, 5, 6), {'key': 'value'}]\n"
     ]
    }
   ],
   "source": [
    "print(L) #동일한 점 확인 가능"
   ]
  },
  {
   "cell_type": "code",
   "execution_count": 69,
   "id": "aae3c7ca",
   "metadata": {},
   "outputs": [
    {
     "data": {
      "text/plain": [
       "list"
      ]
     },
     "execution_count": 69,
     "metadata": {},
     "output_type": "execute_result"
    }
   ],
   "source": [
    "type(L)"
   ]
  },
  {
   "cell_type": "code",
   "execution_count": null,
   "id": "b3757a0a",
   "metadata": {},
   "outputs": [],
   "source": [
    "#  그럼 구성요소를 바꾸면 언제 리스트에서 바뀌나?"
   ]
  },
  {
   "cell_type": "code",
   "execution_count": 74,
   "id": "045300cb",
   "metadata": {},
   "outputs": [
    {
     "data": {
      "text/plain": [
       "{'key': 'value'}"
      ]
     },
     "execution_count": 74,
     "metadata": {},
     "output_type": "execute_result"
    }
   ],
   "source": [
    "L[5]"
   ]
  },
  {
   "attachments": {
    "image.png": {
     "image/png": "[encoded data removed]"
    }
   },
   "cell_type": "markdown",
   "id": "8c89f515",
   "metadata": {},
   "source": [
    "![image.png](attachment:image.png)\n",
    "주의할것."
   ]
  },
  {
   "cell_type": "markdown",
   "id": "f12ab57c",
   "metadata": {},
   "source": [
    "#### list의 자료형은 계속 바뀔 수 있어 dtype자주 체크해줄것\n",
    "#### L이란 리스트안의 리스트에서 하나를 뽑으려면?"
   ]
  },
  {
   "cell_type": "code",
   "execution_count": 75,
   "id": "4dffc831",
   "metadata": {},
   "outputs": [
    {
     "name": "stderr",
     "output_type": "stream",
     "text": [
      "<>:1: SyntaxWarning: 'int' object is not subscriptable; perhaps you missed a comma?\n",
      "<>:1: SyntaxWarning: 'int' object is not subscriptable; perhaps you missed a comma?\n",
      "C:\\Users\\Admin\\AppData\\Local\\Temp\\ipykernel_15840\\2442689074.py:1: SyntaxWarning: 'int' object is not subscriptable; perhaps you missed a comma?\n",
      "  L[3[3]]\n",
      "C:\\Users\\Admin\\AppData\\Local\\Temp\\ipykernel_15840\\2442689074.py:1: SyntaxWarning: 'int' object is not subscriptable; perhaps you missed a comma?\n",
      "  L[3[3]]\n",
      "C:\\Users\\Admin\\AppData\\Local\\Temp\\ipykernel_15840\\2442689074.py:1: SyntaxWarning: 'int' object is not subscriptable; perhaps you missed a comma?\n",
      "  L[3[3]]\n",
      "C:\\Users\\Admin\\AppData\\Local\\Temp\\ipykernel_15840\\2442689074.py:1: SyntaxWarning: 'int' object is not subscriptable; perhaps you missed a comma?\n",
      "  L[3[3]]\n"
     ]
    },
    {
     "ename": "TypeError",
     "evalue": "'int' object is not subscriptable",
     "output_type": "error",
     "traceback": [
      "\u001b[1;31m---------------------------------------------------------------------------\u001b[0m",
      "\u001b[1;31mTypeError\u001b[0m                                 Traceback (most recent call last)",
      "Cell \u001b[1;32mIn[75], line 1\u001b[0m\n\u001b[1;32m----> 1\u001b[0m L[\u001b[38;5;241;43m3\u001b[39;49m\u001b[43m[\u001b[49m\u001b[38;5;241;43m3\u001b[39;49m\u001b[43m]\u001b[49m]\n",
      "\u001b[1;31mTypeError\u001b[0m: 'int' object is not subscriptable"
     ]
    }
   ],
   "source": [
    "#이거 안되지\n",
    "\n",
    "L[3[3]] \n"
   ]
  },
  {
   "cell_type": "code",
   "execution_count": 79,
   "id": "d45f522c",
   "metadata": {},
   "outputs": [
    {
     "data": {
      "text/plain": [
       "3"
      ]
     },
     "execution_count": 79,
     "metadata": {},
     "output_type": "execute_result"
    }
   ],
   "source": [
    "L[3][2]"
   ]
  },
  {
   "cell_type": "markdown",
   "id": "a4c7c4ae",
   "metadata": {},
   "source": [
    "####  중첩리스트"
   ]
  },
  {
   "cell_type": "code",
   "execution_count": 105,
   "id": "c266fd13",
   "metadata": {},
   "outputs": [
    {
     "name": "stdout",
     "output_type": "stream",
     "text": [
      "4 ::: [0, 1, 2, [4, 5, [6, 7, 8, [9, 10]]]]\n"
     ]
    }
   ],
   "source": [
    "l2=[0,1,2,[4,5,[6,7,8,[9,10]]]]\n",
    "print(len(l2),':::',l2)"
   ]
  },
  {
   "cell_type": "code",
   "execution_count": 89,
   "id": "8d0a3a4f",
   "metadata": {},
   "outputs": [
    {
     "data": {
      "text/plain": [
       "[0, 1, 2]"
      ]
     },
     "execution_count": 89,
     "metadata": {},
     "output_type": "execute_result"
    }
   ],
   "source": [
    "l2[0:3]"
   ]
  },
  {
   "cell_type": "code",
   "execution_count": 91,
   "id": "2a4db684",
   "metadata": {},
   "outputs": [
    {
     "data": {
      "text/plain": [
       "4"
      ]
     },
     "execution_count": 91,
     "metadata": {},
     "output_type": "execute_result"
    }
   ],
   "source": [
    "l2[3][0]"
   ]
  },
  {
   "cell_type": "code",
   "execution_count": 100,
   "id": "539c8f39",
   "metadata": {},
   "outputs": [
    {
     "data": {
      "text/plain": [
       "9"
      ]
     },
     "execution_count": 100,
     "metadata": {},
     "output_type": "execute_result"
    }
   ],
   "source": [
    "# 9를 뽑고 싶을때\n",
    "l2[3][2][3][0]"
   ]
  },
  {
   "cell_type": "markdown",
   "id": "7304fd6c",
   "metadata": {},
   "source": [
    "#### 나혼자 따로해본 중첩리스트 인덱싱 \n",
    "##### 개수대로 찍어주고 마지막에 원하는 값의 번호 찍기."
   ]
  },
  {
   "cell_type": "code",
   "execution_count": 104,
   "id": "b77bb63c",
   "metadata": {},
   "outputs": [
    {
     "data": {
      "text/plain": [
       "12"
      ]
     },
     "execution_count": 104,
     "metadata": {},
     "output_type": "execute_result"
    }
   ],
   "source": [
    "ll=[0,1,[2,3,[4,5,6,7,[8,9,10,[11,12]]]]]\n",
    "ll[2][2][4][3][1]"
   ]
  },
  {
   "cell_type": "code",
   "execution_count": 108,
   "id": "cbb880c1",
   "metadata": {},
   "outputs": [
    {
     "name": "stdout",
     "output_type": "stream",
     "text": [
      "[0, 1, 2, [4, 5, [6, 7, 8, [9, 10]]], 'append', 'append', 'append']\n"
     ]
    }
   ],
   "source": [
    "# 리스트에 추가/삭제 .한번추가하면 기억한다.\n",
    "l2.append('append')\n",
    "print(l2)"
   ]
  },
  {
   "cell_type": "code",
   "execution_count": 109,
   "id": "3e2aa1cf",
   "metadata": {},
   "outputs": [
    {
     "data": {
      "text/plain": [
       "[0,\n",
       " 1,\n",
       " 2,\n",
       " [4, 5, [6, 7, 8, [9, 10]]],\n",
       " 'append',\n",
       " 'append',\n",
       " 'append',\n",
       " [15, 14, 13]]"
      ]
     },
     "execution_count": 109,
     "metadata": {},
     "output_type": "execute_result"
    }
   ],
   "source": [
    "l2.append([15,14,13])\n",
    "l2"
   ]
  },
  {
   "cell_type": "code",
   "execution_count": 112,
   "id": "7e2b498e",
   "metadata": {},
   "outputs": [
    {
     "data": {
      "text/plain": [
       "[0, 1, 2, [4, 5, [6, 7, 8, [9, 10]]], 'append', [15, 14, 13]]"
      ]
     },
     "execution_count": 112,
     "metadata": {},
     "output_type": "execute_result"
    }
   ],
   "source": [
    "del l2[4:5]\n",
    "l2"
   ]
  },
  {
   "cell_type": "markdown",
   "id": "6e72490c",
   "metadata": {},
   "source": [
    "# Tuple 튜플\n",
    "* 수정이 안되는 (리스트)\n",
    "* 모든 dtype을 받음\n",
    "* 리스트와 동일하게 인덱싱, 슬라이싱 받음\n",
    "* 튜플로 돌리는게 코드실행이 약간 더 빠름"
   ]
  },
  {
   "cell_type": "code",
   "execution_count": 116,
   "id": "2d7ac2de",
   "metadata": {},
   "outputs": [
    {
     "name": "stdout",
     "output_type": "stream",
     "text": [
      "(1,) <class 'tuple'>\n"
     ]
    }
   ],
   "source": [
    "t=(1,)\n",
    "print(t, type(t))"
   ]
  },
  {
   "cell_type": "code",
   "execution_count": 118,
   "id": "f6c7bbf3",
   "metadata": {},
   "outputs": [
    {
     "data": {
      "text/plain": [
       "(10, 34.5, 'tuple', [1, 2, 3], (6, 7, 8), {'key': 'value'})"
      ]
     },
     "execution_count": 118,
     "metadata": {},
     "output_type": "execute_result"
    }
   ],
   "source": [
    "t2=(10, 34.5, 'tuple', [1,2,3],(6,7,8),{'key':\"value\"})\n",
    "t2"
   ]
  },
  {
   "cell_type": "code",
   "execution_count": 121,
   "id": "7a072cf5",
   "metadata": {},
   "outputs": [
    {
     "data": {
      "text/plain": [
       "6"
      ]
     },
     "execution_count": 121,
     "metadata": {},
     "output_type": "execute_result"
    }
   ],
   "source": [
    "t2[4][0]"
   ]
  },
  {
   "cell_type": "code",
   "execution_count": 124,
   "id": "9243264f",
   "metadata": {},
   "outputs": [
    {
     "data": {
      "text/plain": [
       "((6, 7, 8), {'key': 'value'})"
      ]
     },
     "execution_count": 124,
     "metadata": {},
     "output_type": "execute_result"
    }
   ],
   "source": [
    "t2[4:6] #쌍따옴표도 가져올땐 달라지네..."
   ]
  },
  {
   "cell_type": "code",
   "execution_count": 127,
   "id": "5ee94870",
   "metadata": {},
   "outputs": [
    {
     "data": {
      "text/plain": [
       "3"
      ]
     },
     "execution_count": 127,
     "metadata": {},
     "output_type": "execute_result"
    }
   ],
   "source": [
    "t3=(0,1,2,3,(4,5,6,[7,8,(9,10)]))\n",
    "t3[3]"
   ]
  },
  {
   "cell_type": "code",
   "execution_count": 128,
   "id": "a4d1555e",
   "metadata": {},
   "outputs": [
    {
     "data": {
      "text/plain": [
       "9"
      ]
     },
     "execution_count": 128,
     "metadata": {},
     "output_type": "execute_result"
    }
   ],
   "source": [
    "t3[4][3][2][0]"
   ]
  },
  {
   "cell_type": "code",
   "execution_count": 132,
   "id": "8d26ac4c",
   "metadata": {},
   "outputs": [
    {
     "name": "stdout",
     "output_type": "stream",
     "text": [
      "t3의 type: <class 'tuple'>\n",
      "t3[3]의 type: <class 'tuple'>\n",
      "t3[3][3]의 type: <class 'list'>\n",
      "t3[3][3][3]의 type: <class 'tuple'>\n"
     ]
    }
   ],
   "source": [
    "print('t3의 type:', type(t3))\n",
    "print('t3[3]의 type:', type(t3[4]))\n",
    "print('t3[3][3]의 type:', type(t3[4][3]))\n",
    "print('t3[3][3][3]의 type:', type(t3[4][3][2]))"
   ]
  },
  {
   "cell_type": "code",
   "execution_count": 133,
   "id": "46993bfb",
   "metadata": {},
   "outputs": [
    {
     "ename": "AttributeError",
     "evalue": "'tuple' object has no attribute 'append'",
     "output_type": "error",
     "traceback": [
      "\u001b[1;31m---------------------------------------------------------------------------\u001b[0m",
      "\u001b[1;31mAttributeError\u001b[0m                            Traceback (most recent call last)",
      "Cell \u001b[1;32mIn[133], line 1\u001b[0m\n\u001b[1;32m----> 1\u001b[0m \u001b[43mt3\u001b[49m\u001b[38;5;241;43m.\u001b[39;49m\u001b[43mappend\u001b[49m(\u001b[38;5;124m'\u001b[39m\u001b[38;5;124m추가요\u001b[39m\u001b[38;5;124m'\u001b[39m)\n",
      "\u001b[1;31mAttributeError\u001b[0m: 'tuple' object has no attribute 'append'"
     ]
    }
   ],
   "source": [
    "t3.append('추가요') #에러남 append 함수가 튜플한테 없다고 나옴"
   ]
  },
  {
   "attachments": {
    "image.png": {
     "image/png": "[encoded data removed]"
    }
   },
   "cell_type": "markdown",
   "id": "b166ba50",
   "metadata": {},
   "source": [
    "# 딕셔너리형 dict = JSON\n",
    "## {'key':'value'} 형태\n",
    "* value에 모든 dtype 허용\n",
    "* 순서 없는 자료형 != list, tuple\n",
    "* 키를 통해 출력하는 방식\n",
    "* 웹에서 데이터 주고받을 때 주로사용\n",
    "* API 통해서 크롤링할 때 딕셔너리 형태로 받게됨\n",
    "* 구조파악이 어려울정도로 중첩딗이 있을경우 JSON포매터 통해서 파악가능.\n",
    "![image.png](attachment:image.png)"
   ]
  },
  {
   "cell_type": "code",
   "execution_count": 137,
   "id": "6339b716",
   "metadata": {},
   "outputs": [
    {
     "data": {
      "text/plain": [
       "{'번호': '12번',\n",
       " '이름': '홈길동',\n",
       " '나이': 33,\n",
       " '키': 175.444,\n",
       " '가족': ['둘리', '또치', '희동이', '도우너']}"
      ]
     },
     "execution_count": 137,
     "metadata": {},
     "output_type": "execute_result"
    }
   ],
   "source": [
    "dic1={\"번호\":\"12번\",'이름':'홈길동',\"나이\":33,'키':175.444,\"가족\":['둘리','또치','희동이','도우너']}\n",
    "dic1"
   ]
  },
  {
   "cell_type": "code",
   "execution_count": 138,
   "id": "e0bacb26",
   "metadata": {},
   "outputs": [
    {
     "name": "stdout",
     "output_type": "stream",
     "text": [
      "{'번호': '12번', '이름': '홈길동', '나이': 33, '키': 175.444, '가족': ['둘리', '또치', '희동이', '도우너']}\n"
     ]
    }
   ],
   "source": [
    "print(dic1) # 똑같"
   ]
  },
  {
   "cell_type": "code",
   "execution_count": 142,
   "id": "b39b26dc",
   "metadata": {},
   "outputs": [
    {
     "name": "stdout",
     "output_type": "stream",
     "text": [
      "12번 홈길동\n"
     ]
    }
   ],
   "source": [
    "print(dic1['번호'], dic1['이름'])"
   ]
  },
  {
   "cell_type": "code",
   "execution_count": 147,
   "id": "4812e74b",
   "metadata": {},
   "outputs": [
    {
     "data": {
      "text/plain": [
       "5"
      ]
     },
     "execution_count": 147,
     "metadata": {},
     "output_type": "execute_result"
    }
   ],
   "source": [
    "len(dic1) # key의 개수"
   ]
  },
  {
   "cell_type": "code",
   "execution_count": 148,
   "id": "4bd371dd",
   "metadata": {},
   "outputs": [
    {
     "ename": "KeyError",
     "evalue": "3",
     "output_type": "error",
     "traceback": [
      "\u001b[1;31m---------------------------------------------------------------------------\u001b[0m",
      "\u001b[1;31mKeyError\u001b[0m                                  Traceback (most recent call last)",
      "Cell \u001b[1;32mIn[148], line 1\u001b[0m\n\u001b[1;32m----> 1\u001b[0m \u001b[43mdic1\u001b[49m\u001b[43m[\u001b[49m\u001b[38;5;241;43m3\u001b[39;49m\u001b[43m]\u001b[49m\n",
      "\u001b[1;31mKeyError\u001b[0m: 3"
     ]
    }
   ],
   "source": [
    "dic1[3] #이런식으로는 안됨. 순서가 없기때문."
   ]
  },
  {
   "cell_type": "markdown",
   "id": "d5417df7",
   "metadata": {},
   "source": [
    "##### 더 중첩가능  - 다시보기 하면서 파악좀 다시"
   ]
  },
  {
   "cell_type": "code",
   "execution_count": 146,
   "id": "b6470c4b",
   "metadata": {},
   "outputs": [
    {
     "ename": "KeyError",
     "evalue": "4",
     "output_type": "error",
     "traceback": [
      "\u001b[1;31m---------------------------------------------------------------------------\u001b[0m",
      "\u001b[1;31mKeyError\u001b[0m                                  Traceback (most recent call last)",
      "Cell \u001b[1;32mIn[146], line 2\u001b[0m\n\u001b[0;32m      1\u001b[0m dicdic\u001b[38;5;241m=\u001b[39m{\u001b[38;5;124m'\u001b[39m\u001b[38;5;124m신장\u001b[39m\u001b[38;5;124m'\u001b[39m:[\u001b[38;5;241m130\u001b[39m,\u001b[38;5;241m120\u001b[39m,\u001b[38;5;241m150\u001b[39m]}\n\u001b[1;32m----> 2\u001b[0m dic2\u001b[38;5;241m=\u001b[39m \u001b[43mdic1\u001b[49m\u001b[43m[\u001b[49m\u001b[38;5;241;43m4\u001b[39;49m\u001b[43m]\u001b[49m\u001b[38;5;241m+\u001b[39mdicdic\n",
      "\u001b[1;31mKeyError\u001b[0m: 4"
     ]
    }
   ],
   "source": [
    "# 아 이건안되네...\n",
    "dicdic={'신장':[130,120,150]}\n",
    "dic2= dic1[4]+dicdic"
   ]
  },
  {
   "cell_type": "code",
   "execution_count": 157,
   "id": "16b85b36",
   "metadata": {},
   "outputs": [],
   "source": [
    "dic2={'번호': '12번', \n",
    "      '이름': '홈길동', \n",
    "      '나이': 33, '키': 175.444, \n",
    "      '가족': ['둘리', '또치', '희동이', '도우너',\n",
    "             {'신장':[130, 120, 150]}]}"
   ]
  },
  {
   "cell_type": "code",
   "execution_count": 159,
   "id": "d14199c1",
   "metadata": {},
   "outputs": [
    {
     "name": "stdout",
     "output_type": "stream",
     "text": [
      "dic2['가족']: <class 'list'>\n"
     ]
    }
   ],
   "source": [
    "print(\"dic2['가족']:\", type(dic2['가족']))"
   ]
  },
  {
   "cell_type": "code",
   "execution_count": 161,
   "id": "fdc9b325",
   "metadata": {},
   "outputs": [
    {
     "data": {
      "text/plain": [
       "120"
      ]
     },
     "execution_count": 161,
     "metadata": {},
     "output_type": "execute_result"
    }
   ],
   "source": [
    "#리스트인 부분에서는 인덱싱 활용\n",
    "dic2['가족'][4]['신장'][1]"
   ]
  },
  {
   "cell_type": "markdown",
   "id": "e25eace6",
   "metadata": {},
   "source": [
    "##### 딕셔너리에 자료추가"
   ]
  },
  {
   "cell_type": "code",
   "execution_count": 167,
   "id": "191647a2",
   "metadata": {},
   "outputs": [
    {
     "data": {
      "text/plain": [
       "{'이름': ['홍길동', '둘리', '또치'],\n",
       " '나이': (33, 12, 14),\n",
       " '성별': ('남', '남', '여'),\n",
       " '주소': ['서울', '남극', '아프리카']}"
      ]
     },
     "execution_count": 167,
     "metadata": {},
     "output_type": "execute_result"
    }
   ],
   "source": [
    "# 새로운 딕셔너리 먼저 만들기\n",
    "dic3={'이름':['홍길동','둘리','또치'],\n",
    "      '나이':(33, 12, 14),\n",
    "      '성별':('남','남','여'), '주소':['서울','남극','아프리카']     }\n",
    "\n",
    "dic3 # 이모양은 마치 엑셀의 테이블과 비슷함"
   ]
  },
  {
   "cell_type": "code",
   "execution_count": 173,
   "id": "e9cc1e81",
   "metadata": {},
   "outputs": [
    {
     "name": "stdout",
     "output_type": "stream",
     "text": [
      "Requirement already satisfied: pandas in c:\\users\\admin\\miniforge3\\envs\\fintech\\lib\\site-packages (2.2.3)\n",
      "Requirement already satisfied: numpy>=1.22.4 in c:\\users\\admin\\miniforge3\\envs\\fintech\\lib\\site-packages (from pandas) (2.0.2)\n",
      "Requirement already satisfied: python-dateutil>=2.8.2 in c:\\users\\admin\\miniforge3\\envs\\fintech\\lib\\site-packages (from pandas) (2.9.0.post0)\n",
      "Requirement already satisfied: pytz>=2020.1 in c:\\users\\admin\\miniforge3\\envs\\fintech\\lib\\site-packages (from pandas) (2025.1)\n",
      "Requirement already satisfied: tzdata>=2022.7 in c:\\users\\admin\\miniforge3\\envs\\fintech\\lib\\site-packages (from pandas) (2025.1)\n",
      "Requirement already satisfied: six>=1.5 in c:\\users\\admin\\miniforge3\\envs\\fintech\\lib\\site-packages (from python-dateutil>=2.8.2->pandas) (1.17.0)\n"
     ]
    }
   ],
   "source": [
    "!pip install pandas # 간단하게 판다스 인스톨"
   ]
  },
  {
   "cell_type": "code",
   "execution_count": 174,
   "id": "54d53d9d",
   "metadata": {},
   "outputs": [],
   "source": [
    "import pandas as pd"
   ]
  },
  {
   "cell_type": "code",
   "execution_count": 175,
   "id": "b628e948",
   "metadata": {},
   "outputs": [
    {
     "data": {
      "text/html": [
       "<div>\n",
       "<style scoped>\n",
       "    .dataframe tbody tr th:only-of-type {\n",
       "        vertical-align: middle;\n",
       "    }\n",
       "\n",
       "    .dataframe tbody tr th {\n",
       "        vertical-align: top;\n",
       "    }\n",
       "\n",
       "    .dataframe thead th {\n",
       "        text-align: right;\n",
       "    }\n",
       "</style>\n",
       "<table border=\"1\" class=\"dataframe\">\n",
       "  <thead>\n",
       "    <tr style=\"text-align: right;\">\n",
       "      <th></th>\n",
       "      <th>이름</th>\n",
       "      <th>나이</th>\n",
       "      <th>성별</th>\n",
       "      <th>주소</th>\n",
       "    </tr>\n",
       "  </thead>\n",
       "  <tbody>\n",
       "    <tr>\n",
       "      <th>0</th>\n",
       "      <td>홍길동</td>\n",
       "      <td>33</td>\n",
       "      <td>남</td>\n",
       "      <td>서울</td>\n",
       "    </tr>\n",
       "    <tr>\n",
       "      <th>1</th>\n",
       "      <td>둘리</td>\n",
       "      <td>12</td>\n",
       "      <td>남</td>\n",
       "      <td>남극</td>\n",
       "    </tr>\n",
       "    <tr>\n",
       "      <th>2</th>\n",
       "      <td>또치</td>\n",
       "      <td>14</td>\n",
       "      <td>여</td>\n",
       "      <td>아프리카</td>\n",
       "    </tr>\n",
       "  </tbody>\n",
       "</table>\n",
       "</div>"
      ],
      "text/plain": [
       "    이름  나이 성별    주소\n",
       "0  홍길동  33  남    서울\n",
       "1   둘리  12  남    남극\n",
       "2   또치  14  여  아프리카"
      ]
     },
     "execution_count": 175,
     "metadata": {},
     "output_type": "execute_result"
    }
   ],
   "source": [
    "df = pd.DataFrame(dic3)\n",
    "df"
   ]
  },
  {
   "cell_type": "code",
   "execution_count": null,
   "id": "fa3e5c78",
   "metadata": {},
   "outputs": [],
   "source": []
  },
  {
   "cell_type": "code",
   "execution_count": null,
   "id": "5a9abf96",
   "metadata": {},
   "outputs": [],
   "source": []
  },
  {
   "cell_type": "code",
   "execution_count": null,
   "id": "9b414639",
   "metadata": {},
   "outputs": [],
   "source": []
  },
  {
   "cell_type": "code",
   "execution_count": null,
   "id": "f3ddb3cf",
   "metadata": {},
   "outputs": [],
   "source": []
  },
  {
   "cell_type": "code",
   "execution_count": null,
   "id": "887ab424",
   "metadata": {},
   "outputs": [],
   "source": []
  },
  {
   "cell_type": "code",
   "execution_count": null,
   "id": "788da86a",
   "metadata": {},
   "outputs": [],
   "source": []
  },
  {
   "cell_type": "code",
   "execution_count": null,
   "id": "689d3003",
   "metadata": {},
   "outputs": [],
   "source": []
  }
 ],
 "metadata": {
  "kernelspec": {
   "display_name": "Python 3 (ipykernel)",
   "language": "python",
   "name": "python3"
  },
  "language_info": {
   "codemirror_mode": {
    "name": "ipython",
    "version": 3
   },
   "file_extension": ".py",
   "mimetype": "text/x-python",
   "name": "python",
   "nbconvert_exporter": "python",
   "pygments_lexer": "ipython3",
   "version": "3.9.21"
  }
 },
 "nbformat": 4,
 "nbformat_minor": 5
}
