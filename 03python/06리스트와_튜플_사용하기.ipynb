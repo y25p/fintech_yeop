{
 "cells": [
  {
   "cell_type": "markdown",
   "id": "ac07cd51",
   "metadata": {},
   "source": [
    "# 리스트와 튜플 사용하기 초급\n",
    "- 리스트는 모든 자료형을 받으니 속도가 좀 느림"
   ]
  },
  {
   "cell_type": "code",
   "execution_count": 1,
   "id": "9aa33086",
   "metadata": {},
   "outputs": [],
   "source": [
    "a = 1\n",
    "b = 2\n",
    "c = 3\n",
    "d = 4\n",
    "# 리스트를 이용해 이런 자료들을 변수 하나에 묶음"
   ]
  },
  {
   "cell_type": "code",
   "execution_count": 3,
   "id": "6db7615b",
   "metadata": {},
   "outputs": [],
   "source": [
    "l=[1,2,'python',3.0,[4,5,6],(7,8,\" 리스트\"), True, False]"
   ]
  },
  {
   "cell_type": "code",
   "execution_count": 4,
   "id": "049b44c0",
   "metadata": {},
   "outputs": [
    {
     "data": {
      "text/plain": [
       "list"
      ]
     },
     "execution_count": 4,
     "metadata": {},
     "output_type": "execute_result"
    }
   ],
   "source": [
    "type(l) "
   ]
  },
  {
   "cell_type": "markdown",
   "id": "921f6d3c",
   "metadata": {},
   "source": [
    "# 리스트 만드는 규칙\n",
    "- []대괄호 안에 나열\n",
    "- 내용이 비어있는 리스트도 생성 가능\n",
    "- 자료가 1개만 있는 리스트도 생성 가능"
   ]
  },
  {
   "cell_type": "code",
   "execution_count": 5,
   "id": "abb0a9ce",
   "metadata": {},
   "outputs": [
    {
     "name": "stdout",
     "output_type": "stream",
     "text": [
      "[] <class 'list'>\n"
     ]
    }
   ],
   "source": [
    "l2=[] #빈 리스트도 리스트\n",
    "print(l2, type(l2))"
   ]
  },
  {
   "cell_type": "code",
   "execution_count": 7,
   "id": "47cc77ea",
   "metadata": {},
   "outputs": [
    {
     "name": "stdout",
     "output_type": "stream",
     "text": [
      "[1] <class 'list'>\n"
     ]
    }
   ],
   "source": [
    "l3=[1] #값이 하나만 있어도 리스트임\n",
    "print(l3,type(l3))"
   ]
  },
  {
   "cell_type": "markdown",
   "id": "6f9685b2",
   "metadata": {},
   "source": [
    "## 리스트 형변환 함수) list()\n",
    "- 연속된 자료형을 리스트로 변환"
   ]
  },
  {
   "cell_type": "code",
   "execution_count": 8,
   "id": "7aaaee3d",
   "metadata": {},
   "outputs": [
    {
     "data": {
      "text/plain": [
       "range(1, 10)"
      ]
     },
     "execution_count": 8,
     "metadata": {},
     "output_type": "execute_result"
    }
   ],
   "source": [
    "range(1,10)"
   ]
  },
  {
   "cell_type": "code",
   "execution_count": 9,
   "id": "02b01183",
   "metadata": {},
   "outputs": [
    {
     "data": {
      "text/plain": [
       "range"
      ]
     },
     "execution_count": 9,
     "metadata": {},
     "output_type": "execute_result"
    }
   ],
   "source": [
    "type(range(1,10))"
   ]
  },
  {
   "cell_type": "code",
   "execution_count": 10,
   "id": "26eb7047",
   "metadata": {},
   "outputs": [
    {
     "data": {
      "text/plain": [
       "[1, 2, 3, 4, 5, 6, 7, 8, 9]"
      ]
     },
     "execution_count": 10,
     "metadata": {},
     "output_type": "execute_result"
    }
   ],
   "source": [
    "list(range(1,10)) #1부터 10전까지 생성조건 이지만 객체여서 리스트화 해야보임."
   ]
  },
  {
   "cell_type": "code",
   "execution_count": 12,
   "id": "5b50c5b8",
   "metadata": {},
   "outputs": [
    {
     "data": {
      "text/plain": [
       "(1, 2, 3)"
      ]
     },
     "execution_count": 12,
     "metadata": {},
     "output_type": "execute_result"
    }
   ],
   "source": [
    "tuple(range(1,4)) # 튜플도 가능하네"
   ]
  },
  {
   "cell_type": "markdown",
   "id": "0269e0e9",
   "metadata": {},
   "source": [
    "### 키오브젝트 벨류오브젝트 같은 존재들은 리스트화 해야 사용할 수 있음"
   ]
  },
  {
   "cell_type": "markdown",
   "id": "370f90f5",
   "metadata": {},
   "source": [
    "## 숫자를 생성해주는 range()\n",
    "- range(시작번호, 끝번호+1, step)"
   ]
  },
  {
   "cell_type": "code",
   "execution_count": 14,
   "id": "8a434f02",
   "metadata": {},
   "outputs": [
    {
     "data": {
      "text/plain": [
       "[1, 3, 5, 7, 9]"
      ]
     },
     "execution_count": 14,
     "metadata": {},
     "output_type": "execute_result"
    }
   ],
   "source": [
    "list(range(1,11,2))"
   ]
  },
  {
   "cell_type": "code",
   "execution_count": 15,
   "id": "62ccc660",
   "metadata": {},
   "outputs": [
    {
     "data": {
      "text/plain": [
       "[4, 8, 12, 16, 20, 24, 28]"
      ]
     },
     "execution_count": 15,
     "metadata": {},
     "output_type": "execute_result"
    }
   ],
   "source": [
    "# 4의배수 리스트\n",
    "list(range(4,30,4)) #4의배수니까 4부터 시작인점"
   ]
  },
  {
   "cell_type": "code",
   "execution_count": 17,
   "id": "906f2f2b",
   "metadata": {},
   "outputs": [
    {
     "data": {
      "text/plain": [
       "[30, 26, 22, 18, 14, 10, 6, 2]"
      ]
     },
     "execution_count": 17,
     "metadata": {},
     "output_type": "execute_result"
    }
   ],
   "source": [
    "# 내림차순가능\n",
    "list(range(30,1,-4)) "
   ]
  },
  {
   "cell_type": "markdown",
   "id": "d0aa9cb4",
   "metadata": {},
   "source": [
    "## 리스트에 자료 추가하기) .append()\n",
    "- 리스트변수.append()"
   ]
  },
  {
   "cell_type": "code",
   "execution_count": 19,
   "id": "97f6def8",
   "metadata": {},
   "outputs": [
    {
     "data": {
      "text/plain": [
       "[1, 2, 'python', 3.0, [4, 5, 6], (7, 8, ' 리스트'), True, False, 3.5, 3.5]"
      ]
     },
     "execution_count": 19,
     "metadata": {},
     "output_type": "execute_result"
    }
   ],
   "source": [
    "l.append(3.5)\n",
    "l"
   ]
  },
  {
   "cell_type": "code",
   "execution_count": 21,
   "id": "1cda87f2",
   "metadata": {},
   "outputs": [
    {
     "data": {
      "text/plain": [
       "[1,\n",
       " 2,\n",
       " 'python',\n",
       " 3.0,\n",
       " [4, 5, 6],\n",
       " (7, 8, ' 리스트'),\n",
       " True,\n",
       " False,\n",
       " 3.5,\n",
       " 3.5,\n",
       " [9, 10, 11],\n",
       " [9, 10, 11]]"
      ]
     },
     "execution_count": 21,
     "metadata": {},
     "output_type": "execute_result"
    }
   ],
   "source": [
    "l.append([9,10,11]) \n",
    "# 튜플넣으면 튜플, 리스트넣으면 리스트 들어감\n",
    "l"
   ]
  },
  {
   "cell_type": "markdown",
   "id": "8e6e77f9",
   "metadata": {},
   "source": [
    "** 중간에 삽입할 방법은 전처럼 split을 써서 자르고 넣어야할까?"
   ]
  },
  {
   "cell_type": "markdown",
   "id": "5e47ca9b",
   "metadata": {},
   "source": [
    "## 중간에 원하는 부분에 자료를 추가하고 싶을때) .insert\n",
    "- .insert(추가할 위치번호, 추가할 값)\n",
    "- index 2번자리에 넣고 나머지는 뒤로 밀린다\n",
    "- dtype 형식이 유지됨."
   ]
  },
  {
   "cell_type": "code",
   "execution_count": 22,
   "id": "2e2698cf",
   "metadata": {},
   "outputs": [
    {
     "data": {
      "text/plain": [
       "[1,\n",
       " 2,\n",
       " 3,\n",
       " 'python',\n",
       " 3.0,\n",
       " [4, 5, 6],\n",
       " (7, 8, ' 리스트'),\n",
       " True,\n",
       " False,\n",
       " 3.5,\n",
       " 3.5,\n",
       " [9, 10, 11],\n",
       " [9, 10, 11]]"
      ]
     },
     "execution_count": 22,
     "metadata": {},
     "output_type": "execute_result"
    }
   ],
   "source": [
    "# 인덱스 2번에 정수 3넣기\n",
    "l.insert(2,3)\n",
    "l"
   ]
  },
  {
   "cell_type": "code",
   "execution_count": 23,
   "id": "c9bec7d6",
   "metadata": {},
   "outputs": [
    {
     "data": {
      "text/plain": [
       "[1,\n",
       " 2,\n",
       " '삼',\n",
       " 3,\n",
       " 'python',\n",
       " 3.0,\n",
       " [4, 5, 6],\n",
       " (7, 8, ' 리스트'),\n",
       " True,\n",
       " False,\n",
       " 3.5,\n",
       " 3.5,\n",
       " [9, 10, 11],\n",
       " [9, 10, 11]]"
      ]
     },
     "execution_count": 23,
     "metadata": {},
     "output_type": "execute_result"
    }
   ],
   "source": [
    "l.insert(2,\"삼\")\n",
    "l #나중에 할 수록 뒤로 밀린다"
   ]
  },
  {
   "cell_type": "markdown",
   "id": "665a81e3",
   "metadata": {},
   "source": [
    "## 리스트의 자료 삭제하기\n",
    "- del변수명[인덱스번호] : 해당번호가 삭제됨\n",
    "- .pop() : 리스트의 가장 끝 자료가 출력되면서 삭제됨.\n",
    "- .remove(값) : 값과 일치하는 것 삭제. 인덱스 번호넣으면 안됨.\n",
    "- remove는 만약 3을 검색했을때 3.0이있으면 실수여도 지워짐\n",
    "** 리무브에 펑츄에이션 쓸수있나??"
   ]
  },
  {
   "cell_type": "code",
   "execution_count": 25,
   "id": "87474196",
   "metadata": {},
   "outputs": [
    {
     "data": {
      "text/plain": [
       "[1,\n",
       " 2,\n",
       " '삼',\n",
       " 3,\n",
       " 'python',\n",
       " 3.0,\n",
       " [4, 5, 6],\n",
       " True,\n",
       " False,\n",
       " 3.5,\n",
       " 3.5,\n",
       " [9, 10, 11],\n",
       " [9, 10, 11]]"
      ]
     },
     "execution_count": 25,
     "metadata": {},
     "output_type": "execute_result"
    }
   ],
   "source": [
    "del l[7]\n",
    "l # 삭제후 반드시 결과 확인할것."
   ]
  },
  {
   "cell_type": "code",
   "execution_count": 26,
   "id": "e44b51a0",
   "metadata": {},
   "outputs": [
    {
     "data": {
      "text/plain": [
       "[9, 10, 11]"
      ]
     },
     "execution_count": 26,
     "metadata": {},
     "output_type": "execute_result"
    }
   ],
   "source": [
    "# pop은 사용과 동시에 삭제하려는 값 출력됨\n",
    "l.pop() # 지정 안하면 가장 마지막 값을 삭제함(인덱스-1번인점)"
   ]
  },
  {
   "cell_type": "code",
   "execution_count": 28,
   "id": "748f246c",
   "metadata": {},
   "outputs": [],
   "source": [
    "l.remove(3.5)\n",
    "#remove는 값을 지정한대로 지워줌. 중복될경우 앞에있는것만 지움"
   ]
  },
  {
   "cell_type": "code",
   "execution_count": 29,
   "id": "8cc97950",
   "metadata": {},
   "outputs": [
    {
     "data": {
      "text/plain": [
       "[1, 2, '삼', 3, 'python', 3.0, [4, 5, 6], True, False, 3.5, [9, 10, 11]]"
      ]
     },
     "execution_count": 29,
     "metadata": {},
     "output_type": "execute_result"
    }
   ],
   "source": [
    "l # 3.5가 두번나오던거 하나 지웠음 "
   ]
  },
  {
   "cell_type": "markdown",
   "id": "129e9371",
   "metadata": {},
   "source": [
    "# 리스트를 확장하기).extand()\n",
    "- 리스트에 자료를 추가하되, 요소만 추가"
   ]
  },
  {
   "cell_type": "code",
   "execution_count": 30,
   "id": "8ffcabe5",
   "metadata": {},
   "outputs": [],
   "source": [
    "a=[1,2,3]\n",
    "b=[4,5,6]\n",
    "a.append(b)"
   ]
  },
  {
   "cell_type": "code",
   "execution_count": 31,
   "id": "7045dab0",
   "metadata": {},
   "outputs": [
    {
     "data": {
      "text/plain": [
       "[1, 2, 3, [4, 5, 6]]"
      ]
     },
     "execution_count": 31,
     "metadata": {},
     "output_type": "execute_result"
    }
   ],
   "source": [
    "a"
   ]
  },
  {
   "cell_type": "code",
   "execution_count": 32,
   "id": "db7abd04",
   "metadata": {},
   "outputs": [
    {
     "data": {
      "text/plain": [
       "4"
      ]
     },
     "execution_count": 32,
     "metadata": {},
     "output_type": "execute_result"
    }
   ],
   "source": [
    "len(a)"
   ]
  },
  {
   "cell_type": "code",
   "execution_count": 33,
   "id": "db95ddd1",
   "metadata": {},
   "outputs": [
    {
     "name": "stdout",
     "output_type": "stream",
     "text": [
      "[1, 2, 3, [4, 5, 6], [4, 5, 6]] 5\n"
     ]
    }
   ],
   "source": [
    "a.insert(4,b)\n",
    "print(a, len(a))"
   ]
  },
  {
   "cell_type": "code",
   "execution_count": 35,
   "id": "651a8ed6",
   "metadata": {},
   "outputs": [
    {
     "name": "stdout",
     "output_type": "stream",
     "text": [
      "[1, 2, 3, [4, 5, 6], [4, 5, 6], 7, 8, 9, 7, 8, 9] 리스트 형태 벗겨서 요소만 넣었음, 그리고 길이는 11\n"
     ]
    }
   ],
   "source": [
    "a.extend([7,8,9])\n",
    "print(a, \"리스트 형태 벗겨서 요소만 넣었음, 그리고 길이는\", len(a))"
   ]
  },
  {
   "cell_type": "code",
   "execution_count": 36,
   "id": "2e60caea",
   "metadata": {},
   "outputs": [],
   "source": [
    "c = [7,8,9]\n",
    "b.extend(c)"
   ]
  },
  {
   "cell_type": "code",
   "execution_count": 37,
   "id": "3ba48ceb",
   "metadata": {},
   "outputs": [
    {
     "data": {
      "text/plain": [
       "[4, 5, 6, 7, 8, 9]"
      ]
     },
     "execution_count": 37,
     "metadata": {},
     "output_type": "execute_result"
    }
   ],
   "source": [
    "b"
   ]
  },
  {
   "cell_type": "code",
   "execution_count": 39,
   "id": "977c186c",
   "metadata": {},
   "outputs": [],
   "source": [
    "a=[10,11,12]"
   ]
  },
  {
   "cell_type": "markdown",
   "id": "5ad66c65",
   "metadata": {},
   "source": [
    "## list+list=extend()"
   ]
  },
  {
   "cell_type": "code",
   "execution_count": 40,
   "id": "5a2f093a",
   "metadata": {},
   "outputs": [
    {
     "data": {
      "text/plain": [
       "[7, 8, 9, 10, 11, 12]"
      ]
     },
     "execution_count": 40,
     "metadata": {},
     "output_type": "execute_result"
    }
   ],
   "source": [
    "c+a # 순서가 고대로 들어간다는 점 주의"
   ]
  },
  {
   "cell_type": "markdown",
   "id": "40589f14",
   "metadata": {},
   "source": [
    "## 리스트에서 값 검색하고 인덱스 찾기\n",
    "- 리스트 안에서 요소로서 검색. 리안리는 검색 안됨.\n",
    "- in, not in : 리스트 안에서 원하는 값이 있는지 확인\n",
    "- 원하는 값이 있는 위치를 찾을 땐 .index(찾을 값, 시작 인덱스 번호)"
   ]
  },
  {
   "cell_type": "code",
   "execution_count": 1,
   "id": "bb89ae73",
   "metadata": {},
   "outputs": [
    {
     "ename": "ValueError",
     "evalue": "4 is not in list",
     "output_type": "error",
     "traceback": [
      "\u001b[1;31m---------------------------------------------------------------------------\u001b[0m",
      "\u001b[1;31mValueError\u001b[0m                                Traceback (most recent call last)",
      "Cell \u001b[1;32mIn[1], line 3\u001b[0m\n\u001b[0;32m      1\u001b[0m \u001b[38;5;66;03m# 4를 찾아라\u001b[39;00m\n\u001b[0;32m      2\u001b[0m a\u001b[38;5;241m=\u001b[39m[\u001b[38;5;241m1\u001b[39m, \u001b[38;5;241m2\u001b[39m, \u001b[38;5;241m3\u001b[39m, [\u001b[38;5;241m4\u001b[39m, \u001b[38;5;241m5\u001b[39m, \u001b[38;5;241m6\u001b[39m], [\u001b[38;5;241m4\u001b[39m, \u001b[38;5;241m5\u001b[39m, \u001b[38;5;241m6\u001b[39m]]\n\u001b[1;32m----> 3\u001b[0m \u001b[43ma\u001b[49m\u001b[38;5;241;43m.\u001b[39;49m\u001b[43mindex\u001b[49m\u001b[43m(\u001b[49m\u001b[38;5;241;43m4\u001b[39;49m\u001b[43m)\u001b[49m \u001b[38;5;66;03m#4가 있는데도 4is not in list라면 리스트안의 리스트여서 일것.\u001b[39;00m\n",
      "\u001b[1;31mValueError\u001b[0m: 4 is not in list"
     ]
    }
   ],
   "source": [
    "# 4를 찾아라\n",
    "a=[1, 2, 3, [4, 5, 6], [4, 5, 6]]\n",
    "a.index(4) #4가 있는데도 4is not in list라면 리스트안의 리스트여서 일것."
   ]
  },
  {
   "cell_type": "code",
   "execution_count": 45,
   "id": "6545927f",
   "metadata": {},
   "outputs": [
    {
     "data": {
      "text/plain": [
       "0"
      ]
     },
     "execution_count": 45,
     "metadata": {},
     "output_type": "execute_result"
    }
   ],
   "source": [
    "a[3].index(4)\n",
    "# 결과번호는 인덱스번호 위치임."
   ]
  },
  {
   "cell_type": "code",
   "execution_count": 46,
   "id": "5bf28b29",
   "metadata": {},
   "outputs": [],
   "source": [
    "a.extend([1,2,3])"
   ]
  },
  {
   "cell_type": "code",
   "execution_count": 47,
   "id": "1022eda5",
   "metadata": {},
   "outputs": [
    {
     "data": {
      "text/plain": [
       "[1, 2, 3, [4, 5, 6], [4, 5, 6], 1, 2, 3]"
      ]
     },
     "execution_count": 47,
     "metadata": {},
     "output_type": "execute_result"
    }
   ],
   "source": [
    "a"
   ]
  },
  {
   "cell_type": "code",
   "execution_count": 49,
   "id": "5268e3d0",
   "metadata": {},
   "outputs": [
    {
     "data": {
      "text/plain": [
       "2"
      ]
     },
     "execution_count": 49,
     "metadata": {},
     "output_type": "execute_result"
    }
   ],
   "source": [
    "a.index(3)\n",
    "# 3이 중복하여 들어있는 상황이지만 앞에서부터 위치만 알려줌."
   ]
  },
  {
   "attachments": {
    "image.png": {
     "image/png": "[encoded data removed]"
    }
   },
   "cell_type": "markdown",
   "id": "7040ac9f",
   "metadata": {},
   "source": [
    "![image.png](attachment:image.png)\n",
    "- a에서 2번째 3을 찾아라\n",
    "- .index(검색값) : 앞에서부터 검색한 순서대로 1번째를 출력.\n",
    "- .index(검색값, 시작인덱스번호) 시작인덱스 지정한 번호부터 검색. 출력 값은 리스트의 처음 순서부터 출력함."
   ]
  },
  {
   "cell_type": "code",
   "execution_count": 52,
   "id": "5dd562ca",
   "metadata": {},
   "outputs": [
    {
     "data": {
      "text/plain": [
       "5"
      ]
     },
     "execution_count": 52,
     "metadata": {},
     "output_type": "execute_result"
    }
   ],
   "source": [
    "a.index(3, 3) "
   ]
  },
  {
   "cell_type": "code",
   "execution_count": 53,
   "id": "b0a5393c",
   "metadata": {},
   "outputs": [
    {
     "data": {
      "text/plain": [
       "[1, 2, 3, [4, 5, 6], [4, 5, 6], 1, 2, 3, '파있너']"
      ]
     },
     "execution_count": 53,
     "metadata": {},
     "output_type": "execute_result"
    }
   ],
   "source": [
    "a.append(\"파있너\")\n",
    "a"
   ]
  },
  {
   "cell_type": "code",
   "execution_count": 54,
   "id": "94cc0135",
   "metadata": {},
   "outputs": [
    {
     "data": {
      "text/plain": [
       "8"
      ]
     },
     "execution_count": 54,
     "metadata": {},
     "output_type": "execute_result"
    }
   ],
   "source": [
    "a.index('파있너')"
   ]
  },
  {
   "cell_type": "markdown",
   "id": "59e1464a",
   "metadata": {},
   "source": [
    "## 리스트 안에서 특정 값의 개수 구하기 .count(값)"
   ]
  },
  {
   "cell_type": "code",
   "execution_count": 55,
   "id": "35099d2c",
   "metadata": {},
   "outputs": [
    {
     "data": {
      "text/plain": [
       "[1, 2, 3, [4, 5, 6], [4, 5, 6], 1, 2, 3, '파있너']"
      ]
     },
     "execution_count": 55,
     "metadata": {},
     "output_type": "execute_result"
    }
   ],
   "source": [
    "a"
   ]
  },
  {
   "cell_type": "code",
   "execution_count": 57,
   "id": "b0b8c536",
   "metadata": {},
   "outputs": [
    {
     "data": {
      "text/plain": [
       "1"
      ]
     },
     "execution_count": 57,
     "metadata": {},
     "output_type": "execute_result"
    }
   ],
   "source": [
    "a[3].count(4)  #count도 list 와 비슷함"
   ]
  },
  {
   "cell_type": "markdown",
   "id": "9c50844f",
   "metadata": {},
   "source": [
    "## list의 정렬 뒤집기)  .reverse()\n",
    "- 실행 즉시 덮어쓰는 함수이므로 사용시 원본변경에 주의할것."
   ]
  },
  {
   "cell_type": "code",
   "execution_count": 59,
   "id": "49ffdde1",
   "metadata": {},
   "outputs": [
    {
     "data": {
      "text/plain": [
       "['파있너', 3, 2, 1, [4, 5, 6], [4, 5, 6], 3, 2, 1]"
      ]
     },
     "execution_count": 59,
     "metadata": {},
     "output_type": "execute_result"
    }
   ],
   "source": [
    "a.reverse()\n",
    "a"
   ]
  },
  {
   "cell_type": "markdown",
   "id": "6e15c3eb",
   "metadata": {},
   "source": [
    "* 인덱싱으로 순서뒤집는 방법 **"
   ]
  },
  {
   "cell_type": "code",
   "execution_count": 60,
   "id": "b640c6ad",
   "metadata": {},
   "outputs": [
    {
     "data": {
      "text/plain": [
       "[1, 2, 3, [4, 5, 6], [4, 5, 6], 1, 2, 3, '파있너']"
      ]
     },
     "execution_count": 60,
     "metadata": {},
     "output_type": "execute_result"
    }
   ],
   "source": [
    "a[::-1] # 원본변화 없이 순서만 바꿀 때는 인덱싱을 사용하기."
   ]
  },
  {
   "cell_type": "markdown",
   "id": "dbc2f6e8",
   "metadata": {},
   "source": [
    "## 리스트 정렬하기) .sort 오름차순\n",
    "## .sort(reverse=True) 내림차순\n",
    "### 즉시 덮어씀 주의"
   ]
  },
  {
   "cell_type": "code",
   "execution_count": 67,
   "id": "387c6e13",
   "metadata": {},
   "outputs": [
    {
     "data": {
      "text/plain": [
       "[1, 3, 3.8, 6, 6.0345, 7, 8, 9, 42, 45, 96]"
      ]
     },
     "execution_count": 67,
     "metadata": {},
     "output_type": "execute_result"
    }
   ],
   "source": [
    "a=[1,45,6,96,3.8,3,42,8,6.0345,7,9]\n",
    "a.sort()\n",
    "a"
   ]
  },
  {
   "cell_type": "code",
   "execution_count": 68,
   "id": "b649fba6",
   "metadata": {},
   "outputs": [
    {
     "data": {
      "text/plain": [
       "[1, 3, 3.8, 6, 6.0345, 7, 8, 9, 42, 45, 96]"
      ]
     },
     "execution_count": 68,
     "metadata": {},
     "output_type": "execute_result"
    }
   ],
   "source": [
    "a # 출력해보면 덮어썼네썼어."
   ]
  },
  {
   "cell_type": "code",
   "execution_count": 69,
   "id": "b217d47c",
   "metadata": {},
   "outputs": [
    {
     "data": {
      "text/plain": [
       "[96, 45, 42, 9, 8, 7, 6.0345, 6, 3.8, 3, 1]"
      ]
     },
     "execution_count": 69,
     "metadata": {},
     "output_type": "execute_result"
    }
   ],
   "source": [
    "a.sort(reverse=True)\n",
    "a"
   ]
  },
  {
   "cell_type": "markdown",
   "id": "19c12f8b",
   "metadata": {},
   "source": [
    "## sorted(list) 오름차순, sorted(list, reverse=True) 내림차순 - 재할당해야함"
   ]
  },
  {
   "cell_type": "code",
   "execution_count": 70,
   "id": "0b4f10fe",
   "metadata": {},
   "outputs": [
    {
     "data": {
      "text/plain": [
       "[1, 45, 6, 96, 3.8, 3, 42, 8, 6.0345, 7, 9]"
      ]
     },
     "execution_count": 70,
     "metadata": {},
     "output_type": "execute_result"
    }
   ],
   "source": [
    "b=[1,45,6,96,3.8,3,42,8,6.0345,7,9]\n",
    "sorted(b)                              # sorted 했지만 정렬이 그대로인점.\n",
    "b"
   ]
  },
  {
   "cell_type": "code",
   "execution_count": 71,
   "id": "cebf24c2",
   "metadata": {},
   "outputs": [
    {
     "data": {
      "text/plain": [
       "[96, 45, 42, 9, 8, 7, 6.0345, 6, 3.8, 3, 1]"
      ]
     },
     "execution_count": 71,
     "metadata": {},
     "output_type": "execute_result"
    }
   ],
   "source": [
    "sorted(b, reverse=True)"
   ]
  },
  {
   "cell_type": "code",
   "execution_count": 72,
   "id": "44b144f8",
   "metadata": {},
   "outputs": [
    {
     "data": {
      "text/plain": [
       "[1, 45, 6, 96, 3.8, 3, 42, 8, 6.0345, 7, 9]"
      ]
     },
     "execution_count": 72,
     "metadata": {},
     "output_type": "execute_result"
    }
   ],
   "source": [
    "b # 할당 안됨."
   ]
  },
  {
   "cell_type": "markdown",
   "id": "d1a9aaa5",
   "metadata": {},
   "source": [
    "# 튜플 tuple 자료형\n",
    "- 튜플도 리스트처럼 모든 자료형을 받음\n",
    "- 순서(인덱스)있음 딕셔너리는 없음\n",
    "- 인덱싱, 슬라이싱 가능\n",
    "- 내용물 append,insert,del 안되지만 리스트화 후에는 가능.\n",
    "- 튜플의 괄호는 ()\n",
    "- 튜플 형변환 함수는 tuple()\n",
    "- 내용물이 1개만 있어도 되지만 (1,)형식\n",
    "- 내용물 2개이상인경우 () 생략가능"
   ]
  },
  {
   "cell_type": "code",
   "execution_count": 74,
   "id": "80e47b85",
   "metadata": {},
   "outputs": [
    {
     "data": {
      "text/plain": [
       "(1, 4, 5)"
      ]
     },
     "execution_count": 74,
     "metadata": {},
     "output_type": "execute_result"
    }
   ],
   "source": [
    "u=1,4,5 # 괄호없이 만들면 튜플이되는것.\n",
    "u"
   ]
  },
  {
   "cell_type": "code",
   "execution_count": 75,
   "id": "9314cab6",
   "metadata": {},
   "outputs": [
    {
     "name": "stdout",
     "output_type": "stream",
     "text": [
      "1 (5, 4, 1)\n"
     ]
    }
   ],
   "source": [
    "print( u[0], u[::-1])"
   ]
  },
  {
   "cell_type": "code",
   "execution_count": 76,
   "id": "38cc36ba",
   "metadata": {},
   "outputs": [
    {
     "data": {
      "text/plain": [
       "(4, 5, 6, 1, 4, 5)"
      ]
     },
     "execution_count": 76,
     "metadata": {},
     "output_type": "execute_result"
    }
   ],
   "source": [
    "t=4,5,6\n",
    "t+u"
   ]
  },
  {
   "cell_type": "code",
   "execution_count": 77,
   "id": "7c86345d",
   "metadata": {},
   "outputs": [
    {
     "data": {
      "text/plain": [
       "(0, 7, 4, 2, 1)"
      ]
     },
     "execution_count": 77,
     "metadata": {},
     "output_type": "execute_result"
    }
   ],
   "source": [
    "tuple([0,7,4,2,1])"
   ]
  },
  {
   "cell_type": "code",
   "execution_count": 81,
   "id": "d4109fef",
   "metadata": {},
   "outputs": [
    {
     "data": {
      "text/plain": [
       "1"
      ]
     },
     "execution_count": 81,
     "metadata": {},
     "output_type": "execute_result"
    }
   ],
   "source": [
    "t.index(5) #5가 몇번째에 있니?"
   ]
  },
  {
   "cell_type": "markdown",
   "id": "1c71c811",
   "metadata": {},
   "source": [
    "- list와 같이 검색한 값의 개수 세는것 가능"
   ]
  },
  {
   "cell_type": "code",
   "execution_count": 82,
   "id": "33aee758",
   "metadata": {},
   "outputs": [
    {
     "data": {
      "text/plain": [
       "1"
      ]
     },
     "execution_count": 82,
     "metadata": {},
     "output_type": "execute_result"
    }
   ],
   "source": [
    "t.count(4) #4가 몇개니?"
   ]
  },
  {
   "cell_type": "markdown",
   "id": "355f3d8b",
   "metadata": {},
   "source": [
    "- 튜플에 자료 추가하려면 list화 "
   ]
  },
  {
   "cell_type": "code",
   "execution_count": 87,
   "id": "3faada2f",
   "metadata": {},
   "outputs": [],
   "source": [
    "t= list(t)\n",
    "u= list(u)"
   ]
  },
  {
   "cell_type": "code",
   "execution_count": 88,
   "id": "6c35f79c",
   "metadata": {},
   "outputs": [
    {
     "data": {
      "text/plain": [
       "[4, 5, 6, 1, 4, 5]"
      ]
     },
     "execution_count": 88,
     "metadata": {},
     "output_type": "execute_result"
    }
   ],
   "source": [
    "t.extend(u)\n",
    "t"
   ]
  },
  {
   "cell_type": "code",
   "execution_count": 89,
   "id": "f8cd81ea",
   "metadata": {},
   "outputs": [
    {
     "data": {
      "text/plain": [
       "(4, 5, 6, 1, 4, 5)"
      ]
     },
     "execution_count": 89,
     "metadata": {},
     "output_type": "execute_result"
    }
   ],
   "source": [
    "t=tuple(t)\n",
    "t"
   ]
  },
  {
   "cell_type": "markdown",
   "id": "e081d550",
   "metadata": {},
   "source": [
    "- 튜플에 자료를 1개만 넣고 만들때\n",
    "- (자료,) 안하면 문자열되거나 정수로 받음 주의"
   ]
  },
  {
   "cell_type": "code",
   "execution_count": 92,
   "id": "4a3b211d",
   "metadata": {},
   "outputs": [
    {
     "name": "stdout",
     "output_type": "stream",
     "text": [
      "문자 <class 'str'>\n"
     ]
    }
   ],
   "source": [
    "t3=('문자')\n",
    "print(t3, type(t3)) # 튜플로 만들고싶다면 ,) 필수."
   ]
  },
  {
   "cell_type": "markdown",
   "id": "160ea0e7",
   "metadata": {},
   "source": [
    "- 생략하고 튜플 만들기"
   ]
  },
  {
   "cell_type": "code",
   "execution_count": 93,
   "id": "988f3c42",
   "metadata": {},
   "outputs": [
    {
     "data": {
      "text/plain": [
       "('튜플', '괄호 없이', '만들기', 222)"
      ]
     },
     "execution_count": 93,
     "metadata": {},
     "output_type": "execute_result"
    }
   ],
   "source": [
    "t5 = '튜플','괄호 없이','만들기',222\n",
    "t5"
   ]
  },
  {
   "cell_type": "code",
   "execution_count": 94,
   "id": "63a55bf8",
   "metadata": {},
   "outputs": [
    {
     "name": "stdout",
     "output_type": "stream",
     "text": [
      "<class 'tuple'>\n"
     ]
    }
   ],
   "source": [
    "print(type(t5))"
   ]
  },
  {
   "cell_type": "code",
   "execution_count": 95,
   "id": "e3394032",
   "metadata": {},
   "outputs": [
    {
     "name": "stdout",
     "output_type": "stream",
     "text": [
      "('튜플',) <class 'tuple'>\n"
     ]
    }
   ],
   "source": [
    "t6='튜플',                       #괄호 없어도되니까 하나짜리도 가능\n",
    "print(t6, type(t6))"
   ]
  },
  {
   "cell_type": "markdown",
   "id": "5b7f9b25",
   "metadata": {},
   "source": [
    "# 시퀀스 객체(시퀀스 자료형)\n",
    "- 시퀀스 자료형==순서가 있는 자료형(str, list, tuple 등)\n",
    "- 인덱스번호, 인덱싱, 슬라이싱 사용가능\n",
    "- 반복문은 시퀀스 객체를 받음\n",
    "- 타언어는 반복문에서 반복회수를 정하지만 \n",
    "- 파이썬의 반복문은 객체의 길이만큼 반복하는 것이 디폴트"
   ]
  },
  {
   "cell_type": "markdown",
   "id": "31e2e117",
   "metadata": {},
   "source": [
    "- 포함여부확인하기 ) in, not in으로 불린값 출력"
   ]
  },
  {
   "cell_type": "code",
   "execution_count": 102,
   "id": "2b60b089",
   "metadata": {},
   "outputs": [],
   "source": [
    "tt=4,5,6"
   ]
  },
  {
   "cell_type": "code",
   "execution_count": 103,
   "id": "b8e6c279",
   "metadata": {},
   "outputs": [
    {
     "data": {
      "text/plain": [
       "True"
      ]
     },
     "execution_count": 103,
     "metadata": {},
     "output_type": "execute_result"
    }
   ],
   "source": [
    "4 in tt"
   ]
  },
  {
   "cell_type": "code",
   "execution_count": 104,
   "id": "2ada607d",
   "metadata": {},
   "outputs": [
    {
     "data": {
      "text/plain": [
       "True"
      ]
     },
     "execution_count": 104,
     "metadata": {},
     "output_type": "execute_result"
    }
   ],
   "source": [
    "c= '시퀀스 자료형은 in, not in을 써서 내부에 자료가 있는지 확인한다'\n",
    "'자료' in c"
   ]
  },
  {
   "cell_type": "code",
   "execution_count": 107,
   "id": "49b74c45",
   "metadata": {},
   "outputs": [
    {
     "data": {
      "text/plain": [
       "False"
      ]
     },
     "execution_count": 107,
     "metadata": {},
     "output_type": "execute_result"
    }
   ],
   "source": [
    "'확인' not in c"
   ]
  },
  {
   "cell_type": "code",
   "execution_count": 106,
   "id": "6128a5d3",
   "metadata": {},
   "outputs": [
    {
     "data": {
      "text/plain": [
       "False"
      ]
     },
     "execution_count": 106,
     "metadata": {},
     "output_type": "execute_result"
    }
   ],
   "source": [
    "list_01=[1,23,4,5,6,2]\n",
    "3 in list_01"
   ]
  },
  {
   "cell_type": "markdown",
   "id": "b91f46b0",
   "metadata": {},
   "source": [
    "- 모든 시퀀스 객체는 + 연산자로 연결가능"
   ]
  },
  {
   "cell_type": "code",
   "execution_count": 108,
   "id": "87effd8e",
   "metadata": {},
   "outputs": [
    {
     "data": {
      "text/plain": [
       "'문자열시퀀스'"
      ]
     },
     "execution_count": 108,
     "metadata": {},
     "output_type": "execute_result"
    }
   ],
   "source": [
    "'문자열'+'시퀀스'"
   ]
  },
  {
   "cell_type": "code",
   "execution_count": 109,
   "id": "20c19a40",
   "metadata": {},
   "outputs": [
    {
     "data": {
      "text/plain": [
       "[1, 2, 3, 4, 5, 6, 7, 8]"
      ]
     },
     "execution_count": 109,
     "metadata": {},
     "output_type": "execute_result"
    }
   ],
   "source": [
    "#리스트도 시퀀스 객체니까\n",
    "[1,2,3,4] + [5,6,7,8]"
   ]
  },
  {
   "cell_type": "code",
   "execution_count": 113,
   "id": "f2d72aee",
   "metadata": {},
   "outputs": [
    {
     "name": "stdout",
     "output_type": "stream",
     "text": [
      "------------------------------------------------------------ [1, 2, 3, 1, 2, 3, 1, 2, 3] (4, 5, 6, 4, 5, 6, 4, 5, 6)\n"
     ]
    }
   ],
   "source": [
    "# 곱셈가능\n",
    "\n",
    "print(\n",
    "'-'*60,\n",
    "[1,2,3]*3,\n",
    "(4,5,6)*3 )"
   ]
  },
  {
   "cell_type": "code",
   "execution_count": 115,
   "id": "4d18fdea",
   "metadata": {},
   "outputs": [
    {
     "name": "stdout",
     "output_type": "stream",
     "text": [
      "문\n",
      "자\n",
      "열\n",
      "은\n",
      " \n",
      "반\n",
      "복\n",
      "문\n",
      "에\n",
      "서\n",
      " \n",
      "사\n",
      "용\n",
      "가\n",
      "능\n"
     ]
    }
   ],
   "source": [
    "for i in \"문자열은 반복문에서 사용가능\": print(i)"
   ]
  },
  {
   "cell_type": "code",
   "execution_count": 116,
   "id": "137b5e47",
   "metadata": {},
   "outputs": [
    {
     "name": "stdout",
     "output_type": "stream",
     "text": [
      "1\n",
      "2\n",
      "3\n",
      "4\n"
     ]
    }
   ],
   "source": [
    "for i in [1,2,3,4]: print(i)"
   ]
  },
  {
   "cell_type": "code",
   "execution_count": 119,
   "id": "822a14d7",
   "metadata": {},
   "outputs": [
    {
     "name": "stdout",
     "output_type": "stream",
     "text": [
      "1\n",
      "2\n",
      "3\n",
      "4\n",
      "5\n"
     ]
    }
   ],
   "source": [
    "o=1,2,3,4,5 \n",
    "for i in o: print(i)"
   ]
  },
  {
   "cell_type": "code",
   "execution_count": 120,
   "id": "cb90d589",
   "metadata": {},
   "outputs": [
    {
     "data": {
      "text/plain": [
       "15"
      ]
     },
     "execution_count": 120,
     "metadata": {},
     "output_type": "execute_result"
    }
   ],
   "source": [
    "#내장함수 몇가지가 list와 tuple을 받는다.\n",
    "# sum, max, min 이용한 연산(당연히 int, float 일떄)\n",
    "sum(o)"
   ]
  },
  {
   "cell_type": "code",
   "execution_count": 121,
   "id": "57b66ee5",
   "metadata": {},
   "outputs": [
    {
     "data": {
      "text/plain": [
       "1"
      ]
     },
     "execution_count": 121,
     "metadata": {},
     "output_type": "execute_result"
    }
   ],
   "source": [
    "min(o)"
   ]
  },
  {
   "cell_type": "markdown",
   "id": "af3e1e14",
   "metadata": {},
   "source": [
    "이후 딕셔너리로 ~"
   ]
  },
  {
   "cell_type": "code",
   "execution_count": null,
   "id": "9916a9b4",
   "metadata": {},
   "outputs": [],
   "source": []
  },
  {
   "cell_type": "code",
   "execution_count": null,
   "id": "e2792499",
   "metadata": {},
   "outputs": [],
   "source": []
  },
  {
   "cell_type": "code",
   "execution_count": null,
   "id": "d61992d4",
   "metadata": {},
   "outputs": [],
   "source": []
  },
  {
   "cell_type": "code",
   "execution_count": null,
   "id": "a7aa2ee1",
   "metadata": {},
   "outputs": [],
   "source": []
  },
  {
   "cell_type": "code",
   "execution_count": null,
   "id": "b1f0dab1",
   "metadata": {},
   "outputs": [],
   "source": []
  },
  {
   "cell_type": "markdown",
   "id": "dfdebc79",
   "metadata": {},
   "source": []
  },
  {
   "cell_type": "code",
   "execution_count": null,
   "id": "b35168fa",
   "metadata": {},
   "outputs": [],
   "source": []
  },
  {
   "cell_type": "code",
   "execution_count": null,
   "id": "a3159f29",
   "metadata": {},
   "outputs": [],
   "source": []
  },
  {
   "cell_type": "code",
   "execution_count": null,
   "id": "28ab6475",
   "metadata": {},
   "outputs": [],
   "source": []
  },
  {
   "cell_type": "code",
   "execution_count": null,
   "id": "0cbb2828",
   "metadata": {},
   "outputs": [],
   "source": []
  },
  {
   "cell_type": "code",
   "execution_count": null,
   "id": "0c6faf49",
   "metadata": {},
   "outputs": [],
   "source": []
  },
  {
   "cell_type": "code",
   "execution_count": null,
   "id": "d754f76e",
   "metadata": {},
   "outputs": [],
   "source": []
  },
  {
   "cell_type": "code",
   "execution_count": null,
   "id": "03a1d82e",
   "metadata": {},
   "outputs": [],
   "source": []
  },
  {
   "cell_type": "code",
   "execution_count": null,
   "id": "5bde960c",
   "metadata": {},
   "outputs": [],
   "source": []
  },
  {
   "cell_type": "code",
   "execution_count": null,
   "id": "c30b9285",
   "metadata": {},
   "outputs": [],
   "source": []
  },
  {
   "cell_type": "code",
   "execution_count": null,
   "id": "30a65625",
   "metadata": {},
   "outputs": [],
   "source": []
  },
  {
   "cell_type": "code",
   "execution_count": null,
   "id": "d4ea6176",
   "metadata": {},
   "outputs": [],
   "source": []
  },
  {
   "cell_type": "code",
   "execution_count": null,
   "id": "7d87e2e8",
   "metadata": {},
   "outputs": [],
   "source": []
  },
  {
   "cell_type": "code",
   "execution_count": null,
   "id": "6966971d",
   "metadata": {},
   "outputs": [],
   "source": []
  },
  {
   "cell_type": "code",
   "execution_count": null,
   "id": "0184973e",
   "metadata": {},
   "outputs": [],
   "source": []
  },
  {
   "cell_type": "code",
   "execution_count": null,
   "id": "9b362448",
   "metadata": {},
   "outputs": [],
   "source": []
  },
  {
   "cell_type": "code",
   "execution_count": null,
   "id": "cc71c3d1",
   "metadata": {},
   "outputs": [],
   "source": []
  },
  {
   "cell_type": "code",
   "execution_count": null,
   "id": "a572ec51",
   "metadata": {},
   "outputs": [],
   "source": []
  },
  {
   "cell_type": "code",
   "execution_count": null,
   "id": "4a82cff0",
   "metadata": {},
   "outputs": [],
   "source": []
  },
  {
   "cell_type": "code",
   "execution_count": null,
   "id": "60967b61",
   "metadata": {},
   "outputs": [],
   "source": []
  },
  {
   "cell_type": "code",
   "execution_count": null,
   "id": "da70b136",
   "metadata": {},
   "outputs": [],
   "source": []
  }
 ],
 "metadata": {
  "kernelspec": {
   "display_name": "Python 3 (ipykernel)",
   "language": "python",
   "name": "python3"
  },
  "language_info": {
   "codemirror_mode": {
    "name": "ipython",
    "version": 3
   },
   "file_extension": ".py",
   "mimetype": "text/x-python",
   "name": "python",
   "nbconvert_exporter": "python",
   "pygments_lexer": "ipython3",
   "version": "3.9.21"
  }
 },
 "nbformat": 4,
 "nbformat_minor": 5
}
