{
 "cells": [
  {
   "cell_type": "code",
   "execution_count": null,
   "id": "cb4f15c8",
   "metadata": {},
   "outputs": [],
   "source": [
    "#호텔이름있는 요소의 인덱스번호 출력.. 실패.\n",
    "c=b[0]['data']['page']['head']['metas']\n",
    "c.index('(SangSang Hotel)')"
   ]
  },
  {
   "cell_type": "code",
   "execution_count": null,
   "id": "66ca9b6b",
   "metadata": {},
   "outputs": [],
   "source": [
    "#호텔이름 \n",
    "c=b[0]['data']['page']['head']['metas'][3]['content']\n",
    "#뽑은다음 불필요한 글 자름\n",
    "c.replace(' 이용 후기','')"
   ]
  },
  {
   "cell_type": "code",
   "execution_count": null,
   "id": "4adc4465",
   "metadata": {},
   "outputs": [],
   "source": [
    "# 다른 리뷰도 불러올 수 있는지 확인\n",
    "c=b[3]['data']['page']['head']['metas'][3]['content']\n",
    "c.replace(' 이용 후기','')"
   ]
  },
  {
   "cell_type": "code",
   "execution_count": null,
   "id": "acbe248c",
   "metadata": {},
   "outputs": [],
   "source": [
    "#호텔아이디\n",
    "b[0]['data']['page']['head']['links'][-2]\n",
    "d.index(list(hotelid))"
   ]
  },
  {
   "cell_type": "code",
   "execution_count": null,
   "id": "0ad72f47",
   "metadata": {},
   "outputs": [],
   "source": [
    "d=str(b[0]['data']['page']['head']['links'][-2]['href'])\n",
    "e=d.split('?').split('&')\n",
    "e\n",
    "#d.count(hotelid,0)"
   ]
  }
 ],
 "metadata": {
  "kernelspec": {
   "display_name": "Python 3 (ipykernel)",
   "language": "python",
   "name": "python3"
  },
  "language_info": {
   "codemirror_mode": {
    "name": "ipython",
    "version": 3
   },
   "file_extension": ".py",
   "mimetype": "text/x-python",
   "name": "python",
   "nbconvert_exporter": "python",
   "pygments_lexer": "ipython3",
   "version": "3.9.21"
  }
 },
 "nbformat": 4,
 "nbformat_minor": 5
}
