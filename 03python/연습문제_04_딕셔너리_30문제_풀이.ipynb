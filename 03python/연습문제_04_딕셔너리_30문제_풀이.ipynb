{
 "cells": [
  {
   "cell_type": "markdown",
   "id": "390e0d05",
   "metadata": {},
   "source": [
    "# 딕셔너리 사용 연습문제 30개"
   ]
  },
  {
   "cell_type": "markdown",
   "id": "e8558338",
   "metadata": {},
   "source": [
    "1. **빈 딕셔너리 `empty_dict`를 생성하고 출력하세요.**  "
   ]
  },
  {
   "cell_type": "code",
   "execution_count": 1,
   "id": "1b64bbe4",
   "metadata": {},
   "outputs": [],
   "source": [
    "# empty_dict = dict()\n",
    "empty_dict = {}"
   ]
  },
  {
   "cell_type": "code",
   "execution_count": 2,
   "id": "e7ad9d39",
   "metadata": {},
   "outputs": [
    {
     "data": {
      "text/plain": [
       "{}"
      ]
     },
     "execution_count": 2,
     "metadata": {},
     "output_type": "execute_result"
    }
   ],
   "source": [
    "empty_dict"
   ]
  },
  {
   "cell_type": "markdown",
   "id": "65850ac2",
   "metadata": {},
   "source": [
    "2. **다음과 같은 딕셔너리를 생성하고 출력하세요.**  \n",
    "   ```python\n",
    "   person = {\"name\": \"Alice\", \"age\": 25, \"city\": \"Seoul\"}\n",
    " \n",
    "   ```"
   ]
  },
  {
   "cell_type": "code",
   "execution_count": 3,
   "id": "618318d3",
   "metadata": {
    "scrolled": true
   },
   "outputs": [
    {
     "data": {
      "text/plain": [
       "{'name': 'Alice', 'age': 25, 'city': 'Seoul'}"
      ]
     },
     "execution_count": 3,
     "metadata": {},
     "output_type": "execute_result"
    }
   ],
   "source": [
    "person = dict(name=\"Alice\", age=25, city=\"Seoul\")\n",
    "person"
   ]
  },
  {
   "cell_type": "code",
   "execution_count": 4,
   "id": "14b76ae9",
   "metadata": {},
   "outputs": [
    {
     "data": {
      "text/plain": [
       "{'name': 'Alice', 'age': 25, 'city': 'Seoul'}"
      ]
     },
     "execution_count": 4,
     "metadata": {},
     "output_type": "execute_result"
    }
   ],
   "source": [
    "person = dict([(\"name\", \"Alice\"), (\"age\", 25), (\"city\", \"Seoul\")])\n",
    "person"
   ]
  },
  {
   "cell_type": "code",
   "execution_count": 5,
   "id": "3312fc86",
   "metadata": {},
   "outputs": [
    {
     "data": {
      "text/plain": [
       "{'name': 'Alice', 'age': 25, 'city': 'Seoul'}"
      ]
     },
     "execution_count": 5,
     "metadata": {},
     "output_type": "execute_result"
    }
   ],
   "source": [
    "person = dict(zip([\"name\", \"age\", \"city\"], [\"Alice\", 25, \"Seoul\"]))\n",
    "person"
   ]
  },
  {
   "cell_type": "markdown",
   "id": "c3427c56",
   "metadata": {},
   "source": [
    "3. **딕셔너리 `person`에서 `\"name\"` 키의 값을 출력하세요.**  \n",
    "```python\n",
    "Alice\n",
    "```"
   ]
  },
  {
   "cell_type": "code",
   "execution_count": 6,
   "id": "7d2b0f10",
   "metadata": {},
   "outputs": [
    {
     "data": {
      "text/plain": [
       "'Alice'"
      ]
     },
     "execution_count": 6,
     "metadata": {},
     "output_type": "execute_result"
    }
   ],
   "source": [
    "person['name']"
   ]
  },
  {
   "cell_type": "code",
   "execution_count": 7,
   "id": "1b7d723d",
   "metadata": {},
   "outputs": [
    {
     "data": {
      "text/plain": [
       "'Alice'"
      ]
     },
     "execution_count": 7,
     "metadata": {},
     "output_type": "execute_result"
    }
   ],
   "source": [
    "person.get(\"name\", \"key 없음\")"
   ]
  },
  {
   "cell_type": "markdown",
   "id": "cda292d7",
   "metadata": {},
   "source": [
    "4. **딕셔너리 `person`에서 `\"age\"` 키의 값을 출력하세요.**  \n",
    "   ```python\n",
    "   25\n",
    "   ```"
   ]
  },
  {
   "cell_type": "code",
   "execution_count": 8,
   "id": "1fa8e06c",
   "metadata": {},
   "outputs": [
    {
     "data": {
      "text/plain": [
       "25"
      ]
     },
     "execution_count": 8,
     "metadata": {},
     "output_type": "execute_result"
    }
   ],
   "source": [
    "person.get(\"age\", \"key 없음\")"
   ]
  },
  {
   "cell_type": "markdown",
   "id": "9c9bf58c",
   "metadata": {},
   "source": [
    "5. **딕셔너리 `person`에 `\"job\": \"Engineer\"`를 추가하고 출력하세요.**  \n",
    "   ```python\n",
    "   {\"name\": \"Alice\", \"age\": 25, \"city\": \"Seoul\", \"job\": \"Engineer\"}\n",
    "   ```"
   ]
  },
  {
   "cell_type": "code",
   "execution_count": 9,
   "id": "51083ccd",
   "metadata": {},
   "outputs": [
    {
     "data": {
      "text/plain": [
       "'Engineer'"
      ]
     },
     "execution_count": 9,
     "metadata": {},
     "output_type": "execute_result"
    }
   ],
   "source": [
    "# person[\"job\"] = \"Engineer\"\n",
    "person.setdefault(\"job\", \"Engineer\")"
   ]
  },
  {
   "cell_type": "code",
   "execution_count": 10,
   "id": "b4a6e162",
   "metadata": {},
   "outputs": [
    {
     "data": {
      "text/plain": [
       "{'name': 'Alice', 'age': 25, 'city': 'Seoul', 'job': 'Engineer'}"
      ]
     },
     "execution_count": 10,
     "metadata": {},
     "output_type": "execute_result"
    }
   ],
   "source": [
    "person"
   ]
  },
  {
   "cell_type": "markdown",
   "id": "f1e12ed4",
   "metadata": {},
   "source": [
    "6. **딕셔너리 `person`에서 `\"city\"`의 값을 `\"Busan\"`으로 변경하고 출력하세요.**  \n",
    "   ```python\n",
    "{\"name\": \"Alice\", \"age\": 25, \"city\": \"Busan\", \"job\": \"Engineer\"}\n",
    "   \n",
    "   ```"
   ]
  },
  {
   "cell_type": "code",
   "execution_count": 11,
   "id": "d9c42b60",
   "metadata": {},
   "outputs": [
    {
     "data": {
      "text/plain": [
       "{'name': 'Alice', 'age': 25, 'city': 'Busan', 'job': 'Engineer'}"
      ]
     },
     "execution_count": 11,
     "metadata": {},
     "output_type": "execute_result"
    }
   ],
   "source": [
    "person['city'] = \"Busan\"\n",
    "person"
   ]
  },
  {
   "cell_type": "code",
   "execution_count": 12,
   "id": "5c5e00eb",
   "metadata": {},
   "outputs": [
    {
     "data": {
      "text/plain": [
       "{'name': 'Alice', 'age': 25, 'city': 'Seoul', 'job': 'Engineer'}"
      ]
     },
     "execution_count": 12,
     "metadata": {},
     "output_type": "execute_result"
    }
   ],
   "source": [
    "person['city'] = \"Seoul\"\n",
    "person"
   ]
  },
  {
   "cell_type": "code",
   "execution_count": 13,
   "id": "edbcf76b",
   "metadata": {},
   "outputs": [
    {
     "data": {
      "text/plain": [
       "{'name': 'Alice', 'age': 25, 'city': 'Busan', 'job': 'Engineer'}"
      ]
     },
     "execution_count": 13,
     "metadata": {},
     "output_type": "execute_result"
    }
   ],
   "source": [
    "person.update(city=\"Busan\")\n",
    "person"
   ]
  },
  {
   "cell_type": "code",
   "execution_count": null,
   "id": "f164f7ea",
   "metadata": {},
   "outputs": [],
   "source": []
  },
  {
   "cell_type": "markdown",
   "id": "2799c34c",
   "metadata": {},
   "source": [
    "7. **딕셔너리 `person`에서 `\"age\"` 키를 삭제하고 출력하세요.**  \n",
    "   ```python\n",
    "   {\"name\": \"Alice\", \"city\": \"Busan\", \"job\": \"Engineer\"}\n",
    "   ```"
   ]
  },
  {
   "cell_type": "code",
   "execution_count": 14,
   "id": "6c1e7848",
   "metadata": {},
   "outputs": [
    {
     "data": {
      "text/plain": [
       "25"
      ]
     },
     "execution_count": 14,
     "metadata": {},
     "output_type": "execute_result"
    }
   ],
   "source": [
    "# del person['age']\n",
    "person.pop('age')"
   ]
  },
  {
   "cell_type": "code",
   "execution_count": 15,
   "id": "91cc8e76",
   "metadata": {},
   "outputs": [
    {
     "data": {
      "text/plain": [
       "{'name': 'Alice', 'city': 'Busan', 'job': 'Engineer'}"
      ]
     },
     "execution_count": 15,
     "metadata": {},
     "output_type": "execute_result"
    }
   ],
   "source": [
    "person"
   ]
  },
  {
   "cell_type": "markdown",
   "id": "c482e2f1",
   "metadata": {},
   "source": [
    "8. **딕셔너리 `person`의 모든 키를 출력하세요.**  \n",
    "   ```python\n",
    "   dict_keys(['name', 'city', 'job'])\n",
    "   ```"
   ]
  },
  {
   "cell_type": "code",
   "execution_count": 16,
   "id": "a2658fd6",
   "metadata": {},
   "outputs": [
    {
     "data": {
      "text/plain": [
       "dict_keys(['name', 'city', 'job'])"
      ]
     },
     "execution_count": 16,
     "metadata": {},
     "output_type": "execute_result"
    }
   ],
   "source": [
    "person.keys()"
   ]
  },
  {
   "cell_type": "code",
   "execution_count": 17,
   "id": "9af0faba",
   "metadata": {},
   "outputs": [
    {
     "name": "stdout",
     "output_type": "stream",
     "text": [
      "name\n",
      "city\n",
      "job\n"
     ]
    }
   ],
   "source": [
    "for key in person:\n",
    "    print(key)"
   ]
  },
  {
   "cell_type": "markdown",
   "id": "45921484",
   "metadata": {},
   "source": [
    "9. **딕셔너리 `person`의 모든 값(value)을 출력하세요.**  \n",
    "   ```python\n",
    "   dict_values(['Alice', 'Busan', 'Engineer'])\n",
    "   ```"
   ]
  },
  {
   "cell_type": "code",
   "execution_count": 18,
   "id": "babc77b2",
   "metadata": {},
   "outputs": [
    {
     "data": {
      "text/plain": [
       "dict_values(['Alice', 'Busan', 'Engineer'])"
      ]
     },
     "execution_count": 18,
     "metadata": {},
     "output_type": "execute_result"
    }
   ],
   "source": [
    "person.values()"
   ]
  },
  {
   "cell_type": "code",
   "execution_count": 19,
   "id": "3496ec8d",
   "metadata": {},
   "outputs": [
    {
     "name": "stdout",
     "output_type": "stream",
     "text": [
      "Alice\n",
      "Busan\n",
      "Engineer\n"
     ]
    }
   ],
   "source": [
    "for i in person:\n",
    "    print(person[i])"
   ]
  },
  {
   "cell_type": "markdown",
   "id": "59c335b6",
   "metadata": {},
   "source": [
    "10. **딕셔너리 `person`의 모든 키-값 쌍을 출력하세요.**  \n",
    "    ```python\n",
    "    dict_items([('name', 'Alice'), ('city', 'Busan'), ('job', 'Engineer')])\n",
    "    ```"
   ]
  },
  {
   "cell_type": "code",
   "execution_count": 20,
   "id": "b2a99000",
   "metadata": {
    "scrolled": true
   },
   "outputs": [
    {
     "data": {
      "text/plain": [
       "dict_items([('name', 'Alice'), ('city', 'Busan'), ('job', 'Engineer')])"
      ]
     },
     "execution_count": 20,
     "metadata": {},
     "output_type": "execute_result"
    }
   ],
   "source": [
    "person.items()"
   ]
  },
  {
   "cell_type": "code",
   "execution_count": 21,
   "id": "ea0ff017",
   "metadata": {},
   "outputs": [
    {
     "data": {
      "text/plain": [
       "[('name', 'Alice'), ('city', 'Busan'), ('job', 'Engineer')]"
      ]
     },
     "execution_count": 21,
     "metadata": {},
     "output_type": "execute_result"
    }
   ],
   "source": [
    "dict_items =[]\n",
    "for i in person:\n",
    "    dict_items.append((i, person[i]))\n",
    "dict_items"
   ]
  },
  {
   "cell_type": "markdown",
   "id": "b2f41530",
   "metadata": {},
   "source": [
    "11. **`\"email\"` 키가 딕셔너리 `person`에 존재하는지 확인하세요.**  \n",
    "    ```python\n",
    " False\n",
    "    ```"
   ]
  },
  {
   "cell_type": "markdown",
   "id": "f89dcd4b",
   "metadata": {},
   "source": [
    "리스트 튜플등은 다양한 형태에 적응해야한다."
   ]
  },
  {
   "cell_type": "code",
   "execution_count": 22,
   "id": "2a6d2b52",
   "metadata": {},
   "outputs": [
    {
     "data": {
      "text/plain": [
       "False"
      ]
     },
     "execution_count": 22,
     "metadata": {},
     "output_type": "execute_result"
    }
   ],
   "source": [
    "#여기서부터 참여\n",
    "'email' in person\n"
   ]
  },
  {
   "cell_type": "markdown",
   "id": "a8c0ffb4",
   "metadata": {},
   "source": [
    "12.**`person`에서 `\"job\"`을 제거하고 출력하세요.**  \n",
    "    \n",
    "```python\n",
    "\"Engineer\",\n",
    "{'name': 'Alice', 'city': 'Busan'}\n",
    "```"
   ]
  },
  {
   "cell_type": "code",
   "execution_count": 24,
   "id": "588aa9f4",
   "metadata": {},
   "outputs": [
    {
     "data": {
      "text/plain": [
       "{'name': 'Alice', 'city': 'Busan'}"
      ]
     },
     "execution_count": 24,
     "metadata": {},
     "output_type": "execute_result"
    }
   ],
   "source": [
    "del person['job'] # 키만 삭제해도 밸류자동삭제\n",
    "person"
   ]
  },
  {
   "cell_type": "markdown",
   "id": "3748db0a",
   "metadata": {},
   "source": [
    "13. **`person` 딕셔너리의 모든 키-값 쌍을 초기화하고 출력하세요.**  \n",
    "    ```python\n",
    "    {}\n",
    "    ```"
   ]
  },
  {
   "cell_type": "code",
   "execution_count": 25,
   "id": "2f7cba40",
   "metadata": {},
   "outputs": [],
   "source": [
    "person.clear()"
   ]
  },
  {
   "cell_type": "code",
   "execution_count": 26,
   "id": "66d67d22",
   "metadata": {},
   "outputs": [
    {
     "data": {
      "text/plain": [
       "{}"
      ]
     },
     "execution_count": 26,
     "metadata": {},
     "output_type": "execute_result"
    }
   ],
   "source": [
    "person"
   ]
  },
  {
   "cell_type": "markdown",
   "id": "dffe8c44",
   "metadata": {},
   "source": [
    "14. **중첩 딕셔너리를 student 변수에 생성하고 출력하세요.**  \n",
    "```python\n",
    "{\"name\": \"Bob\",\n",
    " \"grades\": {\"math\": 85, \"science\": 90, \"history\": 80}\n",
    "}\n",
    "```"
   ]
  },
  {
   "cell_type": "code",
   "execution_count": 27,
   "id": "d200f060",
   "metadata": {},
   "outputs": [
    {
     "data": {
      "text/plain": [
       "[1, 2, 3, 4, 5, 6, 7, 8, 9, 10]"
      ]
     },
     "execution_count": 27,
     "metadata": {},
     "output_type": "execute_result"
    }
   ],
   "source": [
    "l1=list(range(1,11))\n",
    "l1"
   ]
  },
  {
   "cell_type": "code",
   "execution_count": 28,
   "id": "c11d3dc3",
   "metadata": {},
   "outputs": [
    {
     "data": {
      "text/plain": [
       "[]"
      ]
     },
     "execution_count": 28,
     "metadata": {},
     "output_type": "execute_result"
    }
   ],
   "source": [
    "l1.clear()\n",
    "l1 # 내용물 모두 지워진점"
   ]
  },
  {
   "cell_type": "markdown",
   "id": "94914f3e",
   "metadata": {},
   "source": [
    "15.**student에서 \"science\" 점수를 출력하세요.**  \n",
    "```python\n",
    "90\n",
    "```"
   ]
  },
  {
   "cell_type": "code",
   "execution_count": null,
   "id": "8ff44a80",
   "metadata": {},
   "outputs": [],
   "source": []
  },
  {
   "cell_type": "markdown",
   "id": "408d082f",
   "metadata": {},
   "source": [
    "16. **`student`의 `\"grades\"`에 `\"english\": 95`를 추가하고 출력하세요.**  \n",
    "    ```python\n",
    "    {'math': 85, 'science': 90, 'history': 80, 'english': 95}\n",
    "    ```"
   ]
  },
  {
   "cell_type": "code",
   "execution_count": 32,
   "id": "a4c75a28",
   "metadata": {},
   "outputs": [
    {
     "data": {
      "text/plain": [
       "{'math': 85, 'science': 90, 'history': 80, 'english': 95}"
      ]
     },
     "execution_count": 32,
     "metadata": {},
     "output_type": "execute_result"
    }
   ],
   "source": [
    "student=dict(math=85, science=90, history=80,english=95)\n",
    "student"
   ]
  },
  {
   "cell_type": "markdown",
   "id": "8ff0acb5",
   "metadata": {},
   "source": [
    "17. **`student`의 `\"math\"` 점수를 88로 변경하고 출력하세요.**  \n",
    "    ```python\n",
    "    {'math': 88, 'science': 90, 'history': 80, 'english': 95}\n",
    "    ```"
   ]
  },
  {
   "cell_type": "code",
   "execution_count": 30,
   "id": "e8900e70",
   "metadata": {},
   "outputs": [
    {
     "data": {
      "text/plain": [
       "{'math': 88, 'science': 90, 'history': 80, 'english': 95}"
      ]
     },
     "execution_count": 30,
     "metadata": {},
     "output_type": "execute_result"
    }
   ],
   "source": [
    "student['math']=88\n",
    "student"
   ]
  },
  {
   "cell_type": "markdown",
   "id": "2cc3c926",
   "metadata": {},
   "source": [
    "18. **`student`에서 `\"history\"` 점수를 삭제하고 출력하세요.**  \n",
    "    ```python\n",
    "    {'math': 88, 'science': 90, 'english': 95}\n",
    "    ```"
   ]
  },
  {
   "cell_type": "code",
   "execution_count": 31,
   "id": "95a5d9ea",
   "metadata": {},
   "outputs": [
    {
     "data": {
      "text/plain": [
       "{'math': 88, 'science': 90, 'english': 95}"
      ]
     },
     "execution_count": 31,
     "metadata": {},
     "output_type": "execute_result"
    }
   ],
   "source": [
    "student.pop('history')\n",
    "student"
   ]
  },
  {
   "cell_type": "code",
   "execution_count": 33,
   "id": "8043137e",
   "metadata": {},
   "outputs": [
    {
     "ename": "KeyError",
     "evalue": "-2",
     "output_type": "error",
     "traceback": [
      "\u001b[1;31m---------------------------------------------------------------------------\u001b[0m",
      "\u001b[1;31mKeyError\u001b[0m                                  Traceback (most recent call last)",
      "Cell \u001b[1;32mIn[33], line 1\u001b[0m\n\u001b[1;32m----> 1\u001b[0m \u001b[43mstudent\u001b[49m\u001b[38;5;241;43m.\u001b[39;49m\u001b[43mpop\u001b[49m\u001b[43m(\u001b[49m\u001b[38;5;241;43m-\u001b[39;49m\u001b[38;5;241;43m2\u001b[39;49m\u001b[43m)\u001b[49m\n\u001b[0;32m      2\u001b[0m student\n",
      "\u001b[1;31mKeyError\u001b[0m: -2"
     ]
    }
   ],
   "source": [
    "student.pop(-2) # 이건 아니네\n",
    "student"
   ]
  },
  {
   "cell_type": "markdown",
   "id": "6a6fa813",
   "metadata": {},
   "source": [
    "19. **딕셔너리 `student`에서 setdefault를 이용하여 `\"total\"`이란 키를 만들고 math, science, english의 합계를 입력하세요. 단, 합계를 구할 때 값을 수동입력 하지 말고 딕셔너리에서 추출해서 더하도록 하세요.**  \n",
    "    ```python\n",
    "    {'name': 'Bob',\n",
    "    'grades': {'math': 88, 'science': 90, 'english': 95},\n",
    "    'total': 270}\n",
    "    ```"
   ]
  },
  {
   "cell_type": "code",
   "execution_count": 50,
   "id": "136d96d7",
   "metadata": {},
   "outputs": [
    {
     "data": {
      "text/plain": [
       "{'name': 'bob',\n",
       " 'grades': {'math': 85, 'science': 90, 'history': 80, 'english': 95}}"
      ]
     },
     "execution_count": 50,
     "metadata": {},
     "output_type": "execute_result"
    }
   ],
   "source": [
    "student2=dict(name='bob', grades=student)\n",
    "student2"
   ]
  },
  {
   "cell_type": "code",
   "execution_count": 51,
   "id": "3340f5ff",
   "metadata": {},
   "outputs": [
    {
     "data": {
      "text/plain": [
       "dict_values([85, 90, 80, 95])"
      ]
     },
     "execution_count": 51,
     "metadata": {},
     "output_type": "execute_result"
    }
   ],
   "source": [
    "student2['grades'].values()"
   ]
  },
  {
   "cell_type": "code",
   "execution_count": 52,
   "id": "81cc02ba",
   "metadata": {},
   "outputs": [
    {
     "data": {
      "text/plain": [
       "[85, 90, 80, 95]"
      ]
     },
     "execution_count": 52,
     "metadata": {},
     "output_type": "execute_result"
    }
   ],
   "source": [
    "list(student2['grades'].values())"
   ]
  },
  {
   "cell_type": "code",
   "execution_count": 53,
   "id": "13cd95e6",
   "metadata": {},
   "outputs": [
    {
     "data": {
      "text/plain": [
       "350"
      ]
     },
     "execution_count": 53,
     "metadata": {},
     "output_type": "execute_result"
    }
   ],
   "source": [
    "grades = list(student2['grades'].values())\n",
    "sum(grades)"
   ]
  },
  {
   "cell_type": "code",
   "execution_count": 54,
   "id": "22521bb2",
   "metadata": {},
   "outputs": [
    {
     "data": {
      "text/plain": [
       "350"
      ]
     },
     "execution_count": 54,
     "metadata": {},
     "output_type": "execute_result"
    }
   ],
   "source": [
    "sum(student2['grades'].values()) #이렇게해도 어차피 나올값"
   ]
  },
  {
   "cell_type": "code",
   "execution_count": 55,
   "id": "9315f693",
   "metadata": {},
   "outputs": [
    {
     "data": {
      "text/plain": [
       "350"
      ]
     },
     "execution_count": 55,
     "metadata": {},
     "output_type": "execute_result"
    }
   ],
   "source": [
    "student2.setdefault('total',sum(student2['grades'].values()))"
   ]
  },
  {
   "attachments": {
    "image.png": {
     "image/png": "[encoded data removed]"
    }
   },
   "cell_type": "markdown",
   "id": "11e9a00c",
   "metadata": {},
   "source": [
    "![image.png](attachment:image.png)\n",
    "기본 사용법으로 반복 작업 할수 있지만 오타 등 다른 요인이 생길수있으므로 주의할것."
   ]
  },
  {
   "cell_type": "markdown",
   "id": "88a32762",
   "metadata": {},
   "source": [
    "20. **딕셔너리 `student`에서 update를 이용하여 'english' 는 100, 'history'는 80를 입력하세요.**  \n",
    "```python\n",
    " {'name': 'Bob',\n",
    " 'grades': {'math': 88, 'science': 90, 'english': 100, 'history': 80},\n",
    " 'total': 270}\n",
    "```"
   ]
  },
  {
   "cell_type": "code",
   "execution_count": 69,
   "id": "ba971f25",
   "metadata": {},
   "outputs": [],
   "source": [
    "student2['grades']"
   ]
  },
  {
   "cell_type": "code",
   "execution_count": null,
   "id": "4f72e795",
   "metadata": {},
   "outputs": [],
   "source": [
    "student=dict(math=85, science=90, history=80,english=95)"
   ]
  },
  {
   "cell_type": "markdown",
   "id": "505c5f30",
   "metadata": {},
   "source": [
    "21.**courses라는 변수에 dict() 함수를 사용하여 다음과 같은 딕셔너리를 생성하세요.**\n",
    "```python\n",
    "{'programming': {'python': 50, 'java': 30, 'Cpp': 20},\n",
    " 'design': {'Photoshop': 25, 'Illustrator': 15}}\n",
    "```"
   ]
  },
  {
   "cell_type": "code",
   "execution_count": 70,
   "id": "f3d31c06",
   "metadata": {},
   "outputs": [
    {
     "data": {
      "text/plain": [
       "{'programming': {'python': 50, 'java': 30, 'Cpp': 20},\n",
       " 'design': {'Photoshop': 25, 'Illustrator': 15}}"
      ]
     },
     "execution_count": 70,
     "metadata": {},
     "output_type": "execute_result"
    }
   ],
   "source": [
    "courses=dict(programming=dict(python=50, java=30, Cpp=20), design=dict(Photoshop=25, Illustrator=15))\n",
    "courses"
   ]
  },
  {
   "cell_type": "markdown",
   "id": "2973ce4b",
   "metadata": {},
   "source": [
    "22. **\"python\"의 수강생 수를 출력하세요.**  \n",
    "```python\n",
    "50\n",
    "```"
   ]
  },
  {
   "cell_type": "code",
   "execution_count": 71,
   "id": "f4a9a788",
   "metadata": {},
   "outputs": [
    {
     "data": {
      "text/plain": [
       "50"
      ]
     },
     "execution_count": 71,
     "metadata": {},
     "output_type": "execute_result"
    }
   ],
   "source": [
    "courses['programming']['python']"
   ]
  },
  {
   "cell_type": "markdown",
   "id": "c574c0b7",
   "metadata": {},
   "source": [
    "23. **딕셔너리 `courses`에서 `\"Cpp\"` 수강생 수를 25로 변경하고 출력하세요.**  \n",
    "    ```python\n",
    "    {'python': 50, 'java': 30, 'Cpp': 25}\n",
    "    ```\n"
   ]
  },
  {
   "cell_type": "code",
   "execution_count": 73,
   "id": "be0d727b",
   "metadata": {},
   "outputs": [
    {
     "data": {
      "text/plain": [
       "{'python': 50, 'java': 30, 'Cpp': 25}"
      ]
     },
     "execution_count": 73,
     "metadata": {},
     "output_type": "execute_result"
    }
   ],
   "source": [
    "courses['programming']['Cpp']=25\n",
    "courses['programming']"
   ]
  },
  {
   "cell_type": "markdown",
   "id": "fa06d68c",
   "metadata": {},
   "source": [
    "24. **딕셔너리 `courses`에서 `\"Photoshop\"` 수강생 수를 삭제하고 출력하세요.**  \n",
    "    ```python\n",
    "{'programming': {'python': 50, 'java': 30, 'Cpp': 25},\n",
    " 'design': {'Illustrator': 15}}\n",
    "    ```"
   ]
  },
  {
   "cell_type": "code",
   "execution_count": 74,
   "id": "db2701a4",
   "metadata": {},
   "outputs": [
    {
     "data": {
      "text/plain": [
       "25"
      ]
     },
     "execution_count": 74,
     "metadata": {},
     "output_type": "execute_result"
    }
   ],
   "source": [
    "courses['design'].pop('Photoshop')"
   ]
  },
  {
   "cell_type": "markdown",
   "id": "e3569b30",
   "metadata": {},
   "source": [
    "25. **딕셔너리 `courses`에서 `\"JavaScript\": 40`을 `\"programming\"` 항목에 추가하고 출력하세요.**  \n",
    "    ```python\n",
    "    {'python': 50, 'java': 30, 'Cpp': 25, 'JavaScript': 40}\n",
    "    ```"
   ]
  },
  {
   "cell_type": "code",
   "execution_count": 77,
   "id": "c93fafca",
   "metadata": {
    "scrolled": true
   },
   "outputs": [
    {
     "data": {
      "text/plain": [
       "40"
      ]
     },
     "execution_count": 77,
     "metadata": {},
     "output_type": "execute_result"
    }
   ],
   "source": [
    "courses['programming'].setdefault('JavaScript', 40)"
   ]
  },
  {
   "cell_type": "markdown",
   "id": "4ecadc8c",
   "metadata": {},
   "source": [
    "26. **딕셔너리 `courses`의 모든 과목명을 출력하세요.**  \n",
    "    ```python\n",
    "    dict_keys(['programming', 'design']) # 이외의 모든 과목명\n",
    "    ```"
   ]
  },
  {
   "cell_type": "code",
   "execution_count": 79,
   "id": "64c93ac1",
   "metadata": {},
   "outputs": [
    {
     "name": "stdout",
     "output_type": "stream",
     "text": [
      "{'python': 50, 'java': 30, 'Cpp': 25, 'JavaScript': 40}\n",
      "{'Illustrator': 15}\n"
     ]
    }
   ],
   "source": [
    "for key in courses:\n",
    "    print(courses[key])"
   ]
  },
  {
   "attachments": {
    "image.png": {
     "image/png": "[encoded data removed]"
    }
   },
   "cell_type": "markdown",
   "id": "2956e424",
   "metadata": {},
   "source": [
    "![image.png](attachment:image.png)\n",
    "#### 딕셔너리 중에 다시 해보고 싶은 부분**"
   ]
  },
  {
   "cell_type": "code",
   "execution_count": 85,
   "id": "c079f4ff",
   "metadata": {},
   "outputs": [
    {
     "name": "stdout",
     "output_type": "stream",
     "text": [
      "dict_keys(['python', 'java', 'Cpp', 'JavaScript'])\n",
      "dict_keys(['Illustrator'])\n"
     ]
    }
   ],
   "source": [
    "for key in courses:\n",
    "    print(courses[key].keys()) # 여기"
   ]
  },
  {
   "cell_type": "code",
   "execution_count": null,
   "id": "67ec5f04",
   "metadata": {},
   "outputs": [],
   "source": [
    "# 반복문으로 다시 하나씩\n",
    "for key in courses:\n",
    "    for subject in courses[key].keys():\n",
    "        subject_name.append(subject)"
   ]
  },
  {
   "cell_type": "code",
   "execution_count": 84,
   "id": "89fbaf7a",
   "metadata": {},
   "outputs": [
    {
     "data": {
      "text/plain": [
       "['python', 'java', 'Cpp', 'JavaScript', 'Illustrator']"
      ]
     },
     "execution_count": 84,
     "metadata": {},
     "output_type": "execute_result"
    }
   ],
   "source": [
    "subject_name=[]\n",
    "for key in courses:\n",
    "    for subject in courses[key].keys():\n",
    "        subject_name.append(subject) # 새변수에 추가\n",
    "subject_name"
   ]
  },
  {
   "cell_type": "code",
   "execution_count": 83,
   "id": "b8311f71",
   "metadata": {},
   "outputs": [
    {
     "data": {
      "text/plain": [
       "['python', 'java', 'Cpp', 'JavaScript', 'Illustrator']"
      ]
     },
     "execution_count": 83,
     "metadata": {},
     "output_type": "execute_result"
    }
   ],
   "source": [
    "# 좀더 간단한 방법\n",
    "list(courses['programming'].keys())+ list(\n",
    "courses['design'].keys())"
   ]
  },
  {
   "cell_type": "markdown",
   "id": "d8e20b0c",
   "metadata": {},
   "source": [
    "27. **딕셔너리 `courses`에서 `\"design\"` 과목의 모든 정보를 출력하세요.**  \n",
    "    ```python\n",
    "    {'Illustrator': 15}\n",
    "    ```"
   ]
  },
  {
   "cell_type": "code",
   "execution_count": 86,
   "id": "7e5be589",
   "metadata": {},
   "outputs": [
    {
     "data": {
      "text/plain": [
       "{'Illustrator': 15}"
      ]
     },
     "execution_count": 86,
     "metadata": {},
     "output_type": "execute_result"
    }
   ],
   "source": [
    "courses['design']"
   ]
  },
  {
   "cell_type": "markdown",
   "id": "7330bae3",
   "metadata": {},
   "source": [
    "28. **딕셔너리 `courses`에서 `\"design\"` 항목을 삭제하고 전체 딕셔너리를 출력하세요.**  \n",
    "    ```python\n",
    "    {'programming': {'python': 50, 'java': 30, 'Cpp': 25, 'JavaScript': 40}}\n",
    "    ```"
   ]
  },
  {
   "cell_type": "code",
   "execution_count": 87,
   "id": "850d00f8",
   "metadata": {},
   "outputs": [
    {
     "data": {
      "text/plain": [
       "{'programming': {'python': 50, 'java': 30, 'Cpp': 25, 'JavaScript': 40}}"
      ]
     },
     "execution_count": 87,
     "metadata": {},
     "output_type": "execute_result"
    }
   ],
   "source": [
    "del courses['design']\n",
    "courses"
   ]
  },
  {
   "cell_type": "markdown",
   "id": "c5c05027",
   "metadata": {},
   "source": [
    "29. **딕셔너리 `courses`에서 `\"programming\"` 항목이 존재하는지 확인하세요.**  \n",
    "    ```python\n",
    "    True\n",
    "    ```"
   ]
  },
  {
   "cell_type": "code",
   "execution_count": 90,
   "id": "48168ce4",
   "metadata": {},
   "outputs": [
    {
     "data": {
      "text/plain": [
       "True"
      ]
     },
     "execution_count": 90,
     "metadata": {},
     "output_type": "execute_result"
    }
   ],
   "source": [
    "'programming' in courses"
   ]
  },
  {
   "cell_type": "code",
   "execution_count": 92,
   "id": "23e1b471",
   "metadata": {},
   "outputs": [
    {
     "data": {
      "text/plain": [
       "False"
      ]
     },
     "execution_count": 92,
     "metadata": {},
     "output_type": "execute_result"
    }
   ],
   "source": [
    "'Cpp' in courses #프로그래밍 키의 하위 밸류에 있음"
   ]
  },
  {
   "cell_type": "code",
   "execution_count": 96,
   "id": "bfe772e8",
   "metadata": {},
   "outputs": [
    {
     "name": "stdout",
     "output_type": "stream",
     "text": [
      "True\n"
     ]
    }
   ],
   "source": [
    "# 모든 밸류를 뽑아서 검색하도록\n",
    "for key in courses:\n",
    "    if 'Cpp' in key:     # 변수지만 ''안씀. \n",
    "        print(True)\n",
    "    elif 'Cpp' in courses[key]: \n",
    "        print(True)\n",
    "#    print(courses[key])"
   ]
  },
  {
   "cell_type": "markdown",
   "id": "ef0816ad",
   "metadata": {},
   "source": [
    "30. **딕셔너리 `courses`에서 `\"design\"` 항목을 출력하고 `\"design\"` 이 없다면 design key 없음 이라고 출력하도록 하세요.** \n",
    "```python\n",
    "design key 없음\n",
    "```"
   ]
  },
  {
   "cell_type": "code",
   "execution_count": 99,
   "id": "d23cbfa3",
   "metadata": {},
   "outputs": [
    {
     "name": "stdout",
     "output_type": "stream",
     "text": [
      "design key 없음\n"
     ]
    }
   ],
   "source": [
    "print(courses.get('design','design key 없음'))"
   ]
  }
 ],
 "metadata": {
  "kernelspec": {
   "display_name": "Python 3 (ipykernel)",
   "language": "python",
   "name": "python3"
  },
  "language_info": {
   "codemirror_mode": {
    "name": "ipython",
    "version": 3
   },
   "file_extension": ".py",
   "mimetype": "text/x-python",
   "name": "python",
   "nbconvert_exporter": "python",
   "pygments_lexer": "ipython3",
   "version": "3.9.21"
  }
 },
 "nbformat": 4,
 "nbformat_minor": 5
}
