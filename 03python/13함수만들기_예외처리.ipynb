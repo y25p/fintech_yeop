{
 "cells": [
  {
   "cell_type": "markdown",
   "id": "f9014afd",
   "metadata": {},
   "source": [
    "## 그동안 배운 함수들\n",
    "- function: 기능\n",
    "- print(), split(), input()\n",
    "- 이런 함수를 커스텀하기.\n",
    "- 반복재사용하려는 함수들은 라이브러리에 추가함.\n",
    "- pandas,json,numpy 이런 모듈들이 라이브러리에 추가된 모듈."
   ]
  },
  {
   "cell_type": "code",
   "execution_count": 1,
   "id": "be923e09",
   "metadata": {},
   "outputs": [],
   "source": [
    "def mul10(num):\n",
    "    result = []\n",
    "    for i in num:\n",
    "        result.append(i*10)\n",
    "    return result\n",
    "\n",
    "#이 코드는 실행 후 아무일도 없는것같지만 함수가 만들어진것."
   ]
  },
  {
   "cell_type": "code",
   "execution_count": 2,
   "id": "bb728555",
   "metadata": {},
   "outputs": [],
   "source": [
    "l=[1,2,3,4]"
   ]
  },
  {
   "cell_type": "code",
   "execution_count": 3,
   "id": "8070d9c4",
   "metadata": {},
   "outputs": [
    {
     "data": {
      "text/plain": [
       "[10, 20, 30, 40]"
      ]
     },
     "execution_count": 3,
     "metadata": {},
     "output_type": "execute_result"
    }
   ],
   "source": [
    "mul10(l)"
   ]
  },
  {
   "cell_type": "code",
   "execution_count": 4,
   "id": "c76c0b62",
   "metadata": {},
   "outputs": [
    {
     "data": {
      "text/plain": [
       "[10, 20, 30, 40]"
      ]
     },
     "execution_count": 4,
     "metadata": {},
     "output_type": "execute_result"
    }
   ],
   "source": [
    "l2=list(range(53))\n",
    "mul10(l) # l이 num의 자리에 대입되는 순간임."
   ]
  },
  {
   "cell_type": "markdown",
   "id": "c9426d5f",
   "metadata": {},
   "source": [
    "## 함수만드는 공식\n",
    "`def 함수이름(자료, 변수명, 등):`<br>\n",
    "`    `실행코드 자리<br>\n",
    "`     return` 반환할 값=결과담을 변수<br>"
   ]
  },
  {
   "cell_type": "code",
   "execution_count": 5,
   "id": "5f40c9a2",
   "metadata": {},
   "outputs": [],
   "source": [
    "def hello():\n",
    "    print('hello world도 한걸음 부터')"
   ]
  },
  {
   "cell_type": "code",
   "execution_count": 6,
   "id": "91500516",
   "metadata": {},
   "outputs": [
    {
     "name": "stdout",
     "output_type": "stream",
     "text": [
      "hello world도 한걸음 부터\n"
     ]
    }
   ],
   "source": [
    "hello()"
   ]
  },
  {
   "cell_type": "markdown",
   "id": "988eb62e",
   "metadata": {},
   "source": [
    "## 함수 호출 순서\n",
    "- 함수는 호출 전에 정의(미리 만들어져있어야 실행할 수 있음)\n",
    "- 함수 정의가 함수 실행보다 앞서야함."
   ]
  },
  {
   "attachments": {
    "image.png": {
     "image/png": "[encoded data removed]"
    }
   },
   "cell_type": "markdown",
   "id": "eea7411f",
   "metadata": {},
   "source": [
    "## 함수의 매개변수\n",
    "- 함수가 받을 값을 변수에 저장함. 그 변수가 매개변수.<br>![image.png](attachment:image.png)"
   ]
  },
  {
   "cell_type": "code",
   "execution_count": null,
   "id": "711531cf",
   "metadata": {},
   "outputs": [],
   "source": [
    "def mul10(# ):\n",
    "    result = []\n",
    "    for i in #여기:\n",
    "        result.append(i*10)\n",
    "    return result\n"
   ]
  },
  {
   "cell_type": "markdown",
   "id": "fb2697d5",
   "metadata": {},
   "source": [
    "### 전역/지역 변수\n",
    "- 전역변수: 함수 밖에서 만들어진 변수들\n",
    "- 지역변수: 함수 안에서 생성 된 변수. 함수 밖에서는 기능못함.\n",
    "- 지역변수는 함수밖에서 할당한대로 따로 쓸수있음"
   ]
  },
  {
   "cell_type": "code",
   "execution_count": 7,
   "id": "cce2c032",
   "metadata": {},
   "outputs": [],
   "source": [
    "def mul10(num):\n",
    "    result = []\n",
    "    for i in num:\n",
    "        result.append(i*10)\n",
    "    print(result_in_func)\n",
    "    return result_in_func\n"
   ]
  },
  {
   "cell_type": "code",
   "execution_count": 8,
   "id": "2b4b7686",
   "metadata": {},
   "outputs": [
    {
     "ename": "NameError",
     "evalue": "name 'result_in_func' is not defined",
     "output_type": "error",
     "traceback": [
      "\u001b[1;31m---------------------------------------------------------------------------\u001b[0m",
      "\u001b[1;31mNameError\u001b[0m                                 Traceback (most recent call last)",
      "Cell \u001b[1;32mIn[8], line 1\u001b[0m\n\u001b[1;32m----> 1\u001b[0m \u001b[43mresult_in_func\u001b[49m\n",
      "\u001b[1;31mNameError\u001b[0m: name 'result_in_func' is not defined"
     ]
    }
   ],
   "source": [
    "result_in_func # 만든 리턴값을 함수 밖에서 호출해봐도 안됨."
   ]
  },
  {
   "cell_type": "markdown",
   "id": "5ee6580b",
   "metadata": {},
   "source": [
    "#### 매개변수 1개짜리 함수 - 리턴이 없는 함수를 예로듦"
   ]
  },
  {
   "cell_type": "code",
   "execution_count": 13,
   "id": "add39d94",
   "metadata": {},
   "outputs": [],
   "source": [
    "def circle(w):\n",
    "    print(f\"반지름의 길이가 {w}인 원의 넓이는: {w*w*3.14}입니다.\")"
   ]
  },
  {
   "cell_type": "code",
   "execution_count": 14,
   "id": "e8b8a30c",
   "metadata": {},
   "outputs": [
    {
     "name": "stdout",
     "output_type": "stream",
     "text": [
      "반지름의 길이가 3인 원의 넓이는: 28.26입니다.\n"
     ]
    }
   ],
   "source": [
    "circle(3)"
   ]
  },
  {
   "cell_type": "markdown",
   "id": "0f950a69",
   "metadata": {},
   "source": [
    "#### 매개변수 2개쓰는 함수"
   ]
  },
  {
   "cell_type": "code",
   "execution_count": 16,
   "id": "6d2aeef6",
   "metadata": {},
   "outputs": [
    {
     "name": "stdout",
     "output_type": "stream",
     "text": [
      "13\n"
     ]
    }
   ],
   "source": [
    "# 덧셈\n",
    "def add(a,b):\n",
    "    return a+b\n",
    "\n",
    "print(add(10, 3))"
   ]
  },
  {
   "cell_type": "markdown",
   "id": "69af8776",
   "metadata": {},
   "source": [
    "#### 매개변수 3개 함수\n",
    "- 제시조건: 숫자를 3개받고. a는 시작숫자, b는 끝나는 숫자, c는 스탭으로 작동하게.\n",
    "- num_maker(1,11,2) 넣으면<br>결과:1,3,5,7,9 "
   ]
  },
  {
   "cell_type": "code",
   "execution_count": 23,
   "id": "9ce7ed72",
   "metadata": {},
   "outputs": [],
   "source": [
    "def num_maker(a,b,c):\n",
    "    d = list(range(a,b,c))\n",
    "    return d"
   ]
  },
  {
   "cell_type": "code",
   "execution_count": 24,
   "id": "99c69e5a",
   "metadata": {},
   "outputs": [
    {
     "data": {
      "text/plain": [
       "[1, 3, 5, 7, 9]"
      ]
     },
     "execution_count": 24,
     "metadata": {},
     "output_type": "execute_result"
    }
   ],
   "source": [
    "num_maker(1,11,2)"
   ]
  },
  {
   "cell_type": "markdown",
   "id": "e09fdd2f",
   "metadata": {},
   "source": [
    "예제 두번째. 두가지 리턴되도록"
   ]
  },
  {
   "cell_type": "code",
   "execution_count": 32,
   "id": "a26ef261",
   "metadata": {},
   "outputs": [],
   "source": [
    "def num_makerker(a,b,c):\n",
    "    d = list(range(a,b,c))\n",
    "    dd = []\n",
    "    for e in d:\n",
    "        dd.append(e*10)\n",
    "    print(dd)\n",
    "    return d, dd"
   ]
  },
  {
   "cell_type": "code",
   "execution_count": 33,
   "id": "a6cb610d",
   "metadata": {},
   "outputs": [
    {
     "name": "stdout",
     "output_type": "stream",
     "text": [
      "[10]\n"
     ]
    },
    {
     "data": {
      "text/plain": [
       "([1], [10])"
      ]
     },
     "execution_count": 33,
     "metadata": {},
     "output_type": "execute_result"
    }
   ],
   "source": [
    "num_makerker(1,2,3)"
   ]
  },
  {
   "attachments": {
    "image.png": {
     "image/png": "[encoded data removed]"
    }
   },
   "cell_type": "markdown",
   "id": "38fd0f99",
   "metadata": {},
   "source": [
    "![image.png](attachment:image.png)\n",
    "함수는 키-값튜플로 내보낸다.(default)"
   ]
  },
  {
   "cell_type": "markdown",
   "id": "551828ef",
   "metadata": {},
   "source": [
    "## 리턴값이 여럿인 함수"
   ]
  },
  {
   "cell_type": "code",
   "execution_count": 38,
   "id": "375c75ea",
   "metadata": {},
   "outputs": [],
   "source": [
    "def add_sub(a,b):\n",
    "    add=a+b\n",
    "    sub=a-b\n",
    "    return add, sub"
   ]
  },
  {
   "cell_type": "code",
   "execution_count": 35,
   "id": "8424a63c",
   "metadata": {},
   "outputs": [
    {
     "name": "stdout",
     "output_type": "stream",
     "text": [
      "8 -2\n"
     ]
    }
   ],
   "source": [
    "# 변수 두개 만들어서 각각 넣어주기\n",
    "add_result, sub_result = add_sub(3,5)\n",
    "print(add_result, sub_result)"
   ]
  },
  {
   "cell_type": "code",
   "execution_count": 1,
   "id": "89ceb460",
   "metadata": {},
   "outputs": [
    {
     "ename": "NameError",
     "evalue": "name 'add_sub' is not defined",
     "output_type": "error",
     "traceback": [
      "\u001b[1;31m---------------------------------------------------------------------------\u001b[0m",
      "\u001b[1;31mNameError\u001b[0m                                 Traceback (most recent call last)",
      "Cell \u001b[1;32mIn[1], line 2\u001b[0m\n\u001b[0;32m      1\u001b[0m \u001b[38;5;66;03m# 또는 한 변수에 넣기도 가능\u001b[39;00m\n\u001b[1;32m----> 2\u001b[0m result \u001b[38;5;241m=\u001b[39m \u001b[43madd_sub\u001b[49m(\u001b[38;5;241m3\u001b[39m,\u001b[38;5;241m5\u001b[39m) \n\u001b[0;32m      3\u001b[0m \u001b[38;5;28mprint\u001b[39m(result[\u001b[38;5;241m0\u001b[39m], result[\u001b[38;5;241m1\u001b[39m]) \u001b[38;5;66;03m# 출력할때 인덱싱으로 지정하여 출력가능\u001b[39;00m\n",
      "\u001b[1;31mNameError\u001b[0m: name 'add_sub' is not defined"
     ]
    }
   ],
   "source": [
    "# 또는 한 변수에 넣기도 가능\n",
    "result = add_sub(3,5) \n",
    "print(result[0], result[1]) # 출력할때 인덱싱으로 지정하여 출력가능"
   ]
  },
  {
   "cell_type": "markdown",
   "id": "ed8a7bd8",
   "metadata": {},
   "source": [
    "### 리턴값이 여럿인 함수\n",
    "- num_maker2 - 정방향, 역방향 리스트가 출력되는 함수\n",
    "- 3개의 수를 받아 리스트를 만들고\n",
    "- 리스트+3을 한 결과를 리스트로 반환\n",
    "- 정방향, 역방향 수열 출력되도록."
   ]
  },
  {
   "cell_type": "code",
   "execution_count": 10,
   "id": "30d2bd8a",
   "metadata": {},
   "outputs": [],
   "source": [
    "def num_maker2(start, end, step):\n",
    "    list_result=list(range(start,end,step))\n",
    "    reversed_list=list_result[::-1]\n",
    "    print(list_result,reversed_list)\n",
    "#     return "
   ]
  },
  {
   "cell_type": "code",
   "execution_count": 12,
   "id": "6acc630d",
   "metadata": {},
   "outputs": [
    {
     "name": "stdout",
     "output_type": "stream",
     "text": [
      "[1, 2, 3, 4, 5, 6, 7, 8, 9] [9, 8, 7, 6, 5, 4, 3, 2, 1]\n",
      "None\n"
     ]
    }
   ],
   "source": [
    "result= num_maker2(1,10,1)\n",
    "print(result) "
   ]
  },
  {
   "attachments": {
    "image.png": {
     "image/png": "[encoded data removed]"
    }
   },
   "cell_type": "markdown",
   "id": "ecd18a41",
   "metadata": {},
   "source": [
    "**none이 나온이유. 리턴자리인데 리턴이 없기 때문.![image.png](attachment:image.png)"
   ]
  },
  {
   "cell_type": "code",
   "execution_count": 14,
   "id": "7fbe0be5",
   "metadata": {},
   "outputs": [],
   "source": [
    "def num_maker2(start, end, step):\n",
    "    list_result=list(range(start,end,step))\n",
    "    reversed_list=list_result[::-1]\n",
    "    return list_result, reversed_list"
   ]
  },
  {
   "cell_type": "code",
   "execution_count": 15,
   "id": "fef79a0e",
   "metadata": {},
   "outputs": [
    {
     "name": "stdout",
     "output_type": "stream",
     "text": [
      "([1, 2, 3, 4, 5, 6, 7, 8, 9], [9, 8, 7, 6, 5, 4, 3, 2, 1])\n"
     ]
    }
   ],
   "source": [
    "result= num_maker2(1,10,1)\n",
    "print(result)"
   ]
  },
  {
   "cell_type": "code",
   "execution_count": 17,
   "id": "23c694a9",
   "metadata": {},
   "outputs": [
    {
     "name": "stdout",
     "output_type": "stream",
     "text": [
      "1 2 3 4 5 6 7 8 9 9 8 7 6 5 4 3 2 1 "
     ]
    }
   ],
   "source": [
    "# 하나씩 펼치고 싶다면 \n",
    "for i in result:\n",
    "    for j in i:\n",
    "        print(j, end=' ')"
   ]
  },
  {
   "cell_type": "markdown",
   "id": "7a16ab5a",
   "metadata": {},
   "source": [
    "## 함수 진행중 종료시키기\n",
    "- for문의 break처럼 쓰임.\n",
    "- 함수끝에 return이 실행되면 함수는 종료.\n",
    "- return은 함수의 모든 과정의 결과값을 내보내는것.\n",
    "<br>\n",
    "#### 예제1"
   ]
  },
  {
   "cell_type": "code",
   "execution_count": 21,
   "id": "9fc95b91",
   "metadata": {},
   "outputs": [],
   "source": [
    "def even(num):\n",
    "\n",
    "    return"
   ]
  },
  {
   "cell_type": "code",
   "execution_count": 22,
   "id": "7f712d41",
   "metadata": {},
   "outputs": [
    {
     "name": "stdout",
     "output_type": "stream",
     "text": [
      "[1, 2, 3, 4, 5, 6, 7, 8, 9, 10, 11, 12, 13, 14, 15, 16, 17, 18, 19, 20, 21, 22, 23, 24, 25, 26, 27, 28, 29, 30, 31, 32, 33, 34, 35, 36, 37, 38, 39, 40, 41, 42, 43, 44, 45, 46, 47, 48, 49, 50, 51, 52, 53, 54, 55, 56, 57, 58, 59, 60, 61, 62, 63, 64, 65, 66, 67, 68, 69, 70, 71, 72, 73, 74, 75, 76, 77, 78, 79, 80, 81, 82, 83, 84, 85, 86, 87, 88, 89, 90, 91, 92, 93, 94, 95, 96, 97, 98, 99, 100]\n"
     ]
    }
   ],
   "source": [
    "even(list(range(1,101)))"
   ]
  },
  {
   "cell_type": "markdown",
   "id": "8b560aa1",
   "metadata": {},
   "source": [
    "- 1~100 중 짝수만 더하기\n",
    "- 숫자가 50이상이 되면 중단되도록."
   ]
  },
  {
   "cell_type": "code",
   "execution_count": null,
   "id": "459393c4",
   "metadata": {},
   "outputs": [],
   "source": [
    "def even(num):\n",
    "    if num<50:\n",
    "        i+=2\n",
    "    else:\n",
    "        num >= 50\n",
    "        break\n",
    "    return"
   ]
  },
  {
   "cell_type": "code",
   "execution_count": null,
   "id": "139c9ca7",
   "metadata": {},
   "outputs": [],
   "source": [
    "even(list(range(1,101)))"
   ]
  },
  {
   "cell_type": "markdown",
   "id": "1f0777c1",
   "metadata": {},
   "source": [
    "##### 풀이"
   ]
  },
  {
   "cell_type": "code",
   "execution_count": null,
   "id": "54bae215",
   "metadata": {},
   "outputs": [],
   "source": [
    "# 풀이\n",
    "def even(num):\n",
    "    hap=0\n",
    "    for i in num\n",
    "    if i%2 ==0:\n",
    "        hap+=1\n",
    "    return"
   ]
  },
  {
   "cell_type": "code",
   "execution_count": 31,
   "id": "1986dd6b",
   "metadata": {},
   "outputs": [],
   "source": [
    "# 그런데 이제 50보다 크면 멈추게.\n",
    "def even(num):\n",
    "    hap=0\n",
    "    for i in num:\n",
    "        if i <50:\n",
    "            if i%2 ==0:\n",
    "                hap+=i\n",
    "                print(hap, end=' ') # 수가 더하는 과정을 보려면 추가.\n",
    "        else:break\n",
    "        # print(hap) 여기있다가 이동.\n",
    "    return hap"
   ]
  },
  {
   "cell_type": "code",
   "execution_count": 32,
   "id": "db19c79e",
   "metadata": {
    "scrolled": true
   },
   "outputs": [
    {
     "name": "stdout",
     "output_type": "stream",
     "text": [
      "2 6 12 20 30 42 56 72 90 110 132 156 182 210 240 272 306 342 380 420 462 506 552 600 "
     ]
    },
    {
     "data": {
      "text/plain": [
       "600"
      ]
     },
     "execution_count": 32,
     "metadata": {},
     "output_type": "execute_result"
    }
   ],
   "source": [
    "even(list(range(1,101)))"
   ]
  },
  {
   "cell_type": "code",
   "execution_count": 33,
   "id": "a91f0baf",
   "metadata": {},
   "outputs": [],
   "source": [
    "# return위치 수정 - break 처럼 사용.\n",
    "def even(num):\n",
    "    hap=0\n",
    "    for i in num:\n",
    "        if i <50:\n",
    "            if i%2 ==0:\n",
    "                hap+=i\n",
    "                print(hap, end=' ') # 수가 더하는 과정을 보려면 추가.\n",
    "        else:\n",
    "            return hap "
   ]
  },
  {
   "cell_type": "code",
   "execution_count": 34,
   "id": "33188b1d",
   "metadata": {
    "scrolled": true
   },
   "outputs": [
    {
     "name": "stdout",
     "output_type": "stream",
     "text": [
      "2 6 12 20 30 42 56 72 90 110 132 156 182 210 240 272 306 342 380 420 462 506 552 600 "
     ]
    },
    {
     "data": {
      "text/plain": [
       "600"
      ]
     },
     "execution_count": 34,
     "metadata": {},
     "output_type": "execute_result"
    }
   ],
   "source": [
    "even(list(range(1,101)))"
   ]
  },
  {
   "cell_type": "code",
   "execution_count": 36,
   "id": "1d9c6aea",
   "metadata": {},
   "outputs": [],
   "source": [
    "# 덧셈식 넣기\n",
    "def even(num):\n",
    "    hap=0\n",
    "    for i in num:\n",
    "        if i <50:\n",
    "            if i%2 ==0:\n",
    "                print(f\"{i}+{hap}\", end=' ') # 수가 더하는 과정여기.\n",
    "                hap+=i                \n",
    "        else:\n",
    "            return hap "
   ]
  },
  {
   "cell_type": "code",
   "execution_count": 37,
   "id": "c80b7164",
   "metadata": {
    "scrolled": false
   },
   "outputs": [
    {
     "name": "stdout",
     "output_type": "stream",
     "text": [
      "2+0 4+2 6+6 8+12 10+20 12+30 14+42 16+56 18+72 20+90 22+110 24+132 26+156 28+182 30+210 32+240 34+272 36+306 38+342 40+380 42+420 44+462 46+506 48+552 "
     ]
    },
    {
     "data": {
      "text/plain": [
       "600"
      ]
     },
     "execution_count": 37,
     "metadata": {},
     "output_type": "execute_result"
    }
   ],
   "source": [
    "even(list(range(1,101)))"
   ]
  },
  {
   "cell_type": "code",
   "execution_count": 44,
   "id": "b217aaa2",
   "metadata": {},
   "outputs": [],
   "source": [
    "# 결과물도 달고싶다면\n",
    "def even(num):\n",
    "    hap=0\n",
    "    for i in num:\n",
    "        if i <50:\n",
    "            if i%2 ==0:\n",
    "                print(f\"{i}+{hap}=\", end='') # 수가 더하는 과정여기.\n",
    "                hap+=i\n",
    "                print(f\"{hap}\", end=' ')\n",
    "                 \n",
    "        else: return hap "
   ]
  },
  {
   "cell_type": "code",
   "execution_count": 45,
   "id": "898c90f8",
   "metadata": {
    "scrolled": false
   },
   "outputs": [
    {
     "name": "stdout",
     "output_type": "stream",
     "text": [
      "2+0=2 4+2=6 6+6=12 8+12=20 10+20=30 12+30=42 14+42=56 16+56=72 18+72=90 20+90=110 22+110=132 24+132=156 26+156=182 28+182=210 30+210=240 32+240=272 34+272=306 36+306=342 38+342=380 40+380=420 42+420=462 44+462=506 46+506=552 48+552=600 "
     ]
    },
    {
     "data": {
      "text/plain": [
       "600"
      ]
     },
     "execution_count": 45,
     "metadata": {},
     "output_type": "execute_result"
    }
   ],
   "source": [
    "even(list(range(1,101)))"
   ]
  },
  {
   "cell_type": "markdown",
   "id": "6903d86c",
   "metadata": {},
   "source": [
    "### 예제2\n",
    "- 전에 했던 예제들 중 점수 범위에따라 값출력\n",
    "- 91-100점은 A학점, 81-90은 B학점, <br> 71-80이면 C학점, 61-70학점이면 D학점, 60이하는 F학점\n",
    "- input() 으로 값 받기\n",
    "- student_grade 함수에 들어간 값은 비교를 해서 학점 출력되도록"
   ]
  },
  {
   "cell_type": "code",
   "execution_count": 53,
   "id": "56c081e4",
   "metadata": {},
   "outputs": [
    {
     "ename": "IndentationError",
     "evalue": "expected an indented block (931071733.py, line 12)",
     "output_type": "error",
     "traceback": [
      "\u001b[1;36m  Cell \u001b[1;32mIn[53], line 12\u001b[1;36m\u001b[0m\n\u001b[1;33m    return print(\"A학점\")\u001b[0m\n\u001b[1;37m    ^\u001b[0m\n\u001b[1;31mIndentationError\u001b[0m\u001b[1;31m:\u001b[0m expected an indented block\n"
     ]
    }
   ],
   "source": [
    "a= input('점수를 입력하세요')\n",
    "def student_grade(a):\n",
    "    if 101 > a > 90:\n",
    "        print(\"A학점\")\n",
    "#         if 91 > a > 80:\n",
    "#             print(\"B학점\")\n",
    "#             if 81 > a > 70:\n",
    "#                 print(\"C학점\")\n",
    "#                 if 71 > a > 60:\n",
    "#                     print(\"D학점\")\n",
    "#     else: print(\"F학점\")\n",
    "    return print()"
   ]
  },
  {
   "cell_type": "markdown",
   "id": "68497de1",
   "metadata": {},
   "source": [
    "#### 풀이"
   ]
  },
  {
   "cell_type": "code",
   "execution_count": 7,
   "id": "0d7c3191",
   "metadata": {
    "scrolled": true
   },
   "outputs": [],
   "source": [
    "def student_grade(score):\n",
    "    if 101 > score > 90:\n",
    "        return \"A학점\"\n",
    "    elif 91 > score > 80:\n",
    "        return(\"B학점\")\n",
    "    elif 81 > score > 70:\n",
    "        return \"C학점\"\n",
    "    elif 71 > score > 60:\n",
    "        return \"D학점\"\n",
    "    else: \n",
    "        print(\"F학점\")"
   ]
  },
  {
   "cell_type": "code",
   "execution_count": 8,
   "id": "d18bb4fc",
   "metadata": {},
   "outputs": [
    {
     "data": {
      "text/plain": [
       "'B학점'"
      ]
     },
     "execution_count": 8,
     "metadata": {},
     "output_type": "execute_result"
    }
   ],
   "source": [
    "student_grade(90)"
   ]
  },
  {
   "cell_type": "code",
   "execution_count": null,
   "id": "735015bc",
   "metadata": {},
   "outputs": [],
   "source": [
    "score = student_grade(90)"
   ]
  },
  {
   "attachments": {
    "image.png": {
     "image/png": "[encoded data removed]"
    }
   },
   "cell_type": "markdown",
   "id": "80850ef3",
   "metadata": {},
   "source": [
    "### 리턴을 마지막에 한번만쓴다면\n",
    "![image.png](attachment:image.png)\n",
    "중간에 `result=\"\"`는 불필요하다."
   ]
  },
  {
   "attachments": {
    "image-2.png": {
     "image/png": "[encoded data removed]"
    }
   },
   "cell_type": "markdown",
   "id": "4415d435",
   "metadata": {},
   "source": [
    "## 인수: 함수에 집어넣는 자료<br> (매개변수가 받는)\n",
    "#### 1) 위치인수(positional argument):\n",
    "- 위치가 고정된 인수. 자리의 순서로 구분함\n",
    "![image-2.png](attachment:image-2.png)\n",
    "\n",
    "- 순서 개수를 맞춰야 받는 인수"
   ]
  },
  {
   "cell_type": "code",
   "execution_count": 14,
   "id": "846c779e",
   "metadata": {},
   "outputs": [],
   "source": [
    "def num_maker2(start, end, step):\n",
    "    list_result=list(range(start,end,step))\n",
    "    reversed_list=list_result[::-1]\n",
    "    return list_result, reversed_list"
   ]
  },
  {
   "cell_type": "code",
   "execution_count": null,
   "id": "a66a55cc",
   "metadata": {},
   "outputs": [],
   "source": [
    "result=num_maker2(30,10,3) # 위사진에서 1 2 3의 순서대로 30, 10, 3을 넣는것\n",
    "print(result)              # 자리는 3개인데 4개넣어도 마찬가지로 안받음"
   ]
  },
  {
   "attachments": {
    "image.png": {
     "image/png": "[encoded data removed]"
    }
   },
   "cell_type": "markdown",
   "id": "0caaecc9",
   "metadata": {},
   "source": [
    "![image.png](attachment:image.png)"
   ]
  },
  {
   "attachments": {
    "image.png": {
     "image/png": "[encoded data removed]"
    }
   },
   "cell_type": "markdown",
   "id": "1f188e4e",
   "metadata": {},
   "source": [
    "![image.png](attachment:image.png)\n",
    "**리턴값이 여러개여도 () 안에 한덩어리로 나옴"
   ]
  },
  {
   "cell_type": "markdown",
   "id": "3abf54b5",
   "metadata": {},
   "source": [
    "#### 함수인자로 리스트를 넣더라도 리스트안의 요소의 개수와 상관없이 안받음."
   ]
  },
  {
   "cell_type": "code",
   "execution_count": 56,
   "id": "b5d884a3",
   "metadata": {},
   "outputs": [],
   "source": [
    "def print_nums(a,b,c):\n",
    "    print(a,b,c)"
   ]
  },
  {
   "cell_type": "code",
   "execution_count": 57,
   "id": "3fc3b0ed",
   "metadata": {},
   "outputs": [
    {
     "ename": "NameError",
     "evalue": "name 'l' is not defined",
     "output_type": "error",
     "traceback": [
      "\u001b[1;31m---------------------------------------------------------------------------\u001b[0m",
      "\u001b[1;31mNameError\u001b[0m                                 Traceback (most recent call last)",
      "Cell \u001b[1;32mIn[57], line 2\u001b[0m\n\u001b[0;32m      1\u001b[0m l1\u001b[38;5;241m=\u001b[39m[\u001b[38;5;241m1\u001b[39m,\u001b[38;5;241m2\u001b[39m,\u001b[38;5;241m3\u001b[39m]\n\u001b[1;32m----> 2\u001b[0m print_nums(\u001b[43ml\u001b[49m)\n",
      "\u001b[1;31mNameError\u001b[0m: name 'l' is not defined"
     ]
    }
   ],
   "source": [
    "l1=[1,2,3]\n",
    "print_nums(l)"
   ]
  },
  {
   "attachments": {
    "image.png": {
     "image/png": "[encoded data removed]"
    }
   },
   "cell_type": "markdown",
   "id": "928fd910",
   "metadata": {},
   "source": [
    "- 리스트/튜플 풀어서 넣으면?\n",
    "![image.png](attachment:image.png)"
   ]
  },
  {
   "cell_type": "code",
   "execution_count": 58,
   "id": "eab017dc",
   "metadata": {},
   "outputs": [
    {
     "name": "stdout",
     "output_type": "stream",
     "text": [
      "1 2 3\n"
     ]
    }
   ],
   "source": [
    "print(*l1)"
   ]
  },
  {
   "cell_type": "code",
   "execution_count": 59,
   "id": "074b9ef9",
   "metadata": {},
   "outputs": [
    {
     "name": "stdout",
     "output_type": "stream",
     "text": [
      "1 2 3\n"
     ]
    }
   ],
   "source": [
    "print_nums(*l1)"
   ]
  },
  {
   "cell_type": "code",
   "execution_count": 60,
   "id": "1d8a508b",
   "metadata": {},
   "outputs": [
    {
     "ename": "TypeError",
     "evalue": "print_nums() takes 3 positional arguments but 4 were given",
     "output_type": "error",
     "traceback": [
      "\u001b[1;31m---------------------------------------------------------------------------\u001b[0m",
      "\u001b[1;31mTypeError\u001b[0m                                 Traceback (most recent call last)",
      "Cell \u001b[1;32mIn[60], line 2\u001b[0m\n\u001b[0;32m      1\u001b[0m l1\u001b[38;5;241m.\u001b[39mappend(\u001b[38;5;241m10\u001b[39m)\n\u001b[1;32m----> 2\u001b[0m \u001b[43mprint_nums\u001b[49m\u001b[43m(\u001b[49m\u001b[38;5;241;43m*\u001b[39;49m\u001b[43ml1\u001b[49m\u001b[43m)\u001b[49m\n",
      "\u001b[1;31mTypeError\u001b[0m: print_nums() takes 3 positional arguments but 4 were given"
     ]
    }
   ],
   "source": [
    "l1.append(10)\n",
    "print_nums(*l1)"
   ]
  },
  {
   "cell_type": "markdown",
   "id": "dfc09bf6",
   "metadata": {},
   "source": [
    "### 2) 가변위치인수(args, Variable-length Arguments)\n",
    "- 자료가 0개~무제한 무조건 받는 인수\n",
    "- 인수없이 써도 빈 튜플을 출력.(함수가 성립할때)\n",
    "- '*' 과함께씀"
   ]
  },
  {
   "cell_type": "code",
   "execution_count": 9,
   "id": "539099c6",
   "metadata": {},
   "outputs": [],
   "source": [
    "def print_nums(*nums):\n",
    "    print(nums, type(nums))\n",
    "    for i in  nums:\n",
    "        print(i,end=\" \")"
   ]
  },
  {
   "cell_type": "code",
   "execution_count": 67,
   "id": "59342b4c",
   "metadata": {
    "scrolled": true
   },
   "outputs": [
    {
     "name": "stdout",
     "output_type": "stream",
     "text": [
      "(range(1, 10),) <class 'tuple'>\n",
      "range(1, 10) "
     ]
    }
   ],
   "source": [
    "print_nums(range(1,10))"
   ]
  },
  {
   "cell_type": "code",
   "execution_count": 68,
   "id": "9080fdbd",
   "metadata": {
    "scrolled": true
   },
   "outputs": [
    {
     "name": "stdout",
     "output_type": "stream",
     "text": [
      "([1, 2, 3, 4, 5, 6, 7, 8, 9],) <class 'tuple'>\n",
      "[1, 2, 3, 4, 5, 6, 7, 8, 9] "
     ]
    }
   ],
   "source": [
    "ii=list(range(1,10))\n",
    "print_nums(ii)"
   ]
  },
  {
   "cell_type": "code",
   "execution_count": 69,
   "id": "7e0f7606",
   "metadata": {
    "scrolled": true
   },
   "outputs": [
    {
     "name": "stdout",
     "output_type": "stream",
     "text": [
      "(1, 2, 3, 4, 5, 6, 7, 8) <class 'tuple'>\n",
      "1 2 3 4 5 6 7 8 "
     ]
    }
   ],
   "source": [
    "print_nums(1,2,3,4,5,6,7,8)"
   ]
  },
  {
   "cell_type": "code",
   "execution_count": 10,
   "id": "aaafe5a1",
   "metadata": {},
   "outputs": [
    {
     "name": "stdout",
     "output_type": "stream",
     "text": [
      "(1, 2, 3, 4) <class 'tuple'>\n",
      "1 2 3 4 "
     ]
    }
   ],
   "source": [
    "print_nums(1,2,3,4)"
   ]
  },
  {
   "cell_type": "markdown",
   "id": "323ac9dd",
   "metadata": {},
   "source": [
    "### 예제) 인수의 합을 구하는 함수만들기\n",
    "- 보통 args를 변수로 많이 쓴다."
   ]
  },
  {
   "cell_type": "code",
   "execution_count": 83,
   "id": "d94936d5",
   "metadata": {},
   "outputs": [
    {
     "ename": "NameError",
     "evalue": "name 'hap' is not defined",
     "output_type": "error",
     "traceback": [
      "\u001b[1;31m---------------------------------------------------------------------------\u001b[0m",
      "\u001b[1;31mNameError\u001b[0m                                 Traceback (most recent call last)",
      "Cell \u001b[1;32mIn[83], line 3\u001b[0m\n\u001b[0;32m      1\u001b[0m num\u001b[38;5;241m=\u001b[39m\u001b[38;5;241m1\u001b[39m, \u001b[38;5;241m2\u001b[39m, \u001b[38;5;241m3\u001b[39m, \u001b[38;5;241m4\u001b[39m, \u001b[38;5;241m5\u001b[39m, \u001b[38;5;241m6\u001b[39m, \u001b[38;5;241m7\u001b[39m, \u001b[38;5;241m8\u001b[39m,\u001b[38;5;241m9\u001b[39m,\u001b[38;5;241m10\u001b[39m\n\u001b[0;32m      2\u001b[0m \u001b[38;5;28;01mfor\u001b[39;00m i \u001b[38;5;129;01min\u001b[39;00m num:\n\u001b[1;32m----> 3\u001b[0m     hap\u001b[38;5;241m+\u001b[39m\u001b[38;5;241m=\u001b[39mi\n\u001b[0;32m      4\u001b[0m     \u001b[38;5;28mprint\u001b[39m(hap)\n",
      "\u001b[1;31mNameError\u001b[0m: name 'hap' is not defined"
     ]
    }
   ],
   "source": [
    "num=1, 2, 3, 4, 5, 6, 7, 8,9,10\n",
    "for i in num:\n",
    "    hap+=i\n",
    "    print(hap)"
   ]
  },
  {
   "cell_type": "code",
   "execution_count": 11,
   "id": "71ec92c0",
   "metadata": {},
   "outputs": [],
   "source": [
    "def mysum(*num):\n",
    "#     print(num)\n",
    "    for i in num:\n",
    "        hap+=i\n",
    "    return hap"
   ]
  },
  {
   "cell_type": "code",
   "execution_count": 13,
   "id": "be5aeda7",
   "metadata": {},
   "outputs": [
    {
     "ename": "UnboundLocalError",
     "evalue": "local variable 'hap' referenced before assignment",
     "output_type": "error",
     "traceback": [
      "\u001b[1;31m---------------------------------------------------------------------------\u001b[0m",
      "\u001b[1;31mUnboundLocalError\u001b[0m                         Traceback (most recent call last)",
      "Cell \u001b[1;32mIn[13], line 1\u001b[0m\n\u001b[1;32m----> 1\u001b[0m result\u001b[38;5;241m=\u001b[39m\u001b[43mmysum\u001b[49m\u001b[43m(\u001b[49m\u001b[38;5;241;43m1\u001b[39;49m\u001b[43m,\u001b[49m\u001b[43m \u001b[49m\u001b[38;5;241;43m2\u001b[39;49m\u001b[43m,\u001b[49m\u001b[43m \u001b[49m\u001b[38;5;241;43m3\u001b[39;49m\u001b[43m,\u001b[49m\u001b[43m \u001b[49m\u001b[38;5;241;43m4\u001b[39;49m\u001b[43m,\u001b[49m\u001b[43m \u001b[49m\u001b[38;5;241;43m5\u001b[39;49m\u001b[43m,\u001b[49m\u001b[43m \u001b[49m\u001b[38;5;241;43m6\u001b[39;49m\u001b[43m,\u001b[49m\u001b[43m \u001b[49m\u001b[38;5;241;43m7\u001b[39;49m\u001b[43m,\u001b[49m\u001b[43m \u001b[49m\u001b[38;5;241;43m8\u001b[39;49m\u001b[43m,\u001b[49m\u001b[38;5;241;43m9\u001b[39;49m\u001b[43m,\u001b[49m\u001b[38;5;241;43m10\u001b[39;49m\u001b[43m)\u001b[49m\n\u001b[0;32m      2\u001b[0m \u001b[38;5;28mprint\u001b[39m(result)\n",
      "Cell \u001b[1;32mIn[11], line 4\u001b[0m, in \u001b[0;36mmysum\u001b[1;34m(*num)\u001b[0m\n\u001b[0;32m      1\u001b[0m \u001b[38;5;28;01mdef\u001b[39;00m\u001b[38;5;250m \u001b[39m\u001b[38;5;21mmysum\u001b[39m(\u001b[38;5;241m*\u001b[39mnum):\n\u001b[0;32m      2\u001b[0m \u001b[38;5;66;03m#     print(num)\u001b[39;00m\n\u001b[0;32m      3\u001b[0m     \u001b[38;5;28;01mfor\u001b[39;00m i \u001b[38;5;129;01min\u001b[39;00m num:\n\u001b[1;32m----> 4\u001b[0m         hap\u001b[38;5;241m+\u001b[39m\u001b[38;5;241m=\u001b[39mi\n\u001b[0;32m      5\u001b[0m     \u001b[38;5;28;01mreturn\u001b[39;00m hap\n",
      "\u001b[1;31mUnboundLocalError\u001b[0m: local variable 'hap' referenced before assignment"
     ]
    }
   ],
   "source": [
    "result=mysum(1, 2, 3, 4, 5, 6, 7, 8,9,10)\n",
    "print(result)\n"
   ]
  },
  {
   "cell_type": "markdown",
   "id": "5aa5bece",
   "metadata": {},
   "source": [
    "#### 풀이"
   ]
  },
  {
   "cell_type": "code",
   "execution_count": 220,
   "id": "2f38c503",
   "metadata": {},
   "outputs": [],
   "source": [
    "def my_sum(*args):\n",
    "    hap =0\n",
    "    for i in args:\n",
    "        hap += i\n",
    "    return hap"
   ]
  },
  {
   "cell_type": "code",
   "execution_count": 219,
   "id": "bd26f461",
   "metadata": {},
   "outputs": [
    {
     "name": "stdout",
     "output_type": "stream",
     "text": [
      "55\n"
     ]
    }
   ],
   "source": [
    "result= my_sum(1, 2, 3, 4, 5, 6, 7, 8,9,10)\n",
    "print(result)"
   ]
  },
  {
   "cell_type": "markdown",
   "id": "986c91f4",
   "metadata": {},
   "source": [
    "# 질문**"
   ]
  },
  {
   "cell_type": "code",
   "execution_count": 89,
   "id": "ef4baf66",
   "metadata": {},
   "outputs": [
    {
     "name": "stdout",
     "output_type": "stream",
     "text": [
      "1 2 3 4 5 6 7 8 9 10 11 12 13 14 15 16 17 18 19 20 21 22 23 24 25 26 27 28 29 30 31 32 33 34 35 36 37 38 39 40 41 42 43 44 45 46 47 48 49 50 51 52 53 54 55 56 57 58 59 60 61 62 63 64 65 66 67 68 69 70 71 72 73 74 75 76 77 78 79 80 81 82 83 84 85 86 87 88 89 90 91 92 93 94 95 96 97 98 99\n"
     ]
    }
   ],
   "source": [
    "print(*list(range(1,100))) # *을 붙인리스트는 []가 없어지는점."
   ]
  },
  {
   "cell_type": "code",
   "execution_count": 91,
   "id": "73b0e411",
   "metadata": {},
   "outputs": [
    {
     "ename": "SyntaxError",
     "evalue": "can't use starred expression here (123841520.py, line 1)",
     "output_type": "error",
     "traceback": [
      "\u001b[1;36m  Cell \u001b[1;32mIn[91], line 1\u001b[1;36m\u001b[0m\n\u001b[1;33m    t=*list(range(1,100))\u001b[0m\n\u001b[1;37m      ^\u001b[0m\n\u001b[1;31mSyntaxError\u001b[0m\u001b[1;31m:\u001b[0m can't use starred expression here\n"
     ]
    }
   ],
   "source": [
    "t=*list(range(1,100))"
   ]
  },
  {
   "cell_type": "markdown",
   "id": "7bfbc5f1",
   "metadata": {},
   "source": [
    "- 위치인수와 가변인수 동시에 받을 수 있음<br> 정수와 리스트를 입력받아 정수를 리스트의 내용물에 곱해주는 함수\n",
    "- 주의할 점. 반드시 위치인수가 먼저와야함 "
   ]
  },
  {
   "cell_type": "code",
   "execution_count": 92,
   "id": "bb967596",
   "metadata": {},
   "outputs": [],
   "source": [
    "def muls(a, *args):\n",
    "    result=[]\n",
    "    for num in args:\n",
    "        result.append(a*num)\n",
    "    return result"
   ]
  },
  {
   "cell_type": "code",
   "execution_count": 93,
   "id": "4933f23a",
   "metadata": {},
   "outputs": [
    {
     "data": {
      "text/plain": [
       "[[1, 2, 3, 4, 5, 1, 2, 3, 4, 5]]"
      ]
     },
     "execution_count": 93,
     "metadata": {},
     "output_type": "execute_result"
    }
   ],
   "source": [
    "l2=[1,2,3,4,5]\n",
    "muls(2, l2)"
   ]
  },
  {
   "cell_type": "code",
   "execution_count": 15,
   "id": "6fc15c78",
   "metadata": {},
   "outputs": [],
   "source": [
    "def muls(a, *args):\n",
    "    print(a, args)\n",
    "    result=[]\n",
    "    for num in args:\n",
    "        result.append(a*num)\n",
    "    return result"
   ]
  },
  {
   "cell_type": "code",
   "execution_count": 16,
   "id": "7cf7d6c5",
   "metadata": {},
   "outputs": [
    {
     "name": "stdout",
     "output_type": "stream",
     "text": [
      "6 (1, 2, 3, 4, 5)\n"
     ]
    },
    {
     "data": {
      "text/plain": [
       "[6, 12, 18, 24, 30]"
      ]
     },
     "execution_count": 16,
     "metadata": {},
     "output_type": "execute_result"
    }
   ],
   "source": [
    "l2=[1,2,3,4,5]\n",
    "muls(6, *l2) # 이쪽 인수자리는 개수제한없이 들어갈수있다."
   ]
  },
  {
   "cell_type": "code",
   "execution_count": 218,
   "id": "7b4efacb",
   "metadata": {},
   "outputs": [
    {
     "name": "stdout",
     "output_type": "stream",
     "text": [
      "2 (1, 2, 3, 4, 5, [1, 2, 3, 4, 5], [1, 2, 3, 4, 5], [1, 2, 3, 4, 5])\n"
     ]
    },
    {
     "data": {
      "text/plain": [
       "[2,\n",
       " 4,\n",
       " 6,\n",
       " 8,\n",
       " 10,\n",
       " [1, 2, 3, 4, 5, 1, 2, 3, 4, 5],\n",
       " [1, 2, 3, 4, 5, 1, 2, 3, 4, 5],\n",
       " [1, 2, 3, 4, 5, 1, 2, 3, 4, 5]]"
      ]
     },
     "execution_count": 218,
     "metadata": {},
     "output_type": "execute_result"
    }
   ],
   "source": [
    "muls(2, *l2, l2, l2, l2) # 이렇게 무한히 들어갈수있음"
   ]
  },
  {
   "cell_type": "code",
   "execution_count": 17,
   "id": "88d95129",
   "metadata": {},
   "outputs": [
    {
     "name": "stdout",
     "output_type": "stream",
     "text": [
      "6 (1, 2, 3, 4, 5)\n",
      "1 (2, 3, 4, 5, 2)\n"
     ]
    },
    {
     "data": {
      "text/plain": [
       "[2, 3, 4, 5, 2]"
      ]
     },
     "execution_count": 17,
     "metadata": {},
     "output_type": "execute_result"
    }
   ],
   "source": [
    "muls(6,1,2,3,4,5)\n",
    "muls(*l2, 2) # 자리를 바꿔도 안됨."
   ]
  },
  {
   "attachments": {
    "image.png": {
     "image/png": "[encoded data removed]"
    }
   },
   "cell_type": "markdown",
   "id": "b260ea0c",
   "metadata": {},
   "source": [
    "![image.png](attachment:image.png)\n",
    "- 함수를 보면 첫자리는 위치인수이기때문에 다르게 쓰인다는 점."
   ]
  },
  {
   "cell_type": "code",
   "execution_count": 25,
   "id": "5d689958",
   "metadata": {},
   "outputs": [],
   "source": [
    "def mmul(a, *args):\n",
    "    print(a, args)\n",
    "    result=[]\n",
    "    for num in args:\n",
    "        result.append(a*num)\n",
    "    return result"
   ]
  },
  {
   "cell_type": "code",
   "execution_count": 26,
   "id": "ee3b00f2",
   "metadata": {},
   "outputs": [
    {
     "name": "stdout",
     "output_type": "stream",
     "text": [
      "1 (2, 3)\n"
     ]
    },
    {
     "data": {
      "text/plain": [
       "[2, 3]"
      ]
     },
     "execution_count": 26,
     "metadata": {},
     "output_type": "execute_result"
    }
   ],
   "source": [
    "mmul(1,2,3)"
   ]
  },
  {
   "cell_type": "code",
   "execution_count": 27,
   "id": "df201610",
   "metadata": {},
   "outputs": [],
   "source": [
    "#가변위치인수와 위치인수 자리를 바꿔봤다.\n",
    "def muls(*args, a):\n",
    "    #print(a, args)\n",
    "    result=[]\n",
    "    for num in args:\n",
    "        result.append(a*num)\n",
    "    return result    \n"
   ]
  },
  {
   "cell_type": "code",
   "execution_count": 24,
   "id": "1884c15c",
   "metadata": {},
   "outputs": [
    {
     "ename": "TypeError",
     "evalue": "muls() missing 1 required keyword-only argument: 'a'",
     "output_type": "error",
     "traceback": [
      "\u001b[1;31m---------------------------------------------------------------------------\u001b[0m",
      "\u001b[1;31mTypeError\u001b[0m                                 Traceback (most recent call last)",
      "Cell \u001b[1;32mIn[24], line 1\u001b[0m\n\u001b[1;32m----> 1\u001b[0m \u001b[43mmuls\u001b[49m\u001b[43m(\u001b[49m\u001b[38;5;241;43m6\u001b[39;49m\u001b[43m,\u001b[49m\u001b[38;5;241;43m1\u001b[39;49m\u001b[43m,\u001b[49m\u001b[38;5;241;43m2\u001b[39;49m\u001b[43m,\u001b[49m\u001b[38;5;241;43m3\u001b[39;49m\u001b[43m,\u001b[49m\u001b[38;5;241;43m4\u001b[39;49m\u001b[43m)\u001b[49m\n",
      "\u001b[1;31mTypeError\u001b[0m: muls() missing 1 required keyword-only argument: 'a'"
     ]
    }
   ],
   "source": [
    "muls(6,1,2,3,4)"
   ]
  },
  {
   "attachments": {
    "image.png": {
     "image/png": "[encoded data removed]"
    }
   },
   "cell_type": "markdown",
   "id": "041a515b",
   "metadata": {},
   "source": [
    "## 3) 키워드 인수 (keyword argument)\n",
    "- 매개변수 이름을 정하고 자료 할당하는 인수\n",
    "- print(1,2,3, sep=\" \") 요기서 sep, end가 키워드 인수.\n",
    "- ![image.png](attachment:image.png)<br> 인수값이 이미 지정된 것 볼수있음\n",
    "<br>\n",
    "- 개인정보를 출력하는 함수\n",
    "- db에 데이터타입이 안맞으면 안들어가는 경우들이 생기므로<br> 키워드와 인수를 매칭하는것이 좋다."
   ]
  },
  {
   "cell_type": "code",
   "execution_count": 31,
   "id": "a49c6d1c",
   "metadata": {},
   "outputs": [],
   "source": [
    "# 위치인수 사용\n",
    "def personal_info(name, age, address):\n",
    "    print('이름:', name)\n",
    "    print('나이:', age)\n",
    "    print('주소:', address)"
   ]
  },
  {
   "cell_type": "code",
   "execution_count": 30,
   "id": "00ef3cc4",
   "metadata": {},
   "outputs": [
    {
     "name": "stdout",
     "output_type": "stream",
     "text": [
      "이름: 홍길동\n",
      "나이: 30\n",
      "주소: 서울시\n"
     ]
    }
   ],
   "source": [
    "personal_info('홍길동',30,'서울시') # 인수들의 자리로 구분하므로 자리지켜야함."
   ]
  },
  {
   "cell_type": "markdown",
   "id": "5eb32b7d",
   "metadata": {},
   "source": [
    "#### 입력 순서가 바뀌어도 되려면 키워드를 찝어서 할당해주는 방법을 쓰면됨."
   ]
  },
  {
   "cell_type": "code",
   "execution_count": 120,
   "id": "ab79b061",
   "metadata": {},
   "outputs": [
    {
     "name": "stdout",
     "output_type": "stream",
     "text": [
      "이름: 홍길동\n",
      "나이: 30\n",
      "주소: 서울시\n"
     ]
    }
   ],
   "source": [
    "personal_info(age=30, address='서울시', name=\"홍길동\")"
   ]
  },
  {
   "attachments": {
    "image-2.png": {
     "image/png": "[encoded data removed]"
    },
    "image.png": {
     "image/png": "[encoded data removed]"
    }
   },
   "cell_type": "markdown",
   "id": "13b2d863",
   "metadata": {},
   "source": [
    "단, 요소 하나라도 빠지면 에러남\n",
    "![image.png](attachment:image.png)\n",
    "\n",
    "- 항상 모든 값이 갖춰질수는 없기때문에 아무값이나 일단 넣어두면 좋음\n",
    "### 그래서 키워드인수에 기본값(아무값)을 주기\n",
    "- print(,,sep='') 나 end 처럼.\n",
    "![image-2.png](attachment:image-2.png)"
   ]
  },
  {
   "cell_type": "code",
   "execution_count": 33,
   "id": "fa52fb76",
   "metadata": {},
   "outputs": [],
   "source": [
    "def personal_info(name, age, address='아무값'):\n",
    "    print('이름:', name)\n",
    "    print('나이:', age)\n",
    "    print('주소:', address)"
   ]
  },
  {
   "cell_type": "code",
   "execution_count": 34,
   "id": "9eabe9f6",
   "metadata": {},
   "outputs": [
    {
     "name": "stdout",
     "output_type": "stream",
     "text": [
      "이름: 홍길동\n",
      "나이: 30\n",
      "주소: 아무값\n"
     ]
    }
   ],
   "source": [
    "# address만 없이 입력\n",
    "personal_info(age=30, name='홍길동')"
   ]
  },
  {
   "cell_type": "code",
   "execution_count": 37,
   "id": "e94b4556",
   "metadata": {},
   "outputs": [
    {
     "name": "stdout",
     "output_type": "stream",
     "text": [
      "이름: 홍길동\n",
      "나이: 30\n",
      "주소: \"\"\n"
     ]
    }
   ],
   "source": [
    "personal_info(age=30, name='홍길동', address='\"\"') #값이 뭐라도 있으면 넣음"
   ]
  },
  {
   "cell_type": "markdown",
   "id": "8c88db50",
   "metadata": {},
   "source": [
    " ## 딕셔너리 언팩\n",
    " - **딕셔너리명\n",
    " -**{'address':'서울시 강남구',\"name\":\"홍길동\",\"age\":30}"
   ]
  },
  {
   "cell_type": "code",
   "execution_count": 129,
   "id": "5a7ed5da",
   "metadata": {},
   "outputs": [],
   "source": [
    "def personal_info(name, age, address='아무값'):\n",
    "    print('이름:', name)\n",
    "    print('나이:', age)\n",
    "    print('주소:', address)"
   ]
  },
  {
   "cell_type": "code",
   "execution_count": 128,
   "id": "40635c7f",
   "metadata": {},
   "outputs": [
    {
     "name": "stdout",
     "output_type": "stream",
     "text": [
      "이름: 홍길동\n",
      "나이: 30\n",
      "주소: 서울시 강남구\n"
     ]
    }
   ],
   "source": [
    "personal_info(**{'address':'서울시 강남구',\"name\":\"홍길동\",\"age\":30})"
   ]
  },
  {
   "cell_type": "markdown",
   "id": "66799a2f",
   "metadata": {},
   "source": [
    "#### *변수이름과 똑같이 만들어진 키를 가진 딕셔너리를 풀어주면 <br> 일치하는 키찾아 알아서 들어감. \n",
    "`def 함수명(**kwargs): `<br>   "
   ]
  },
  {
   "attachments": {
    "image.png": {
     "image/png": "[encoded data removed]"
    }
   },
   "cell_type": "markdown",
   "id": "e5266792",
   "metadata": {},
   "source": [
    "## 가변인수안에 키워드 가변인수\n",
    "- 쓰면 딕셔너리 형태로 출력.\n",
    "- 위치인수와 가변인수 동시에 쓸 경우) 위치인수 먼저 키워드가변인수 나중에.\n",
    "![image.png](attachment:image.png) <br> 위치인수가 항상 먼저나오고 키워드가변인수가 항상 마지막이라고 생각하기."
   ]
  },
  {
   "cell_type": "code",
   "execution_count": 130,
   "id": "c177e72b",
   "metadata": {},
   "outputs": [],
   "source": [
    "def personal_info2(**kwargs):\n",
    "    print(kwargs)\n",
    "    key=list(kwargs.keys())\n",
    "    value=list(kwargs.values())\n",
    "    print(key)\n",
    "    print(value)"
   ]
  },
  {
   "cell_type": "code",
   "execution_count": 131,
   "id": "02275c24",
   "metadata": {},
   "outputs": [
    {
     "name": "stdout",
     "output_type": "stream",
     "text": [
      "{'address': '서울', 'name': '홍길동'}\n",
      "['address', 'name']\n",
      "['서울', '홍길동']\n"
     ]
    }
   ],
   "source": [
    "personal_info2(address='서울', name='홍길동')"
   ]
  },
  {
   "cell_type": "markdown",
   "id": "14661f5a",
   "metadata": {},
   "source": [
    "### 키워드 가변인수 연습"
   ]
  },
  {
   "cell_type": "code",
   "execution_count": 138,
   "id": "0b067484",
   "metadata": {},
   "outputs": [],
   "source": [
    "def personal_info3(num, **kwargs):\n",
    "    print(kwargs)\n",
    "    key=list(kwargs.keys())\n",
    "    value=list(kwargs.values())\n",
    "    print(num, key, value, sep='&')"
   ]
  },
  {
   "cell_type": "code",
   "execution_count": 139,
   "id": "72d2ecbc",
   "metadata": {
    "scrolled": true
   },
   "outputs": [
    {
     "name": "stdout",
     "output_type": "stream",
     "text": [
      "{'address': '서울', 'name': '홍길동'}\n",
      "1&['address', 'name']&['서울', '홍길동']\n"
     ]
    }
   ],
   "source": [
    "personal_info3(1,address='서울', name='홍길동')"
   ]
  },
  {
   "cell_type": "code",
   "execution_count": 141,
   "id": "a192509f",
   "metadata": {},
   "outputs": [
    {
     "ename": "SyntaxError",
     "evalue": "invalid syntax (1334081405.py, line 1)",
     "output_type": "error",
     "traceback": [
      "\u001b[1;36m  Cell \u001b[1;32mIn[141], line 1\u001b[1;36m\u001b[0m\n\u001b[1;33m    def personal_info3(**kwargs, num):\u001b[0m\n\u001b[1;37m                                 ^\u001b[0m\n\u001b[1;31mSyntaxError\u001b[0m\u001b[1;31m:\u001b[0m invalid syntax\n"
     ]
    }
   ],
   "source": [
    "def personal_info3(**kwargs, num):\n",
    "    print(kwargs)\n",
    "    key=list(kwargs.keys())\n",
    "    value=list(kwargs.values())\n",
    "    print(num, key, value, sep='&')"
   ]
  },
  {
   "attachments": {
    "image-2.png": {
     "image/png": "[encoded data removed]"
    },
    "image.png": {
     "image/png": "[encoded data removed]"
    }
   },
   "cell_type": "markdown",
   "id": "6bfc7fd6",
   "metadata": {},
   "source": [
    "### 가변인수와 키워드가변인수가 같이들어간다면\n",
    "`def 함수명(*args, **kwargs):` 가변인수 다음 키워드가변인수. 순서주의.\n",
    "![image.png](attachment:image.png)\n",
    "**결과차이\n",
    "![image-2.png](attachment:image-2.png)"
   ]
  },
  {
   "cell_type": "code",
   "execution_count": 145,
   "id": "d266d743",
   "metadata": {},
   "outputs": [],
   "source": [
    "def custom_print(*args, **kwargs):\n",
    "    #print(args, kwargs)\n",
    "    print(*args, **kwargs)"
   ]
  },
  {
   "cell_type": "code",
   "execution_count": 146,
   "id": "dab5ad10",
   "metadata": {},
   "outputs": [
    {
     "name": "stdout",
     "output_type": "stream",
     "text": [
      "1||2||3!!"
     ]
    }
   ],
   "source": [
    "custom_print(1,2,3, sep=\"||\",end='!!') #l아님 주의"
   ]
  },
  {
   "cell_type": "code",
   "execution_count": 147,
   "id": "9fead70c",
   "metadata": {},
   "outputs": [
    {
     "name": "stdout",
     "output_type": "stream",
     "text": [
      "1||2||3!!"
     ]
    }
   ],
   "source": [
    "print(1,2,3, sep=\"||\",end='!!') #l아님 주의"
   ]
  },
  {
   "cell_type": "markdown",
   "id": "9a383808",
   "metadata": {},
   "source": [
    "**키워드가변인수가 자리를 벗어나면 안됨."
   ]
  },
  {
   "cell_type": "code",
   "execution_count": 148,
   "id": "bbfffcb1",
   "metadata": {},
   "outputs": [
    {
     "ename": "SyntaxError",
     "evalue": "invalid syntax (1578403620.py, line 1)",
     "output_type": "error",
     "traceback": [
      "\u001b[1;36m  Cell \u001b[1;32mIn[148], line 1\u001b[1;36m\u001b[0m\n\u001b[1;33m    def custom_print(**kwargs,*args):\u001b[0m\n\u001b[1;37m                              ^\u001b[0m\n\u001b[1;31mSyntaxError\u001b[0m\u001b[1;31m:\u001b[0m invalid syntax\n"
     ]
    }
   ],
   "source": [
    "def custom_print(**kwargs,*args):\n",
    "    #print(args, kwargs)\n",
    "    print(*args, **kwargs)\n",
    "    "
   ]
  },
  {
   "cell_type": "code",
   "execution_count": 222,
   "id": "173b3a8b",
   "metadata": {},
   "outputs": [
    {
     "ename": "SyntaxError",
     "evalue": "invalid syntax (201627885.py, line 1)",
     "output_type": "error",
     "traceback": [
      "\u001b[1;36m  Cell \u001b[1;32mIn[222], line 1\u001b[1;36m\u001b[0m\n\u001b[1;33m    def custom_print(**kwargs,*args):\u001b[0m\n\u001b[1;37m                              ^\u001b[0m\n\u001b[1;31mSyntaxError\u001b[0m\u001b[1;31m:\u001b[0m invalid syntax\n"
     ]
    }
   ],
   "source": [
    "def custom_print(**kwargs,*args):\n",
    "    print(*args, **kwargs)\n",
    "    "
   ]
  },
  {
   "attachments": {
    "image.png": {
     "image/png": "[encoded data removed]"
    }
   },
   "cell_type": "markdown",
   "id": "8b68f0a9",
   "metadata": {},
   "source": [
    "# 정리\n",
    "#### 매개변수=함수에서 자료를 받을 때 사용하는 변수\n",
    "\n",
    "- 위치인수: 자리가 정해진 인수, 변수명을 정해주는 키워드인수도 받음.\n",
    "- 가변인수: 튜플로 변환되는 인수( 여러개의 자료를 받음 )\n",
    "- kwargs(키워드가변인수) : 여러 자료를 받으면서 key=value형태로 받는 인수. 들어오면 dict로 들어옴.\n",
    "<br>\n",
    "\n",
    "- 매개변수에 초기값 지정하기\n",
    "- 초기값이 지정된 매개변수는 반드시 마지막에 \n",
    "<br>\n",
    "\n",
    "- 위치인수, 키워드인수, 가변인수, 키워드 가변인수<br> 동시에 쓸 경우 (흔치않음)\n",
    "- ①위치인수 ②키워드 ③ 가변인수 ④ kwargs 순서지키기.\n",
    "- 매개변수의 자리\n",
    "![image.png](attachment:image.png)\n",
    "\n",
    "- *변수 -> 튜플 / **변수 -> 딕셔너리"
   ]
  },
  {
   "cell_type": "code",
   "execution_count": 224,
   "id": "ea6441a2",
   "metadata": {},
   "outputs": [],
   "source": [
    "# 순서 안지키면 이렇게 에러남\n",
    "# def personal_info6(idx, *args, **kwargs, address='비공개'):\n",
    "#     print(f\"idx: {idx}\")\n",
    "#     print(f\"*args: {args}\")\n",
    "#     print(f\"**kwargs: {kwargs}\")\n",
    "#     print(f\"address: {address}\")    "
   ]
  },
  {
   "cell_type": "code",
   "execution_count": 165,
   "id": "802d50ce",
   "metadata": {},
   "outputs": [],
   "source": [
    "def personal_info6(idx, address='비공개', *args, **kwargs):\n",
    "    print(f\"idx: {idx}\")\n",
    "    print(f\"address: {address}\")    \n",
    "    print(f\"*args: {args}\")\n",
    "    print(f\"**kwargs: {kwargs}\")"
   ]
  },
  {
   "cell_type": "code",
   "execution_count": 168,
   "id": "ac3dfe84",
   "metadata": {},
   "outputs": [
    {
     "name": "stdout",
     "output_type": "stream",
     "text": [
      "idx: 1\n",
      "address: 비공개\n",
      "*args: ()\n",
      "**kwargs: {'이름': '홍길동', '성별': '남자'}\n"
     ]
    }
   ],
   "source": [
    "personal_info6(1, 이름='홍길동', 성별='남자') # 질문"
   ]
  },
  {
   "cell_type": "code",
   "execution_count": 162,
   "id": "f090d5d6",
   "metadata": {},
   "outputs": [
    {
     "name": "stdout",
     "output_type": "stream",
     "text": [
      "idx: 1\n",
      "address: 서울\n",
      "*args: (30, 40, 50)\n",
      "**kwargs: {'이름': '홍길동', '성별': '남자'}\n"
     ]
    }
   ],
   "source": [
    "personal_info6(1,'서울', 30,40,50, 이름='홍길동', 성별='남자')"
   ]
  },
  {
   "cell_type": "code",
   "execution_count": 223,
   "id": "727fe619",
   "metadata": {},
   "outputs": [
    {
     "name": "stdout",
     "output_type": "stream",
     "text": [
      "idx: 1\n",
      "address: 30\n",
      "*args: (40, 50)\n",
      "**kwargs: {'이름': '홍길동', '성별': '남자'}\n"
     ]
    }
   ],
   "source": [
    "personal_info6(1,30,40,50, 이름='홍길동', 성별='남자')"
   ]
  },
  {
   "attachments": {
    "image.png": {
     "image/png": "[encoded data removed]"
    }
   },
   "cell_type": "markdown",
   "id": "3a1b5eb2",
   "metadata": {},
   "source": [
    "### 함수 doc스트링 사용하기\n",
    "- 함수의 기능 설명하고 사용법을 document형태로 제공<br>\n",
    "`def 함수이름(매개변수):`<br>\n",
    "`\"\"\"독스트링의 설명\"\"\"`\n",
    "- 내용보려면\n",
    "- `print(함수명.doc)`<br>\n",
    "- `help(함수명)`<br>\n",
    "- `print(print.__doc__)` <br>\n",
    "![image.png](attachment:image.png)\n",
    "원래 있던 함수에대한설명, 커스텀함수에 대한 설명"
   ]
  },
  {
   "cell_type": "code",
   "execution_count": 169,
   "id": "235a995f",
   "metadata": {},
   "outputs": [
    {
     "name": "stdout",
     "output_type": "stream",
     "text": [
      "Open file and return a stream.  Raise OSError upon failure.\n",
      "\n",
      "file is either a text or byte string giving the name (and the path\n",
      "if the file isn't in the current working directory) of the file to\n",
      "be opened or an integer file descriptor of the file to be\n",
      "wrapped. (If a file descriptor is given, it is closed when the\n",
      "returned I/O object is closed, unless closefd is set to False.)\n",
      "\n",
      "mode is an optional string that specifies the mode in which the file\n",
      "is opened. It defaults to 'r' which means open for reading in text\n",
      "mode.  Other common values are 'w' for writing (truncating the file if\n",
      "it already exists), 'x' for creating and writing to a new file, and\n",
      "'a' for appending (which on some Unix systems, means that all writes\n",
      "append to the end of the file regardless of the current seek position).\n",
      "In text mode, if encoding is not specified the encoding used is platform\n",
      "dependent: locale.getpreferredencoding(False) is called to get the\n",
      "current locale encoding. (For reading and writing raw bytes use binary\n",
      "mode and leave encoding unspecified.) The available modes are:\n",
      "\n",
      "========= ===============================================================\n",
      "Character Meaning\n",
      "--------- ---------------------------------------------------------------\n",
      "'r'       open for reading (default)\n",
      "'w'       open for writing, truncating the file first\n",
      "'x'       create a new file and open it for writing\n",
      "'a'       open for writing, appending to the end of the file if it exists\n",
      "'b'       binary mode\n",
      "'t'       text mode (default)\n",
      "'+'       open a disk file for updating (reading and writing)\n",
      "'U'       universal newline mode (deprecated)\n",
      "========= ===============================================================\n",
      "\n",
      "The default mode is 'rt' (open for reading text). For binary random\n",
      "access, the mode 'w+b' opens and truncates the file to 0 bytes, while\n",
      "'r+b' opens the file without truncation. The 'x' mode implies 'w' and\n",
      "raises an `FileExistsError` if the file already exists.\n",
      "\n",
      "Python distinguishes between files opened in binary and text modes,\n",
      "even when the underlying operating system doesn't. Files opened in\n",
      "binary mode (appending 'b' to the mode argument) return contents as\n",
      "bytes objects without any decoding. In text mode (the default, or when\n",
      "'t' is appended to the mode argument), the contents of the file are\n",
      "returned as strings, the bytes having been first decoded using a\n",
      "platform-dependent encoding or using the specified encoding if given.\n",
      "\n",
      "'U' mode is deprecated and will raise an exception in future versions\n",
      "of Python.  It has no effect in Python 3.  Use newline to control\n",
      "universal newlines mode.\n",
      "\n",
      "buffering is an optional integer used to set the buffering policy.\n",
      "Pass 0 to switch buffering off (only allowed in binary mode), 1 to select\n",
      "line buffering (only usable in text mode), and an integer > 1 to indicate\n",
      "the size of a fixed-size chunk buffer.  When no buffering argument is\n",
      "given, the default buffering policy works as follows:\n",
      "\n",
      "* Binary files are buffered in fixed-size chunks; the size of the buffer\n",
      "  is chosen using a heuristic trying to determine the underlying device's\n",
      "  \"block size\" and falling back on `io.DEFAULT_BUFFER_SIZE`.\n",
      "  On many systems, the buffer will typically be 4096 or 8192 bytes long.\n",
      "\n",
      "* \"Interactive\" text files (files for which isatty() returns True)\n",
      "  use line buffering.  Other text files use the policy described above\n",
      "  for binary files.\n",
      "\n",
      "encoding is the name of the encoding used to decode or encode the\n",
      "file. This should only be used in text mode. The default encoding is\n",
      "platform dependent, but any encoding supported by Python can be\n",
      "passed.  See the codecs module for the list of supported encodings.\n",
      "\n",
      "errors is an optional string that specifies how encoding errors are to\n",
      "be handled---this argument should not be used in binary mode. Pass\n",
      "'strict' to raise a ValueError exception if there is an encoding error\n",
      "(the default of None has the same effect), or pass 'ignore' to ignore\n",
      "errors. (Note that ignoring encoding errors can lead to data loss.)\n",
      "See the documentation for codecs.register or run 'help(codecs.Codec)'\n",
      "for a list of the permitted encoding error strings.\n",
      "\n",
      "newline controls how universal newlines works (it only applies to text\n",
      "mode). It can be None, '', '\\n', '\\r', and '\\r\\n'.  It works as\n",
      "follows:\n",
      "\n",
      "* On input, if newline is None, universal newlines mode is\n",
      "  enabled. Lines in the input can end in '\\n', '\\r', or '\\r\\n', and\n",
      "  these are translated into '\\n' before being returned to the\n",
      "  caller. If it is '', universal newline mode is enabled, but line\n",
      "  endings are returned to the caller untranslated. If it has any of\n",
      "  the other legal values, input lines are only terminated by the given\n",
      "  string, and the line ending is returned to the caller untranslated.\n",
      "\n",
      "* On output, if newline is None, any '\\n' characters written are\n",
      "  translated to the system default line separator, os.linesep. If\n",
      "  newline is '' or '\\n', no translation takes place. If newline is any\n",
      "  of the other legal values, any '\\n' characters written are translated\n",
      "  to the given string.\n",
      "\n",
      "If closefd is False, the underlying file descriptor will be kept open\n",
      "when the file is closed. This does not work when a file name is given\n",
      "and must be True in that case.\n",
      "\n",
      "A custom opener can be used by passing a callable as *opener*. The\n",
      "underlying file descriptor for the file object is then obtained by\n",
      "calling *opener* with (*file*, *flags*). *opener* must return an open\n",
      "file descriptor (passing os.open as *opener* results in functionality\n",
      "similar to passing None).\n",
      "\n",
      "open() returns a file object whose type depends on the mode, and\n",
      "through which the standard file operations such as reading and writing\n",
      "are performed. When open() is used to open a file in a text mode ('w',\n",
      "'r', 'wt', 'rt', etc.), it returns a TextIOWrapper. When used to open\n",
      "a file in a binary mode, the returned class varies: in read binary\n",
      "mode, it returns a BufferedReader; in write binary and append binary\n",
      "modes, it returns a BufferedWriter, and in read/write mode, it returns\n",
      "a BufferedRandom.\n",
      "\n",
      "It is also possible to use a string or bytearray as a file for both\n",
      "reading and writing. For strings StringIO can be used like a file\n",
      "opened in a text mode, and for bytes a BytesIO can be used like a file\n",
      "opened in a binary mode.\n"
     ]
    }
   ],
   "source": [
    "print(open.__doc__)"
   ]
  },
  {
   "cell_type": "code",
   "execution_count": 170,
   "id": "b951cc54",
   "metadata": {},
   "outputs": [
    {
     "name": "stdout",
     "output_type": "stream",
     "text": [
      "Help on function personal_info6 in module __main__:\n",
      "\n",
      "personal_info6(idx, address='비공개', *args, **kwargs)\n",
      "\n"
     ]
    }
   ],
   "source": [
    "help(personal_info6)"
   ]
  },
  {
   "cell_type": "code",
   "execution_count": 171,
   "id": "869eac95",
   "metadata": {},
   "outputs": [],
   "source": [
    "def add(a,b):\n",
    "    \"\"\"\n",
    "    이 함수는 a와 b를 더한 뒤 결과를 반환하는 함수예요.\n",
    "    \"\"\"\n",
    "    return a+b"
   ]
  },
  {
   "cell_type": "code",
   "execution_count": 172,
   "id": "71e2a90e",
   "metadata": {},
   "outputs": [
    {
     "name": "stdout",
     "output_type": "stream",
     "text": [
      "Help on function add in module __main__:\n",
      "\n",
      "add(a, b)\n",
      "    이 함수는 a와 b를 더한 뒤 결과를 반환하는 함수예요.\n",
      "\n"
     ]
    }
   ],
   "source": [
    "help(add)"
   ]
  },
  {
   "cell_type": "markdown",
   "id": "1238b20b",
   "metadata": {},
   "source": [
    "# 람다 표현식(lambda expression)\n",
    "- 익명함수: 함수이름이 없음\n",
    "- 간단한 함수를 작성하거나<br> 다른 함수의 인수로 넣을 함수 만들 때 주로사용\n",
    "- 사용 후 메모리에서 삭제됨\n",
    "- `(lambda 매개변수: return할 값)(계산)`<br>\n",
    "- `hamsoo=lambda x:x+10`<br> `hamsoo(5)`"
   ]
  },
  {
   "cell_type": "code",
   "execution_count": 176,
   "id": "f755ccf4",
   "metadata": {},
   "outputs": [],
   "source": [
    "print(globals()) \n",
    "#파이썬 셀안팍에 입력된 모든 내용은 임시저장되고있음.\n",
    "#긴 함수를 다시 만든다면 힘드니까 저장해두고 쓰지만\n",
    "#간단한 함수들은 지우는게 메모리효율을 높인다."
   ]
  },
  {
   "cell_type": "code",
   "execution_count": 174,
   "id": "45b8554d",
   "metadata": {},
   "outputs": [],
   "source": [
    "# 자료 1개를 입력받아 10을 더해 리턴하는 함수\n",
    "def plus_ten(x): \n",
    "    return x+10"
   ]
  },
  {
   "cell_type": "code",
   "execution_count": 175,
   "id": "f86e6347",
   "metadata": {},
   "outputs": [
    {
     "data": {
      "text/plain": [
       "15"
      ]
     },
     "execution_count": 175,
     "metadata": {},
     "output_type": "execute_result"
    }
   ],
   "source": [
    "plus_ten(5)"
   ]
  },
  {
   "cell_type": "markdown",
   "id": "5ace57f5",
   "metadata": {},
   "source": [
    "- 사용법1"
   ]
  },
  {
   "cell_type": "code",
   "execution_count": 177,
   "id": "56691f7d",
   "metadata": {},
   "outputs": [
    {
     "data": {
      "text/plain": [
       "15"
      ]
     },
     "execution_count": 177,
     "metadata": {},
     "output_type": "execute_result"
    }
   ],
   "source": [
    "(lambda x: x+10)(5) # x를 받아서 x로 다시 리턴하라는 내용."
   ]
  },
  {
   "cell_type": "code",
   "execution_count": 182,
   "id": "d334a2e7",
   "metadata": {},
   "outputs": [
    {
     "data": {
      "text/plain": [
       "'짝수'"
      ]
     },
     "execution_count": 182,
     "metadata": {},
     "output_type": "execute_result"
    }
   ],
   "source": [
    "# 적용\n",
    "(lambda a: \"짝수\" if a%2==0 else \"홀수\")(2)"
   ]
  },
  {
   "cell_type": "code",
   "execution_count": 188,
   "id": "1916411c",
   "metadata": {},
   "outputs": [],
   "source": [
    "# 적용2\n",
    "odd_even=(lambda a: \"짝수\" if a%2==0 else \"홀수\")"
   ]
  },
  {
   "cell_type": "code",
   "execution_count": 189,
   "id": "f0f0fc99",
   "metadata": {},
   "outputs": [
    {
     "data": {
      "text/plain": [
       "'짝수'"
      ]
     },
     "execution_count": 189,
     "metadata": {},
     "output_type": "execute_result"
    }
   ],
   "source": [
    "odd_even(8)"
   ]
  },
  {
   "cell_type": "markdown",
   "id": "ceb94e3c",
   "metadata": {},
   "source": [
    "- 사용법2"
   ]
  },
  {
   "cell_type": "code",
   "execution_count": 178,
   "id": "48e14644",
   "metadata": {
    "scrolled": true
   },
   "outputs": [
    {
     "data": {
      "text/plain": [
       "10"
      ]
     },
     "execution_count": 178,
     "metadata": {},
     "output_type": "execute_result"
    }
   ],
   "source": [
    "plus_five=lambda x:x+5\n",
    "plus_five(5)"
   ]
  },
  {
   "cell_type": "markdown",
   "id": "f580b606",
   "metadata": {},
   "source": [
    "#### 람다함수 만들기 \n",
    "- 1~10중 3의 배수만 문자열로 바꾸는 함수.\n",
    "- 문자열이니까 '3' 이런식으로 표현될것."
   ]
  },
  {
   "cell_type": "code",
   "execution_count": 191,
   "id": "7345ad13",
   "metadata": {},
   "outputs": [],
   "source": [
    "# 일반적 방법\n",
    "def tostr(x):\n",
    "    result=[]\n",
    "    for i in x:\n",
    "        if i %3==0:\n",
    "            result.append(str(i))\n",
    "        else:\n",
    "            result.append(i)\n",
    "    return result"
   ]
  },
  {
   "cell_type": "code",
   "execution_count": 195,
   "id": "b4033d87",
   "metadata": {},
   "outputs": [
    {
     "name": "stdout",
     "output_type": "stream",
     "text": [
      "[1, 2, '3', 4, 5, '6', 7, 8, '9', 10]\n"
     ]
    }
   ],
   "source": [
    "result_str=tostr(list(range(1,11)))\n",
    "print(result_str)"
   ]
  },
  {
   "attachments": {
    "image.png": {
     "image/png": "[encoded data removed]"
    }
   },
   "cell_type": "markdown",
   "id": "2aa4dbb7",
   "metadata": {},
   "source": [
    "#### 람다함수와 map함수로 위 함수 변형하기.\n",
    "- 일단 map 함수 사용법 파악하기\n",
    "![image.png](attachment:image.png)"
   ]
  },
  {
   "cell_type": "code",
   "execution_count": 41,
   "id": "a186a2c6",
   "metadata": {},
   "outputs": [
    {
     "name": "stdout",
     "output_type": "stream",
     "text": [
      "Help on class map in module builtins:\n",
      "\n",
      "class map(object)\n",
      " |  map(func, *iterables) --> map object\n",
      " |  \n",
      " |  Make an iterator that computes the function using arguments from\n",
      " |  each of the iterables.  Stops when the shortest iterable is exhausted.\n",
      " |  \n",
      " |  Methods defined here:\n",
      " |  \n",
      " |  __getattribute__(self, name, /)\n",
      " |      Return getattr(self, name).\n",
      " |  \n",
      " |  __iter__(self, /)\n",
      " |      Implement iter(self).\n",
      " |  \n",
      " |  __next__(self, /)\n",
      " |      Implement next(self).\n",
      " |  \n",
      " |  __reduce__(...)\n",
      " |      Return state information for pickling.\n",
      " |  \n",
      " |  ----------------------------------------------------------------------\n",
      " |  Static methods defined here:\n",
      " |  \n",
      " |  __new__(*args, **kwargs) from builtins.type\n",
      " |      Create and return a new object.  See help(type) for accurate signature.\n",
      "\n"
     ]
    }
   ],
   "source": [
    "help(map) # 자리 확인."
   ]
  },
  {
   "cell_type": "code",
   "execution_count": 201,
   "id": "46d4ed6b",
   "metadata": {},
   "outputs": [
    {
     "name": "stdout",
     "output_type": "stream",
     "text": [
      "[1, 2, 3, 4, 5, 6, 7, 8, 9, 10] <class 'int'>\n"
     ]
    }
   ],
   "source": [
    "a=list(map(int, list(range(1,11))))\n",
    "print(a, type(a[0]))"
   ]
  },
  {
   "cell_type": "code",
   "execution_count": 202,
   "id": "2897eca2",
   "metadata": {},
   "outputs": [
    {
     "name": "stdout",
     "output_type": "stream",
     "text": [
      "['1', '2', '3', '4', '5', '6', '7', '8', '9', '10'] <class 'str'>\n"
     ]
    }
   ],
   "source": [
    "a=list(map(str, list(range(1,11))))\n",
    "print(a, type(a[0]))"
   ]
  },
  {
   "attachments": {
    "image.png": {
     "image/png": "[encoded data removed]"
    }
   },
   "cell_type": "markdown",
   "id": "15e14a51",
   "metadata": {},
   "source": [
    "#### map함수\n",
    "- `str`부분에서 무조건 문자열로 바꾸니\n",
    "- 조건에 따라 str로 변경하도록 추가하기\n",
    "![image.png](attachment:image.png)"
   ]
  },
  {
   "cell_type": "code",
   "execution_count": null,
   "id": "9a97c39b",
   "metadata": {},
   "outputs": [],
   "source": [
    "(lambda x: if x %3 ==0) "
   ]
  },
  {
   "cell_type": "code",
   "execution_count": 203,
   "id": "97a6c9aa",
   "metadata": {},
   "outputs": [
    {
     "data": {
      "text/plain": [
       "4"
      ]
     },
     "execution_count": 203,
     "metadata": {},
     "output_type": "execute_result"
    }
   ],
   "source": [
    "# 위조건이 참일때 str끼워넣기\n",
    "(lambda x: str(x) if x %3 ==0 else x)(4)"
   ]
  },
  {
   "cell_type": "code",
   "execution_count": 204,
   "id": "910074c4",
   "metadata": {},
   "outputs": [
    {
     "data": {
      "text/plain": [
       "'3'"
      ]
     },
     "execution_count": 204,
     "metadata": {},
     "output_type": "execute_result"
    }
   ],
   "source": [
    "# 3에 ''씌워서 str화\n",
    "(lambda x: str(x) if x %3 ==0 else x)(3)"
   ]
  },
  {
   "cell_type": "code",
   "execution_count": 205,
   "id": "a4949e96",
   "metadata": {},
   "outputs": [],
   "source": [
    "# 변수에 넣기\n",
    "tostr2=(lambda x: str(x) if x %3 ==0 else x)(3)"
   ]
  },
  {
   "cell_type": "code",
   "execution_count": 207,
   "id": "aff122f2",
   "metadata": {},
   "outputs": [
    {
     "ename": "NameError",
     "evalue": "name 'tostr2' is not defined",
     "output_type": "error",
     "traceback": [
      "\u001b[1;31m---------------------------------------------------------------------------\u001b[0m",
      "\u001b[1;31mNameError\u001b[0m                                 Traceback (most recent call last)",
      "Cell \u001b[1;32mIn[207], line 1\u001b[0m\n\u001b[1;32m----> 1\u001b[0m a\u001b[38;5;241m=\u001b[39m\u001b[38;5;28mlist\u001b[39m(\u001b[38;5;28mmap\u001b[39m(\u001b[43mtostr2\u001b[49m, \u001b[38;5;28mlist\u001b[39m(\u001b[38;5;28mrange\u001b[39m(\u001b[38;5;241m1\u001b[39m,\u001b[38;5;241m11\u001b[39m))))\n\u001b[0;32m      2\u001b[0m \u001b[38;5;28mprint\u001b[39m(a, \u001b[38;5;28mtype\u001b[39m(a[\u001b[38;5;241m0\u001b[39m]))\n",
      "\u001b[1;31mNameError\u001b[0m: name 'tostr2' is not defined"
     ]
    }
   ],
   "source": [
    "a=list(map(tostr2, list(range(1,11))))\n",
    "print(a, type(a[0]))"
   ]
  },
  {
   "cell_type": "markdown",
   "id": "c9c7ace8",
   "metadata": {},
   "source": [
    "#### apply 와 함께쓰기\n",
    "- apply는 하나씩 꺼내서 넣는 기능이므로<br>\n",
    "`변수.apply(lamda x: str(x) if x%3==0 else x)`\n",
    "- 타입조회 등에 쓰임"
   ]
  },
  {
   "cell_type": "code",
   "execution_count": 210,
   "id": "758c360c",
   "metadata": {},
   "outputs": [],
   "source": [
    "a=[1,2,3,4,5]\n",
    "b=[2,4,6,8,10]\n",
    "c=[3,6,9,12,15]"
   ]
  },
  {
   "cell_type": "code",
   "execution_count": 213,
   "id": "24227ef5",
   "metadata": {},
   "outputs": [
    {
     "data": {
      "text/plain": [
       "[6, 48, 162, 384, 750]"
      ]
     },
     "execution_count": 213,
     "metadata": {},
     "output_type": "execute_result"
    }
   ],
   "source": [
    "#인덱스가 같은 수들만 뽑는다.\n",
    "d=[]\n",
    "for x,y,z in zip(a,b,c):\n",
    "    d.append(x*y*z)\n",
    "d"
   ]
  },
  {
   "cell_type": "code",
   "execution_count": 214,
   "id": "f38b855f",
   "metadata": {},
   "outputs": [
    {
     "data": {
      "text/plain": [
       "[6, 48, 162, 384, 750]"
      ]
     },
     "execution_count": 214,
     "metadata": {},
     "output_type": "execute_result"
    }
   ],
   "source": [
    "# 위 내용과 일치하는 람다함수\n",
    "list(map (lambda x,y,z:x*y*z, a,b,c))"
   ]
  },
  {
   "attachments": {
    "image.png": {
     "image/png": "[encoded data removed]"
    }
   },
   "cell_type": "markdown",
   "id": "4b01aed7",
   "metadata": {},
   "source": [
    "![image.png](attachment:image.png)\n",
    "- zip이없어도 동일하게 쓰인다는점"
   ]
  },
  {
   "cell_type": "markdown",
   "id": "f48e0bfa",
   "metadata": {},
   "source": [
    "# 0327 예외처리 Try exception\n",
    "- 오류 해결을 위해 예외처리를 한다.\n",
    "- 대표적인 오류들 숫자를 0으로 나누려고한다거나, null이거나 키가없거나.\n",
    "\n",
    "# 기본문법\n",
    "`try:` 예외가 발생할 수 있는 코드\n",
    "<br>\n",
    "`except Exception as e:` <br>\n",
    "`    print(e)` 어떤에러인지가 여기서 출력됨.<br>\n",
    "`    예외가 발생했을 때 실행할 코드`여기서 다시시도하라는 명령도 가능<br>\n",
    "`else:` 예외가 발생하지 않았다면 실행할 코드<br>\n",
    "`finally:` 어쨌든(예외가있든없든) 무조건 실행할 내용 <br>\n",
    "<br>"
   ]
  },
  {
   "cell_type": "code",
   "execution_count": 43,
   "id": "61ffa8de",
   "metadata": {},
   "outputs": [],
   "source": [
    "try:\n",
    "except Exception as e:\n",
    "    print(e)\n",
    "else:\n",
    "finally:"
   ]
  },
  {
   "cell_type": "markdown",
   "id": "0f81d852",
   "metadata": {},
   "source": [
    "### 적용. 0으로 나누는 제로디비젼 상황"
   ]
  },
  {
   "cell_type": "code",
   "execution_count": 45,
   "id": "a6420c44",
   "metadata": {},
   "outputs": [
    {
     "name": "stdout",
     "output_type": "stream",
     "text": [
      "division by zero\n",
      "숫자 0으로는 나눗셈을 할 수 없다\n"
     ]
    }
   ],
   "source": [
    "try:\n",
    "    x=10/0\n",
    "except Exception as e:\n",
    "    print(e)\n",
    "    print('숫자 0으로는 나눗셈을 할 수 없다')\n",
    "# else:\n",
    "# finally:"
   ]
  },
  {
   "cell_type": "code",
   "execution_count": 2,
   "id": "16909e6f",
   "metadata": {},
   "outputs": [
    {
     "name": "stdout",
     "output_type": "stream",
     "text": [
      "숫자 입력0\n",
      "division by zero\n",
      "숫자 0으로는 나눗셈을 할 수 없다\n"
     ]
    }
   ],
   "source": [
    "b= int(input('숫자 입력'))\n",
    "try:\n",
    "    c=10/b\n",
    "except Exception as a:\n",
    "    print(a)\n",
    "    print('숫자 0으로는 나눗셈을 할 수 없다')\n",
    "else:\n",
    "    print(c)"
   ]
  },
  {
   "cell_type": "code",
   "execution_count": 1,
   "id": "1252554c",
   "metadata": {},
   "outputs": [
    {
     "name": "stdout",
     "output_type": "stream",
     "text": [
      "숫자 입력2\n",
      "5.0\n",
      "숫자 입력5\n",
      "2.0\n",
      "숫자 입력7\n",
      "1.4285714285714286\n",
      "숫자 입력0\n",
      "division by zero\n",
      "숫자 0으로는 나눗셈을 할 수 없다\n",
      "숫자 입력2\n",
      "5.0\n"
     ]
    }
   ],
   "source": [
    "# 이제 이걸 반복문으로\n",
    "\n",
    "for i in range(5): #finally가 없지만 그래도 포문안에있어서 5회 반복됨.\n",
    "    b= int(input('숫자 입력'))\n",
    "    try:\n",
    "        c=10/b\n",
    "    except Exception as a:\n",
    "        print(a)\n",
    "        print('숫자 0으로는 나눗셈을 할 수 없다')\n",
    "    else:\n",
    "        print(c)"
   ]
  },
  {
   "cell_type": "code",
   "execution_count": null,
   "id": "3fddd893",
   "metadata": {},
   "outputs": [
    {
     "name": "stdout",
     "output_type": "stream",
     "text": [
      "숫자입력9\n",
      "1.1111111111111112\n"
     ]
    }
   ],
   "source": [
    "# 반복문에 넣어보기\n",
    "for i in range(5):\n",
    "    num=int(input('숫자입력'))\n",
    "    x=10/num\n",
    "    print(x)"
   ]
  },
  {
   "cell_type": "code",
   "execution_count": 1,
   "id": "adae40d6",
   "metadata": {},
   "outputs": [
    {
     "name": "stdout",
     "output_type": "stream",
     "text": [
      "숫자 입력2\n",
      "5.0\n",
      "숫자 입력5\n",
      "2.0\n",
      "숫자 입력7\n",
      "1.4285714285714286\n",
      "숫자 입력0\n",
      "division by zero\n",
      "숫자 0으로는 나눗셈을 할 수 없다\n",
      "숫자 입력2\n",
      "5.0\n"
     ]
    }
   ],
   "source": [
    "# finally추가\n",
    "\n",
    "for i in range(5): #finally가 없지만 그래도 포문안에있어서 5회 반복됨.\n",
    "    b= int(input('숫자 입력'))\n",
    "    try:\n",
    "        c=10/b\n",
    "    except Exception as a:\n",
    "        print(a)\n",
    "        print('숫자 0으로는 나눗셈을 할 수 없다')\n",
    "    else:\n",
    "        print(c)"
   ]
  },
  {
   "cell_type": "code",
   "execution_count": 43,
   "id": "34c0194b",
   "metadata": {},
   "outputs": [],
   "source": [
    "#여기서 파일을 열기도 하는데\n",
    "try:\n",
    "    with open('없는파일.txt','r') as f:  #주로 인코딩에러가 났던기억.\n",
    "        data=f.read()\n",
    "except Exception as e:\n",
    "    print(e)\n",
    "    print('파일이 없음')\n",
    "# else:\n",
    "# finally:"
   ]
  },
  {
   "cell_type": "markdown",
   "id": "ac7b8c86",
   "metadata": {},
   "source": [
    "#### 인코딩문제로 안열리는 파일들만<br> 예외처리를 통해 인코딩 옵션을 줄수있는것."
   ]
  },
  {
   "cell_type": "code",
   "execution_count": 5,
   "id": "20875485",
   "metadata": {
    "scrolled": true
   },
   "outputs": [
    {
     "ename": "SyntaxError",
     "evalue": "invalid syntax (4144578760.py, line 7)",
     "output_type": "error",
     "traceback": [
      "\u001b[1;36m  Cell \u001b[1;32mIn[5], line 7\u001b[1;36m\u001b[0m\n\u001b[1;33m    with open('./data/com_kbstar_kbbank.json','r',encoding='utf-8')\u001b[0m\n\u001b[1;37m                                                                   ^\u001b[0m\n\u001b[1;31mSyntaxError\u001b[0m\u001b[1;31m:\u001b[0m invalid syntax\n"
     ]
    }
   ],
   "source": [
    "#실제 파일 열어보기\n",
    "try:\n",
    "    with open('./data/com_kbstar_kbbank.json','r') as f: \n",
    "        data=f.read()\n",
    "except Exception as e:\n",
    "    print(e)\n",
    "    with open('./data/com_kbstar_kbbank.json','r',encoding='utf-8')\n",
    "        data=f.read()\n",
    "data"
   ]
  },
  {
   "cell_type": "markdown",
   "id": "2543f935",
   "metadata": {},
   "source": [
    "#### 적용"
   ]
  },
  {
   "cell_type": "code",
   "execution_count": 43,
   "id": "010e264c",
   "metadata": {},
   "outputs": [],
   "source": [
    "try:\n",
    "except Exception as e:\n",
    "    print(e)\n",
    "else:\n",
    "finally:"
   ]
  },
  {
   "cell_type": "code",
   "execution_count": 19,
   "id": "f4ba3100",
   "metadata": {},
   "outputs": [
    {
     "data": {
      "text/plain": [
       "{'alice': 85, 'bob': 92, 'mark': 78}"
      ]
     },
     "execution_count": 19,
     "metadata": {},
     "output_type": "execute_result"
    }
   ],
   "source": [
    "# 학생점수 정보\n",
    "student_scores=dict(alice=85, bob=92, mark=78)\n",
    "student_scores"
   ]
  },
  {
   "cell_type": "code",
   "execution_count": 20,
   "id": "31747ed2",
   "metadata": {},
   "outputs": [],
   "source": [
    "# 성적조회할 학생목록\n",
    "names=['alice','david','mark','bob']"
   ]
  },
  {
   "cell_type": "code",
   "execution_count": 12,
   "id": "710a36d3",
   "metadata": {
    "scrolled": true
   },
   "outputs": [
    {
     "name": "stdout",
     "output_type": "stream",
     "text": [
      "alice의 점수는 85점 입니다.\n",
      "mark의 점수는 78점 입니다.\n",
      "bob의 점수는 92점 입니다.\n"
     ]
    }
   ],
   "source": [
    "#반복문을 이용해 성적 조회\n",
    "for name in names:\n",
    "    score= student_scores[name]\n",
    "    print(f\"{name}의 점수는 {score}점 입니다.\")"
   ]
  },
  {
   "cell_type": "markdown",
   "id": "e40f8f16",
   "metadata": {},
   "source": [
    "david항목 때문에 keyErorr"
   ]
  },
  {
   "cell_type": "code",
   "execution_count": 16,
   "id": "36f5f6f7",
   "metadata": {},
   "outputs": [
    {
     "name": "stdout",
     "output_type": "stream",
     "text": [
      "alice의 점수는 85점 입니다.\n",
      "alice의 점수조회가 완료되었습니다.\n",
      "'david'\n",
      "david의 점수는 85점 입니다.\n",
      "david의 점수조회가 완료되었습니다.\n",
      "mark의 점수는 78점 입니다.\n",
      "mark의 점수조회가 완료되었습니다.\n",
      "bob의 점수는 92점 입니다.\n",
      "bob의 점수조회가 완료되었습니다.\n"
     ]
    }
   ],
   "source": [
    "#예외처리\n",
    "for name in names:\n",
    "    try:\n",
    "        score= student_scores[name]\n",
    "        print(f\"{name}의 점수는 {score}점 입니다.\")\n",
    "    #에러에 대해 알고싶다면\n",
    "    except Exception as e:\n",
    "        print(e)\n",
    "        print(f\"{name}의 점수는 {score}점 입니다.\")\n",
    "    finally:\n",
    "        print(f\"{name}의 점수조회가 완료되었습니다.\")"
   ]
  },
  {
   "cell_type": "markdown",
   "id": "dbf40865",
   "metadata": {},
   "source": [
    "# 예외처리 방법\n",
    "- try-except 구문이나,\n",
    "- if-else로 처리도 가능\n",
    "- 만약 키가 없다면 names에 키가 있는지 조회하라는 내용을 적어야함\n",
    "- get함수, if-else문으로 할건지 t-ex문으로 할건지는 복잡도에 따라 선택하면됨.\n"
   ]
  },
  {
   "cell_type": "code",
   "execution_count": 22,
   "id": "d78cd471",
   "metadata": {},
   "outputs": [
    {
     "name": "stdout",
     "output_type": "stream",
     "text": [
      "alice의 점수는 85점 입니다.\n",
      "alice의 점수조회가 완료되었습니다.\n",
      "\n",
      "david의 점수는 키없음점 입니다.\n",
      "david의 점수조회가 완료되었습니다.\n",
      "\n",
      "mark의 점수는 78점 입니다.\n",
      "mark의 점수조회가 완료되었습니다.\n",
      "\n",
      "bob의 점수는 92점 입니다.\n",
      "bob의 점수조회가 완료되었습니다.\n",
      "\n"
     ]
    }
   ],
   "source": [
    "#if을 써서 키가 없는 경우를 예외처리 할수 있음\n",
    "for name in names:\n",
    "    score= student_scores[name] if name in student_scores.keys() else \"키없음\"\n",
    "    print(f\"{name}의 점수는 {score}점 입니다.\")\n",
    "    print(f\"{name}의 점수조회가 완료되었습니다.\")\n",
    "    print()"
   ]
  },
  {
   "cell_type": "code",
   "execution_count": 23,
   "id": "a172b6a7",
   "metadata": {
    "scrolled": true
   },
   "outputs": [
    {
     "name": "stdout",
     "output_type": "stream",
     "text": [
      "alice의 점수는 85점 입니다.\n",
      "alice의 점수조회가 완료되었습니다.\n",
      "\n",
      "david의 점수는 키없음점 입니다.\n",
      "david의 점수조회가 완료되었습니다.\n",
      "\n",
      "mark의 점수는 78점 입니다.\n",
      "mark의 점수조회가 완료되었습니다.\n",
      "\n",
      "bob의 점수는 92점 입니다.\n",
      "bob의 점수조회가 완료되었습니다.\n",
      "\n"
     ]
    }
   ],
   "source": [
    "#get을 이용해 기본값 지정가능\n",
    "for name in names:\n",
    "    score= student_scores.get(name, \"키없음\")\n",
    "    print(f\"{name}의 점수는 {score}점 입니다.\")\n",
    "    print(f\"{name}의 점수조회가 완료되었습니다.\")\n",
    "    print()"
   ]
  },
  {
   "cell_type": "code",
   "execution_count": 27,
   "id": "d27db8a9",
   "metadata": {},
   "outputs": [
    {
     "data": {
      "text/plain": [
       "{'student': {'alice': 85, 'bob': 92, 'mark': 78}}"
      ]
     },
     "execution_count": 27,
     "metadata": {},
     "output_type": "execute_result"
    }
   ],
   "source": [
    "# 학생점수 정보에 만약에 딕셔너리가 요소가 있다면?\n",
    "student_scores=dict(student=dict(alice=85, bob=92, mark=78))\n",
    "student_scores"
   ]
  },
  {
   "cell_type": "code",
   "execution_count": 28,
   "id": "be854493",
   "metadata": {},
   "outputs": [],
   "source": [
    "# 성적조회할 학생목록\n",
    "names=['alice','david','mark','bob']"
   ]
  },
  {
   "cell_type": "code",
   "execution_count": null,
   "id": "8b52b7a1",
   "metadata": {
    "scrolled": true
   },
   "outputs": [],
   "source": [
    "#get을 이용하되, 예외처리를 해야할 수 있음\n",
    "for name in names:\n",
    "    score= student_scores['student'].get(name, \"키없음\") if 'student' in student_scores\n",
    "    print(f\"{name}의 점수는 {score}점 입니다.\")\n",
    "    print(f\"{name}의 점수조회가 완료되었습니다.\")\n",
    "    print()"
   ]
  },
  {
   "cell_type": "code",
   "execution_count": null,
   "id": "9f07616d",
   "metadata": {},
   "outputs": [],
   "source": []
  },
  {
   "cell_type": "code",
   "execution_count": null,
   "id": "0bbb2f02",
   "metadata": {},
   "outputs": [],
   "source": []
  },
  {
   "cell_type": "code",
   "execution_count": null,
   "id": "0abe1fc6",
   "metadata": {},
   "outputs": [],
   "source": []
  },
  {
   "cell_type": "code",
   "execution_count": null,
   "id": "0d57375b",
   "metadata": {},
   "outputs": [],
   "source": []
  },
  {
   "cell_type": "code",
   "execution_count": null,
   "id": "ae3b96ae",
   "metadata": {},
   "outputs": [],
   "source": []
  },
  {
   "cell_type": "code",
   "execution_count": null,
   "id": "10d97c39",
   "metadata": {},
   "outputs": [],
   "source": []
  },
  {
   "cell_type": "code",
   "execution_count": null,
   "id": "8bc74f5b",
   "metadata": {},
   "outputs": [],
   "source": []
  }
 ],
 "metadata": {
  "kernelspec": {
   "display_name": "Python 3 (ipykernel)",
   "language": "python",
   "name": "python3"
  },
  "language_info": {
   "codemirror_mode": {
    "name": "ipython",
    "version": 3
   },
   "file_extension": ".py",
   "mimetype": "text/x-python",
   "name": "python",
   "nbconvert_exporter": "python",
   "pygments_lexer": "ipython3",
   "version": "3.9.21"
  }
 },
 "nbformat": 4,
 "nbformat_minor": 5
}
