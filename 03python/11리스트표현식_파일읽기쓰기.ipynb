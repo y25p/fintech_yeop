{
 "cells": [
  {
   "cell_type": "markdown",
   "id": "cb997ced",
   "metadata": {},
   "source": [
    "# 리스트표현식\n",
    "- 리스트안에 for문 if else문 같이써서 리스트를 만든다.\n",
    "- 코드를 짧게 줄일 수 있음\n",
    "- 조건표현식과 다른 점 주의\n",
    "- [실행할 명령 for 변수 in list, tuple]"
   ]
  },
  {
   "cell_type": "code",
   "execution_count": 1,
   "id": "794bdda4",
   "metadata": {},
   "outputs": [
    {
     "name": "stdout",
     "output_type": "stream",
     "text": [
      "1는 홀수입니다.\n",
      "2는 짝수입니다.\n",
      "3는 홀수입니다.\n",
      "4는 짝수입니다.\n",
      "5는 홀수입니다.\n",
      "6는 짝수입니다.\n",
      "7는 홀수입니다.\n",
      "8는 짝수입니다.\n",
      "9는 홀수입니다.\n",
      "10는 짝수입니다.\n"
     ]
    }
   ],
   "source": [
    "#이게 조건 표현식\n",
    "for i in range(1,11):\n",
    "    print(f'{i}는 짝수입니다.') if i %2==0 else print(f'{i}는 홀수입니다.')"
   ]
  },
  {
   "cell_type": "markdown",
   "id": "c871884a",
   "metadata": {},
   "source": [
    "#### 1부터 10까지 들어있는 리스트 만들려고하면 3줄이나 써야함."
   ]
  },
  {
   "cell_type": "code",
   "execution_count": 2,
   "id": "127dfc77",
   "metadata": {},
   "outputs": [
    {
     "data": {
      "text/plain": [
       "[1, 2, 3, 4, 5, 6, 7, 8, 9, 10]"
      ]
     },
     "execution_count": 2,
     "metadata": {},
     "output_type": "execute_result"
    }
   ],
   "source": [
    "l1=[]\n",
    "for i in range(1,11):\n",
    "    l1.append(i)\n",
    "l1"
   ]
  },
  {
   "cell_type": "markdown",
   "id": "d0bb1b76",
   "metadata": {},
   "source": [
    "### 1줄로도 할수있다"
   ]
  },
  {
   "cell_type": "code",
   "execution_count": 3,
   "id": "684ed491",
   "metadata": {},
   "outputs": [
    {
     "data": {
      "text/plain": [
       "[1, 2, 3, 4, 5, 6, 7, 8, 9, 10]"
      ]
     },
     "execution_count": 3,
     "metadata": {},
     "output_type": "execute_result"
    }
   ],
   "source": [
    "[i for i in range(1,11)]"
   ]
  },
  {
   "cell_type": "markdown",
   "id": "845537bc",
   "metadata": {},
   "source": [
    "느린 속도 체감하기"
   ]
  },
  {
   "cell_type": "code",
   "execution_count": 4,
   "id": "2505d9a5",
   "metadata": {},
   "outputs": [],
   "source": [
    "import time"
   ]
  },
  {
   "cell_type": "code",
   "execution_count": 5,
   "id": "91939dc5",
   "metadata": {},
   "outputs": [
    {
     "name": "stdout",
     "output_type": "stream",
     "text": [
      "[6, 7, 8, 9, 10, 11, 12, 13, 14, 15]\n",
      "코드 실행에 걸린시간: 0.3096578121185303\n"
     ]
    }
   ],
   "source": [
    "# 조건표현식\n",
    "start=time.time()\n",
    "a=[]\n",
    "for i in range(1,2000000): #숫자 자리수가 늘어날수록 자료량늘어남\n",
    "    a.append(i+5)\n",
    "print(a[:10])\n",
    "\n",
    "print('코드 실행에 걸린시간:', time.time() - start)"
   ]
  },
  {
   "cell_type": "code",
   "execution_count": 6,
   "id": "5ef66243",
   "metadata": {},
   "outputs": [
    {
     "name": "stdout",
     "output_type": "stream",
     "text": [
      "코드 실행에 걸린시간: 0.14883804321289062\n"
     ]
    }
   ],
   "source": [
    "# 리스트표현식\n",
    "start2= time.time()\n",
    "b=[i+5 for i in range(1,2000000)] #숫자 자리수가 늘어날수록 자료량늘어남\n",
    "print('코드 실행에 걸린시간:', time.time() - start2)"
   ]
  },
  {
   "attachments": {
    "image.png": {
     "image/png": "[encoded data removed]"
    }
   },
   "cell_type": "markdown",
   "id": "37d42e81",
   "metadata": {},
   "source": [
    "numpy 가져오기<br>\n",
    "혹시 안된다면 ![image.png](attachment:image.png)"
   ]
  },
  {
   "cell_type": "code",
   "execution_count": 7,
   "id": "b424ac06",
   "metadata": {},
   "outputs": [],
   "source": [
    "import numpy as np"
   ]
  },
  {
   "cell_type": "code",
   "execution_count": 8,
   "id": "0c7bddd2",
   "metadata": {},
   "outputs": [
    {
     "name": "stdout",
     "output_type": "stream",
     "text": [
      "[ 6  7  8  9 10 11 12 13 14 15]\n",
      "코드 실행에 걸린시간: 0.010869503021240234\n"
     ]
    }
   ],
   "source": [
    "start3=time.time()\n",
    "\n",
    "c=np.arange(1,2000000)\n",
    "c=c+5\n",
    "print(c[:10])\n",
    "print('코드 실행에 걸린시간:', time.time() - start3)"
   ]
  },
  {
   "cell_type": "code",
   "execution_count": 9,
   "id": "ffecd5fa",
   "metadata": {},
   "outputs": [
    {
     "name": "stderr",
     "output_type": "stream",
     "text": [
      "UsageError: Can't use statement directly after '%%time'!\n"
     ]
    }
   ],
   "source": [
    "%%time  # 이런식으로도 실행 시간잴수있음\n",
    "start3=time.time()\n",
    "\n",
    "c=np.arange(1,2000000)\n",
    "c=c+5\n",
    "print(c[:10])"
   ]
  },
  {
   "cell_type": "markdown",
   "id": "bc71bc34",
   "metadata": {},
   "source": [
    "- 1~10중 짝수만 담는 리스트"
   ]
  },
  {
   "cell_type": "code",
   "execution_count": null,
   "id": "7812ce83",
   "metadata": {},
   "outputs": [],
   "source": [
    "l1=[]\n",
    "for i in range(1,11):\n",
    "    if i%2==0:           #조건문위치\n",
    "        l1.append(i)\n",
    "l1"
   ]
  },
  {
   "cell_type": "code",
   "execution_count": null,
   "id": "68790c87",
   "metadata": {},
   "outputs": [],
   "source": [
    "#조건문 위치바꾸고 변수위치도 바꿈\n",
    "l2=[i for i in range(1, 11) if i%2==0]\n",
    "l2"
   ]
  },
  {
   "cell_type": "markdown",
   "id": "bc76793c",
   "metadata": {},
   "source": [
    "## 다중 반복문에 리스트표현식\n",
    "[i,j for i in range(2, 10) for j in range(1, 9)]\n",
    "- 구구단) i*j for i in range(2, 10) for j in range(1, 9)"
   ]
  },
  {
   "cell_type": "code",
   "execution_count": null,
   "id": "31aa8dab",
   "metadata": {},
   "outputs": [],
   "source": [
    "for i in range(2, 10):\n",
    "    for j in range(1,9):\n",
    "        print(i*j)"
   ]
  },
  {
   "cell_type": "code",
   "execution_count": null,
   "id": "d53c7a4c",
   "metadata": {},
   "outputs": [],
   "source": [
    "gugu=[]  #위 내용 리스트화\n",
    "for i in range(2, 10):\n",
    "    for j in range(1,9):\n",
    "        gugu.append(f\"{i}X{j}={i*j}\")\n",
    "gugu"
   ]
  },
  {
   "cell_type": "code",
   "execution_count": null,
   "id": "16d261ce",
   "metadata": {},
   "outputs": [],
   "source": [
    "#리스트표현식으로하면 \n",
    "[f\"{i}X{j}={i*j}\" for i in range(2, 10) for j in range(1,9)]"
   ]
  },
  {
   "cell_type": "code",
   "execution_count": null,
   "id": "da92ed70",
   "metadata": {},
   "outputs": [],
   "source": [
    "#시계 중첩반복문\n",
    "for si in range(0:24):\n",
    "    for boon in range(0:60):\n",
    "        for cho in range(0:60):\n",
    "            #print(f\"{si}:{boon}:{cho}\")\n",
    "            print(f\"{si:02d}:{boon:02d}:{cho:02d}\")"
   ]
  },
  {
   "cell_type": "code",
   "execution_count": null,
   "id": "22dde401",
   "metadata": {},
   "outputs": [],
   "source": [
    "#시계 리스트\n",
    "[f\"{i:02d}:{j:02d}:{k:02d}\" for i in range(0, 24) for j in range(0,60) for k in range(0,60)]"
   ]
  },
  {
   "cell_type": "markdown",
   "id": "5570b512",
   "metadata": {},
   "source": [
    "## 파일 읽기 쓰기 open(), with open()\n",
    "### 1) 문자열+open() 함수\n",
    "- 파일 저장하기 (w:쓰기 r:읽기)<br>\n",
    "변수명 = open(\"파일이름\", \"w\")<br>\n",
    "변수명.write(\"저장할 내용\")<br>\n",
    "변수명.close()<br>\n",
    "**close()필수!!"
   ]
  },
  {
   "cell_type": "code",
   "execution_count": null,
   "id": "ad25a55e",
   "metadata": {},
   "outputs": [],
   "source": [
    "file = open(\"test.txt\", \"w\")\n",
    "file.write(\"practice to make a file\")\n",
    "file.close()"
   ]
  },
  {
   "cell_type": "markdown",
   "id": "a466bac9",
   "metadata": {},
   "source": [
    "- 파일 열기<br>\n",
    "변수1 = open(\"파일이름\", \"r\")<br>\n",
    "변수2 = 변수1.read()<br>\n",
    "변수1.close()<br>\n",
    "#### 이렇게해야 변수 읽어옴."
   ]
  },
  {
   "cell_type": "code",
   "execution_count": null,
   "id": "10c8fb76",
   "metadata": {},
   "outputs": [],
   "source": [
    "file1 = open(\"test.txt\",\"r\")\n",
    "my_file= file1.read() #file1을 열어서 새변수에 할당\n",
    "file1.close()         # 닫았고\n",
    "print(my_file)"
   ]
  },
  {
   "cell_type": "markdown",
   "id": "132aa585",
   "metadata": {},
   "source": [
    "## with open은 close없이가능\n",
    "- 자동 close() 말고도 구조가 다른 차이가 있음\n",
    "- reading도 비슷하게 열면된다. read할때 변수 2개 필요함.\n",
    "- json파일 수집후 reading할때도 이런식으로 불러오게된다."
   ]
  },
  {
   "cell_type": "code",
   "execution_count": null,
   "id": "bf31f4d1",
   "metadata": {},
   "outputs": [],
   "source": [
    "with open(\"test2.txt\",\"w\") as file3:\n",
    "    file3.write(\"with open 사용하여 자동 close()편리하다.\")"
   ]
  },
  {
   "cell_type": "code",
   "execution_count": null,
   "id": "96434f89",
   "metadata": {},
   "outputs": [],
   "source": [
    "with open(\"test2.txt\",\"r\") as file4:\n",
    "    data=file4.read()\n",
    "print(data)"
   ]
  },
  {
   "cell_type": "code",
   "execution_count": null,
   "id": "551d2ffc",
   "metadata": {},
   "outputs": [],
   "source": [
    "with open(\"test2.txt\",\"r\") as file4:\n",
    "    data=file4.readlines()\n",
    "print(data)"
   ]
  },
  {
   "cell_type": "markdown",
   "id": "442c0582",
   "metadata": {},
   "source": [
    "#### 문자열로 보여주는점~"
   ]
  },
  {
   "cell_type": "markdown",
   "id": "84e744ee",
   "metadata": {},
   "source": [
    "# encoding에 따른 읽기 오류\n",
    "- 윈도우(웹)에서 파일을 저장하면 cp949로 저장되는default\n",
    "- 불러올때는 다른 값으로 불러오게되므로 오류가 잦다.\n",
    "- 운영체제(windows, linux, macOS), 한글/영어 윈도우에 따라 인코딩 format이 다름.\n",
    "- web표준은 utf-8\n",
    "- 인코딩은 utf-8추천."
   ]
  },
  {
   "cell_type": "code",
   "execution_count": null,
   "id": "5754f6ce",
   "metadata": {},
   "outputs": [],
   "source": [
    "with open('test_utf-8.txt','w',encoding='utf-8') as file5:\n",
    "    file5.write('with open으로 만들 인코딩 파일')"
   ]
  },
  {
   "cell_type": "code",
   "execution_count": null,
   "id": "a7aa78a2",
   "metadata": {},
   "outputs": [],
   "source": [
    "with open('test_utf-8.txt','r') as file6:\n",
    "    file6_data=file6.read()\n",
    "print(file6_data)"
   ]
  },
  {
   "cell_type": "markdown",
   "id": "58ad6087",
   "metadata": {},
   "source": [
    "#### utf 8로 저장했는데 cp949를 기본으로 사용하고 있어 에러가나는것. "
   ]
  },
  {
   "cell_type": "code",
   "execution_count": null,
   "id": "f1309b07",
   "metadata": {},
   "outputs": [],
   "source": [
    "with open('test_utf-8.txt','r',encoding='utf-8') as file6:\n",
    "    file6_data=file6.read()\n",
    "print(file6_data)                #인코딩을 utf-8로 잡아주자 출력됨."
   ]
  },
  {
   "cell_type": "markdown",
   "id": "f3ce0ab3",
   "metadata": {},
   "source": [
    "## json파일 읽어와서 내용 정리"
   ]
  },
  {
   "cell_type": "code",
   "execution_count": null,
   "id": "33b919f7",
   "metadata": {},
   "outputs": [],
   "source": [
    "with open(\"./data/서울특별시_관광지입장정보_2011_2016.json\")\n",
    "# 저장한 파일 읽어올때 \"\"안에서 상대경로 +탭키 사용"
   ]
  },
  {
   "cell_type": "code",
   "execution_count": null,
   "id": "1073ec29",
   "metadata": {},
   "outputs": [],
   "source": [
    "with open(\"./data/서울특별시_관광지입장정보_2011_2016.json\",'r',encoding='utf-8')as file7:\n",
    "    trip_info=file7.read()\n",
    "print(trip_info)"
   ]
  },
  {
   "attachments": {
    "image.png": {
     "image/png": "[encoded data removed]"
    }
   },
   "cell_type": "markdown",
   "id": "e07123be",
   "metadata": {},
   "source": [
    "![image.png](attachment:image.png)\n",
    "영 낯선건 아니고, 딕셔너리 형식, 리스트형식이 있긴함"
   ]
  },
  {
   "cell_type": "code",
   "execution_count": null,
   "id": "db33157f",
   "metadata": {},
   "outputs": [],
   "source": [
    "print(type(trip_info)) #하지만 str이었다~~~~"
   ]
  },
  {
   "cell_type": "markdown",
   "id": "61b03de9",
   "metadata": {},
   "source": [
    "### 파일 불러오면 뭘넣었든 str로 reading되므로\n",
    "### import json으로 해결\n",
    "1) json.loads() 함수로 변환.\n",
    "2) 구조를 파악해야한다.\n",
    "   ㄴ현재 data는 리스트 안에 67개의 딕셔너리 세트가 저장된 형태\n",
    "3) dict마다 키(['ForNum', 'NatNum', 'addrCd', 'gungu', 'resNm', 'rnum', 'sido', 'yyyymm'])는 이렇게 있고 입장객 정보가 저장되어있음\n",
    "4) 키마다 67개의 value를 리스트형태로 저장해야하는것.\n",
    "5) pandas를 이용해서 DataFrame으로 변환하면 됨."
   ]
  },
  {
   "cell_type": "code",
   "execution_count": null,
   "id": "135ca02e",
   "metadata": {},
   "outputs": [],
   "source": [
    "import json"
   ]
  },
  {
   "cell_type": "code",
   "execution_count": null,
   "id": "faaea198",
   "metadata": {},
   "outputs": [],
   "source": [
    "data = json.loads(trip_info) \n",
    "#이렇게해서 딕셔너리,리스트형태로 바꿔서 할당."
   ]
  },
  {
   "cell_type": "markdown",
   "id": "357493ce",
   "metadata": {},
   "source": [
    "### 이렇게 자료 뽑을 수있으니 길이를 찍어보자.\n",
    "1) data변수"
   ]
  },
  {
   "cell_type": "code",
   "execution_count": null,
   "id": "4b62e6ee",
   "metadata": {},
   "outputs": [],
   "source": [
    "print(type(data))\n",
    "print(len(data))"
   ]
  },
  {
   "cell_type": "markdown",
   "id": "ca2625b9",
   "metadata": {},
   "source": [
    "이 67개를 한번에 다루려하면 막연하므로 하나로 테스트를 해봐야한다."
   ]
  },
  {
   "cell_type": "code",
   "execution_count": null,
   "id": "8112368c",
   "metadata": {},
   "outputs": [],
   "source": [
    "data[2]"
   ]
  },
  {
   "cell_type": "code",
   "execution_count": null,
   "id": "d0c825e6",
   "metadata": {},
   "outputs": [],
   "source": [
    "여기서 키만 뽑기."
   ]
  },
  {
   "cell_type": "code",
   "execution_count": null,
   "id": "c899a7c5",
   "metadata": {},
   "outputs": [],
   "source": [
    "list(data[0].keys())"
   ]
  },
  {
   "cell_type": "markdown",
   "id": "36b2b7f1",
   "metadata": {},
   "source": [
    "ForNm만 뽑으려면"
   ]
  },
  {
   "cell_type": "code",
   "execution_count": null,
   "id": "18777d93",
   "metadata": {},
   "outputs": [],
   "source": [
    "data[0][\"ForNum\"]"
   ]
  },
  {
   "cell_type": "code",
   "execution_count": null,
   "id": "c4ccc2fa",
   "metadata": {},
   "outputs": [],
   "source": [
    "fn=[]\n",
    "nn=[]\n",
    "ac=[]\n",
    "gg=[]\n",
    "rn=[]\n",
    "r_num=[]\n",
    "sd=[]\n",
    "ym=[]"
   ]
  },
  {
   "cell_type": "code",
   "execution_count": null,
   "id": "651a6c7d",
   "metadata": {},
   "outputs": [],
   "source": [
    "#뽑은 값들을 변수에 담기\n",
    "\n",
    "ForNum = data[2][\"ForNum\"]\n",
    "NatNum = data[2]['NatNum']\n",
    "addrCd = data[2]['addrCd']\n",
    "gungu= data[2]['gungu']\n",
    "resNm= data[2]['resNm']\n",
    "rnum= data[2]['rnum']\n",
    "sido= data[2]['sido']\n",
    "yyyymm= data[2]['yyyymm'] \n",
    "\n",
    "fn.append(ForNum)\n",
    "nn.append(NatNum)\n",
    "ac.append(addrCd)\n",
    "gg.append(gungu)\n",
    "rn.append(resNm)\n",
    "r_num.append(rnum)\n",
    "sd.append(sido)\n",
    "ym.append(yyyymm)\n",
    "\n",
    "print(fn)\n",
    "print(nn)\n",
    "print(ac)\n",
    "print(gg)\n",
    "print(rn)\n",
    "print(r_num)\n",
    "print(sd)\n",
    "print(ym)\n",
    "\n"
   ]
  },
  {
   "cell_type": "markdown",
   "id": "14083d85",
   "metadata": {},
   "source": [
    "#### 위내용을 장소명끼리 묶고 컬럼을 방문객수로 정렬하고싶다면?\n",
    "- value를 리스트화 -> dict화 -> 데이터프레임.\n",
    "- dict의 key를 직접입력해 value를 추출\n",
    "- key 이름의 list에 value를 append해서 value리스트를 만듦\n",
    "- key:value_list 형태로 딕셔너리 만들기\n",
    "- 최종 완성된 딕셔너리를 DataFrame으로 변환"
   ]
  },
  {
   "cell_type": "markdown",
   "id": "98027ea8",
   "metadata": {},
   "source": [
    "#### 반복문써서"
   ]
  },
  {
   "cell_type": "code",
   "execution_count": null,
   "id": "6f640467",
   "metadata": {},
   "outputs": [],
   "source": [
    "for i in range(len(data)):\n",
    "    print(i,end=\" \")"
   ]
  },
  {
   "cell_type": "code",
   "execution_count": null,
   "id": "261285c4",
   "metadata": {},
   "outputs": [],
   "source": [
    "fn=[]\n",
    "nn=[]\n",
    "ac=[]\n",
    "gg=[]\n",
    "rn=[]\n",
    "r_num=[]\n",
    "sd=[]\n",
    "ym=[]"
   ]
  },
  {
   "cell_type": "code",
   "execution_count": null,
   "id": "b20d940f",
   "metadata": {},
   "outputs": [],
   "source": [
    "for i in range(len(data)):\n",
    "    ForNum = data[i][\"ForNum\"]\n",
    "    NatNum = data[i]['NatNum']\n",
    "    addrCd = data[i]['addrCd']\n",
    "    gungu= data[i]['gungu']\n",
    "    resNm= data[i]['resNm']\n",
    "    rnum= data[i]['rnum']\n",
    "    sido= data[i]['sido']\n",
    "    yyyymm= data[i]['yyyymm']\n",
    "    \n",
    "    fn.append(ForNum)\n",
    "    nn.append(NatNum)\n",
    "    ac.append(addrCd)\n",
    "    gg.append(gungu)\n",
    "    rn.append(resNm)\n",
    "    r_num.append(rnum)\n",
    "    sd.append(sido)\n",
    "    ym.append(yyyymm)\n",
    "\n",
    "    print(fn)\n",
    "    print(nn)\n",
    "    print(ac)\n",
    "    print(gg)\n",
    "    print(rn)\n",
    "    print(r_num)\n",
    "    print(sd)\n",
    "    print(ym)\n",
    "\n",
    "    "
   ]
  },
  {
   "cell_type": "code",
   "execution_count": null,
   "id": "ece82897",
   "metadata": {},
   "outputs": [],
   "source": [
    "len(fn)"
   ]
  },
  {
   "cell_type": "markdown",
   "id": "b356386f",
   "metadata": {},
   "source": [
    "이제 벨류값 넣을 dict를 만들자."
   ]
  },
  {
   "cell_type": "code",
   "execution_count": null,
   "id": "beaf16c0",
   "metadata": {},
   "outputs": [],
   "source": [
    "data[0].keys() # 순서참고용"
   ]
  },
  {
   "cell_type": "code",
   "execution_count": null,
   "id": "4cd2b379",
   "metadata": {},
   "outputs": [],
   "source": [
    "result=dict(ForNum=fn, NatNum=nn, \n",
    "            addrCd=ac,gungu=gg, resNm=rm, \n",
    "            rnum=r_num, sido=sd, yyyymm=ym)\n",
    "result"
   ]
  },
  {
   "cell_type": "code",
   "execution_count": null,
   "id": "99991c3e",
   "metadata": {},
   "outputs": [],
   "source": [
    "import pandas as pd\n",
    "result_df=pd.DataFrame(result)\n",
    "result_df"
   ]
  },
  {
   "cell_type": "markdown",
   "id": "cc0f8981",
   "metadata": {},
   "source": [
    "# 반복문을 사용하되 range없이 사용하기"
   ]
  },
  {
   "cell_type": "code",
   "execution_count": null,
   "id": "4868f2ff",
   "metadata": {},
   "outputs": [],
   "source": [
    "for dicts in data[:2]:\n",
    "    print(dicts)"
   ]
  },
  {
   "cell_type": "code",
   "execution_count": null,
   "id": "30264836",
   "metadata": {},
   "outputs": [],
   "source": [
    "for dicts in data[:2]:\n",
    "    print(dicts.keys())"
   ]
  },
  {
   "cell_type": "code",
   "execution_count": null,
   "id": "d46d394c",
   "metadata": {},
   "outputs": [],
   "source": [
    "fn=[]\n",
    "nn=[]\n",
    "ac=[]\n",
    "gg=[]\n",
    "rn=[]\n",
    "r_num=[]\n",
    "sd=[]\n",
    "ym=[]"
   ]
  },
  {
   "cell_type": "code",
   "execution_count": null,
   "id": "03cebfb8",
   "metadata": {},
   "outputs": [],
   "source": [
    "for dicts in data:    # 위 내용과 다른점: range대신 data를 사용한점\n",
    "    ForNum = dicts[\"ForNum\"]\n",
    "    NatNum = dicts['NatNum']\n",
    "    addrCd = dicts['addrCd']\n",
    "    gungu= dicts['gungu']\n",
    "    resNm= dicts['resNm']\n",
    "    rnum= dicts['rnum']\n",
    "    sido= dicts['sido']\n",
    "    yyyymm= dicts['yyyymm']"
   ]
  },
  {
   "cell_type": "code",
   "execution_count": null,
   "id": "e6fd6c44",
   "metadata": {},
   "outputs": [],
   "source": [
    "fn.append(ForNum)\n",
    "nn.append(NatNum)\n",
    "ac.append(addrCd)\n",
    "gg.append(gungu)\n",
    "rn.append(resNm)\n",
    "r_num.append(rnum)\n",
    "sd.append(sido)\n",
    "ym.append(yyyymm)\n",
    "\n",
    "print(fn)\n",
    "print(nn)\n",
    "print(ac)\n",
    "print(gg)\n",
    "print(rn)\n",
    "print(r_num)\n",
    "print(sd)\n",
    "print(ym)"
   ]
  },
  {
   "cell_type": "markdown",
   "id": "fbfb2763",
   "metadata": {},
   "source": [
    "## 딕셔너리의 key를 자동으로 넣어주기"
   ]
  },
  {
   "cell_type": "code",
   "execution_count": null,
   "id": "58472ff8",
   "metadata": {},
   "outputs": [],
   "source": [
    "data[0]['ForNum']"
   ]
  },
  {
   "cell_type": "code",
   "execution_count": null,
   "id": "d3ae6647",
   "metadata": {},
   "outputs": [],
   "source": [
    "for key in data[0]:\n",
    "    print(key)"
   ]
  },
  {
   "cell_type": "code",
   "execution_count": null,
   "id": "06e98f93",
   "metadata": {},
   "outputs": [],
   "source": [
    "for key in data[0]:\n",
    "    print(data[0][key]) # 키가 계속 바뀌는 유형의 딕셔너리인것."
   ]
  },
  {
   "cell_type": "markdown",
   "id": "71c8a612",
   "metadata": {},
   "source": [
    "이런경우에도 그냥 해보기."
   ]
  },
  {
   "cell_type": "code",
   "execution_count": null,
   "id": "3ca2d5a1",
   "metadata": {},
   "outputs": [],
   "source": [
    "fn=[]\n",
    "nn=[]\n",
    "ac=[]\n",
    "gg=[]\n",
    "rn=[]\n",
    "r_num=[]\n",
    "sd=[]\n",
    "ym=[]"
   ]
  },
  {
   "cell_type": "code",
   "execution_count": null,
   "id": "a40be954",
   "metadata": {},
   "outputs": [],
   "source": [
    "for key in data[0]:\n",
    "    temp=[]\n",
    "    for dicts in data[:2]:\n",
    "        #print(dicts)\n",
    "        temp.append((f\"key: {key}\",dicts[key]))\n",
    "    result[key]\n",
    "    print(temp)"
   ]
  },
  {
   "cell_type": "code",
   "execution_count": null,
   "id": "0c4b62a6",
   "metadata": {},
   "outputs": [],
   "source": [
    "\n",
    "for key in data[0]: # 수정\n",
    "    temp=[]\n",
    "    for dicts in data:\n",
    "        #print(dicts)\n",
    "        temp.append((f\"key: {key}\",dicts[key]))\n",
    "    print(temp)\n"
   ]
  },
  {
   "cell_type": "markdown",
   "id": "f5cc2821",
   "metadata": {},
   "source": [
    "# 와이파이문제로 놓친부분"
   ]
  },
  {
   "cell_type": "code",
   "execution_count": null,
   "id": "24a6b8c7",
   "metadata": {},
   "outputs": [],
   "source": []
  },
  {
   "cell_type": "markdown",
   "id": "47ec2631",
   "metadata": {},
   "source": [
    "# 딕셔너리 함수를 활용"
   ]
  },
  {
   "cell_type": "code",
   "execution_count": 10,
   "id": "33fec2a0",
   "metadata": {},
   "outputs": [
    {
     "ename": "NameError",
     "evalue": "name 'data' is not defined",
     "output_type": "error",
     "traceback": [
      "\u001b[1;31m---------------------------------------------------------------------------\u001b[0m",
      "\u001b[1;31mNameError\u001b[0m                                 Traceback (most recent call last)",
      "Cell \u001b[1;32mIn[10], line 1\u001b[0m\n\u001b[1;32m----> 1\u001b[0m \u001b[38;5;28;01mfor\u001b[39;00m dicts \u001b[38;5;129;01min\u001b[39;00m \u001b[43mdata\u001b[49m[:\u001b[38;5;241m2\u001b[39m]:\n\u001b[0;32m      2\u001b[0m     \u001b[38;5;28;01mfor\u001b[39;00m item \u001b[38;5;129;01min\u001b[39;00m dicts\u001b[38;5;241m.\u001b[39mitems():\n\u001b[0;32m      3\u001b[0m         \u001b[38;5;28mprint\u001b[39m(item,value)\n",
      "\u001b[1;31mNameError\u001b[0m: name 'data' is not defined"
     ]
    }
   ],
   "source": [
    "for dicts in data[:2]:\n",
    "    for key, item in dicts.items():\n",
    "        print(items)"
   ]
  },
  {
   "cell_type": "code",
   "execution_count": 11,
   "id": "81919e4c",
   "metadata": {},
   "outputs": [
    {
     "ename": "NameError",
     "evalue": "name 'data' is not defined",
     "output_type": "error",
     "traceback": [
      "\u001b[1;31m---------------------------------------------------------------------------\u001b[0m",
      "\u001b[1;31mNameError\u001b[0m                                 Traceback (most recent call last)",
      "Cell \u001b[1;32mIn[11], line 2\u001b[0m\n\u001b[0;32m      1\u001b[0m result2\u001b[38;5;241m=\u001b[39m{}\n\u001b[1;32m----> 2\u001b[0m \u001b[38;5;28;01mfor\u001b[39;00m dicts \u001b[38;5;129;01min\u001b[39;00m \u001b[43mdata\u001b[49m[:\u001b[38;5;241m2\u001b[39m]:\n\u001b[0;32m      3\u001b[0m     \u001b[38;5;28;01mfor\u001b[39;00m key, item \u001b[38;5;129;01min\u001b[39;00m dicts\u001b[38;5;241m.\u001b[39mitems():\n\u001b[0;32m      4\u001b[0m         result2\u001b[38;5;241m.\u001b[39msetdefault(key,[])\u001b[38;5;241m.\u001b[39mappend(value)\n",
      "\u001b[1;31mNameError\u001b[0m: name 'data' is not defined"
     ]
    }
   ],
   "source": [
    "result2={}\n",
    "for dicts in data[:2]:\n",
    "    for key, value in dicts.items():\n",
    "        result2.setdefault(key,[]).append(value)\n",
    "        print(result2)"
   ]
  },
  {
   "cell_type": "code",
   "execution_count": null,
   "id": "df78596e",
   "metadata": {},
   "outputs": [],
   "source": [
    "c={}\n",
    "for b in a[:2]:\n",
    "    for key, item in b.items():\n",
    "        c.setdefault(key,[]).append(value)\n",
    "        print(c)"
   ]
  },
  {
   "cell_type": "markdown",
   "id": "c3cf5e6e",
   "metadata": {},
   "source": [
    "# 월요일 처음 풀었던 방식"
   ]
  },
  {
   "cell_type": "code",
   "execution_count": null,
   "id": "7e14a380",
   "metadata": {},
   "outputs": [],
   "source": [
    "type(data)"
   ]
  },
  {
   "cell_type": "code",
   "execution_count": null,
   "id": "da2d5b3e",
   "metadata": {},
   "outputs": [],
   "source": [
    "type(data[0])"
   ]
  },
  {
   "cell_type": "code",
   "execution_count": null,
   "id": "0a29c8bc",
   "metadata": {},
   "outputs": [],
   "source": [
    "type(data[:2]) #딕셔너리가 두개있으니 리스트가됨."
   ]
  },
  {
   "cell_type": "code",
   "execution_count": null,
   "id": "9d315504",
   "metadata": {},
   "outputs": [],
   "source": [
    "for item in data[0]:\n",
    "    print(item)"
   ]
  },
  {
   "cell_type": "code",
   "execution_count": null,
   "id": "cad38581",
   "metadata": {},
   "outputs": [],
   "source": [
    "# 위내용해보고 data[0] 뒤에 함수쓸수있음\n",
    "for item in data[0].items():\n",
    "    print(item)"
   ]
  },
  {
   "cell_type": "code",
   "execution_count": null,
   "id": "3e32b58c",
   "metadata": {},
   "outputs": [],
   "source": [
    "for item in data[:2]:\n",
    "    for key in item:\n",
    "        print(item[key])"
   ]
  },
  {
   "cell_type": "code",
   "execution_count": null,
   "id": "6ad5cd41",
   "metadata": {},
   "outputs": [],
   "source": [
    "year_mon=[]\n",
    "sido=[]\n",
    "place=[]\n",
    "foriners=[]\n",
    "total=[]\n",
    "\n",
    "for item in data:\n",
    "    foriners.append(item['ForNum'])\n",
    "    place.append(item['resNm'])\n",
    "    total.append(item['NatNum'])\n",
    "    sido.append(item['sido'])\n",
    "    year_mon.append(item['yyyymm'])\n",
    "    \n",
    "place"
   ]
  },
  {
   "cell_type": "markdown",
   "id": "62420d78",
   "metadata": {},
   "source": [
    "### 자료묶여서 리스트됨. 이것들을 모아서 딕셔너리로 만들면 되는것."
   ]
  },
  {
   "cell_type": "code",
   "execution_count": null,
   "id": "2aaa9104",
   "metadata": {},
   "outputs": [],
   "source": [
    "year_mon=[]\n",
    "sido=[]\n",
    "place=[]\n",
    "foriners=[]\n",
    "total=[]\n",
    "\n",
    "for item in data:\n",
    "    foriners.append(item['ForNum'])\n",
    "    place.append(item['resNm'])\n",
    "    total.append(item['NatNum'])\n",
    "    sido.append(item['sido'])\n",
    "    year_mon.append(item['yyyymm'])\n",
    "    \n",
    "tour_info=dict(년월=year_mon, 시도=sido, 장소=place, 외국인=foriners, 전체방문객수=total)\n",
    "print(tour_info, end=\" \")"
   ]
  },
  {
   "cell_type": "markdown",
   "id": "c85cdd49",
   "metadata": {},
   "source": [
    "### 이것을 excel csv 형태로 변형해보기"
   ]
  },
  {
   "cell_type": "code",
   "execution_count": null,
   "id": "7d8bbf92",
   "metadata": {},
   "outputs": [],
   "source": [
    "import pandas as pd\n",
    "df=pd.DataFrame(tour_info)\n",
    "df"
   ]
  },
  {
   "cell_type": "markdown",
   "id": "684a8ce4",
   "metadata": {},
   "source": [
    "### 먼저 해체해서 다시 딕셔너리로 정렬해서 데이터프레임으로 갖추는것.\n",
    "\n",
    "- value → list화 → dict() → DataFrame\n",
    "- 위 방식보다 간편한 방식은 dict()를 바로 만들기."
   ]
  },
  {
   "cell_type": "code",
   "execution_count": null,
   "id": "9bdecc63",
   "metadata": {},
   "outputs": [],
   "source": [
    "for item in data[:2]: #이번에도 두개만 짤라와서.\n",
    "    print(item)"
   ]
  },
  {
   "cell_type": "code",
   "execution_count": null,
   "id": "d5ac6293",
   "metadata": {},
   "outputs": [],
   "source": [
    "for item in data[:2]: #이번에도 두개만 짤라와서.\n",
    "#    print(item)\n",
    "    for value in item.values():\n",
    "        print(value)"
   ]
  },
  {
   "attachments": {
    "image.png": {
     "image/png": "[encoded data removed]"
    }
   },
   "cell_type": "markdown",
   "id": "86abc274",
   "metadata": {},
   "source": [
    "![image.png](attachment:image.png)\n",
    "아래과정도 위와 같은 과정인것."
   ]
  },
  {
   "cell_type": "code",
   "execution_count": null,
   "id": "466900a7",
   "metadata": {},
   "outputs": [],
   "source": [
    "for key in data[0]:\n",
    "    value_list=[]\n",
    "    for item in data:\n",
    "        value_list.append(item[key])\n",
    "    print(value_list)"
   ]
  },
  {
   "cell_type": "code",
   "execution_count": null,
   "id": "ee93bc7f",
   "metadata": {},
   "outputs": [],
   "source": [
    "d={}\n",
    "d['장소']=\"경복궁\"\n",
    "d                 #이렇게 생성되듯"
   ]
  },
  {
   "cell_type": "code",
   "execution_count": null,
   "id": "3beed2f2",
   "metadata": {},
   "outputs": [],
   "source": [
    "result={}\n",
    "for key in data[0]:\n",
    "    value_list=[]\n",
    "    for item in data:\n",
    "        value_list.append(item[key])\n",
    "    print(value_list)\n",
    "    result[key]=value_list\n",
    "    \n",
    "result"
   ]
  },
  {
   "cell_type": "code",
   "execution_count": null,
   "id": "0c0d0bb4",
   "metadata": {},
   "outputs": [],
   "source": [
    "result_df= pd.DataFrame(result)\n",
    "result_df"
   ]
  },
  {
   "cell_type": "markdown",
   "id": "ad8c74c1",
   "metadata": {},
   "source": [
    "# setdefault 함수 이용하기"
   ]
  },
  {
   "cell_type": "code",
   "execution_count": null,
   "id": "e89c9a0f",
   "metadata": {},
   "outputs": [],
   "source": [
    "for dicts in data:\n",
    "    print(dicts)"
   ]
  },
  {
   "cell_type": "code",
   "execution_count": null,
   "id": "773c11d8",
   "metadata": {},
   "outputs": [],
   "source": [
    "for dicts in data:\n",
    "    for key, value in dicts.items():\n",
    "        print(key, value)"
   ]
  },
  {
   "cell_type": "code",
   "execution_count": null,
   "id": "6bd063f7",
   "metadata": {},
   "outputs": [],
   "source": [
    "#setdefault 쓰는법\n",
    "d2={}\n",
    "d2.setdefault('key',3)\n",
    "d2"
   ]
  },
  {
   "cell_type": "code",
   "execution_count": null,
   "id": "99dc2029",
   "metadata": {},
   "outputs": [],
   "source": [
    "dic_result={}\n",
    "for dicts in data:\n",
    "    for key, value in dicts.items()\n",
    "        dic_result.setdefault(key,[]).append(value) # []는 리스트형태\n",
    "        # 키하나에 벨류가 알아서 들어간다.\n",
    "        \n",
    "dic_result"
   ]
  },
  {
   "cell_type": "code",
   "execution_count": null,
   "id": "f8a4bfcc",
   "metadata": {},
   "outputs": [],
   "source": [
    "dic_result_df=pd.DataFrame(dic_result)\n",
    "dic_result_df"
   ]
  },
  {
   "cell_type": "code",
   "execution_count": null,
   "id": "cf49b567",
   "metadata": {},
   "outputs": [],
   "source": []
  }
 ],
 "metadata": {
  "kernelspec": {
   "display_name": "Python 3 (ipykernel)",
   "language": "python",
   "name": "python3"
  },
  "language_info": {
   "codemirror_mode": {
    "name": "ipython",
    "version": 3
   },
   "file_extension": ".py",
   "mimetype": "text/x-python",
   "name": "python",
   "nbconvert_exporter": "python",
   "pygments_lexer": "ipython3",
   "version": "3.9.21"
  }
 },
 "nbformat": 4,
 "nbformat_minor": 5
}
