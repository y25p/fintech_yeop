{
 "cells": [
  {
   "attachments": {
    "image.png": {
     "image/png": "[encoded data removed]"
    }
   },
   "cell_type": "markdown",
   "id": "92a6d85b",
   "metadata": {},
   "source": [
    "![image.png](attachment:image.png)\n",
    "ipynb 파일 업로드 원치않을때 누를것"
   ]
  },
  {
   "cell_type": "markdown",
   "id": "c6b4e9df",
   "metadata": {},
   "source": [
    "# 파이썬 기초문법\n",
    "* 파이썬 주석은 # 뒤에 작성 가능\n",
    "* 파이썬은 들여쓰기를 이용해 코드블럭을 구분함\n",
    "* 들여쓰기는 4칸이 기본이나 2칸인 경우도있다. 그래서-\n",
    "* google colab을 주피터에서 열경우 빨간줄 생길 수 있음\n",
    "* 함수·변수 생길 때 스네이크 표기법 주의 ex)use_snake\n",
    "* 클래스 생길 때는 카멜 표기법 ex)LikeNacktaBack, userName\n",
    "* 들여쓰기 칸수를 안지켜도 에러는 없지만 협업을 위한 약속임"
   ]
  },
  {
   "cell_type": "markdown",
   "id": "159a1841",
   "metadata": {},
   "source": [
    "# print 문\n",
    "* print함수 안에있는 내용을 출력해주는 함수\n",
    "* 기본양식| print(\"출력할 내용\") 변수명·숫자는 따옴표X\n"
   ]
  },
  {
   "cell_type": "code",
   "execution_count": 2,
   "id": "bdbb2f5e",
   "metadata": {},
   "outputs": [
    {
     "name": "stdout",
     "output_type": "stream",
     "text": [
      "5.12\n"
     ]
    }
   ],
   "source": [
    "print(5.12)"
   ]
  },
  {
   "cell_type": "code",
   "execution_count": 3,
   "id": "f42481b5",
   "metadata": {},
   "outputs": [
    {
     "name": "stdout",
     "output_type": "stream",
     "text": [
      "python\n"
     ]
    }
   ],
   "source": [
    "print(\"python\")"
   ]
  },
  {
   "cell_type": "code",
   "execution_count": 4,
   "id": "5cfebf01",
   "metadata": {},
   "outputs": [
    {
     "name": "stdout",
     "output_type": "stream",
     "text": [
      "이것이 '파이썬'\n"
     ]
    }
   ],
   "source": [
    "# 따옴표까지 같이 출력하려면?\n",
    "print(\"이것이 '파이썬'\")"
   ]
  },
  {
   "cell_type": "code",
   "execution_count": 22,
   "id": "5ef6d363",
   "metadata": {},
   "outputs": [
    {
     "ename": "SyntaxError",
     "evalue": "invalid syntax (3257732653.py, line 1)",
     "output_type": "error",
     "traceback": [
      "\u001b[1;36m  Cell \u001b[1;32mIn[22], line 1\u001b[1;36m\u001b[0m\n\u001b[1;33m    print(\"이것이 \"파이썬\"\") #따옴표 종류 겹치지 말것.\u001b[0m\n\u001b[1;37m                ^\u001b[0m\n\u001b[1;31mSyntaxError\u001b[0m\u001b[1;31m:\u001b[0m invalid syntax\n"
     ]
    }
   ],
   "source": [
    "print(\"이것이 \"파이썬\"\") #따옴표 종류 겹치지 말것."
   ]
  },
  {
   "attachments": {
    "image.png": {
     "image/png": "[encoded data removed]"
    }
   },
   "cell_type": "markdown",
   "id": "8b0aaf1c",
   "metadata": {},
   "source": [
    "# print문의 옵션 중 sep\n",
    "* sep: 구분자 - print문 안에서 구분해줌( 자료를)\n",
    "* end: print 후 실행하고 싶은것 정할 수 있음\n",
    "![image.png](attachment:image.png)"
   ]
  },
  {
   "cell_type": "code",
   "execution_count": 6,
   "id": "91e8e278",
   "metadata": {},
   "outputs": [
    {
     "name": "stdout",
     "output_type": "stream",
     "text": [
      "이것은 파이썬 이지롱\n"
     ]
    }
   ],
   "source": [
    "print(\"이것은\", '파이썬', \"이지롱\") # 자료형사이에는 위처럼 공백이 디폴트"
   ]
  },
  {
   "cell_type": "code",
   "execution_count": 7,
   "id": "ea60005f",
   "metadata": {},
   "outputs": [
    {
     "name": "stdout",
     "output_type": "stream",
     "text": [
      "이것은_파이썬_이지롱\n"
     ]
    }
   ],
   "source": [
    "print(\"이것은\", '파이썬', \"이지롱\", sep=\"_\") # 기본값:"
   ]
  },
  {
   "cell_type": "code",
   "execution_count": 8,
   "id": "0bc2f8f5",
   "metadata": {},
   "outputs": [
    {
     "name": "stdout",
     "output_type": "stream",
     "text": [
      "헐크 vs 아이언맨 vs 스파이더맨\n"
     ]
    }
   ],
   "source": [
    "print('헐크',\"아이언맨\",\"스파이더맨\",sep=' vs ') #공백을 주고 VS 넣고싶을 때"
   ]
  },
  {
   "cell_type": "code",
   "execution_count": 9,
   "id": "d91bb026",
   "metadata": {},
   "outputs": [
    {
     "name": "stdout",
     "output_type": "stream",
     "text": [
      "이것은 파이썬 이지롱\n",
      "헐크 vs 아이언맨 vs 스파이더맨\n"
     ]
    }
   ],
   "source": [
    "print(\"이것은\", '파이썬', \"이지롱\")\n",
    "print('헐크',\"아이언맨\",\"스파이더맨\",sep=' vs ')\n",
    "# 보통이렇게 이어서 쓰면 자동줄바꿈."
   ]
  },
  {
   "cell_type": "code",
   "execution_count": 10,
   "id": "1817c1f6",
   "metadata": {},
   "outputs": [
    {
     "name": "stdout",
     "output_type": "stream",
     "text": [
      "이것은_파이썬_이지롱 이것은_파이썬_이지롱\n"
     ]
    }
   ],
   "source": [
    "# end의 기본값: \\n이나 \\r은 -이스케이프문자\n",
    "# end에 자동줄바꿈없이 공백넣어주면 생기는 일.\n",
    "print(\"이것은\", '파이썬', \"이지롱\", sep=\"_\", end=' ')\n",
    "print(\"이것은\", '파이썬', \"이지롱\", sep=\"_\")"
   ]
  },
  {
   "cell_type": "code",
   "execution_count": 27,
   "id": "33908bd5",
   "metadata": {},
   "outputs": [
    {
     "name": "stdout",
     "output_type": "stream",
     "text": [
      "스밴 vs 아이언맨 vs 스파이더맨\r",
      "헐 vs 블랙위도우 vs 스밴\n"
     ]
    }
   ],
   "source": [
    "# end에 '\\r'(carrige return)을 준다면\n",
    "print('스밴',\"아이언맨\",\"스파이더맨\",sep=' vs ', end='\\r')\n",
    "print('헐',\"블랙위도우\",\"스밴\",sep=' vs ')"
   ]
  },
  {
   "cell_type": "code",
   "execution_count": 17,
   "id": "9a2e10b0",
   "metadata": {},
   "outputs": [
    {
     "name": "stdout",
     "output_type": "stream",
     "text": [
      "스밴 vs 아이언맨 vs 스파이더맨\n",
      "헐 vs 블랙위도우 vs 스밴\n"
     ]
    }
   ],
   "source": [
    "# end에 '\\n'(new line)을 준다면 줄바꿈.\n",
    "print('스밴',\"아이언맨\",\"스파이더맨\",sep=' vs ', end='\\n')\n",
    "print('헐',\"블랙위도우\",\"스밴\",sep=' vs ')"
   ]
  },
  {
   "cell_type": "code",
   "execution_count": 18,
   "id": "be0cb996",
   "metadata": {},
   "outputs": [
    {
     "name": "stdout",
     "output_type": "stream",
     "text": [
      "스밴 vs 5100 vs 스파이더맨\n",
      "\n",
      "\n",
      "헐 vs 블랙위도우 vs 스밴\n"
     ]
    }
   ],
   "source": [
    "# end에 '\\r'(carrige return)을 주는 만큼 줄바꿈\n",
    "print('스밴', 5100,\"스파이더맨\",sep=' vs ', end='\\n\\n\\n')\n",
    "print('헐',\"블랙위도우\",\"스밴\",sep=' vs ')"
   ]
  },
  {
   "attachments": {
    "image.png": {
     "image/png": "[encoded data removed]"
    }
   },
   "cell_type": "markdown",
   "id": "9ef16ae6",
   "metadata": {},
   "source": [
    "# 함수의 옵션보기\n",
    "* 함수 옵션은 괄호안에서 shift+Tab키로 열수있다.\n",
    "![image.png](attachment:image.png)"
   ]
  },
  {
   "cell_type": "markdown",
   "id": "3048ac69",
   "metadata": {},
   "source": [
    "# 변수\n",
    "* 자료가 담긴 상자. 기본으로 1상자 1물건 넣는다.\n",
    "* 변수명으로 영문과 숫자를 조합해서 만들 수 있음\n",
    "* 단, 변수명의 시작은 \"_\"나 **영어**만 가능\n",
    "* 숫자나 다른 특수문자는 오류남\n",
    "* 예약어도 안 됨.\n",
    "* 예약어란 이미 파이썬에서 쓰고있는 함수명이나 문법용 단어 ex)list,if,for,id\n",
    "\n",
    "**주의! 예약어로된 변수명이 생기더라도 쓰지말것.**"
   ]
  },
  {
   "cell_type": "code",
   "execution_count": 20,
   "id": "82647c50",
   "metadata": {},
   "outputs": [
    {
     "name": "stdout",
     "output_type": "stream",
     "text": [
      "3\n"
     ]
    }
   ],
   "source": [
    "#변수명을 예약어로 썼을때\n",
    "a=1.212\n",
    "id(a)\n",
    "id=3\n",
    "print(id)"
   ]
  },
  {
   "cell_type": "code",
   "execution_count": 21,
   "id": "7cf32c13",
   "metadata": {},
   "outputs": [
    {
     "ename": "TypeError",
     "evalue": "'int' object is not callable",
     "output_type": "error",
     "traceback": [
      "\u001b[1;31m---------------------------------------------------------------------------\u001b[0m",
      "\u001b[1;31mTypeError\u001b[0m                                 Traceback (most recent call last)",
      "Cell \u001b[1;32mIn[21], line 1\u001b[0m\n\u001b[1;32m----> 1\u001b[0m \u001b[38;5;28;43mid\u001b[39;49m\u001b[43m(\u001b[49m\u001b[43ma\u001b[49m\u001b[43m)\u001b[49m\n",
      "\u001b[1;31mTypeError\u001b[0m: 'int' object is not callable"
     ]
    }
   ],
   "source": [
    "id(a) # 이후에 이 함수는 변수명으로쓰여서 함수로서기능못함."
   ]
  },
  {
   "attachments": {
    "image-2.png": {
     "image/png": "[encoded data removed]"
    },
    "image.png": {
     "image/png": "[encoded data removed]"
    }
   },
   "cell_type": "markdown",
   "id": "d9b05bb1",
   "metadata": {},
   "source": [
    "### 이런 상황일 때 되돌리기\n",
    "![image.png](attachment:image.png)\n",
    "restart 후 \n",
    "![image-2.png](attachment:image-2.png)\n",
    "문제가된 셀에서 run all above"
   ]
  },
  {
   "cell_type": "markdown",
   "id": "d8ca8ccb",
   "metadata": {},
   "source": [
    "* 변수명은 공백불가. 스네이크_표기법\n",
    "* 변수= 자료삽입 요런식으로 할당.\n",
    "* 그러므로 변수뒤에오는 '='는 등호가 아닌점.\n",
    "\n",
    "# 변수에는 자료 1개씩."
   ]
  },
  {
   "cell_type": "code",
   "execution_count": 23,
   "id": "ab729010",
   "metadata": {},
   "outputs": [
    {
     "name": "stdout",
     "output_type": "stream",
     "text": [
      "0\n",
      "2\n"
     ]
    }
   ],
   "source": [
    "a=0\n",
    "print(a)\n",
    "\n",
    "a=2\n",
    "print(a)\n",
    "\n",
    "# 결과가 계속 바뀌지 추가되지는 않음"
   ]
  },
  {
   "cell_type": "code",
   "execution_count": 25,
   "id": "3e77d4d3",
   "metadata": {},
   "outputs": [
    {
     "name": "stdout",
     "output_type": "stream",
     "text": [
      "('str은 길이 상관 없음', '나는?')\n"
     ]
    }
   ],
   "source": [
    "c=\"str은 길이 상관 없음\" #따옴표 하나로 묶이면 1개로친다.\n",
    "print(c)"
   ]
  },
  {
   "cell_type": "code",
   "execution_count": 26,
   "id": "c4ef5a44",
   "metadata": {},
   "outputs": [
    {
     "name": "stdout",
     "output_type": "stream",
     "text": [
      "('str은 길이 상관 없음', '나는?')\n"
     ]
    }
   ],
   "source": [
    "c=\"str은 길이 상관 없음\",\"나는?\" #따옴표 n개로 묶으면 리스트형태가 된다.\n",
    "print(c)"
   ]
  },
  {
   "cell_type": "code",
   "execution_count": 29,
   "id": "d133e5ec",
   "metadata": {},
   "outputs": [
    {
     "data": {
      "text/plain": [
       "8"
      ]
     },
     "execution_count": 29,
     "metadata": {},
     "output_type": "execute_result"
    }
   ],
   "source": [
    "# print안써도되긴하는데 vs코드에서 헷갈리니 비추\n",
    "b=8\n",
    "b"
   ]
  },
  {
   "cell_type": "markdown",
   "id": "56b6cfb2",
   "metadata": {},
   "source": [
    "# 변수들 한번에만들기"
   ]
  },
  {
   "cell_type": "code",
   "execution_count": null,
   "id": "7f126564",
   "metadata": {},
   "outputs": [],
   "source": [
    "a=1\n",
    "b=1"
   ]
  },
  {
   "cell_type": "code",
   "execution_count": 34,
   "id": "3d20d2bf",
   "metadata": {},
   "outputs": [
    {
     "data": {
      "text/plain": [
       "(1, 2, '삼')"
      ]
     },
     "execution_count": 34,
     "metadata": {},
     "output_type": "execute_result"
    }
   ],
   "source": [
    "a,b,c=1,2,\"삼\"\n",
    "a,b,c"
   ]
  },
  {
   "cell_type": "markdown",
   "id": "f5424a01",
   "metadata": {},
   "source": [
    "### 변수 삭제하기 del 변수명"
   ]
  },
  {
   "cell_type": "code",
   "execution_count": 35,
   "id": "d1d9faa2",
   "metadata": {},
   "outputs": [],
   "source": [
    "del a"
   ]
  },
  {
   "cell_type": "code",
   "execution_count": 36,
   "id": "a61782a0",
   "metadata": {},
   "outputs": [
    {
     "ename": "NameError",
     "evalue": "name 'a' is not defined",
     "output_type": "error",
     "traceback": [
      "\u001b[1;31m---------------------------------------------------------------------------\u001b[0m",
      "\u001b[1;31mNameError\u001b[0m                                 Traceback (most recent call last)",
      "Cell \u001b[1;32mIn[36], line 1\u001b[0m\n\u001b[1;32m----> 1\u001b[0m \u001b[43ma\u001b[49m\n",
      "\u001b[1;31mNameError\u001b[0m: name 'a' is not defined"
     ]
    }
   ],
   "source": [
    "a #삭제 후 보려고하면"
   ]
  },
  {
   "cell_type": "code",
   "execution_count": null,
   "id": "fb89b6df",
   "metadata": {},
   "outputs": [],
   "source": []
  },
  {
   "cell_type": "code",
   "execution_count": null,
   "id": "5b24ca8e",
   "metadata": {},
   "outputs": [],
   "source": []
  },
  {
   "cell_type": "code",
   "execution_count": null,
   "id": "a96e111d",
   "metadata": {},
   "outputs": [],
   "source": []
  },
  {
   "cell_type": "code",
   "execution_count": null,
   "id": "4cd687d2",
   "metadata": {},
   "outputs": [],
   "source": []
  },
  {
   "cell_type": "code",
   "execution_count": null,
   "id": "9bc49dba",
   "metadata": {},
   "outputs": [],
   "source": []
  },
  {
   "cell_type": "code",
   "execution_count": null,
   "id": "b88b2c88",
   "metadata": {},
   "outputs": [],
   "source": []
  },
  {
   "cell_type": "code",
   "execution_count": null,
   "id": "98cd6ad7",
   "metadata": {},
   "outputs": [],
   "source": []
  },
  {
   "cell_type": "code",
   "execution_count": null,
   "id": "a2117c38",
   "metadata": {},
   "outputs": [],
   "source": []
  },
  {
   "cell_type": "code",
   "execution_count": null,
   "id": "e5fb386f",
   "metadata": {},
   "outputs": [],
   "source": []
  },
  {
   "cell_type": "code",
   "execution_count": null,
   "id": "cfb860c5",
   "metadata": {},
   "outputs": [],
   "source": []
  },
  {
   "cell_type": "code",
   "execution_count": null,
   "id": "79552946",
   "metadata": {},
   "outputs": [],
   "source": []
  },
  {
   "cell_type": "code",
   "execution_count": null,
   "id": "e03c15a8",
   "metadata": {},
   "outputs": [],
   "source": []
  },
  {
   "cell_type": "code",
   "execution_count": null,
   "id": "f906d83f",
   "metadata": {},
   "outputs": [],
   "source": []
  },
  {
   "cell_type": "code",
   "execution_count": null,
   "id": "78287930",
   "metadata": {},
   "outputs": [],
   "source": []
  }
 ],
 "metadata": {
  "kernelspec": {
   "display_name": "Python 3 (ipykernel)",
   "language": "python",
   "name": "python3"
  },
  "language_info": {
   "codemirror_mode": {
    "name": "ipython",
    "version": 3
   },
   "file_extension": ".py",
   "mimetype": "text/x-python",
   "name": "python",
   "nbconvert_exporter": "python",
   "pygments_lexer": "ipython3",
   "version": "3.9.21"
  }
 },
 "nbformat": 4,
 "nbformat_minor": 5
}
