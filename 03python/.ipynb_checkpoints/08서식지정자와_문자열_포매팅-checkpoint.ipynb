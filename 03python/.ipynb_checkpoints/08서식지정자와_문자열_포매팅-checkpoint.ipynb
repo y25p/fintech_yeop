{
 "cells": [
  {
   "cell_type": "markdown",
   "id": "80d43eba",
   "metadata": {},
   "source": [
    "# 서식지정자, format 메서드\n",
    "- 문자열로만 입력해야하는 상황에서 같은 위치에 문자를 여러번 바꿔야할 때 사용\n",
    "- 문자의 자릿수 맞춤, 위치 정렬에도 사용"
   ]
  },
  {
   "cell_type": "markdown",
   "id": "73dac637",
   "metadata": {},
   "source": [
    "## 1.서식지정자 \n",
    "### %d   %s     %f    %길이s"
   ]
  },
  {
   "cell_type": "markdown",
   "id": "a7fe6b9e",
   "metadata": {},
   "source": [
    "### 1)문자를 입력할때 %s"
   ]
  },
  {
   "cell_type": "code",
   "execution_count": 10,
   "id": "82b25b1d",
   "metadata": {},
   "outputs": [
    {
     "name": "stdout",
     "output_type": "stream",
     "text": [
      "이곳의 이름은 핀인코 입니다.\n"
     ]
    }
   ],
   "source": [
    "print(\"이곳의 이름은 %s 입니다.\" %'핀인코')"
   ]
  },
  {
   "cell_type": "code",
   "execution_count": 11,
   "id": "8ddae122",
   "metadata": {},
   "outputs": [
    {
     "name": "stdout",
     "output_type": "stream",
     "text": [
      "this class's subject is 국어.\n",
      "this class's subject is 수학.\n",
      "this class's subject is 사회.\n",
      "this class's subject is 영어.\n"
     ]
    }
   ],
   "source": [
    "for i in ['국어', '수학', '사회', '영어']:\n",
    "    print(\"this class's subject is %s.\" %i)"
   ]
  },
  {
   "cell_type": "markdown",
   "id": "7b8cd57d",
   "metadata": {},
   "source": [
    "## 2)정수를 입력할때 %d"
   ]
  },
  {
   "cell_type": "code",
   "execution_count": 12,
   "id": "f5940ab3",
   "metadata": {},
   "outputs": [
    {
     "name": "stdout",
     "output_type": "stream",
     "text": [
      "this year is 2025.\n"
     ]
    }
   ],
   "source": [
    "print('this year is %d.' %2025)"
   ]
  },
  {
   "cell_type": "markdown",
   "id": "65482118",
   "metadata": {},
   "source": [
    "# 3) 실수를 입력할때 %f 기본 소수점 6자리"
   ]
  },
  {
   "cell_type": "code",
   "execution_count": 2,
   "id": "69ec527c",
   "metadata": {},
   "outputs": [
    {
     "name": "stdout",
     "output_type": "stream",
     "text": [
      "사람의 정상 체온은 약 36.500000도 입니다.\n"
     ]
    }
   ],
   "source": [
    "print('사람의 정상 체온은 약 %f도 입니다.' %36.5)"
   ]
  },
  {
   "cell_type": "markdown",
   "id": "08c0924a",
   "metadata": {},
   "source": [
    "### 소수점 자리 지정 %.6f까지 가능"
   ]
  },
  {
   "cell_type": "code",
   "execution_count": 3,
   "id": "50c72f3d",
   "metadata": {},
   "outputs": [
    {
     "name": "stdout",
     "output_type": "stream",
     "text": [
      "사람의 정상 체온은 약 36.50도 입니다.\n"
     ]
    }
   ],
   "source": [
    "print('사람의 정상 체온은 약 %.2f도 입니다.' %36.5)"
   ]
  },
  {
   "cell_type": "markdown",
   "id": "a9f78fe6",
   "metadata": {},
   "source": [
    "# 4) 서식지정자로 문자열 길이, 정렬) % 길이s "
   ]
  },
  {
   "cell_type": "code",
   "execution_count": 6,
   "id": "83502435",
   "metadata": {},
   "outputs": [
    {
     "name": "stdout",
     "output_type": "stream",
     "text": [
      " 10자리의 자리수\n"
     ]
    }
   ],
   "source": [
    "print(\"%10s\" % \"10자리의 자리수\")\n",
    "#앞쪽에 2칸 비워두고 뒤에 요청한 str을 채움"
   ]
  },
  {
   "cell_type": "code",
   "execution_count": 4,
   "id": "39e24633",
   "metadata": {
    "scrolled": true
   },
   "outputs": [
    {
     "name": "stdout",
     "output_type": "stream",
     "text": [
      " 01\n"
     ]
    }
   ],
   "source": [
    "print(\"%3s\" % \"01\")"
   ]
  },
  {
   "cell_type": "code",
   "execution_count": 5,
   "id": "33cf69a2",
   "metadata": {},
   "outputs": [
    {
     "name": "stdout",
     "output_type": "stream",
     "text": [
      "150000\n",
      "15000\n"
     ]
    }
   ],
   "source": [
    "print(150000)\n",
    "print(15000)"
   ]
  },
  {
   "cell_type": "code",
   "execution_count": 7,
   "id": "8968c669",
   "metadata": {},
   "outputs": [
    {
     "name": "stdout",
     "output_type": "stream",
     "text": [
      "가격은     150000입니다.\n",
      "가격은      15000입니다.\n"
     ]
    }
   ],
   "source": [
    "#정렬의 방향을 바뀜 주의.\n",
    "print(\"가격은 %10d입니다.\" % 150000)\n",
    "print(\"가격은 %10d입니다.\" % 15000)\n",
    "#오른쪽"
   ]
  },
  {
   "cell_type": "markdown",
   "id": "86f32533",
   "metadata": {},
   "source": [
    "# 5) 여러 항목 동시에 넣기"
   ]
  },
  {
   "cell_type": "code",
   "execution_count": 8,
   "id": "837c235a",
   "metadata": {},
   "outputs": [
    {
     "name": "stdout",
     "output_type": "stream",
     "text": [
      "오늘은 2025년  3월 17일입니다.\n"
     ]
    }
   ],
   "source": [
    "print(\"오늘은 %4d년 %2d월 %2d일입니다.\" % (2025, 3, 17))"
   ]
  },
  {
   "cell_type": "code",
   "execution_count": null,
   "id": "10bed0bc",
   "metadata": {},
   "outputs": [],
   "source": [
    "company=['삼성전자','lg전자', '현대차','대한항공','하나투어']\n",
    "stock=[71800, 121000, 195000, 31900, 86600]"
   ]
  },
  {
   "cell_type": "code",
   "execution_count": null,
   "id": "171c11bb",
   "metadata": {},
   "outputs": [],
   "source": [
    "for com, st in zip(company, stock):\n",
    "    print(\"%s의 주가는 %d입니다.\" % (com, st))"
   ]
  },
  {
   "cell_type": "markdown",
   "id": "b95d9466",
   "metadata": {},
   "source": [
    "# 2. format 메서드 사용하기, f-string 문자열 포매팅"
   ]
  },
  {
   "cell_type": "markdown",
   "id": "02d2f2d9",
   "metadata": {},
   "source": [
    "### 1)format 매서드 쓰는법\n",
    "- \"str {인덱스} str\".format(값)\n",
    "- 중괄호로 인덱스를 넣는 부분은 순서를 바꿔야할때 필수. \n",
    "- 순서 바뀌지 않는다면 없어도 되는 부분."
   ]
  },
  {
   "cell_type": "code",
   "execution_count": null,
   "id": "ec3744b7",
   "metadata": {},
   "outputs": [],
   "source": [
    "print(\"{}의 주가는 {}입니다.\".format(com, st))"
   ]
  },
  {
   "cell_type": "code",
   "execution_count": null,
   "id": "411c38b5",
   "metadata": {},
   "outputs": [],
   "source": [
    "print(\"{}의 주가는 {}입니다.\".format('삼숭전자', 50000))"
   ]
  },
  {
   "cell_type": "code",
   "execution_count": null,
   "id": "2f28e65c",
   "metadata": {},
   "outputs": [],
   "source": [
    "# 결과같은 다른 방법\n",
    "print(\"{0}의 주가는 {1}입니다.\".format('삼숭전자', 50000))"
   ]
  },
  {
   "cell_type": "code",
   "execution_count": null,
   "id": "29f5ac25",
   "metadata": {},
   "outputs": [],
   "source": [
    "print('{1}의 주가는 {0}입니다.'.format('엘지전자',66666))\n",
    "# 위치지정을 내맘대로 바꿀수있는점이 장점"
   ]
  },
  {
   "cell_type": "code",
   "execution_count": null,
   "id": "ddc912ff",
   "metadata": {},
   "outputs": [],
   "source": [
    "# 조금더 복잡한 유형\n",
    "print('{}의 주가는 {}원입니다.\\n{}의 상한가는 {}\\n{}의 하한가는 {}입니다.')"
   ]
  },
  {
   "cell_type": "code",
   "execution_count": null,
   "id": "af844582",
   "metadata": {},
   "outputs": [],
   "source": [
    "print('{}의 주가는 {}원입니다.\\n{}의 상한가는 {}\\n{}의 하한가는 {}입니다.'.\n",
    "      format('웅진',12345,543210))"
   ]
  },
  {
   "cell_type": "code",
   "execution_count": null,
   "id": "afd3279b",
   "metadata": {},
   "outputs": [],
   "source": [
    "# 이렇게 에러나는건 순서를 지정하지 않았기 때문.\n",
    "print('{0}의 주가는 {3}원입니다.\\n{0}의 상한가는 {2}\\n{0}의 하한가는 {1}입니다.'.\n",
    "      format('웅진',12345,543210,234567))"
   ]
  },
  {
   "cell_type": "markdown",
   "id": "c0f0b858",
   "metadata": {},
   "source": [
    "반복되는 srt과 그사이에 int를 넣어야할 경우 포맷 메서드를 통해 단축할 수 있다."
   ]
  },
  {
   "cell_type": "markdown",
   "id": "43995629",
   "metadata": {},
   "source": [
    "### f-string으로 값넣기 python3.6부터 쓸수있는기능."
   ]
  },
  {
   "cell_type": "code",
   "execution_count": null,
   "id": "eee37452",
   "metadata": {},
   "outputs": [],
   "source": [
    "company"
   ]
  },
  {
   "cell_type": "code",
   "execution_count": null,
   "id": "a7d22f07",
   "metadata": {},
   "outputs": [],
   "source": [
    "stock"
   ]
  },
  {
   "cell_type": "code",
   "execution_count": null,
   "id": "7c8f4e37",
   "metadata": {},
   "outputs": [],
   "source": [
    "print(f'{company[0]}의 주가는 {stock[0]}입니다.')"
   ]
  },
  {
   "cell_type": "code",
   "execution_count": null,
   "id": "60b95187",
   "metadata": {},
   "outputs": [],
   "source": [
    "sam='samsung'\n",
    "sto=717100\n",
    "print(f'{sam}의 주가는 {sto}입니다.')"
   ]
  },
  {
   "cell_type": "code",
   "execution_count": null,
   "id": "27fd2111",
   "metadata": {},
   "outputs": [],
   "source": [
    "for com, sto in zip(company, stock):\n",
    "    print('{0}의 주가는 {1}입니다.'.format(com,sto))"
   ]
  },
  {
   "cell_type": "code",
   "execution_count": null,
   "id": "7f449543",
   "metadata": {},
   "outputs": [],
   "source": [
    "for com, sto in zip(company, stock):\n",
    "    print(f'{com}의 주가는 {sto}입니다.')"
   ]
  },
  {
   "attachments": {
    "image.png": {
     "image/png": "[encoded data removed]"
    }
   },
   "cell_type": "markdown",
   "id": "33e29ff8",
   "metadata": {},
   "source": [
    "# 3.format 메서드와 fstring으로 문자 정렬, 자리수 지정해 출력하기\n",
    "- \"{인덱스:<길이}\".format(값)\n",
    "- <10 공간을 확보하고 왼쪽정렬 \n",
    "![image.png](attachment:image.png)"
   ]
  },
  {
   "cell_type": "code",
   "execution_count": null,
   "id": "de67b23d",
   "metadata": {},
   "outputs": [],
   "source": []
  },
  {
   "cell_type": "code",
   "execution_count": null,
   "id": "1117bca6",
   "metadata": {},
   "outputs": [],
   "source": [
    "print('{0:>10}'.format('삼성전자'))"
   ]
  },
  {
   "cell_type": "code",
   "execution_count": null,
   "id": "1addcc7e",
   "metadata": {},
   "outputs": [],
   "source": [
    "'{0:<10}'.format('삼성전자') # 공백이 10칸으로하되 왼쪽(<)정렬할것."
   ]
  },
  {
   "cell_type": "code",
   "execution_count": null,
   "id": "daa0767e",
   "metadata": {},
   "outputs": [],
   "source": [
    "'%10s' % '삼성전자'"
   ]
  },
  {
   "cell_type": "markdown",
   "id": "18f3aea3",
   "metadata": {},
   "source": [
    "### F스트링으로 가면 f쓰고 값을 직접써야함."
   ]
  },
  {
   "cell_type": "code",
   "execution_count": null,
   "id": "7e97a9ae",
   "metadata": {},
   "outputs": [],
   "source": [
    "f\"{'삼성전자':<10}\" # 따옴표 중복주의 \"\"안에 \"\" 안됨."
   ]
  },
  {
   "cell_type": "code",
   "execution_count": null,
   "id": "ab224767",
   "metadata": {},
   "outputs": [],
   "source": [
    "f\"{'삼성전자':>10}\""
   ]
  },
  {
   "cell_type": "markdown",
   "id": "b89ada67",
   "metadata": {},
   "source": [
    "- 숫자 표기시 숫자 자리수 맞추고 기본 값지정\n",
    "- \"{인덱스: 채울 숫자 길이 서식 지정}\".format(값)\n",
    "- 인덱스에 %는 없어야함.\n",
    "- f\"{값:채울 숫자 길이 서식지정}\" %는 여기도 뺌"
   ]
  },
  {
   "cell_type": "code",
   "execution_count": null,
   "id": "e7089ff6",
   "metadata": {},
   "outputs": [],
   "source": [
    "print(\"{0}월\".format(1))"
   ]
  },
  {
   "cell_type": "code",
   "execution_count": null,
   "id": "3ea2582f",
   "metadata": {},
   "outputs": [],
   "source": [
    "print(\"{0:02d}월\".format(1)) #02d의 의미는 채울숫자가0 길이는2 d는 정수"
   ]
  },
  {
   "cell_type": "code",
   "execution_count": null,
   "id": "c8c0d268",
   "metadata": {},
   "outputs": [],
   "source": [
    "print(\"{0:03d}월\".format(1)) #02d의 의미는 기본값(채울수):0 길이:3 d는 정수\n",
    "# 0을 3자리 확보하라는것"
   ]
  },
  {
   "cell_type": "code",
   "execution_count": null,
   "id": "561cf7bb",
   "metadata": {},
   "outputs": [],
   "source": [
    "print(\"{0:02d}월\".format(10)) \n",
    "#python daytime 모듈에서 온 날짜값을 크롤링할때 많이 쓰임."
   ]
  },
  {
   "cell_type": "code",
   "execution_count": null,
   "id": "0b5ee67c",
   "metadata": {},
   "outputs": [],
   "source": [
    "print(f\"{10:02d}월\")"
   ]
  },
  {
   "attachments": {
    "image.png": {
     "image/png": "[encoded data removed]"
    }
   },
   "cell_type": "markdown",
   "id": "736dc3bc",
   "metadata": {},
   "source": [
    "![image.png](attachment:image.png)\n",
    "- 인덱스가 아닌점 주의"
   ]
  },
  {
   "cell_type": "markdown",
   "id": "3e37a5d2",
   "metadata": {},
   "source": [
    "### 숫자의 자리수, 소수점 자리수 지정\n",
    "- \"{인덱스:기본값 자리수 서식지정자}\".format(값)\n",
    "- f\"{값:기본값 자리수 서식지정자}\"\n",
    "- 자리수는 정수+.+소수점을 모두 포함해 지정하는것."
   ]
  },
  {
   "cell_type": "code",
   "execution_count": null,
   "id": "a5ea91d8",
   "metadata": {},
   "outputs": [],
   "source": [
    "print(\"{0:03.3f}\".format(2.245678))"
   ]
  },
  {
   "cell_type": "code",
   "execution_count": null,
   "id": "6bcfb872",
   "metadata": {},
   "outputs": [],
   "source": [
    "# :03은 0의3자리를 확보 06이면 6자리 확보\n",
    "\n",
    "print(\"{0:06.3f}\".format(2.245678)) # 이렇게쓸경우"
   ]
  },
  {
   "attachments": {
    "image.png": {
     "image/png": "[encoded data removed]"
    }
   },
   "cell_type": "markdown",
   "id": "e15dcea7",
   "metadata": {},
   "source": [
    "![image.png](attachment:image.png)\n",
    "- 확보한 자리가 남으니 0으로 표시한것."
   ]
  },
  {
   "cell_type": "code",
   "execution_count": null,
   "id": "84c707d8",
   "metadata": {},
   "outputs": [],
   "source": [
    "print(\"{0:7.3f}\".format(2.245678)) \n",
    "# 여기서는 7자리를 확보했지만 기본 0이아니므로 공백표시"
   ]
  },
  {
   "cell_type": "code",
   "execution_count": null,
   "id": "da48eae7",
   "metadata": {},
   "outputs": [],
   "source": [
    "print(\"{0:010.7f}\".format(2.245678)) "
   ]
  },
  {
   "cell_type": "markdown",
   "id": "1fb2496c",
   "metadata": {},
   "source": [
    "00시 01분부터 11시 59분까지 출력하라 1자리는 01형식으로 출력해라 "
   ]
  },
  {
   "cell_type": "code",
   "execution_count": 77,
   "id": "38e16bb0",
   "metadata": {},
   "outputs": [
    {
     "name": "stdout",
     "output_type": "stream",
     "text": [
      "01시 17분\r"
     ]
    },
    {
     "ename": "KeyboardInterrupt",
     "evalue": "",
     "output_type": "error",
     "traceback": [
      "\u001b[1;31m---------------------------------------------------------------------------\u001b[0m",
      "\u001b[1;31mKeyboardInterrupt\u001b[0m                         Traceback (most recent call last)",
      "Cell \u001b[1;32mIn[77], line 6\u001b[0m\n\u001b[0;32m      4\u001b[0m \u001b[38;5;28;01mfor\u001b[39;00m boon \u001b[38;5;129;01min\u001b[39;00m \u001b[38;5;28mrange\u001b[39m(\u001b[38;5;241m0\u001b[39m,\u001b[38;5;241m60\u001b[39m):\n\u001b[0;32m      5\u001b[0m     \u001b[38;5;28mprint\u001b[39m(\u001b[38;5;124mf\u001b[39m\u001b[38;5;124m\"\u001b[39m\u001b[38;5;132;01m{\u001b[39;00msi\u001b[38;5;132;01m:\u001b[39;00m\u001b[38;5;124m02d\u001b[39m\u001b[38;5;132;01m}\u001b[39;00m\u001b[38;5;124m시 \u001b[39m\u001b[38;5;132;01m{\u001b[39;00mboon\u001b[38;5;132;01m:\u001b[39;00m\u001b[38;5;124m02d\u001b[39m\u001b[38;5;132;01m}\u001b[39;00m\u001b[38;5;124m분\u001b[39m\u001b[38;5;124m\"\u001b[39m, end\u001b[38;5;241m=\u001b[39m\u001b[38;5;124m'\u001b[39m\u001b[38;5;130;01m\\r\u001b[39;00m\u001b[38;5;124m'\u001b[39m)\n\u001b[1;32m----> 6\u001b[0m     \u001b[43mtime\u001b[49m\u001b[38;5;241;43m.\u001b[39;49m\u001b[43msleep\u001b[49m\u001b[43m(\u001b[49m\u001b[38;5;241;43m0.2\u001b[39;49m\u001b[43m)\u001b[49m\n",
      "\u001b[1;31mKeyboardInterrupt\u001b[0m: "
     ]
    }
   ],
   "source": [
    "\n",
    "for si in range(0,12):\n",
    "#     print(f\"{si:02d}시\")\n",
    "    for boon in range(0,60):\n",
    "        print(f\"{si:02d}시 {boon:02d}분\", end='\\r')\n"
   ]
  },
  {
   "cell_type": "code",
   "execution_count": null,
   "id": "c989ad05",
   "metadata": {},
   "outputs": [],
   "source": [
    "import time # 시간이 흐르는것에 따라 덮어쓰면서 올라가는것처럼 보이게하고싶을때\n",
    "for si in range(0,12):\n",
    "    for boon in range(0,60):\n",
    "        print(f\"{si:02d}시 {boon:02d}분\", end='\\r')\n",
    "        time.sleep(0.2)  #위아래로 추가할것."
   ]
  },
  {
   "cell_type": "markdown",
   "id": "e7b7aa38",
   "metadata": {},
   "source": [
    "- 공백을 원하는 문자로 채우고 자리수 맞추기\n",
    "- {인덱스: 원하는 숫자/문자 <>자리수 }.format(값)\n",
    "- f:\"{값:원하는 숫자/문자 <>자리수}\""
   ]
  },
  {
   "cell_type": "code",
   "execution_count": 2,
   "id": "cf601164",
   "metadata": {},
   "outputs": [
    {
     "data": {
      "text/plain": [
       "'0001'"
      ]
     },
     "execution_count": 2,
     "metadata": {},
     "output_type": "execute_result"
    }
   ],
   "source": [
    "\"{0:0>4}\".format(1)"
   ]
  },
  {
   "cell_type": "code",
   "execution_count": 3,
   "id": "3c75183e",
   "metadata": {},
   "outputs": [
    {
     "data": {
      "text/plain": [
       "'$$$1'"
      ]
     },
     "execution_count": 3,
     "metadata": {},
     "output_type": "execute_result"
    }
   ],
   "source": [
    "\"{0:$>4}\".format(1)"
   ]
  },
  {
   "cell_type": "code",
   "execution_count": 7,
   "id": "5be17287",
   "metadata": {},
   "outputs": [
    {
     "data": {
      "text/plain": [
       "'***dollar'"
      ]
     },
     "execution_count": 7,
     "metadata": {},
     "output_type": "execute_result"
    }
   ],
   "source": [
    "\"{0:*>9}\".format('dollar')"
   ]
  },
  {
   "cell_type": "code",
   "execution_count": 8,
   "id": "ba7d1ca6",
   "metadata": {},
   "outputs": [
    {
     "data": {
      "text/plain": [
       "'달러$$$$$$$$'"
      ]
     },
     "execution_count": 8,
     "metadata": {},
     "output_type": "execute_result"
    }
   ],
   "source": [
    "f\"{'달러':$<10}\""
   ]
  },
  {
   "cell_type": "markdown",
   "id": "84f5ccee",
   "metadata": {},
   "source": [
    "### url의 주소를 주피터에."
   ]
  },
  {
   "cell_type": "code",
   "execution_count": 9,
   "id": "291046e4",
   "metadata": {},
   "outputs": [
    {
     "data": {
      "text/plain": [
       "'https://finance.naver.com/sise/sise_trans_style.naver?sosok=01'"
      ]
     },
     "execution_count": 9,
     "metadata": {},
     "output_type": "execute_result"
    }
   ],
   "source": [
    "ur='https://finance.naver.com/sise/sise_trans_style.naver?sosok=01'\n",
    "url                                                      # 맨끝 01만 수를 바꿀수있는지"
   ]
  },
  {
   "cell_type": "code",
   "execution_count": 10,
   "id": "ea863483",
   "metadata": {},
   "outputs": [],
   "source": [
    "url='https://finance.naver.com/sise/sise_trans_style.naver?sosok='"
   ]
  },
  {
   "cell_type": "code",
   "execution_count": 13,
   "id": "e2931362",
   "metadata": {},
   "outputs": [
    {
     "data": {
      "text/plain": [
       "'https://finance.naver.com/sise/sise_trans_style.naver?sosok=02'"
      ]
     },
     "execution_count": 13,
     "metadata": {},
     "output_type": "execute_result"
    }
   ],
   "source": [
    "url+'02'"
   ]
  },
  {
   "cell_type": "code",
   "execution_count": 14,
   "id": "70dc9f58",
   "metadata": {},
   "outputs": [],
   "source": [
    "# 주소를 주고 계속 더하도록\n",
    "url+'03'{}"
   ]
  },
  {
   "cell_type": "code",
   "execution_count": 19,
   "id": "8dbf9ca0",
   "metadata": {},
   "outputs": [
    {
     "name": "stdout",
     "output_type": "stream",
     "text": [
      "https://finance.naver.com/sise/sise_trans_style.naver?sosok=01\n",
      "https://finance.naver.com/sise/sise_trans_style.naver?sosok=02\n",
      "https://finance.naver.com/sise/sise_trans_style.naver?sosok=03\n",
      "https://finance.naver.com/sise/sise_trans_style.naver?sosok=04\n",
      "https://finance.naver.com/sise/sise_trans_style.naver?sosok=05\n",
      "https://finance.naver.com/sise/sise_trans_style.naver?sosok=06\n",
      "https://finance.naver.com/sise/sise_trans_style.naver?sosok=07\n",
      "https://finance.naver.com/sise/sise_trans_style.naver?sosok=08\n",
      "https://finance.naver.com/sise/sise_trans_style.naver?sosok=09\n",
      "https://finance.naver.com/sise/sise_trans_style.naver?sosok=10\n"
     ]
    }
   ],
   "source": [
    "# 만약 넣어야하는 자리가 여럿이라면\n",
    "for i in range(1,11):\n",
    "    print(f'{url}{i:02d}')"
   ]
  },
  {
   "cell_type": "markdown",
   "id": "0434b1f5",
   "metadata": {},
   "source": [
    "09로 넘어감"
   ]
  },
  {
   "cell_type": "code",
   "execution_count": null,
   "id": "27444904",
   "metadata": {},
   "outputs": [],
   "source": []
  },
  {
   "cell_type": "code",
   "execution_count": null,
   "id": "b9d10c0f",
   "metadata": {},
   "outputs": [],
   "source": []
  },
  {
   "cell_type": "code",
   "execution_count": null,
   "id": "1cd6a1b7",
   "metadata": {},
   "outputs": [],
   "source": []
  },
  {
   "cell_type": "code",
   "execution_count": null,
   "id": "db4204b1",
   "metadata": {},
   "outputs": [],
   "source": []
  },
  {
   "cell_type": "code",
   "execution_count": null,
   "id": "3bf1e318",
   "metadata": {},
   "outputs": [],
   "source": []
  },
  {
   "cell_type": "code",
   "execution_count": null,
   "id": "253490ea",
   "metadata": {},
   "outputs": [],
   "source": []
  },
  {
   "cell_type": "code",
   "execution_count": null,
   "id": "cc56ae0c",
   "metadata": {},
   "outputs": [],
   "source": []
  },
  {
   "cell_type": "code",
   "execution_count": null,
   "id": "19c7ad30",
   "metadata": {},
   "outputs": [],
   "source": []
  },
  {
   "cell_type": "code",
   "execution_count": null,
   "id": "87b829e6",
   "metadata": {},
   "outputs": [],
   "source": []
  },
  {
   "cell_type": "code",
   "execution_count": null,
   "id": "3e1ee8b5",
   "metadata": {},
   "outputs": [],
   "source": []
  },
  {
   "cell_type": "code",
   "execution_count": null,
   "id": "21749f45",
   "metadata": {},
   "outputs": [],
   "source": []
  },
  {
   "cell_type": "code",
   "execution_count": null,
   "id": "9d50e225",
   "metadata": {},
   "outputs": [],
   "source": []
  },
  {
   "cell_type": "code",
   "execution_count": null,
   "id": "ce1bda32",
   "metadata": {},
   "outputs": [],
   "source": []
  },
  {
   "cell_type": "code",
   "execution_count": null,
   "id": "754146cb",
   "metadata": {},
   "outputs": [],
   "source": []
  },
  {
   "cell_type": "code",
   "execution_count": null,
   "id": "61811d18",
   "metadata": {},
   "outputs": [],
   "source": []
  },
  {
   "cell_type": "code",
   "execution_count": null,
   "id": "b0c36a78",
   "metadata": {},
   "outputs": [],
   "source": []
  },
  {
   "cell_type": "code",
   "execution_count": null,
   "id": "66f7a54e",
   "metadata": {},
   "outputs": [],
   "source": []
  },
  {
   "cell_type": "code",
   "execution_count": null,
   "id": "fdf0c833",
   "metadata": {},
   "outputs": [],
   "source": []
  },
  {
   "cell_type": "code",
   "execution_count": null,
   "id": "66998eaf",
   "metadata": {},
   "outputs": [],
   "source": []
  },
  {
   "cell_type": "code",
   "execution_count": null,
   "id": "5f5694e8",
   "metadata": {},
   "outputs": [],
   "source": []
  },
  {
   "cell_type": "code",
   "execution_count": null,
   "id": "bc1c5a2b",
   "metadata": {},
   "outputs": [],
   "source": []
  },
  {
   "cell_type": "code",
   "execution_count": null,
   "id": "eba37f80",
   "metadata": {},
   "outputs": [],
   "source": []
  },
  {
   "cell_type": "code",
   "execution_count": null,
   "id": "e92a950c",
   "metadata": {},
   "outputs": [],
   "source": []
  },
  {
   "cell_type": "code",
   "execution_count": null,
   "id": "ae9ce372",
   "metadata": {},
   "outputs": [],
   "source": []
  },
  {
   "cell_type": "code",
   "execution_count": null,
   "id": "400612a6",
   "metadata": {},
   "outputs": [],
   "source": []
  },
  {
   "cell_type": "code",
   "execution_count": null,
   "id": "c1f78a3b",
   "metadata": {},
   "outputs": [],
   "source": []
  },
  {
   "cell_type": "code",
   "execution_count": null,
   "id": "ac0a14b6",
   "metadata": {},
   "outputs": [],
   "source": []
  },
  {
   "cell_type": "code",
   "execution_count": null,
   "id": "e35ecf75",
   "metadata": {},
   "outputs": [],
   "source": []
  },
  {
   "cell_type": "code",
   "execution_count": null,
   "id": "f33e8b7c",
   "metadata": {},
   "outputs": [],
   "source": []
  },
  {
   "cell_type": "code",
   "execution_count": null,
   "id": "07fe9de2",
   "metadata": {},
   "outputs": [],
   "source": []
  },
  {
   "cell_type": "code",
   "execution_count": null,
   "id": "7bcf776f",
   "metadata": {},
   "outputs": [],
   "source": []
  },
  {
   "cell_type": "code",
   "execution_count": null,
   "id": "c093fc72",
   "metadata": {},
   "outputs": [],
   "source": []
  },
  {
   "cell_type": "code",
   "execution_count": null,
   "id": "1b3344fd",
   "metadata": {},
   "outputs": [],
   "source": []
  },
  {
   "cell_type": "code",
   "execution_count": null,
   "id": "d7799fb3",
   "metadata": {},
   "outputs": [],
   "source": []
  },
  {
   "cell_type": "code",
   "execution_count": null,
   "id": "7a2de2ee",
   "metadata": {},
   "outputs": [],
   "source": []
  },
  {
   "cell_type": "code",
   "execution_count": null,
   "id": "4817fe73",
   "metadata": {},
   "outputs": [],
   "source": []
  },
  {
   "cell_type": "code",
   "execution_count": null,
   "id": "051249d3",
   "metadata": {},
   "outputs": [],
   "source": []
  },
  {
   "cell_type": "code",
   "execution_count": null,
   "id": "99293932",
   "metadata": {},
   "outputs": [],
   "source": []
  },
  {
   "cell_type": "code",
   "execution_count": null,
   "id": "197d75db",
   "metadata": {},
   "outputs": [],
   "source": []
  },
  {
   "cell_type": "code",
   "execution_count": null,
   "id": "ee93ed8b",
   "metadata": {},
   "outputs": [],
   "source": []
  },
  {
   "cell_type": "code",
   "execution_count": null,
   "id": "8f279706",
   "metadata": {},
   "outputs": [],
   "source": []
  },
  {
   "cell_type": "code",
   "execution_count": null,
   "id": "273a82b2",
   "metadata": {},
   "outputs": [],
   "source": []
  },
  {
   "cell_type": "code",
   "execution_count": null,
   "id": "e2c4af6e",
   "metadata": {},
   "outputs": [],
   "source": []
  },
  {
   "cell_type": "code",
   "execution_count": null,
   "id": "30d00c0d",
   "metadata": {},
   "outputs": [],
   "source": []
  },
  {
   "cell_type": "code",
   "execution_count": null,
   "id": "8d707599",
   "metadata": {},
   "outputs": [],
   "source": []
  },
  {
   "cell_type": "code",
   "execution_count": null,
   "id": "7b1fcad3",
   "metadata": {},
   "outputs": [],
   "source": []
  },
  {
   "cell_type": "code",
   "execution_count": null,
   "id": "6b47d679",
   "metadata": {},
   "outputs": [],
   "source": []
  }
 ],
 "metadata": {
  "kernelspec": {
   "display_name": "Python 3 (ipykernel)",
   "language": "python",
   "name": "python3"
  },
  "language_info": {
   "codemirror_mode": {
    "name": "ipython",
    "version": 3
   },
   "file_extension": ".py",
   "mimetype": "text/x-python",
   "name": "python",
   "nbconvert_exporter": "python",
   "pygments_lexer": "ipython3",
   "version": "3.9.21"
  }
 },
 "nbformat": 4,
 "nbformat_minor": 5
}
