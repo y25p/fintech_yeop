{
 "cells": [
  {
   "cell_type": "markdown",
   "id": "d82234ff",
   "metadata": {},
   "source": [
    "# 반복문 for, while\n",
    "* 반복문은 동일한 작업을 여러 번 반복해야 할 경우 사용\n",
    "* for, while 두 종류의 반복문이 있음\n",
    "* for는 **반복 횟수가 정해져 있는 경우** 사용\n",
    "* while은 반복 횟수가 정해져 있지 않은 경우 **(무한 반복)** 사용"
   ]
  },
  {
   "cell_type": "markdown",
   "id": "90dba3cf",
   "metadata": {},
   "source": [
    "## for 반복문: 반복할 횟수가 정해져 있는 경우\n",
    "for 변수1, 변수2 in 반복할 객체/자료(문자열, 리스트, 튜플, 딕셔너리):<br>\n",
    "____반복할 코드"
   ]
  },
  {
   "cell_type": "code",
   "execution_count": 1,
   "id": "3dcedb9c",
   "metadata": {},
   "outputs": [],
   "source": [
    "# 숫자 생성 함수 range(시작, 끝, step)"
   ]
  },
  {
   "cell_type": "code",
   "execution_count": 3,
   "id": "3bf50f19",
   "metadata": {},
   "outputs": [
    {
     "name": "stdout",
     "output_type": "stream",
     "text": [
      "1 2 3 4 5 6 7 8 9 10 "
     ]
    }
   ],
   "source": [
    "# for문을 이용해서 숫자 1-10을 출력\n",
    "for num in range(1, 11):\n",
    "    print(num, end=\" \")"
   ]
  },
  {
   "cell_type": "markdown",
   "id": "77cfa600",
   "metadata": {},
   "source": [
    "* 순서가 있는 자료형(문자열, 리스트, 튜플) + 순서는 없지만 dict도 반복문에서 사용가능"
   ]
  },
  {
   "cell_type": "code",
   "execution_count": 3,
   "id": "38d748cf",
   "metadata": {},
   "outputs": [
    {
     "data": {
      "text/plain": [
       "23"
      ]
     },
     "execution_count": 3,
     "metadata": {},
     "output_type": "execute_result"
    }
   ],
   "source": [
    "len(\"파이썬은 문자열을 반복문에 넣어 출력 가능\")"
   ]
  },
  {
   "cell_type": "code",
   "execution_count": 2,
   "id": "a4a4e599",
   "metadata": {
    "scrolled": true
   },
   "outputs": [
    {
     "name": "stdout",
     "output_type": "stream",
     "text": [
      "파이썬은 문자열을 반복문에 넣어 출력 가능"
     ]
    }
   ],
   "source": [
    "# 문자열\n",
    "for char in \"파이썬은 문자열을 반복문에 넣어 출력 가능\":\n",
    "    print(char, end=\"\")"
   ]
  },
  {
   "cell_type": "code",
   "execution_count": 7,
   "id": "0b08e8e1",
   "metadata": {},
   "outputs": [
    {
     "name": "stdout",
     "output_type": "stream",
     "text": [
      "1\n",
      "2\n",
      "3\n",
      "사\n",
      "오\n",
      "[6, 7, 8]\n",
      "(8, 9, 10)\n",
      "{'key': 'value'}\n"
     ]
    }
   ],
   "source": [
    "# 리스트\n",
    "for l_item in [1,2,3,\"사\", \"오\", [6,7,8], (8, 9,10), {\"key\": \"value\"}]:\n",
    "    print(l_item)"
   ]
  },
  {
   "cell_type": "code",
   "execution_count": 8,
   "id": "b38c509c",
   "metadata": {
    "scrolled": true
   },
   "outputs": [
    {
     "name": "stdout",
     "output_type": "stream",
     "text": [
      "1\n",
      "2\n",
      "3\n",
      "사\n",
      "오\n",
      "[6, 7, 8]\n",
      "(8, 9, 10)\n",
      "{'key': 'value'}\n"
     ]
    }
   ],
   "source": [
    "# 튜플\n",
    "for l_item in (1,2,3,\"사\", \"오\", [6,7,8], (8, 9,10), {\"key\": \"value\"}):\n",
    "    print(l_item)"
   ]
  },
  {
   "cell_type": "code",
   "execution_count": 4,
   "id": "ed8c5ccd",
   "metadata": {},
   "outputs": [
    {
     "data": {
      "text/plain": [
       "(1, 2, 3, '사', '오', [6, 7, 8], (8, 9, 10), {'key': 'value'})"
      ]
     },
     "execution_count": 4,
     "metadata": {},
     "output_type": "execute_result"
    }
   ],
   "source": [
    "t = (1,2,3,\"사\", \"오\", [6,7,8], (8, 9,10), {\"key\": \"value\"})\n",
    "t"
   ]
  },
  {
   "cell_type": "code",
   "execution_count": 5,
   "id": "12a156f0",
   "metadata": {},
   "outputs": [
    {
     "name": "stdout",
     "output_type": "stream",
     "text": [
      "1\n",
      "2\n",
      "3\n",
      "사\n",
      "오\n",
      "[6, 7, 8]\n",
      "(8, 9, 10)\n",
      "{'key': 'value'}\n"
     ]
    }
   ],
   "source": [
    "for t_item in t:\n",
    "    print(t_item)"
   ]
  },
  {
   "cell_type": "code",
   "execution_count": 6,
   "id": "473eb995",
   "metadata": {},
   "outputs": [],
   "source": [
    "d = dict(이름=\"홍길동\", 나이=40, 주소=\"서울\", 전화번호=\"010-1111-1111\")"
   ]
  },
  {
   "cell_type": "code",
   "execution_count": 7,
   "id": "a43ee8af",
   "metadata": {},
   "outputs": [
    {
     "data": {
      "text/plain": [
       "{'이름': '홍길동', '나이': 40, '주소': '서울', '전화번호': '010-1111-1111'}"
      ]
     },
     "execution_count": 7,
     "metadata": {},
     "output_type": "execute_result"
    }
   ],
   "source": [
    "d"
   ]
  },
  {
   "cell_type": "code",
   "execution_count": 8,
   "id": "b293bccf",
   "metadata": {},
   "outputs": [
    {
     "name": "stdout",
     "output_type": "stream",
     "text": [
      "이름\n",
      "나이\n",
      "주소\n",
      "전화번호\n"
     ]
    }
   ],
   "source": [
    "for i in d:\n",
    "    print(i)"
   ]
  },
  {
   "cell_type": "code",
   "execution_count": 10,
   "id": "830282a8",
   "metadata": {},
   "outputs": [
    {
     "name": "stdout",
     "output_type": "stream",
     "text": [
      "홍길동\n",
      "40\n",
      "서울\n",
      "010-1111-1111\n"
     ]
    }
   ],
   "source": [
    "for key in d:\n",
    "    print(d[key])"
   ]
  },
  {
   "cell_type": "code",
   "execution_count": 15,
   "id": "0d1d8098",
   "metadata": {},
   "outputs": [
    {
     "data": {
      "text/plain": [
       "dict_values(['홍길동', 40, '서울', '010-1111-1111'])"
      ]
     },
     "execution_count": 15,
     "metadata": {},
     "output_type": "execute_result"
    }
   ],
   "source": [
    "d.values()"
   ]
  },
  {
   "cell_type": "code",
   "execution_count": 12,
   "id": "bdef9021",
   "metadata": {
    "scrolled": true
   },
   "outputs": [
    {
     "name": "stdout",
     "output_type": "stream",
     "text": [
      "홍길동\n",
      "40\n",
      "서울\n",
      "010-1111-1111\n"
     ]
    }
   ],
   "source": [
    "for value in d.values():\n",
    "    print(value)"
   ]
  },
  {
   "cell_type": "code",
   "execution_count": 16,
   "id": "6a5b49d4",
   "metadata": {},
   "outputs": [
    {
     "data": {
      "text/plain": [
       "dict_items([('이름', '홍길동'), ('나이', 40), ('주소', '서울'), ('전화번호', '010-1111-1111')])"
      ]
     },
     "execution_count": 16,
     "metadata": {},
     "output_type": "execute_result"
    }
   ],
   "source": [
    "d.items()"
   ]
  },
  {
   "cell_type": "code",
   "execution_count": 17,
   "id": "cc9f90d8",
   "metadata": {
    "scrolled": false
   },
   "outputs": [
    {
     "name": "stdout",
     "output_type": "stream",
     "text": [
      "key: 이름 value: 홍길동\n",
      "key: 나이 value: 40\n",
      "key: 주소 value: 서울\n",
      "key: 전화번호 value: 010-1111-1111\n"
     ]
    }
   ],
   "source": [
    "for key, value in d.items():\n",
    "#     print(d.get(item, \"key 없음\"))\n",
    "    print(\"key:\", key, \"value:\", value)"
   ]
  },
  {
   "cell_type": "markdown",
   "id": "7f2a1c87",
   "metadata": {},
   "source": [
    "* for 반복문을 이용해서 1부터 10까지 정수를 더한 합을 출력하세요\n",
    "  * 1부터 10까지 숫자를 만들어서 반복문에 넣는다.\n",
    "  * 1부터 10까지 누적 덧셈을 한다.\n",
    "  * 누적 덧셈을 한 결과를 출력 한다."
   ]
  },
  {
   "cell_type": "code",
   "execution_count": 24,
   "id": "916c2062",
   "metadata": {},
   "outputs": [
    {
     "name": "stdout",
     "output_type": "stream",
     "text": [
      "55\n"
     ]
    }
   ],
   "source": [
    "hap = 0\n",
    "\n",
    "for num in range(1,11):\n",
    "    hap = hap + num\n",
    "\n",
    "print(hap)"
   ]
  },
  {
   "cell_type": "code",
   "execution_count": 27,
   "id": "05f928e3",
   "metadata": {},
   "outputs": [
    {
     "name": "stdout",
     "output_type": "stream",
     "text": [
      "hap: 0 + num: 1: 1\n",
      "hap: 1 + num: 2: 3\n",
      "hap: 3 + num: 3: 6\n",
      "hap: 6 + num: 4: 10\n",
      "hap: 10 + num: 5: 15\n",
      "hap: 15 + num: 6: 21\n",
      "hap: 21 + num: 7: 28\n",
      "hap: 28 + num: 8: 36\n",
      "hap: 36 + num: 9: 45\n",
      "hap: 45 + num: 10: 55\n"
     ]
    }
   ],
   "source": [
    "hap = 0\n",
    "for num in range(1, 11):\n",
    "#     hap = 0\n",
    "#     print(num, end=\" \")\n",
    "    print(f\"hap: {hap} + num: {num}\", end=\": \")\n",
    "    hap += num # hap = hap + num\n",
    "    print(f\"{hap}\")\n",
    "    "
   ]
  },
  {
   "cell_type": "markdown",
   "id": "f9079105",
   "metadata": {},
   "source": []
  },
  {
   "cell_type": "markdown",
   "id": "287766a9",
   "metadata": {},
   "source": [
    "* 1부터 50까지 수 중에서 짝수인 수의 합을 구하시오.\n",
    "* 1-50 수를 만들기 (range(1-51))\n",
    "* 홀수, 짝수 구분 if,  % 2 == 0\n",
    "* 짝수일 때 누적 합, 결과저장할 변수 hap \n",
    "* 최종 결과 출력\n"
   ]
  },
  {
   "cell_type": "code",
   "execution_count": 32,
   "id": "5148ddcb",
   "metadata": {},
   "outputs": [
    {
     "name": "stdout",
     "output_type": "stream",
     "text": [
      "hap: 0, num: 2\n",
      "hap: 2, num: 4\n",
      "hap: 6, num: 6\n",
      "hap: 12, num: 8\n",
      "hap: 20, num: 10\n",
      "hap: 30, num: 12\n",
      "hap: 42, num: 14\n",
      "hap: 56, num: 16\n",
      "hap: 72, num: 18\n",
      "hap: 90, num: 20\n",
      "hap: 110, num: 22\n",
      "hap: 132, num: 24\n",
      "hap: 156, num: 26\n",
      "hap: 182, num: 28\n",
      "hap: 210, num: 30\n",
      "hap: 240, num: 32\n",
      "hap: 272, num: 34\n",
      "hap: 306, num: 36\n",
      "hap: 342, num: 38\n",
      "hap: 380, num: 40\n",
      "hap: 420, num: 42\n",
      "hap: 462, num: 44\n",
      "hap: 506, num: 46\n",
      "hap: 552, num: 48\n",
      "hap: 600, num: 50\n",
      "650\n"
     ]
    }
   ],
   "source": [
    "hap = 0\n",
    "for num in range(1, 51):\n",
    "#     print(num, end=\" \")\n",
    "    if num % 2 == 0:\n",
    "        print(f\"hap: {hap}, num: {num}\")\n",
    "        hap += num\n",
    "\n",
    "print(hap)"
   ]
  },
  {
   "cell_type": "markdown",
   "id": "80445763",
   "metadata": {},
   "source": [
    "* 1부터 100까지 수를 만들고 그 중에서 30-70까지만 더해서 출력하세요\n",
    "* 과정 출력\n",
    "* 2가지 방법을 이용해서 코드 작성 if 조건문, 슬라이싱 "
   ]
  },
  {
   "cell_type": "raw",
   "id": "3bd7c600",
   "metadata": {},
   "source": []
  },
  {
   "cell_type": "code",
   "execution_count": 5,
   "id": "403babdb",
   "metadata": {},
   "outputs": [
    {
     "ename": "NameError",
     "evalue": "name 'hap' is not defined",
     "output_type": "error",
     "traceback": [
      "\u001b[1;31m---------------------------------------------------------------------------\u001b[0m",
      "\u001b[1;31mNameError\u001b[0m                                 Traceback (most recent call last)",
      "Cell \u001b[1;32mIn[5], line 4\u001b[0m\n\u001b[0;32m      1\u001b[0m \u001b[38;5;28;01mfor\u001b[39;00m p \u001b[38;5;129;01min\u001b[39;00m \u001b[38;5;28mrange\u001b[39m(\u001b[38;5;241m0\u001b[39m,\u001b[38;5;241m101\u001b[39m):\n\u001b[0;32m      2\u001b[0m     \u001b[38;5;66;03m#print(p, end=\",\")\u001b[39;00m\n\u001b[0;32m      3\u001b[0m     \u001b[38;5;28;01mif\u001b[39;00m \u001b[38;5;241m71\u001b[39m\u001b[38;5;241m>\u001b[39mp\u001b[38;5;241m>\u001b[39m\u001b[38;5;241m31\u001b[39m:\n\u001b[1;32m----> 4\u001b[0m         hap\u001b[38;5;241m+\u001b[39m\u001b[38;5;241m=\u001b[39mp\n\u001b[0;32m      5\u001b[0m         \u001b[38;5;28mprint\u001b[39m(hap)\n",
      "\u001b[1;31mNameError\u001b[0m: name 'hap' is not defined"
     ]
    }
   ],
   "source": [
    "for p in range(0,101):\n",
    "    #print(p, end=\",\")\n",
    "    if 71>p>31:\n",
    "        hap+=p\n",
    "        print(hap)"
   ]
  },
  {
   "cell_type": "code",
   "execution_count": 7,
   "id": "8105f000",
   "metadata": {},
   "outputs": [
    {
     "name": "stdout",
     "output_type": "stream",
     "text": [
      "hap: 0, num: 30\n",
      "30 hap: 30, num: 31\n",
      "61 hap: 61, num: 32\n",
      "93 hap: 93, num: 33\n",
      "126 hap: 126, num: 34\n",
      "160 hap: 160, num: 35\n",
      "195 hap: 195, num: 36\n",
      "231 hap: 231, num: 37\n",
      "268 hap: 268, num: 38\n",
      "306 hap: 306, num: 39\n",
      "345 hap: 345, num: 40\n",
      "385 hap: 385, num: 41\n",
      "426 hap: 426, num: 42\n",
      "468 hap: 468, num: 43\n",
      "511 hap: 511, num: 44\n",
      "555 hap: 555, num: 45\n",
      "600 hap: 600, num: 46\n",
      "646 hap: 646, num: 47\n",
      "693 hap: 693, num: 48\n",
      "741 hap: 741, num: 49\n",
      "790 hap: 790, num: 50\n",
      "840 hap: 840, num: 51\n",
      "891 hap: 891, num: 52\n",
      "943 hap: 943, num: 53\n",
      "996 hap: 996, num: 54\n",
      "1050 hap: 1050, num: 55\n",
      "1105 hap: 1105, num: 56\n",
      "1161 hap: 1161, num: 57\n",
      "1218 hap: 1218, num: 58\n",
      "1276 hap: 1276, num: 59\n",
      "1335 hap: 1335, num: 60\n",
      "1395 hap: 1395, num: 61\n",
      "1456 hap: 1456, num: 62\n",
      "1518 hap: 1518, num: 63\n",
      "1581 hap: 1581, num: 64\n",
      "1645 hap: 1645, num: 65\n",
      "1710 hap: 1710, num: 66\n",
      "1776 hap: 1776, num: 67\n",
      "1843 hap: 1843, num: 68\n",
      "1911 hap: 1911, num: 69\n",
      "1980 hap: 1980, num: 70\n",
      "2050 "
     ]
    }
   ],
   "source": [
    "hap = 0\n",
    "for num in range(1,101):\n",
    "#     print(num, end=\" \")\n",
    "    if 30 <= num <= 70:\n",
    "        print(f\"hap: {hap}, num: {num}\")\n",
    "        hap += num\n",
    "        print(hap, end=\" \")"
   ]
  },
  {
   "cell_type": "code",
   "execution_count": 12,
   "id": "362ff8c5",
   "metadata": {},
   "outputs": [
    {
     "name": "stdout",
     "output_type": "stream",
     "text": [
      "[30, 31, 32, 33, 34, 35, 36, 37, 38, 39, 40, 41, 42, 43, 44, 45, 46, 47, 48, 49, 50, 51, 52, 53, 54, 55, 56, 57, 58, 59, 60, 61, 62, 63, 64, 65, 66, 67, 68, 69, 70, 71]"
     ]
    }
   ],
   "source": [
    "# 슬라이싱 사용하기\n",
    "print(list(range(1,101))[29:71], end=\"\")"
   ]
  },
  {
   "cell_type": "code",
   "execution_count": 15,
   "id": "12d37486",
   "metadata": {},
   "outputs": [
    {
     "name": "stdout",
     "output_type": "stream",
     "text": [
      "30 "
     ]
    },
    {
     "ename": "TypeError",
     "evalue": "'int' object is not iterable",
     "output_type": "error",
     "traceback": [
      "\u001b[1;31m---------------------------------------------------------------------------\u001b[0m",
      "\u001b[1;31mTypeError\u001b[0m                                 Traceback (most recent call last)",
      "Cell \u001b[1;32mIn[15], line 3\u001b[0m\n\u001b[0;32m      1\u001b[0m \u001b[38;5;28;01mfor\u001b[39;00m num \u001b[38;5;129;01min\u001b[39;00m \u001b[38;5;28mrange\u001b[39m(\u001b[38;5;241m1\u001b[39m,\u001b[38;5;241m101\u001b[39m)[\u001b[38;5;241m29\u001b[39m:\u001b[38;5;241m71\u001b[39m:\u001b[38;5;241m2\u001b[39m]:\n\u001b[0;32m      2\u001b[0m     \u001b[38;5;28mprint\u001b[39m(num, end\u001b[38;5;241m=\u001b[39m\u001b[38;5;124m\"\u001b[39m\u001b[38;5;124m \u001b[39m\u001b[38;5;124m\"\u001b[39m)\n\u001b[1;32m----> 3\u001b[0m     \u001b[38;5;28mprint\u001b[39m(\u001b[38;5;28;43msum\u001b[39;49m\u001b[43m(\u001b[49m\u001b[43mnum\u001b[49m\u001b[43m)\u001b[49m)\n",
      "\u001b[1;31mTypeError\u001b[0m: 'int' object is not iterable"
     ]
    }
   ],
   "source": [
    "for num in range(1,101)[29:71:2]:\n",
    "    print(num, end=\" \")\n",
    "    \n",
    "    #짝수들만 출력해보고."
   ]
  },
  {
   "cell_type": "code",
   "execution_count": 16,
   "id": "4e6fef85",
   "metadata": {},
   "outputs": [
    {
     "name": "stdout",
     "output_type": "stream",
     "text": [
      "1050\n"
     ]
    }
   ],
   "source": [
    "#합\n",
    "hap=0\n",
    "for num in range(1,101)[29:71:2]:\n",
    "    #print(num, end=\" \")\n",
    "    hap+=num\n",
    "print(hap)"
   ]
  },
  {
   "cell_type": "code",
   "execution_count": null,
   "id": "4690415b",
   "metadata": {},
   "outputs": [],
   "source": [
    "#과정까지 보여주려면\n",
    "hap=0\n",
    "for num in range(1,101)[29:71:2]:\n",
    "    #print(num, end=\" \")\n",
    "    hap+=num\n",
    "print(hap)"
   ]
  },
  {
   "cell_type": "code",
   "execution_count": 47,
   "id": "ae90f00c",
   "metadata": {},
   "outputs": [
    {
     "name": "stdout",
     "output_type": "stream",
     "text": [
      "hap: 0, num: 30\n",
      "hap: 30, num: 31\n",
      "hap: 61, num: 32\n",
      "hap: 93, num: 33\n",
      "hap: 126, num: 34\n",
      "hap: 160, num: 35\n",
      "hap: 195, num: 36\n",
      "hap: 231, num: 37\n",
      "hap: 268, num: 38\n",
      "hap: 306, num: 39\n",
      "hap: 345, num: 40\n",
      "hap: 385, num: 41\n",
      "hap: 426, num: 42\n",
      "hap: 468, num: 43\n",
      "hap: 511, num: 44\n",
      "hap: 555, num: 45\n",
      "hap: 600, num: 46\n",
      "hap: 646, num: 47\n",
      "hap: 693, num: 48\n",
      "hap: 741, num: 49\n",
      "hap: 790, num: 50\n",
      "hap: 840, num: 51\n",
      "hap: 891, num: 52\n",
      "hap: 943, num: 53\n",
      "hap: 996, num: 54\n",
      "hap: 1050, num: 55\n",
      "hap: 1105, num: 56\n",
      "hap: 1161, num: 57\n",
      "hap: 1218, num: 58\n",
      "hap: 1276, num: 59\n",
      "hap: 1335, num: 60\n",
      "hap: 1395, num: 61\n",
      "hap: 1456, num: 62\n",
      "hap: 1518, num: 63\n",
      "hap: 1581, num: 64\n",
      "hap: 1645, num: 65\n",
      "hap: 1710, num: 66\n",
      "hap: 1776, num: 67\n",
      "hap: 1843, num: 68\n",
      "hap: 1911, num: 69\n",
      "hap: 1980, num: 70\n",
      "2050\n"
     ]
    }
   ],
   "source": [
    "hap = 0\n",
    "for num in range(1,101)[29:70]:\n",
    "#     print(num, end=\" \")\n",
    "    print(f\"hap: {hap}, num: {num}\")\n",
    "    hap += num\n",
    "print(hap)"
   ]
  },
  {
   "cell_type": "markdown",
   "id": "8eb2fac5",
   "metadata": {},
   "source": [
    "* 100에서 1까지 더하는 반복문을 만드세요.\n",
    "* range에서 역순으로 숫자를 생성\n",
    "* range(1, 101) 을 뒤집는 방법 2가지\n",
    "* 최종 결과만 출력"
   ]
  },
  {
   "cell_type": "code",
   "execution_count": 52,
   "id": "647d07aa",
   "metadata": {},
   "outputs": [
    {
     "name": "stdout",
     "output_type": "stream",
     "text": [
      "5050\n"
     ]
    }
   ],
   "source": [
    "hap = 0\n",
    "for num in range(100,0, -1):\n",
    "#     print(num, end=\" \")\n",
    "    hap += num\n",
    "print(hap)"
   ]
  },
  {
   "cell_type": "code",
   "execution_count": 56,
   "id": "81217f7e",
   "metadata": {},
   "outputs": [
    {
     "name": "stdout",
     "output_type": "stream",
     "text": [
      "100 99 98 97 96 95 94 93 92 91 90 89 88 87 86 85 84 83 82 81 80 79 78 77 76 75 74 73 72 71 70 69 68 67 66 65 64 63 62 61 60 59 58 57 56 55 54 53 52 51 50 49 48 47 46 45 44 43 42 41 40 39 38 37 36 35 34 33 32 31 30 29 28 27 26 25 24 23 22 21 20 19 18 17 16 15 14 13 12 11 10 9 8 7 6 5 4 3 2 1 5050\n"
     ]
    }
   ],
   "source": [
    "# 슬라이싱을 이용해서 순서 뒤집기\n",
    "hap = 0\n",
    "for num in range(1,101)[::-1]:\n",
    "    print(num, end=\" \")\n",
    "    hap += num\n",
    "print(hap)"
   ]
  },
  {
   "cell_type": "markdown",
   "id": "8601ff58",
   "metadata": {},
   "source": [
    "* reversed() 리스트를 역순으로 뒤집는 함수"
   ]
  },
  {
   "cell_type": "code",
   "execution_count": 58,
   "id": "d9c4eda0",
   "metadata": {},
   "outputs": [
    {
     "name": "stdout",
     "output_type": "stream",
     "text": [
      "100 99 98 97 96 95 94 93 92 91 90 89 88 87 86 85 84 83 82 81 80 79 78 77 76 75 74 73 72 71 70 69 68 67 66 65 64 63 62 61 60 59 58 57 56 55 54 53 52 51 50 49 48 47 46 45 44 43 42 41 40 39 38 37 36 35 34 33 32 31 30 29 28 27 26 25 24 23 22 21 20 19 18 17 16 15 14 13 12 11 10 9 8 7 6 5 4 3 2 1 5050\n"
     ]
    }
   ],
   "source": [
    "hap = 0\n",
    "for num in reversed(range(1,101)):\n",
    "    print(num, end=\" \")\n",
    "    hap += num\n",
    "print(hap)"
   ]
  },
  {
   "cell_type": "markdown",
   "id": "aafa5bf7",
   "metadata": {},
   "source": [
    "## enumerate() 반복문에서 자료의 인덱스를 만들어주는 함수"
   ]
  },
  {
   "cell_type": "code",
   "execution_count": 59,
   "id": "990f6f72",
   "metadata": {},
   "outputs": [],
   "source": [
    "s = \"enumerate 함수는 반복문에서 index를 만들어 출력해주는 함수입니다.\""
   ]
  },
  {
   "cell_type": "code",
   "execution_count": 72,
   "id": "80b78d2b",
   "metadata": {},
   "outputs": [],
   "source": [
    "import time"
   ]
  },
  {
   "cell_type": "code",
   "execution_count": 74,
   "id": "e24f172e",
   "metadata": {},
   "outputs": [
    {
     "name": "stdout",
     "output_type": "stream",
     "text": [
      "현재 반복 횟수: 43/43\r"
     ]
    }
   ],
   "source": [
    "for idx, i in enumerate(s):\n",
    "    print(f\"현재 반복 횟수: {idx+1}/{len(s)}\", end=\"\\r\")\n",
    "    time.sleep(1)\n",
    "#     print(idx, i)"
   ]
  },
  {
   "cell_type": "markdown",
   "id": "4fe3ca13",
   "metadata": {},
   "source": [
    "## continue, break \n",
    "* continue: 코드 실행을 건너뛰고 반복 계속 진행\n",
    "* break: 특정 조건이 되었을 때 반복문 정지"
   ]
  },
  {
   "cell_type": "code",
   "execution_count": 79,
   "id": "fa2dd929",
   "metadata": {},
   "outputs": [
    {
     "name": "stdout",
     "output_type": "stream",
     "text": [
      "1 n\n",
      "3 m\n",
      "5 r\n",
      "7 t\n",
      "9  \n",
      "11 수\n",
      "13  \n",
      "15 복\n",
      "17 에\n",
      "19  \n"
     ]
    }
   ],
   "source": [
    "for idx, i in enumerate(s):\n",
    "#     print(f\"현재 반복 횟수: {idx+1}/{len(s)}\", end=\"\\r\")\n",
    "    if idx % 2 == 0:\n",
    "        continue\n",
    "    else:\n",
    "        print(idx, i)\n",
    "        if idx >= 19:\n",
    "            break\n",
    "            \n",
    "    time.sleep(1)\n",
    "#     print(idx, i)"
   ]
  },
  {
   "cell_type": "markdown",
   "id": "d474a223",
   "metadata": {},
   "source": [
    "# while 반복할 횟수가 정해지지 않은 경우\n",
    "* 무한 반복 가능\n",
    "* 무한 반복이 되지 않도록 조건식을 잘 짜주는 것이 중요\n",
    "\n",
    "변수 선언 및 초기화<br>\n",
    "while 조건식:<br>\n",
    "____반복할 코드<br>\n",
    "____변수 증가/감소 코드<br>\n",
    "____반복문이 종료된 조건 + break<br>\n"
   ]
  },
  {
   "cell_type": "markdown",
   "id": "8c842c39",
   "metadata": {},
   "source": [
    "while 문으로 1-10까지 출력하기"
   ]
  },
  {
   "cell_type": "code",
   "execution_count": 80,
   "id": "4e63b5a2",
   "metadata": {},
   "outputs": [
    {
     "name": "stdout",
     "output_type": "stream",
     "text": [
      "1 2 3 4 5 6 7 8 9 10 "
     ]
    }
   ],
   "source": [
    "i = 1\n",
    "while i <= 10:\n",
    "    print(i, end=\" \")\n",
    "    i += 1"
   ]
  },
  {
   "cell_type": "code",
   "execution_count": null,
   "id": "f119524a",
   "metadata": {},
   "outputs": [],
   "source": []
  },
  {
   "cell_type": "code",
   "execution_count": null,
   "id": "297093db",
   "metadata": {},
   "outputs": [],
   "source": []
  },
  {
   "cell_type": "code",
   "execution_count": null,
   "id": "124a194d",
   "metadata": {},
   "outputs": [],
   "source": []
  },
  {
   "cell_type": "code",
   "execution_count": null,
   "id": "25da3ead",
   "metadata": {},
   "outputs": [],
   "source": []
  }
 ],
 "metadata": {
  "kernelspec": {
   "display_name": "Python 3 (ipykernel)",
   "language": "python",
   "name": "python3"
  },
  "language_info": {
   "codemirror_mode": {
    "name": "ipython",
    "version": 3
   },
   "file_extension": ".py",
   "mimetype": "text/x-python",
   "name": "python",
   "nbconvert_exporter": "python",
   "pygments_lexer": "ipython3",
   "version": "3.9.21"
  }
 },
 "nbformat": 4,
 "nbformat_minor": 5
}
