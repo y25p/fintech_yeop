{
 "cells": [
  {
   "cell_type": "markdown",
   "metadata": {
    "id": "QOlOa15SqPLi"
   },
   "source": [
    "## 1. **30을 8로 나눈 몫과 나머지를 각각 변수 a와 b에 저장하고 다음과 같이 출력하는 코드를 작성하세요.**\n",
    "\n",
    "실행결과\n",
    "```\n",
    "30을 8로 나눈 몫은 3\n",
    "30을 8로 나눈 나머지는 6\n",
    "30을 8로 나눈 결과는 3.75\n",
    "```"
   ]
  },
  {
   "cell_type": "code",
   "execution_count": 21,
   "metadata": {
    "colab": {
     "base_uri": "https://localhost:8080/"
    },
    "id": "CzjkpuiGDSmO",
    "outputId": "32bf47a5-6628-4f2d-ac75-1d553cb0efaa"
   },
   "outputs": [
    {
     "name": "stdout",
     "output_type": "stream",
     "text": [
      "30을 8로 나눈 몫은 3\n",
      "30을 8로 나눈 나머지는 6\n",
      "30을 8로 나눈 결과는 3.75\n"
     ]
    }
   ],
   "source": [
    "a=30%8\n",
    "b=30//8\n",
    "\n",
    "print('30을 8로 나눈 몫은',b)\n",
    "print('30을 8로 나눈 나머지는',a)\n",
    "print('30을 8로 나눈 결과는',30/8)\n"
   ]
  },
  {
   "cell_type": "markdown",
   "metadata": {
    "id": "xl8rhP88q7Sk"
   },
   "source": [
    "# 컴퓨터와 묻고 답하기 그리고 문자열 다루기"
   ]
  },
  {
   "cell_type": "markdown",
   "metadata": {
    "id": "YyuktcpPrLBm"
   },
   "source": [
    "## 2. 다음과 같이 코드 실행 결과가 나오도록 코드의 빈칸을 완성한 코드를 작성하세요.\n",
    "```\n",
    "a = '시은 우진'\n",
    "```\n",
    "실행결과<br>\n",
    "\n",
    "```\n",
    "시은 우진 화이팅!!\n",
    "________빈 줄_______\n",
    "시은 우진 화이팅!!\n",
    "```"
   ]
  },
  {
   "cell_type": "code",
   "execution_count": 26,
   "metadata": {
    "colab": {
     "base_uri": "https://localhost:8080/"
    },
    "id": "oJRBTFSErh0b",
    "outputId": "f449ea66-2678-47ac-a34e-fcdb9bcdbbf8"
   },
   "outputs": [
    {
     "name": "stdout",
     "output_type": "stream",
     "text": [
      "시은 우진 화이팅!!\n",
      " \n",
      "\n",
      "시은 우진 화이팅!!\n"
     ]
    }
   ],
   "source": [
    "a = '시은 우진'\n",
    "b = ' 화이팅!!'\n",
    "print(a+b)\n",
    "print(\"\",\"\\n\")\n",
    "print(a+b)"
   ]
  },
  {
   "cell_type": "markdown",
   "metadata": {
    "id": "f9F1xXAYsL2a"
   },
   "source": [
    "## 3.**이름과 나이를 키보드로 입력받은 값을 각각 변수 name과 age에 저장하고 다음과 같이 출력하는 코드를 작성하세요.**\n",
    "\n",
    "```\n",
    "이름이 무엇인가요? 메이킷\n",
    "몇 살인가요? 17\n",
    "메이킷 님은 내년에는 18 살이 됩니다.\n",
    "```\n",
    "\n"
   ]
  },
  {
   "cell_type": "code",
   "execution_count": 29,
   "metadata": {
    "colab": {
     "base_uri": "https://localhost:8080/"
    },
    "id": "zhD-rM8YvJoh",
    "outputId": "ea889206-5bb1-4f8c-b618-4bf0c3de434f"
   },
   "outputs": [
    {
     "name": "stdout",
     "output_type": "stream",
     "text": [
      "이름이 무엇인가요?메이킷\n",
      "몇 살인가요?17\n",
      "메이킷님은 내년에 18살이 됩니다.\n"
     ]
    }
   ],
   "source": [
    "name=input('이름이 무엇인가요?')\n",
    "age=int(input('몇 살인가요?'))\n",
    "print(f\"{name}님은 내년에 {age+1}살이 됩니다.\")"
   ]
  },
  {
   "cell_type": "markdown",
   "metadata": {
    "id": "YzRmL0o5u_Fo"
   },
   "source": [
    "## 4. 정수와 실수를 각각 변수 a, b에 입력받아 두 숫자의 합과 평균을 구하는 코드를 작성하세요.\n",
    "실행결과\n",
    "```\n",
    "3\n",
    "2.5\n",
    "a와 b의 합은 5.5\n",
    "a와 b의 평균값은 2.75\n",
    "```"
   ]
  },
  {
   "cell_type": "code",
   "execution_count": 30,
   "metadata": {
    "colab": {
     "base_uri": "https://localhost:8080/"
    },
    "id": "2BsOqWlOE3l5",
    "outputId": "95f08c08-9874-4226-bd13-9e54e4a86e90"
   },
   "outputs": [
    {
     "name": "stdout",
     "output_type": "stream",
     "text": [
      "a와 b의 합은 5.5\n",
      "a와 b의 평균값은 2.75\n"
     ]
    }
   ],
   "source": [
    "a=3\n",
    "b=2.5\n",
    "print('a와 b의 합은',a+b)\n",
    "print('a와 b의 평균값은',(a+b)/2)\n"
   ]
  },
  {
   "cell_type": "markdown",
   "metadata": {
    "id": "6xjLuumQvIAl"
   },
   "source": [
    "## 5. makit 문자열 변수를 활용해 아래와 같은 실행 결과가 나오도록 코드의 빈칸을 완성하세요.\n",
    "\n",
    "실행결과\n",
    "```\n",
    "result1 = S\n",
    "result2 = W\n",
    "result3 = !\n",
    "```"
   ]
  },
  {
   "cell_type": "code",
   "execution_count": 1,
   "metadata": {
    "colab": {
     "base_uri": "https://localhost:8080/"
    },
    "id": "OIPrdIzxvzkx",
    "outputId": "3371014a-decd-4e44-f5b3-1a8c0a3da403"
   },
   "outputs": [],
   "source": [
    "makeit = 'Sieun Woojin!'"
   ]
  },
  {
   "cell_type": "markdown",
   "metadata": {
    "id": "n-V2dHTXwqNS"
   },
   "source": [
    "## 6. makit 문자열 변수를 활용해 아래와 같은 실행 결과가 나오도록 코드의 빈칸을 완성해 보세요.\n",
    "실행결과\n",
    "```\n",
    "eun Woo\n",
    "Sieun\n",
    "Woojin!\n",
    "```\n"
   ]
  },
  {
   "cell_type": "code",
   "execution_count": 2,
   "metadata": {
    "colab": {
     "base_uri": "https://localhost:8080/"
    },
    "id": "J3mIM7rcxfw-",
    "outputId": "121499c1-9f5c-4871-ad03-ffb688652102"
   },
   "outputs": [],
   "source": [
    "makit = 'Sieun Woojin!'"
   ]
  },
  {
   "cell_type": "markdown",
   "metadata": {
    "id": "8Mx09bjMxl0z"
   },
   "source": [
    "## 7. makit 문자열 변수에는 ‘동서남북동서남북동서남북’이 저장되어 있습니다. makit 문자열 변수에서 ‘동’만 출력하는 코드를 작성하세요.\n",
    "실행결과\n",
    "```\n",
    "동동동\n",
    "```"
   ]
  },
  {
   "cell_type": "code",
   "execution_count": 20,
   "metadata": {
    "colab": {
     "base_uri": "https://localhost:8080/",
     "height": 36
    },
    "id": "EgyZ3lhrzBMe",
    "outputId": "bbaf5eb4-68e7-4660-da9c-4cdfb27c816d"
   },
   "outputs": [
    {
     "name": "stdout",
     "output_type": "stream",
     "text": [
      "동동동\n"
     ]
    }
   ],
   "source": [
    "makit = '동서남북동서남북동서남북'\n",
    "print(makit[0::4])"
   ]
  },
  {
   "cell_type": "markdown",
   "metadata": {
    "id": "V1dFglIHzZ4-"
   },
   "source": [
    "## 8. makit 문자열에 ‘동서남북’이라고 저장되어 있습니다. makit 문자열 변수를 뒤집어서 ‘북남서동’으로 출력하는 결과가 나오도록 코드의 빈칸을 완성하세요.\n",
    "실행결과\n",
    "```\n",
    "북남서동\n",
    "```"
   ]
  },
  {
   "cell_type": "code",
   "execution_count": 9,
   "metadata": {
    "colab": {
     "base_uri": "https://localhost:8080/",
     "height": 36
    },
    "id": "QzZq6nJSzj2O",
    "outputId": "238de7a8-38bf-486e-8c6c-56ed3ac7b8d3"
   },
   "outputs": [
    {
     "data": {
      "text/plain": [
       "'북남서동'"
      ]
     },
     "execution_count": 9,
     "metadata": {},
     "output_type": "execute_result"
    }
   ],
   "source": [
    "makit = '동서남북'\n",
    "makit[::-1]"
   ]
  },
  {
   "cell_type": "markdown",
   "metadata": {
    "id": "auFM6GvEzmwI"
   },
   "source": [
    "## 9. makit 문자열에 핸드폰 번호가 다음과 같이 저장되어 있습니다. ‘.‘을 ‘-’으로 변경해 다음과 같이 실행 결과가 나오도록 코드의 빈칸을 완성한 코드를 작성하세요.\n",
    "실행결과\n",
    "```\n",
    "010-1234-5678\n",
    "```"
   ]
  },
  {
   "cell_type": "code",
   "execution_count": 3,
   "metadata": {
    "colab": {
     "base_uri": "https://localhost:8080/",
     "height": 36
    },
    "id": "-hn6fDr5z5Tv",
    "outputId": "94399d5c-3de0-471f-b115-380ff08040aa"
   },
   "outputs": [
    {
     "name": "stdout",
     "output_type": "stream",
     "text": [
      "010-1234-5678\n"
     ]
    }
   ],
   "source": [
    "phone = '010.1234.5678'\n",
    "phone=phone.replace('.','-')\n",
    "print(phone)"
   ]
  },
  {
   "cell_type": "markdown",
   "metadata": {
    "id": "MAm9Y-xr1u26"
   },
   "source": [
    "## 10. 초를 입력하면 ‘몇 분 몇 초’로 환산해주는 코드를 다음과 같이 출력하도록 작성하세요.\n",
    "실행결과\n",
    "```\n",
    "초를 입력하세요:1234\n",
    "1234 초(sec)는 20 분(min) 34 초(sec)입니다\n",
    "```"
   ]
  },
  {
   "cell_type": "markdown",
   "metadata": {},
   "source": [
    "# comma구분~"
   ]
  },
  {
   "cell_type": "code",
   "execution_count": 12,
   "metadata": {},
   "outputs": [
    {
     "name": "stdout",
     "output_type": "stream",
     "text": [
      "초를 입력하세요1234\n",
      "1234 <class 'int'>\n"
     ]
    }
   ],
   "source": [
    "i=input(\"초를 입력하세요\")\n",
    "i=int(i)\n",
    "print(i,type(i))"
   ]
  },
  {
   "cell_type": "code",
   "execution_count": 14,
   "metadata": {
    "colab": {
     "base_uri": "https://localhost:8080/"
    },
    "id": "DEw-9r100w6t",
    "outputId": "749682cd-348d-4c08-9856-22f4d1b23625"
   },
   "outputs": [
    {
     "name": "stdout",
     "output_type": "stream",
     "text": [
      "초를 입력하세요1234\n",
      "1234 초(sec)는 20 분(min) 34 초(sec)입니다\n"
     ]
    }
   ],
   "source": [
    "i=input(\"초를 입력하세요\")\n",
    "i=int(i)\n",
    "print(i,'초(sec)는', i//60,'분(min)',i%60,'초(sec)입니다')"
   ]
  },
  {
   "cell_type": "markdown",
   "metadata": {
    "id": "mOHOs2pv2Fz8"
   },
   "source": [
    "## 11. 다음과 같이 시간을 분 단위로 입력하면 며칠, 몇 시간, 몇 분으로 환산해서 출력하는 코드를 작성하세요.\n",
    "실행결과\n",
    "```\n",
    "분을 입력하세요:7512\n",
    "7512 분은 5 일 5 시간 12 분입니다\n",
    "```"
   ]
  },
  {
   "cell_type": "markdown",
   "metadata": {},
   "source": [
    "#"
   ]
  },
  {
   "cell_type": "code",
   "execution_count": 56,
   "metadata": {
    "colab": {
     "base_uri": "https://localhost:8080/"
    },
    "id": "FblZK5RjKfl9",
    "outputId": "70159104-2b2a-412c-cd7c-b40c979030ae"
   },
   "outputs": [
    {
     "name": "stdout",
     "output_type": "stream",
     "text": [
      "분을 입력하세요7512\n",
      "7512분은 5일 5시간 12분입니다\n"
     ]
    }
   ],
   "source": [
    "a=int(input('분을 입력하세요'))\n",
    "aday=(a//60)//24\n",
    "hour=(a//60)%24\n",
    "minute=a%60\n",
    "print(f\"{a}분은 {aday}일 {hour}시간 {minute}분입니다\")"
   ]
  },
  {
   "cell_type": "markdown",
   "metadata": {
    "id": "3TlG6Pu42OXh"
   },
   "source": [
    "# 리스트(list) 다루기"
   ]
  },
  {
   "cell_type": "markdown",
   "metadata": {
    "id": "5gk-6Rlr3E7n"
   },
   "source": [
    "## 12. 다음과 같이 코드 실행 결과가 나오도록 코드의 빈칸을 완성하세요.\n",
    "실행결과\n",
    "```\n",
    "['메이킷', '우진', '시은']\n",
    "메이킷\n",
    "우진\n",
    "시은\n",
    "```"
   ]
  },
  {
   "cell_type": "markdown",
   "metadata": {},
   "source": [
    "#"
   ]
  },
  {
   "cell_type": "code",
   "execution_count": 31,
   "metadata": {
    "colab": {
     "base_uri": "https://localhost:8080/"
    },
    "id": "3qMmKS733Zng",
    "outputId": "fbd571ce-8996-45da-e4d0-2aa56d6dce13"
   },
   "outputs": [
    {
     "name": "stdout",
     "output_type": "stream",
     "text": [
      "['메이킷', '우진', '시은'] 메이킷 우진 시은\n"
     ]
    }
   ],
   "source": [
    "l=['메이킷', '우진', '시은']\n",
    "print(l,l[0],l[1],l[2],end=\"\\n\")"
   ]
  },
  {
   "cell_type": "markdown",
   "metadata": {
    "id": "LPHSjmwY3aLp"
   },
   "source": [
    "## 13.다음과 같이 코드 실행 결과가 나오도록 코드의 빈칸을 완성하세요.\n",
    "실행결과\n",
    "```\n",
    "['메이킷', '우진']\n",
    "['우진', '제임스', '시은']\n",
    "['제임스', '시은']\n",
    "['메이킷', '우진', '제임스', '시은']\n",
    "```"
   ]
  },
  {
   "cell_type": "code",
   "execution_count": 3,
   "metadata": {},
   "outputs": [
    {
     "name": "stdout",
     "output_type": "stream",
     "text": [
      "['메이킷', '우진']\n",
      "['우진', '제임스', '시은']\n",
      "['제임스', '시은']\n",
      "['메이킷', '우진', '제임스', '시은']\n"
     ]
    }
   ],
   "source": [
    "s=[]\n",
    "s.append(['메이킷','우진'])\n",
    "s.append(['우진', '제임스', '시은'])\n",
    "s.append(['제임스', '시은'])\n",
    "s.append(['메이킷', '우진', '제임스', '시은'])\n",
    "# print(len(s))\n",
    "    \n",
    "#print(s[0],s[1],s[2],s[3],end=\"\\n\")\n",
    "# 이런식으로 2차원리스트에서 인덱싱으로 리스트 하나씩 꺼내려했는데\n",
    "\n",
    "for i in s:\n",
    "    print(i) #인덱싱 쓸필요도 없었음.\n",
    "\n"
   ]
  },
  {
   "cell_type": "markdown",
   "metadata": {
    "colab": {
     "base_uri": "https://localhost:8080/"
    },
    "id": "3qMmKS733Zng",
    "outputId": "fbd571ce-8996-45da-e4d0-2aa56d6dce13"
   },
   "source": [
    "\n",
    "✅ print(..., end=\"\\n\")는 기본값이기 때문에 생략해도 됨\n",
    "\n",
    "❌ \\n은 문자열 안에 있어야 줄바꿈 효과가 있음\n",
    "\n",
    "✅ 각 리스트를 따로 print() 해야 줄바꿈이 된다!"
   ]
  },
  {
   "cell_type": "markdown",
   "metadata": {
    "id": "WjyW_lJ43qXh"
   },
   "source": [
    "## 14. 리스트 추가, 삭제하기\n",
    "다음과 같이 코드 실행 결과가 나오도록 코드의 빈칸을 완성하여 전체 코드를 입력하세요.<br>\n",
    "실행결과\n",
    "```\n",
    "['우진', '시은', '메이킷']\n",
    "['우진', '시은']\n",
    "```"
   ]
  },
  {
   "cell_type": "code",
   "execution_count": 31,
   "metadata": {},
   "outputs": [
    {
     "name": "stdout",
     "output_type": "stream",
     "text": [
      "['메이킷', '우진', '시은']\n"
     ]
    }
   ],
   "source": [
    "s=['메이킷', '우진', '제임스', '시은']\n",
    "del s[2]\n",
    "print(s)"
   ]
  },
  {
   "cell_type": "markdown",
   "metadata": {},
   "source": [
    "### del 사용법 주의\n",
    "```s.del('제임스')``` 가아니라 <br>\n",
    "```dels[2]```로 해야한다는 점\n",
    "\n",
    "### .remove(값) \n",
    "```s.remove('메이킷')``` ------------결과는 안보여줌"
   ]
  },
  {
   "cell_type": "code",
   "execution_count": 32,
   "metadata": {
    "scrolled": true
   },
   "outputs": [
    {
     "name": "stdout",
     "output_type": "stream",
     "text": [
      "['우진', '시은']\n"
     ]
    }
   ],
   "source": [
    "s.remove('메이킷')\n",
    "print(s)"
   ]
  },
  {
   "cell_type": "code",
   "execution_count": 18,
   "metadata": {
    "scrolled": true
   },
   "outputs": [
    {
     "name": "stdout",
     "output_type": "stream",
     "text": [
      "None\n"
     ]
    }
   ],
   "source": [
    "# del 도 remove도 변수에 담지는 못한다는점\n",
    "ss=s.remove('메이킷')\n",
    "print(ss)"
   ]
  },
  {
   "cell_type": "markdown",
   "metadata": {
    "id": "EXCiHbcm4rTI"
   },
   "source": [
    "## 15. 리스트 원하는 위치에 삽입하기\n",
    "다음과 같이 코드 실행 결과가 나오도록 코드의 빈칸을 완성하세요.<br>\n",
    "실행결과\n",
    "```\n",
    "['우진', '하워드', '시은', '메이킷']\n",
    "```"
   ]
  },
  {
   "cell_type": "code",
   "execution_count": 33,
   "metadata": {
    "colab": {
     "base_uri": "https://localhost:8080/"
    },
    "id": "DRqh-Awr5e9U",
    "outputId": "bf12dcd5-b2bb-4f4e-a6e1-71c7923a469f"
   },
   "outputs": [
    {
     "name": "stdout",
     "output_type": "stream",
     "text": [
      "['우진', '하워드', '시은']\n"
     ]
    }
   ],
   "source": [
    "s.insert(1,'하워드')\n",
    "#s.insert(-1,'메이킷') \n",
    "print(s)"
   ]
  },
  {
   "attachments": {
    "image.png": {
     "image/png": "[encoded data removed]"
    }
   },
   "cell_type": "markdown",
   "metadata": {},
   "source": [
    "## d0d 왜 맨끝에 오지않은건지...?\n",
    "![image.png](attachment:image.png)"
   ]
  },
  {
   "cell_type": "code",
   "execution_count": 43,
   "metadata": {},
   "outputs": [
    {
     "name": "stdout",
     "output_type": "stream",
     "text": [
      "['우진', '하워드', '메이킷']\n"
     ]
    }
   ],
   "source": [
    "s.insert(5,'메이킷') \n",
    "print(s)"
   ]
  },
  {
   "cell_type": "code",
   "execution_count": null,
   "metadata": {},
   "outputs": [],
   "source": []
  },
  {
   "cell_type": "markdown",
   "metadata": {
    "id": "N_oeSVwj5Qx1"
   },
   "source": [
    "## 16. 리스트 합치기\n",
    "다음과 같이 코드 실행 결과가 나오도록 코드의 빈칸을 완성하세요.<br>\n",
    "실행결과\n",
    "```\n",
    "['우진', '시은', '메이킷', '소피아', '하워드']\n",
    "['메이킷', '소피아', '하워드']\n",
    "```"
   ]
  },
  {
   "cell_type": "code",
   "execution_count": 35,
   "metadata": {
    "colab": {
     "base_uri": "https://localhost:8080/"
    },
    "id": "8PQ6xWMJ6A1-",
    "outputId": "b0404fc9-2a89-4418-84a4-171d66105dd8"
   },
   "outputs": [
    {
     "name": "stdout",
     "output_type": "stream",
     "text": [
      "['우진', '시은', '메이킷', '소피아', '하워드']\n",
      "['메이킷', '소피아', '하워드']\n"
     ]
    }
   ],
   "source": [
    "a = ['우진', '시은']\n",
    "b = ['메이킷', '소피아', '하워드']\n",
    "print(a+b)\n",
    "print(b)"
   ]
  },
  {
   "cell_type": "markdown",
   "metadata": {
    "id": "RQ5mgcLQ6CRW"
   },
   "source": [
    "## 17. 공백 리스트와 합치기\n",
    "다음과 같이 코드 실행 결과가 나오도록 코드의 빈칸을 완성한 전체 코드를 작성하세요.<br>\n",
    "실행결과\n",
    "```\n",
    "['우진', '시은']\n",
    "['우진', '시은', '메이킷', '소피아', '하워드']\n",
    "```\n"
   ]
  },
  {
   "cell_type": "code",
   "execution_count": 41,
   "metadata": {
    "colab": {
     "base_uri": "https://localhost:8080/"
    },
    "id": "Rp--sSR46nhg",
    "outputId": "18d5b4b1-4e53-4722-c1ca-2fadb6122a0c"
   },
   "outputs": [
    {
     "name": "stdout",
     "output_type": "stream",
     "text": [
      "['메이킷', '소피아', '하워드']\n",
      "['메이킷', '소피아', '하워드', '우진', '시은']\n"
     ]
    }
   ],
   "source": [
    "a = []\n",
    "b=['우진', '시은']\n",
    "\n",
    "a.extend(['메이킷', '소피아', '하워드'])\n",
    "print(a)\n",
    "print(a+b)"
   ]
  },
  {
   "cell_type": "markdown",
   "metadata": {
    "id": "fv7pf4wi9CNx"
   },
   "source": [
    "## 18. 리스트의 개수인 길이 구하기\n",
    "다음과 같이 코드 실행 결과가 나오도록 코드의 빈칸을 완성하세요.<br>\n",
    "실행결과\n",
    "```\n",
    "리스트 a의 개수 즉 길이는 6\n",
    "리스트 a의 숫자들의 평균은 5.5\n",
    "```\n"
   ]
  },
  {
   "cell_type": "code",
   "execution_count": 42,
   "metadata": {
    "colab": {
     "base_uri": "https://localhost:8080/"
    },
    "id": "ddjY_M506um4",
    "outputId": "c74a2dec-e68f-404c-bd43-3fb5165331f1"
   },
   "outputs": [
    {
     "name": "stdout",
     "output_type": "stream",
     "text": [
      "리스트 a의 개수 즉 길이는 6\n",
      "리스트 a의 숫자들의 평균은 5.5\n"
     ]
    }
   ],
   "source": [
    "a = [3, 7, 4, 5, 6, 8]\n",
    "print('리스트 a의 개수 즉 길이는',len(a))\n",
    "print('리스트 a의 숫자들의 평균은', sum(a)/len(a))"
   ]
  },
  {
   "cell_type": "markdown",
   "metadata": {
    "id": "SLQrHJC59TnO"
   },
   "source": [
    "## 19. 리스트 잘라내기(슬라이싱)\n",
    "다음과 같이 코드 실행 결과가 나오도록 코드의 빈칸을 완성한 전체 코드를 작성하세요.<br>\n",
    "실행결과\n",
    "```\n",
    "b : [1, 2, 3, 4, 5]\n",
    "c : ['a', 'b', 'c', 'd', 'e']\n",
    "d : [5, 'a']\n",
    "e : [1, 3, 5, 'b', 'd']\n",
    "f : [2, 4, 'a', 'c', 'e']\n",
    "```"
   ]
  },
  {
   "cell_type": "markdown",
   "metadata": {},
   "source": [
    "슬라이싱 [시작인덱스:끝인덱스+1:step] step = 1"
   ]
  },
  {
   "cell_type": "code",
   "execution_count": 19,
   "metadata": {
    "colab": {
     "base_uri": "https://localhost:8080/"
    },
    "id": "B-XoDqOH9hIW",
    "outputId": "9fad46a0-98f7-45b0-808c-f30c651dbf33"
   },
   "outputs": [
    {
     "name": "stdout",
     "output_type": "stream",
     "text": [
      "b:[1, 2, 3, 4, 5]\n",
      "c:['a', 'b', 'c', 'd', 'e']\n",
      "d:[5, 'a']\n",
      "e:[1, 3, 5, 'b', 'd']\n",
      "f:[2, 4, 'a', 'c', 'e']\n"
     ]
    }
   ],
   "source": [
    "a = [1,2, 3, 4, 5, 'a', 'b', 'c', 'd', 'e']\n",
    "b=a[0:5]\n",
    "c=a[5:]\n",
    "d=a[4:6]\n",
    "e=a[0::2]\n",
    "f=a[1::2]\n",
    "print(f\"b:{b}\\nc:{c}\\nd:{d}\\ne:{e}\\nf:{f}\")"
   ]
  },
  {
   "cell_type": "markdown",
   "metadata": {
    "id": "dMJuqt6U9mh7"
   },
   "source": [
    "## 20. 리스트 거꾸로 잘라내기\n",
    "a = [‘형우’, ’윤진 ', '시은', '우진']과 같은 리스트가 있을 때 리스트 슬라이싱으로 리스트 순서가 거꾸로 바뀐 리스트를 생성해서 출력하세요. 아래 코드의 빈칸을 완성하세요.<br>\n",
    "실행결과\n",
    "```\n",
    "['우진', '시은', '윤진', '형우']\n",
    "```"
   ]
  },
  {
   "cell_type": "code",
   "execution_count": 13,
   "metadata": {
    "colab": {
     "base_uri": "https://localhost:8080/"
    },
    "id": "zfR5Q9WU95Pg",
    "outputId": "cdf5fbf1-059d-4ede-c51b-4c49523193e3"
   },
   "outputs": [
    {
     "name": "stdout",
     "output_type": "stream",
     "text": [
      "['우진', '시은', '윤진', '형우']\n"
     ]
    }
   ],
   "source": [
    "a = ['형우', '윤진', '시은', '우진']\n",
    "print(a[::-1])"
   ]
  },
  {
   "cell_type": "markdown",
   "metadata": {
    "id": "79_A-L0y99qj"
   },
   "source": [
    "## 21. 리스트 안에 리스트\n",
    "다음과 같이 코드 실행 결과가 나오도록 코드의 빈칸을 완성하세요.<br>\n",
    "```\n",
    "메이킷 학생의 시험 점수는 95\n",
    "우진 학생의 시험 점수는 100\n",
    "시은 학생의 시험 점수는 98\n",
    "```"
   ]
  },
  {
   "cell_type": "code",
   "execution_count": 51,
   "metadata": {
    "colab": {
     "base_uri": "https://localhost:8080/"
    },
    "id": "ylsRYcq6-Ir-",
    "outputId": "d34101a2-82bd-4ce2-f183-0ef15e29bbd1",
    "scrolled": true
   },
   "outputs": [],
   "source": [
    "a = [['메이킷', 95], ['우진', 100], ['시은', 98]]\n",
    "print('메이킷 학생의 시험 점수는' )"
   ]
  },
  {
   "cell_type": "markdown",
   "metadata": {
    "id": "G9CIDekV-S0d"
   },
   "source": [
    "## 22. 리스트 안에 있는 문자로 하나의 문자열 만들기(join)\n",
    "a = [‘시은’, ’우진’, ’지연’, ’지훈’]과 같이 우리 반 학생들 이름이 저장된 리스트가 있습니다. 이 리스트의 문자열들을 연결(join)해 하나의 문자열을 만들려고 합니다. 다음과 같이 코드 실행 결과가 나오도록 코드의 빈칸을 완성하세요.<br>\n",
    "실행결과\n",
    "```\n",
    "시은 우진 지훈 지연\n",
    "```"
   ]
  },
  {
   "cell_type": "markdown",
   "metadata": {},
   "source": [
    "# join "
   ]
  },
  {
   "cell_type": "code",
   "execution_count": 7,
   "metadata": {
    "colab": {
     "base_uri": "https://localhost:8080/",
     "height": 36
    },
    "id": "bo3mlVEu-cOI",
    "outputId": "c1303d36-ca91-4957-e0ac-722c1858a5ab"
   },
   "outputs": [
    {
     "name": "stdout",
     "output_type": "stream",
     "text": [
      "시은 우진 지훈 지연\n"
     ]
    }
   ],
   "source": [
    "a = ['시은', '우진', '지훈', '지연']\n",
    "a=' '.join(a) #요소 사이에 공백만 남기기\n",
    "print(a)"
   ]
  },
  {
   "cell_type": "markdown",
   "metadata": {
    "id": "-DaXcPMx-mo7"
   },
   "source": [
    "## 23. 문자열 분리해 리스트 만들기(split)\n",
    "a = '시은 우진 지훈 지연'과 같이 우리 반 학생들 이름이 저장된 문자열이 있습니다. 공백이 나올 때마다 문자열을 분리해(split) 하나의 리스트를 만들려고 합니다. 다음과 같이 코드 실행 결과가 나오도록 코드의 빈칸을 완성하세요.<br>\n",
    "실행결과\n",
    "```\n",
    "['시은', '우진', '지훈', '지연']\n",
    "```"
   ]
  },
  {
   "cell_type": "code",
   "execution_count": 15,
   "metadata": {
    "colab": {
     "base_uri": "https://localhost:8080/"
    },
    "id": "60RSwPl4-zWl",
    "outputId": "471bbb15-2c00-493d-b5af-62fed71aa7ae"
   },
   "outputs": [
    {
     "data": {
      "text/plain": [
       "['시은', '우진', '지훈', '지연']"
      ]
     },
     "execution_count": 15,
     "metadata": {},
     "output_type": "execute_result"
    }
   ],
   "source": [
    "a = '시은 우진 지훈 지연'\n",
    "a=a.split(\" \")\n",
    "a"
   ]
  }
 ],
 "metadata": {
  "colab": {
   "provenance": []
  },
  "kernelspec": {
   "display_name": "Python 3 (ipykernel)",
   "language": "python",
   "name": "python3"
  },
  "language_info": {
   "codemirror_mode": {
    "name": "ipython",
    "version": 3
   },
   "file_extension": ".py",
   "mimetype": "text/x-python",
   "name": "python",
   "nbconvert_exporter": "python",
   "pygments_lexer": "ipython3",
   "version": "3.9.21"
  }
 },
 "nbformat": 4,
 "nbformat_minor": 1
}
