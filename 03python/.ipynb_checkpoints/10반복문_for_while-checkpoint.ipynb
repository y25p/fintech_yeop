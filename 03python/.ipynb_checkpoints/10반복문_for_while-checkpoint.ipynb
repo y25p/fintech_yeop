{
 "cells": [
  {
   "cell_type": "markdown",
   "id": "629e5b7d",
   "metadata": {},
   "source": [
    "# 반복문 for, while\n",
    "- 10번이고 100번이고 반복해야하는 경우에 씀\n",
    "- for나 while로 시작하는.\n",
    "- **while: 무한반복해야할 때**\n",
    "- **for : 유한반복일때**\n",
    "<br>\n",
    "- 시퀀스 자료형 + for문 \n",
    "- 특정조건True일때 정지하게끔하는것이 while"
   ]
  },
  {
   "cell_type": "markdown",
   "id": "de5d254d",
   "metadata": {},
   "source": [
    "## for 반복문: \n",
    "- for 변수1, 변수2 in 반복할 객체/자료(문자열,리스트,튜플,dict):<br>\n",
    "___반복할 코드"
   ]
  },
  {
   "cell_type": "markdown",
   "id": "11fc0c07",
   "metadata": {},
   "source": [
    "- 순서있는 자료형(문자열, 리스트, 튜플) + 순서는 없지만 dict도 반복문 가능\n",
    "<br>\n",
    "- 숫자 생성) range(시작,끝,step)\n",
    "- 반복문과 함께쓰면<br>\n",
    "`for num in range(1,11):`\n",
    "`    print(num)`<br>\n",
    " 끝이 정해져있음. 11의 전인 10까지 반복하도록."
   ]
  },
  {
   "cell_type": "code",
   "execution_count": 3,
   "id": "ed8155bf",
   "metadata": {},
   "outputs": [
    {
     "name": "stdout",
     "output_type": "stream",
     "text": [
      "파이썬은 문자열을 반복문으로 출력"
     ]
    }
   ],
   "source": [
    "# 문자열\n",
    "for char in '파이썬은 문자열을 반복문으로 출력':\n",
    "    print(char, end=\"\") #가로로 정렬하기위한 end"
   ]
  },
  {
   "cell_type": "code",
   "execution_count": 7,
   "id": "fb50d094",
   "metadata": {},
   "outputs": [
    {
     "name": "stdout",
     "output_type": "stream",
     "text": [
      "123사5[6, 7, 8](8, 9, 10){'key': '밸류'}"
     ]
    }
   ],
   "source": [
    "# 리스트\n",
    "for l_item in [1,2,3,'사','5',[6,7,8],(8,9,10),{'key':'밸류'}]:\n",
    "    print(l_item, end=\"\")"
   ]
  },
  {
   "cell_type": "code",
   "execution_count": 9,
   "id": "d28339b6",
   "metadata": {},
   "outputs": [
    {
     "name": "stdout",
     "output_type": "stream",
     "text": [
      "123사5[6, 7, 8](8, 9, 10){'key': '밸류'}"
     ]
    }
   ],
   "source": [
    "# 튜플\n",
    "for l_item in (1,2,3,'사','5',[6,7,8],(8,9,10),{'key':'밸류'}):\n",
    "    print(l_item,end=\"\")"
   ]
  },
  {
   "cell_type": "code",
   "execution_count": 10,
   "id": "a7e3a005",
   "metadata": {},
   "outputs": [
    {
     "data": {
      "text/plain": [
       "{'이름': '홍길동', '나이': 40, '주소': '서울', '전화번호': '010-1111-1111'}"
      ]
     },
     "execution_count": 10,
     "metadata": {},
     "output_type": "execute_result"
    }
   ],
   "source": [
    "d=dict(이름='홍길동', 나이=40, 주소='서울', 전화번호='010-1111-1111')\n",
    "d"
   ]
  },
  {
   "cell_type": "code",
   "execution_count": 11,
   "id": "9b70f4dc",
   "metadata": {},
   "outputs": [
    {
     "name": "stdout",
     "output_type": "stream",
     "text": [
      "이름\n",
      "나이\n",
      "주소\n",
      "전화번호\n"
     ]
    }
   ],
   "source": [
    "for item in d:\n",
    "    print(item) # 딕셔너리도 반복문 돌아감."
   ]
  },
  {
   "cell_type": "code",
   "execution_count": 12,
   "id": "72a57ef6",
   "metadata": {},
   "outputs": [
    {
     "name": "stdout",
     "output_type": "stream",
     "text": [
      "홍길동\n",
      "40\n",
      "서울\n",
      "010-1111-1111\n"
     ]
    }
   ],
   "source": [
    "for item in d:\n",
    "    print(d[item]) #dict담은 변수명[키]=해당키의 밸류"
   ]
  },
  {
   "cell_type": "code",
   "execution_count": 19,
   "id": "d8b7eb0c",
   "metadata": {},
   "outputs": [
    {
     "name": "stdout",
     "output_type": "stream",
     "text": [
      "홍길동\n",
      "40\n",
      "서울\n",
      "010-1111-1111\n"
     ]
    }
   ],
   "source": [
    "for key in d:\n",
    "    print(d.get(key,'key없음')) #좀더 번거롭지만 습관들이면 좋은 코드"
   ]
  },
  {
   "cell_type": "code",
   "execution_count": 15,
   "id": "c264ee48",
   "metadata": {},
   "outputs": [
    {
     "name": "stdout",
     "output_type": "stream",
     "text": [
      "이름\n",
      "나이\n",
      "주소\n",
      "전화번호\n"
     ]
    }
   ],
   "source": [
    "for item in d.keys():\n",
    "    print(item)\n",
    "#    print(d.get(item,'key없음'))"
   ]
  },
  {
   "cell_type": "code",
   "execution_count": 16,
   "id": "dc81118d",
   "metadata": {},
   "outputs": [
    {
     "name": "stdout",
     "output_type": "stream",
     "text": [
      "('이름', '홍길동')\n",
      "('나이', 40)\n",
      "('주소', '서울')\n",
      "('전화번호', '010-1111-1111')\n"
     ]
    }
   ],
   "source": [
    "for item in d.items(): # 튜플형태로 키와함께 조회해야할때\n",
    "    print(item) "
   ]
  },
  {
   "cell_type": "code",
   "execution_count": 18,
   "id": "4e7658a7",
   "metadata": {},
   "outputs": [
    {
     "name": "stdout",
     "output_type": "stream",
     "text": [
      "이름 홍길동\n",
      "나이 40\n",
      "주소 서울\n",
      "전화번호 010-1111-1111\n"
     ]
    }
   ],
   "source": [
    "for key, value in d.items():\n",
    "    print(key, value)"
   ]
  },
  {
   "cell_type": "markdown",
   "id": "bb938301",
   "metadata": {},
   "source": [
    "#### 반복문 예제.\n",
    "- for 문을 이용해서 1~10의 정수를 더한 합을출력"
   ]
  },
  {
   "cell_type": "code",
   "execution_count": null,
   "id": "60b27382",
   "metadata": {},
   "outputs": [],
   "source": [
    "for i in range(1,11):\n",
    "    print()"
   ]
  },
  {
   "cell_type": "code",
   "execution_count": 20,
   "id": "e081a034",
   "metadata": {},
   "outputs": [
    {
     "name": "stdout",
     "output_type": "stream",
     "text": [
      "12345678910"
     ]
    }
   ],
   "source": [
    "#풀이\n",
    "for num in range(1,11):\n",
    "    print(num, end=\"\")"
   ]
  },
  {
   "cell_type": "code",
   "execution_count": 26,
   "id": "a8b93f45",
   "metadata": {},
   "outputs": [
    {
     "name": "stdout",
     "output_type": "stream",
     "text": [
      "1 3 6 10 15 21 28 36 45 55 "
     ]
    }
   ],
   "source": [
    "hap=0\n",
    "for num in range(1,11):\n",
    "#    print(num, end=\"\")\n",
    "    hap+=num             # hap=hap+num #누적덧셈\n",
    "    print(hap)           # 여기서 print 하면 덧셈의 반복과정이 나옴 "
   ]
  },
  {
   "cell_type": "code",
   "execution_count": 29,
   "id": "b0fc8a86",
   "metadata": {},
   "outputs": [
    {
     "name": "stdout",
     "output_type": "stream",
     "text": [
      "55\n"
     ]
    }
   ],
   "source": [
    "# 결과만 나올게하고싶을때 프린트문의 위치 주의.\n",
    "hap = 0\n",
    "for num in range(1, 11):\n",
    "    hap += num\n",
    "print(hap)"
   ]
  },
  {
   "cell_type": "code",
   "execution_count": 27,
   "id": "73d678ce",
   "metadata": {},
   "outputs": [
    {
     "name": "stdout",
     "output_type": "stream",
     "text": [
      "1 3 6 10 15 21 28 36 45 55 "
     ]
    }
   ],
   "source": [
    "# 시간 메서드 임포트하면 시간차두고 출력가능\n",
    "hap=0\n",
    "import time\n",
    "for num in range(1,11):\n",
    "    hap+=num    \n",
    "    print(f\"{hap}\", end=\" \") \n",
    "    time.sleep(0.5)"
   ]
  },
  {
   "cell_type": "code",
   "execution_count": 28,
   "id": "7ae82b87",
   "metadata": {},
   "outputs": [
    {
     "name": "stdout",
     "output_type": "stream",
     "text": [
      "1 2 3 4 5 6 7 8 9 10 "
     ]
    }
   ],
   "source": [
    "# 만약 변수를 반복문 안에 넣게되면 \n",
    "import time\n",
    "for num in range(1,11):\n",
    "    hap=0                        # 더하려할때마다 영이됨.\n",
    "    hap+=num    \n",
    "    print(f\"{hap}\", end=\" \") \n",
    "    time.sleep(0.5)"
   ]
  },
  {
   "cell_type": "code",
   "execution_count": null,
   "id": "fa6c3810",
   "metadata": {},
   "outputs": [],
   "source": []
  },
  {
   "cell_type": "code",
   "execution_count": null,
   "id": "b982145d",
   "metadata": {},
   "outputs": [],
   "source": []
  },
  {
   "cell_type": "code",
   "execution_count": null,
   "id": "a4d6b6be",
   "metadata": {},
   "outputs": [],
   "source": []
  },
  {
   "cell_type": "code",
   "execution_count": null,
   "id": "d9ef512c",
   "metadata": {},
   "outputs": [],
   "source": []
  },
  {
   "cell_type": "code",
   "execution_count": null,
   "id": "cd4bd118",
   "metadata": {},
   "outputs": [],
   "source": []
  },
  {
   "cell_type": "markdown",
   "id": "287bc084",
   "metadata": {},
   "source": []
  },
  {
   "cell_type": "code",
   "execution_count": null,
   "id": "d7a8169a",
   "metadata": {},
   "outputs": [],
   "source": []
  },
  {
   "cell_type": "code",
   "execution_count": null,
   "id": "26d1d755",
   "metadata": {},
   "outputs": [],
   "source": []
  },
  {
   "cell_type": "code",
   "execution_count": null,
   "id": "b64dc852",
   "metadata": {},
   "outputs": [],
   "source": []
  },
  {
   "cell_type": "code",
   "execution_count": null,
   "id": "376c474f",
   "metadata": {},
   "outputs": [],
   "source": []
  },
  {
   "cell_type": "code",
   "execution_count": null,
   "id": "e60a42f2",
   "metadata": {},
   "outputs": [],
   "source": []
  }
 ],
 "metadata": {
  "kernelspec": {
   "display_name": "Python 3 (ipykernel)",
   "language": "python",
   "name": "python3"
  },
  "language_info": {
   "codemirror_mode": {
    "name": "ipython",
    "version": 3
   },
   "file_extension": ".py",
   "mimetype": "text/x-python",
   "name": "python",
   "nbconvert_exporter": "python",
   "pygments_lexer": "ipython3",
   "version": "3.9.21"
  }
 },
 "nbformat": 4,
 "nbformat_minor": 5
}
