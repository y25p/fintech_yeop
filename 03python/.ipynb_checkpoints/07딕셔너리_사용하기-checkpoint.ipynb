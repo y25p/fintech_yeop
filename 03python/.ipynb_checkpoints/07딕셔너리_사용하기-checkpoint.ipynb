{
 "cells": [
  {
   "cell_type": "markdown",
   "id": "823c898c",
   "metadata": {},
   "source": [
    "# 딕셔너리 사용하기\n",
    "- dict타입, Json형 \n",
    "- web에서 자료를 주고 받을 때 쓰임\n",
    "- key:value 쌍으로 이뤄짐.\n",
    "- key호출하면 value를 출력\n",
    "- key자리는 list, dict를 제외한 자료형 받음\n",
    "- value는 모든 자료형 가능"
   ]
  },
  {
   "cell_type": "markdown",
   "id": "ccef39fc",
   "metadata": {},
   "source": [
    "# 딕셔너리 만들기\n",
    "- 딕셔너리 형태로 키가 만들어진다.\n",
    "- 형태는 {key:value}\n",
    "- 빈 딕셔너리도 생성가능 {}만 줘도됨.\n",
    "- dict() 함수를 이용해서 딕셔너리 대량생성."
   ]
  },
  {
   "cell_type": "code",
   "execution_count": 1,
   "id": "3d32501d",
   "metadata": {},
   "outputs": [
    {
     "data": {
      "text/plain": [
       "{'년월': '20250314', '국가': '미국', '방문자수': 1000}"
      ]
     },
     "execution_count": 1,
     "metadata": {},
     "output_type": "execute_result"
    }
   ],
   "source": [
    "d= {'년월' : '20250314', '국가':'미국', '방문자수':1000 }\n",
    "d"
   ]
  },
  {
   "cell_type": "code",
   "execution_count": 2,
   "id": "a948a05e",
   "metadata": {},
   "outputs": [
    {
     "data": {
      "text/plain": [
       "'미국'"
      ]
     },
     "execution_count": 2,
     "metadata": {},
     "output_type": "execute_result"
    }
   ],
   "source": [
    "d['국가']"
   ]
  },
  {
   "cell_type": "code",
   "execution_count": 3,
   "id": "16df32dd",
   "metadata": {},
   "outputs": [
    {
     "name": "stdout",
     "output_type": "stream",
     "text": [
      "{} <class 'dict'>\n"
     ]
    }
   ],
   "source": [
    "d2={}\n",
    "print(d2,type(d2))"
   ]
  },
  {
   "cell_type": "markdown",
   "id": "55823335",
   "metadata": {},
   "source": [
    "## dict key의 자료형\n",
    "- str, int, float, bullyn, tuple\n",
    "- dict, list를 key로 받지 않음\n",
    "- 보통 str과 tuple을 key로 흔히씀"
   ]
  },
  {
   "cell_type": "code",
   "execution_count": 10,
   "id": "024ab803",
   "metadata": {},
   "outputs": [
    {
     "data": {
      "text/plain": [
       "{'백': 100, 100: '백', 3.5: [3.6, 3.7], False: 0, (0, '서울'): '종로구'}"
      ]
     },
     "execution_count": 10,
     "metadata": {},
     "output_type": "execute_result"
    }
   ],
   "source": [
    "d3={'백':100, 100:'백', 3.5:[3.6,3.7], False:0, (0,'서울'):\"종로구\"}\n",
    "d3  # srt     int      float        bullyn    tuple"
   ]
  },
  {
   "cell_type": "code",
   "execution_count": 8,
   "id": "2c6f4ff8",
   "metadata": {},
   "outputs": [
    {
     "ename": "SyntaxError",
     "evalue": "invalid syntax (3767508520.py, line 1)",
     "output_type": "error",
     "traceback": [
      "\u001b[1;36m  Cell \u001b[1;32mIn[8], line 1\u001b[1;36m\u001b[0m\n\u001b[1;33m    d4={1:1,2:2,[3,]{4:4,5:5}} # 딕셔너리는 안받는다.\u001b[0m\n\u001b[1;37m                    ^\u001b[0m\n\u001b[1;31mSyntaxError\u001b[0m\u001b[1;31m:\u001b[0m invalid syntax\n"
     ]
    }
   ],
   "source": [
    "d4={1:1,2:2,[3,]{4:4,5:5}} # 딕셔너리는 안받는다."
   ]
  },
  {
   "cell_type": "code",
   "execution_count": 12,
   "id": "c6dda626",
   "metadata": {},
   "outputs": [
    {
     "data": {
      "text/plain": [
       "100"
      ]
     },
     "execution_count": 12,
     "metadata": {},
     "output_type": "execute_result"
    }
   ],
   "source": [
    "d3['백'] # 괄호조심할것"
   ]
  },
  {
   "cell_type": "code",
   "execution_count": 13,
   "id": "6ad0938c",
   "metadata": {},
   "outputs": [
    {
     "data": {
      "text/plain": [
       "0"
      ]
     },
     "execution_count": 13,
     "metadata": {},
     "output_type": "execute_result"
    }
   ],
   "source": [
    "d3[False]"
   ]
  },
  {
   "cell_type": "code",
   "execution_count": 14,
   "id": "e661bdc6",
   "metadata": {},
   "outputs": [
    {
     "data": {
      "text/plain": [
       "'종로구'"
      ]
     },
     "execution_count": 14,
     "metadata": {},
     "output_type": "execute_result"
    }
   ],
   "source": [
    "d3[(0,'서울')] # 튜플이 키로 왔을때는 째로 써야함."
   ]
  },
  {
   "cell_type": "markdown",
   "id": "f8dea631",
   "metadata": {},
   "source": [
    "## 딕셔너리 value의 자료형 - 모든 자료형"
   ]
  },
  {
   "cell_type": "code",
   "execution_count": 17,
   "id": "8bd3c157",
   "metadata": {},
   "outputs": [
    {
     "data": {
      "text/plain": [
       "{'정수': 100,\n",
       " '실수': 3.5,\n",
       " '문자열': 'Value',\n",
       " '리스트': ['영', 1, 2, 3],\n",
       " '튜플': (1, 2, 3, 4),\n",
       " '딕셔너리': {'key': 'value'},\n",
       " 'bullyn': True}"
      ]
     },
     "execution_count": 17,
     "metadata": {},
     "output_type": "execute_result"
    }
   ],
   "source": [
    "d4={'정수':100, '실수':3.5, \"문자열\":'Value', '리스트':['영',1,2,3], '튜플':(1,2,3,4), \n",
    "    '딕셔너리':{'key':\"value\"},'bullyn':True}\n",
    "d4"
   ]
  },
  {
   "cell_type": "code",
   "execution_count": 18,
   "id": "0972a2ee",
   "metadata": {},
   "outputs": [
    {
     "data": {
      "text/plain": [
       "3.5"
      ]
     },
     "execution_count": 18,
     "metadata": {},
     "output_type": "execute_result"
    }
   ],
   "source": [
    "d4['실수']"
   ]
  },
  {
   "cell_type": "code",
   "execution_count": 19,
   "id": "d70fc45f",
   "metadata": {},
   "outputs": [
    {
     "data": {
      "text/plain": [
       "(1, 2, 3, 4)"
      ]
     },
     "execution_count": 19,
     "metadata": {},
     "output_type": "execute_result"
    }
   ],
   "source": [
    "d4['튜플']"
   ]
  },
  {
   "cell_type": "code",
   "execution_count": 20,
   "id": "38f5e1e9",
   "metadata": {},
   "outputs": [
    {
     "data": {
      "text/plain": [
       "{'key': 'value'}"
      ]
     },
     "execution_count": 20,
     "metadata": {},
     "output_type": "execute_result"
    }
   ],
   "source": [
    "d4['딕셔너리']"
   ]
  },
  {
   "cell_type": "code",
   "execution_count": 21,
   "id": "643fed9f",
   "metadata": {},
   "outputs": [
    {
     "data": {
      "text/plain": [
       "'영'"
      ]
     },
     "execution_count": 21,
     "metadata": {},
     "output_type": "execute_result"
    }
   ],
   "source": [
    "d4['리스트'][0] # 인덱싱 얹을 수 있음"
   ]
  },
  {
   "cell_type": "code",
   "execution_count": 22,
   "id": "b546aca5",
   "metadata": {},
   "outputs": [
    {
     "data": {
      "text/plain": [
       "'value'"
      ]
     },
     "execution_count": 22,
     "metadata": {},
     "output_type": "execute_result"
    }
   ],
   "source": [
    "d4['딕셔너리']['key'] # 딕셔너리 형태의 value에서 key 만 호출"
   ]
  },
  {
   "cell_type": "markdown",
   "id": "fdb0e282",
   "metadata": {},
   "source": [
    "## 빈 딕셔너리 만들기\n",
    "- 변수 = {}\n",
    "- 변수 = dict()"
   ]
  },
  {
   "cell_type": "code",
   "execution_count": 23,
   "id": "e49b8438",
   "metadata": {},
   "outputs": [
    {
     "name": "stdout",
     "output_type": "stream",
     "text": [
      "{} <class 'dict'>\n"
     ]
    }
   ],
   "source": [
    "d5={}\n",
    "print(d5, type(d5))"
   ]
  },
  {
   "cell_type": "code",
   "execution_count": 24,
   "id": "23e5340e",
   "metadata": {},
   "outputs": [
    {
     "name": "stdout",
     "output_type": "stream",
     "text": [
      "{} <class 'dict'>\n"
     ]
    }
   ],
   "source": [
    "d6= dict()\n",
    "print(d6, type(d6))"
   ]
  },
  {
   "cell_type": "markdown",
   "id": "6ca1fb17",
   "metadata": {},
   "source": [
    "## 딕셔너리에 자료 추가\n",
    "- 변수['key']=value\n",
    "- 추가할때 이전 key에 덮어씀"
   ]
  },
  {
   "cell_type": "code",
   "execution_count": 25,
   "id": "92a4fc2e",
   "metadata": {},
   "outputs": [],
   "source": [
    "d5['번호']=0"
   ]
  },
  {
   "cell_type": "code",
   "execution_count": 26,
   "id": "dd542727",
   "metadata": {},
   "outputs": [
    {
     "data": {
      "text/plain": [
       "{'번호': 0}"
      ]
     },
     "execution_count": 26,
     "metadata": {},
     "output_type": "execute_result"
    }
   ],
   "source": [
    "d5 # '번호'라는 키와 value를 받음 # 이건 dict만 할수있는거"
   ]
  },
  {
   "cell_type": "code",
   "execution_count": 27,
   "id": "06091cc5",
   "metadata": {},
   "outputs": [
    {
     "data": {
      "text/plain": [
       "{'번호': 0, '리스트': [3, 2, 1]}"
      ]
     },
     "execution_count": 27,
     "metadata": {},
     "output_type": "execute_result"
    }
   ],
   "source": [
    "d5['리스트']=[3,2,1]\n",
    "d5"
   ]
  },
  {
   "cell_type": "code",
   "execution_count": 28,
   "id": "4737ac82",
   "metadata": {},
   "outputs": [],
   "source": [
    "#아까 번호 만들었지만 또 만든다면\n",
    "d5[\"번호\"]=0,1"
   ]
  },
  {
   "cell_type": "code",
   "execution_count": 29,
   "id": "224da6ec",
   "metadata": {},
   "outputs": [
    {
     "data": {
      "text/plain": [
       "{'번호': (0, 1), '리스트': [3, 2, 1]}"
      ]
     },
     "execution_count": 29,
     "metadata": {},
     "output_type": "execute_result"
    }
   ],
   "source": [
    "d5"
   ]
  },
  {
   "cell_type": "code",
   "execution_count": 33,
   "id": "14a919b0",
   "metadata": {},
   "outputs": [],
   "source": [
    "########## 리스트화 하려면 이렇게?? ##########\n",
    "d5['번호']=list(d5['번호'])"
   ]
  },
  {
   "cell_type": "code",
   "execution_count": 34,
   "id": "60e7798f",
   "metadata": {},
   "outputs": [
    {
     "data": {
      "text/plain": [
       "{'번호': [0, 1], '리스트': [3, 2, 1]}"
      ]
     },
     "execution_count": 34,
     "metadata": {},
     "output_type": "execute_result"
    }
   ],
   "source": [
    "d5"
   ]
  },
  {
   "cell_type": "markdown",
   "id": "2ce605e5",
   "metadata": {},
   "source": [
    "### 주의) 키중복되는 경우는 가장 마지막 내용만 남긴다."
   ]
  },
  {
   "cell_type": "code",
   "execution_count": 35,
   "id": "d3f4d700",
   "metadata": {},
   "outputs": [
    {
     "data": {
      "text/plain": [
       "{'번호': 1, '이름': '둘리', '나이': 30}"
      ]
     },
     "execution_count": 35,
     "metadata": {},
     "output_type": "execute_result"
    }
   ],
   "source": [
    "d7={'번호':0, '이름':'홍길동', '이름':'둘리','나이':30, '번호':1 }\n",
    "d7 # 처음 생성하더라도 해당됨."
   ]
  },
  {
   "cell_type": "markdown",
   "id": "a21be36b",
   "metadata": {},
   "source": [
    "# dict 함수를 사용해서 dict 만들기"
   ]
  },
  {
   "cell_type": "markdown",
   "id": "97497abf",
   "metadata": {},
   "source": [
    "- dict(key1=value1, key2=value2, key3=value3)\n",
    "    이런식으로 쓰는데\n",
    "- key자리에 ''나 \"\"는 안받음\n",
    "- key에 어떤 값 넣든 str로 바뀜.\n",
    "- value에 'str' 따옴표 필수"
   ]
  },
  {
   "cell_type": "code",
   "execution_count": 37,
   "id": "76006cab",
   "metadata": {},
   "outputs": [
    {
     "data": {
      "text/plain": [
       "{'정수': 100,\n",
       " '실수': 3.5,\n",
       " '문자': 'str',\n",
       " '리스트': [0, 1, 2],\n",
       " '튜플': (3,),\n",
       " '딕셔너리': {'키': 'vlalue'}}"
      ]
     },
     "execution_count": 37,
     "metadata": {},
     "output_type": "execute_result"
    }
   ],
   "source": [
    "dict_ex1=dict(정수=100, 실수=3.5, \n",
    "              문자='str', 리스트=[0,1,2], \n",
    "              튜플=(3,), 딕셔너리={'키':'vlalue'})\n",
    "# 변수에 할당하듯 따옴생략됨.\n",
    "dict_ex1                      #자동으로 키에 따옴 추가됨."
   ]
  },
  {
   "cell_type": "code",
   "execution_count": 38,
   "id": "1ac15820",
   "metadata": {},
   "outputs": [
    {
     "data": {
      "text/plain": [
       "['정수', '실수', '문자', '리스트', '튜플', '딕셔너리']"
      ]
     },
     "execution_count": 38,
     "metadata": {},
     "output_type": "execute_result"
    }
   ],
   "source": [
    "dicx=list(dict_ex1)  # 궁금해서 찍어봄\n",
    "dicx"
   ]
  },
  {
   "cell_type": "markdown",
   "id": "d344a9d2",
   "metadata": {},
   "source": [
    "- 나중에 리퀘스트라는 라이브러리 사용할때 JSON형태로 생성하게됨\n",
    "- 이럴때 따옴 생략하니 좀 편하다\n",
    "\n",
    "- 개인적 생각으로는 dict를 리스트화 하면 키에 따옴표 생성이되니 이걸 그대로 다시 dict함수에서 쓸 수 있지않을까."
   ]
  },
  {
   "cell_type": "code",
   "execution_count": null,
   "id": "3a457d43",
   "metadata": {},
   "outputs": [],
   "source": []
  },
  {
   "cell_type": "code",
   "execution_count": null,
   "id": "51a0565c",
   "metadata": {},
   "outputs": [],
   "source": []
  },
  {
   "cell_type": "code",
   "execution_count": null,
   "id": "9c9f41ff",
   "metadata": {},
   "outputs": [],
   "source": []
  },
  {
   "cell_type": "code",
   "execution_count": null,
   "id": "4a30ca66",
   "metadata": {},
   "outputs": [],
   "source": []
  },
  {
   "cell_type": "code",
   "execution_count": null,
   "id": "b128caa8",
   "metadata": {},
   "outputs": [],
   "source": []
  },
  {
   "cell_type": "code",
   "execution_count": null,
   "id": "7f0fe776",
   "metadata": {},
   "outputs": [],
   "source": []
  }
 ],
 "metadata": {
  "kernelspec": {
   "display_name": "Python 3 (ipykernel)",
   "language": "python",
   "name": "python3"
  },
  "language_info": {
   "codemirror_mode": {
    "name": "ipython",
    "version": 3
   },
   "file_extension": ".py",
   "mimetype": "text/x-python",
   "name": "python",
   "nbconvert_exporter": "python",
   "pygments_lexer": "ipython3",
   "version": "3.9.21"
  }
 },
 "nbformat": 4,
 "nbformat_minor": 5
}
