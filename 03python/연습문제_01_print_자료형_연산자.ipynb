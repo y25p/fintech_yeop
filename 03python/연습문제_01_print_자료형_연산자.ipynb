{
 "cells": [
  {
   "cell_type": "markdown",
   "id": "e231387d",
   "metadata": {},
   "source": [
    "# 1~15: 기본적인 print() 사용"
   ]
  },
  {
   "cell_type": "markdown",
   "id": "e3741813",
   "metadata": {},
   "source": [
    "1.문제: print()를 사용하여 숫자 100을 출력하세요.\n",
    "\n",
    "결과 값: \n",
    "```python\n",
    "100\n",
    "```"
   ]
  },
  {
   "cell_type": "code",
   "execution_count": 1,
   "id": "8c8844bb",
   "metadata": {},
   "outputs": [
    {
     "name": "stdout",
     "output_type": "stream",
     "text": [
      "100\n"
     ]
    }
   ],
   "source": [
    "print(100)"
   ]
  },
  {
   "cell_type": "markdown",
   "id": "dd670ecd",
   "metadata": {},
   "source": [
    "2.문제: print()를 사용하여 **문자열 \"Hello Python\"**을 출력하세요.\n",
    "\n",
    "결과 값: \n",
    "```python\n",
    "\"Hello Python\"\n",
    "```"
   ]
  },
  {
   "cell_type": "code",
   "execution_count": 5,
   "id": "5a8c35be",
   "metadata": {},
   "outputs": [
    {
     "name": "stdout",
     "output_type": "stream",
     "text": [
      "\"hello python\"\n"
     ]
    }
   ],
   "source": [
    "d='\"hello python\"'\n",
    "print(d)"
   ]
  },
  {
   "cell_type": "markdown",
   "id": "a50dcf24",
   "metadata": {},
   "source": [
    "3.문제: print()를 사용하여 10과 20을 한 줄에 출력하세요.\n",
    "\n",
    "결과 값: \n",
    "```python\n",
    "10 20\n",
    "```"
   ]
  },
  {
   "cell_type": "markdown",
   "id": "3835817e",
   "metadata": {},
   "source": [
    "#"
   ]
  },
  {
   "cell_type": "code",
   "execution_count": null,
   "id": "26386a66",
   "metadata": {},
   "outputs": [],
   "source": []
  },
  {
   "cell_type": "markdown",
   "id": "68e65e71",
   "metadata": {},
   "source": [
    "4.문제: print()를 사용하여 10, 20, 30을 한 줄에 공백 없이 출력하세요.\n",
    "\n",
    "결과 값: \n",
    "\n",
    "```python\n",
    "102030\n",
    "```\n"
   ]
  },
  {
   "cell_type": "code",
   "execution_count": 10,
   "id": "a3300a1b",
   "metadata": {},
   "outputs": [
    {
     "name": "stdout",
     "output_type": "stream",
     "text": [
      "102030\n"
     ]
    }
   ],
   "source": [
    "print(102030)"
   ]
  },
  {
   "cell_type": "markdown",
   "id": "f072a5b6",
   "metadata": {},
   "source": [
    "5.문제: print()를 사용하여 10, 20, 30을 -로 구분하여 출력하세요.\n",
    "\n",
    "결과 값: \n",
    "```python\n",
    "10-20-30\n",
    "```"
   ]
  },
  {
   "cell_type": "code",
   "execution_count": 14,
   "id": "af164204",
   "metadata": {},
   "outputs": [
    {
     "name": "stdout",
     "output_type": "stream",
     "text": [
      "10-20-30\n"
     ]
    }
   ],
   "source": [
    "p=\"10-20-30\"\n",
    "print(p)"
   ]
  },
  {
   "cell_type": "markdown",
   "id": "3508de6a",
   "metadata": {},
   "source": [
    "6.문제: 두 개의 print() 문을 사용하되, 한 줄에 출력하세요.\n",
    "\n",
    "결과 값: \n",
    "```python\n",
    "Hello Python\n",
    "```"
   ]
  },
  {
   "cell_type": "markdown",
   "id": "9bacf728",
   "metadata": {},
   "source": [
    "#"
   ]
  },
  {
   "cell_type": "code",
   "execution_count": 22,
   "id": "f8a5eb66",
   "metadata": {},
   "outputs": [
    {
     "name": "stdout",
     "output_type": "stream",
     "text": [
      "python\n",
      "hello None\n"
     ]
    }
   ],
   "source": [
    "print('hello', print('python'))"
   ]
  },
  {
   "cell_type": "markdown",
   "id": "bfd9a4db",
   "metadata": {},
   "source": [
    "7.문제: print()를 사용하여 3 + 5의 결과를 출력하세요.\n",
    "\n",
    "결과 값: \n",
    "```python\n",
    "3 + 5: 8\n",
    "```"
   ]
  },
  {
   "cell_type": "code",
   "execution_count": 24,
   "id": "08a1d34f",
   "metadata": {},
   "outputs": [
    {
     "name": "stdout",
     "output_type": "stream",
     "text": [
      "3 +5: 8\n"
     ]
    }
   ],
   "source": [
    "print('3 +5: 8')"
   ]
  },
  {
   "cell_type": "markdown",
   "id": "9dc73277",
   "metadata": {},
   "source": [
    "8.문제: print()를 사용하여 50 - 15의 결과를 출력하세요.\n",
    "\n",
    "결과 값: \n",
    "```python\n",
    "50 - 15: 35\n",
    "```"
   ]
  },
  {
   "cell_type": "code",
   "execution_count": 26,
   "id": "203d58b7",
   "metadata": {},
   "outputs": [
    {
     "name": "stdout",
     "output_type": "stream",
     "text": [
      "50 - 15: 35\n"
     ]
    }
   ],
   "source": [
    "print('50 - 15: 35')"
   ]
  },
  {
   "cell_type": "markdown",
   "id": "6701f018",
   "metadata": {},
   "source": [
    "9.문제: print()를 사용하여 4 × 6의 결과를 출력하세요.\n",
    "\n",
    "결과 값: \n",
    "```python\n",
    "4 × 6: 24\n",
    "```"
   ]
  },
  {
   "cell_type": "code",
   "execution_count": 27,
   "id": "b3737b2c",
   "metadata": {},
   "outputs": [
    {
     "name": "stdout",
     "output_type": "stream",
     "text": [
      "4 * 6: 24\n"
     ]
    }
   ],
   "source": [
    "print('4 * 6: 24')"
   ]
  },
  {
   "cell_type": "markdown",
   "id": "7614f980",
   "metadata": {},
   "source": [
    "10.문제: print()를 사용하여 20을 4로 나눈 결과를 출력하세요.\n",
    "\n",
    "결과 값: \n",
    "```python\n",
    "5.0\n",
    "```"
   ]
  },
  {
   "cell_type": "code",
   "execution_count": 30,
   "id": "67a795d4",
   "metadata": {},
   "outputs": [
    {
     "name": "stdout",
     "output_type": "stream",
     "text": [
      "5.0\n"
     ]
    }
   ],
   "source": [
    "print(float(20/4))"
   ]
  },
  {
   "cell_type": "markdown",
   "id": "6ebfb18f",
   "metadata": {},
   "source": [
    "11.문제: print()를 사용하여 20 을 3으로 나눈 몫을 출력하세요.\n",
    "\n",
    "결과 값: \n",
    "```python\n",
    "6\n",
    "```"
   ]
  },
  {
   "cell_type": "code",
   "execution_count": 31,
   "id": "5dff8588",
   "metadata": {},
   "outputs": [
    {
     "name": "stdout",
     "output_type": "stream",
     "text": [
      "6\n"
     ]
    }
   ],
   "source": [
    "print(20//3)"
   ]
  },
  {
   "cell_type": "markdown",
   "id": "0bc7d852",
   "metadata": {},
   "source": [
    "12.문제: print()를 사용하여 20을 3으로 나눈 나머지를 출력하세요.\n",
    "\n",
    "결과 값: \n",
    "```python\n",
    "2\n",
    "```"
   ]
  },
  {
   "cell_type": "code",
   "execution_count": 32,
   "id": "fabfb88d",
   "metadata": {},
   "outputs": [
    {
     "name": "stdout",
     "output_type": "stream",
     "text": [
      "2\n"
     ]
    }
   ],
   "source": [
    "print(20%3)"
   ]
  },
  {
   "cell_type": "markdown",
   "id": "f7740945",
   "metadata": {},
   "source": [
    "13.문제: print()를 사용하여 2의 5제곱 결과를 출력하세요.\n",
    "\n",
    "결과 값: \n",
    "```python\n",
    "32\n",
    "```"
   ]
  },
  {
   "cell_type": "code",
   "execution_count": 33,
   "id": "ac0373b9",
   "metadata": {},
   "outputs": [
    {
     "name": "stdout",
     "output_type": "stream",
     "text": [
      "32\n"
     ]
    }
   ],
   "source": [
    "print(2**5)"
   ]
  },
  {
   "cell_type": "markdown",
   "id": "8f334dd6",
   "metadata": {},
   "source": [
    "14.문제: print()를 사용하여 5 + 3 × 2의 결과를 출력하세요.\n",
    "\n",
    "결과 값: \n",
    "```python\n",
    "11\n",
    "```"
   ]
  },
  {
   "cell_type": "code",
   "execution_count": 34,
   "id": "b90a6c65",
   "metadata": {},
   "outputs": [
    {
     "name": "stdout",
     "output_type": "stream",
     "text": [
      "11\n"
     ]
    }
   ],
   "source": [
    "print(5+3*2)"
   ]
  },
  {
   "cell_type": "markdown",
   "id": "a2a848ec",
   "metadata": {},
   "source": [
    "15.문제: print()를 사용하여 (5 + 3) × 2의 결과를 출력하세요.\n",
    "\n",
    "결과 값: \n",
    "```python\n",
    "16\n",
    "```"
   ]
  },
  {
   "cell_type": "code",
   "execution_count": 35,
   "id": "20d86ef5",
   "metadata": {},
   "outputs": [
    {
     "name": "stdout",
     "output_type": "stream",
     "text": [
      "16\n"
     ]
    }
   ],
   "source": [
    "print((5+3)*2)"
   ]
  },
  {
   "cell_type": "markdown",
   "id": "1bfe8665",
   "metadata": {},
   "source": [
    "# 16~25: 다양한 출력 형식"
   ]
  },
  {
   "cell_type": "markdown",
   "id": "42a98301",
   "metadata": {},
   "source": [
    "16.문제: print()의 sep 매개변수를 사용하여 \"apple-banana-cherry\"를 출력하세요.\n",
    "\n",
    "결과 값: \n",
    "```python\n",
    "apple-banana-cherry\n",
    "```"
   ]
  },
  {
   "cell_type": "markdown",
   "id": "38daa765",
   "metadata": {},
   "source": [
    "# "
   ]
  },
  {
   "cell_type": "code",
   "execution_count": 3,
   "id": "3079fb6e",
   "metadata": {},
   "outputs": [
    {
     "name": "stdout",
     "output_type": "stream",
     "text": [
      "apple-banana-cherry\n"
     ]
    }
   ],
   "source": [
    "print(\"apple\",\"banana\",\"cherry\",sep='-')"
   ]
  },
  {
   "cell_type": "markdown",
   "id": "79b226d5",
   "metadata": {},
   "source": [
    "17.문제: print()의 end 매개변수를 사용하여 \"Hello\"와 \"World\"를 공백 없이 출력하세요.\n",
    "\n",
    "결과 값: \n",
    "```python\n",
    "HelloWorld\n",
    "```"
   ]
  },
  {
   "cell_type": "code",
   "execution_count": 39,
   "id": "cf04cb0d",
   "metadata": {},
   "outputs": [
    {
     "name": "stdout",
     "output_type": "stream",
     "text": [
      "HelloWorld\n"
     ]
    }
   ],
   "source": [
    "print('Hello',end=\"\")\n",
    "print('World')"
   ]
  },
  {
   "cell_type": "markdown",
   "id": "79f76226",
   "metadata": {},
   "source": [
    "18.문제: print()를 사용하여 변수 a = 10, b = 20을 선언하고 a + b를 출력하세요.\n",
    "\n",
    "결과 값: \n",
    "```python\n",
    "a + b: 30\n",
    "```"
   ]
  },
  {
   "cell_type": "code",
   "execution_count": 44,
   "id": "0a1ec426",
   "metadata": {},
   "outputs": [
    {
     "name": "stdout",
     "output_type": "stream",
     "text": [
      "a + b: 30\n"
     ]
    }
   ],
   "source": [
    "a=10\n",
    "b=20\n",
    "print('a + b:',a+b)"
   ]
  },
  {
   "cell_type": "markdown",
   "id": "18e3860b",
   "metadata": {},
   "source": [
    "19.문제: print()를 사용하여 100을 3으로 나눈 결과를 정수형으로 출력하세요.\n",
    "\n",
    "결과 값: \n",
    "```python\n",
    "33\n",
    "```"
   ]
  },
  {
   "cell_type": "code",
   "execution_count": 45,
   "id": "dd94781e",
   "metadata": {},
   "outputs": [
    {
     "name": "stdout",
     "output_type": "stream",
     "text": [
      "33\n"
     ]
    }
   ],
   "source": [
    "print(int(100/3))"
   ]
  },
  {
   "cell_type": "markdown",
   "id": "44d90c3f",
   "metadata": {},
   "source": [
    "20.문제: print()를 사용하여 5개의 숫자를 한 줄에 공백(\" \")으로 구분하여 출력하세요.\n",
    "\n",
    "결과 값: \n",
    "```python\n",
    "1 2 3 4 5\n",
    "```"
   ]
  },
  {
   "cell_type": "markdown",
   "id": "fed32670",
   "metadata": {},
   "source": [
    "#"
   ]
  },
  {
   "cell_type": "code",
   "execution_count": 48,
   "id": "da22a955",
   "metadata": {},
   "outputs": [
    {
     "name": "stdout",
     "output_type": "stream",
     "text": [
      "1 2 3 4 5\n"
     ]
    }
   ],
   "source": [
    "print(1,2,3,4,5)"
   ]
  },
  {
   "cell_type": "markdown",
   "id": "c4811c03",
   "metadata": {},
   "source": [
    "21.문제: print()를 사용하여 1부터 10까지의 합을 출력하세요.\n",
    "\n",
    "결과 값: \n",
    "```python\n",
    "55\n",
    "```"
   ]
  },
  {
   "cell_type": "code",
   "execution_count": 4,
   "id": "59304de2",
   "metadata": {},
   "outputs": [
    {
     "ename": "SyntaxError",
     "evalue": "invalid syntax (839735510.py, line 1)",
     "output_type": "error",
     "traceback": [
      "\u001b[1;36m  Cell \u001b[1;32mIn[4], line 1\u001b[1;36m\u001b[0m\n\u001b[1;33m    print(```python',sum(1,2,3,4,5,6,7,8,9,10),```)\u001b[0m\n\u001b[1;37m          ^\u001b[0m\n\u001b[1;31mSyntaxError\u001b[0m\u001b[1;31m:\u001b[0m invalid syntax\n"
     ]
    }
   ],
   "source": [
    "print(```python',sum(1,2,3,4,5,6,7,8,9,10),```)"
   ]
  },
  {
   "cell_type": "markdown",
   "id": "468bc79b",
   "metadata": {},
   "source": [
    "22.문제: print()를 사용하여 1부터 5까지의 곱을 출력하세요.\n",
    "\n",
    "결과 값: \n",
    "```python\n",
    "120\n",
    "```"
   ]
  },
  {
   "cell_type": "code",
   "execution_count": 51,
   "id": "4d46502f",
   "metadata": {},
   "outputs": [
    {
     "name": "stdout",
     "output_type": "stream",
     "text": [
      "120\n"
     ]
    }
   ],
   "source": [
    "print(1*2*3*4*5)"
   ]
  },
  {
   "cell_type": "markdown",
   "id": "4ac828d6",
   "metadata": {},
   "source": [
    "23.문제: print()를 사용하여 \"Python\"을 3번 반복하여 출력하세요.\n",
    "\n",
    "결과 값: \n",
    "```python\n",
    "PythonPythonPython\n",
    "```"
   ]
  },
  {
   "cell_type": "code",
   "execution_count": 52,
   "id": "38ecda4b",
   "metadata": {},
   "outputs": [
    {
     "name": "stdout",
     "output_type": "stream",
     "text": [
      "PythonPythonPython\n"
     ]
    }
   ],
   "source": [
    "o='Python'\n",
    "print(o*3)"
   ]
  },
  {
   "cell_type": "markdown",
   "id": "b1af9e8c",
   "metadata": {},
   "source": [
    "24.문제: print()를 사용하여 숫자 10을 문자열과 함께 출력하세요.\n",
    "\n",
    "결과 값: \n",
    "```python\n",
    "The number is 10\n",
    "```"
   ]
  },
  {
   "cell_type": "code",
   "execution_count": 56,
   "id": "555e9f87",
   "metadata": {},
   "outputs": [
    {
     "name": "stdout",
     "output_type": "stream",
     "text": [
      "The number is 10\n"
     ]
    }
   ],
   "source": [
    "print('The number is', 10)"
   ]
  },
  {
   "cell_type": "markdown",
   "id": "4d9544f9",
   "metadata": {},
   "source": [
    "25.문제: 두개의 print()를 사용하여 \n",
    "\"Hello\", \n",
    "\"world\"를 출력하되 결과가 \"Hello world\" 가 되도록 출력하세요.\n",
    "\n",
    "결과 값: \n",
    "```python\n",
    "Hello world\n",
    "```"
   ]
  },
  {
   "cell_type": "markdown",
   "id": "99dc40f6",
   "metadata": {},
   "source": [
    "#"
   ]
  },
  {
   "cell_type": "code",
   "execution_count": null,
   "id": "18b6db1b",
   "metadata": {},
   "outputs": [],
   "source": []
  },
  {
   "cell_type": "markdown",
   "id": "ae099044",
   "metadata": {},
   "source": [
    "# 파이썬 자료형 연습문제 30개"
   ]
  },
  {
   "cell_type": "markdown",
   "id": "3a67277a",
   "metadata": {},
   "source": [
    "26.문제: 변수 a에 정수 10을 저장하고 출력하세요.\n",
    "\n",
    "결과 값: \n",
    "```python\n",
    "10\n",
    "```"
   ]
  },
  {
   "cell_type": "code",
   "execution_count": 57,
   "id": "13fe29a7",
   "metadata": {},
   "outputs": [
    {
     "data": {
      "text/plain": [
       "10"
      ]
     },
     "execution_count": 57,
     "metadata": {},
     "output_type": "execute_result"
    }
   ],
   "source": [
    "a=10\n",
    "a"
   ]
  },
  {
   "cell_type": "markdown",
   "id": "82f27f1f",
   "metadata": {},
   "source": [
    "27.문제: 변수 b에 실수 3.14를 저장하고 출력하세요.\n",
    "\n",
    "결과 값: \n",
    "```python\n",
    "3.14\n",
    "```"
   ]
  },
  {
   "cell_type": "code",
   "execution_count": 59,
   "id": "d6b923c1",
   "metadata": {},
   "outputs": [
    {
     "data": {
      "text/plain": [
       "3.14"
      ]
     },
     "execution_count": 59,
     "metadata": {},
     "output_type": "execute_result"
    }
   ],
   "source": [
    "b=3.14\n",
    "b"
   ]
  },
  {
   "cell_type": "markdown",
   "id": "54c5ab1e",
   "metadata": {},
   "source": [
    "28.문제: 변수 c에 문자열 \"Python\"을 저장하고 출력하세요.\n",
    "\n",
    "결과 값: \n",
    "```python\n",
    "Python\n",
    "```"
   ]
  },
  {
   "cell_type": "code",
   "execution_count": 62,
   "id": "93db3a24",
   "metadata": {},
   "outputs": [
    {
     "name": "stdout",
     "output_type": "stream",
     "text": [
      "Python\n"
     ]
    }
   ],
   "source": [
    "c='Python'\n",
    "print(c)"
   ]
  },
  {
   "cell_type": "markdown",
   "id": "6f00f45a",
   "metadata": {},
   "source": [
    "29.문제: 변수 d에 True 값을 저장하고 출력하세요.\n",
    "\n",
    "결과 값: \n",
    "```python\n",
    "True\n",
    "```"
   ]
  },
  {
   "cell_type": "code",
   "execution_count": 63,
   "id": "c68e31cc",
   "metadata": {},
   "outputs": [
    {
     "data": {
      "text/plain": [
       "True"
      ]
     },
     "execution_count": 63,
     "metadata": {},
     "output_type": "execute_result"
    }
   ],
   "source": [
    "d=True\n",
    "d"
   ]
  },
  {
   "cell_type": "markdown",
   "id": "911bcd7f",
   "metadata": {},
   "source": [
    "30.문제: type() 함수를 사용하여 변수 b의 자료형을 출력하세요.\n",
    "\n",
    "결과 값: \n",
    "```python\n",
    "<class 'float'>\n",
    "```"
   ]
  },
  {
   "cell_type": "code",
   "execution_count": 65,
   "id": "e918462f",
   "metadata": {},
   "outputs": [
    {
     "name": "stdout",
     "output_type": "stream",
     "text": [
      "<class 'float'>\n"
     ]
    }
   ],
   "source": [
    "print(type(b))"
   ]
  },
  {
   "cell_type": "markdown",
   "id": "1b432ad3",
   "metadata": {},
   "source": [
    "31.문제: len() 함수를 사용하여 문자열 \"Hello World\"의 길이를 출력하세요.\n",
    "\n",
    "결과 값: \n",
    "```python\n",
    "11\n",
    "```"
   ]
  },
  {
   "cell_type": "code",
   "execution_count": 66,
   "id": "b1cfb0af",
   "metadata": {},
   "outputs": [
    {
     "data": {
      "text/plain": [
       "11"
      ]
     },
     "execution_count": 66,
     "metadata": {},
     "output_type": "execute_result"
    }
   ],
   "source": [
    "len(\"Hello World\")"
   ]
  },
  {
   "cell_type": "markdown",
   "id": "90d5b567",
   "metadata": {},
   "source": [
    "32.문제: 문자열 \"Python\"에서 첫 번째 문자를 출력하세요.\n",
    "\n",
    "결과 값: \n",
    "```python\n",
    "P\n",
    "```"
   ]
  },
  {
   "cell_type": "code",
   "execution_count": 68,
   "id": "406d46a1",
   "metadata": {},
   "outputs": [
    {
     "name": "stdout",
     "output_type": "stream",
     "text": [
      "P\n"
     ]
    }
   ],
   "source": [
    "i=\"Python\"\n",
    "print(i[0])"
   ]
  },
  {
   "cell_type": "markdown",
   "id": "1bdf24fc",
   "metadata": {},
   "source": [
    "33.문제: 문자열 \"Python\"에서 마지막 문자를 출력하세요.\n",
    "\n",
    "결과 값: \n",
    "```python\n",
    "n\n",
    "```"
   ]
  },
  {
   "cell_type": "code",
   "execution_count": 69,
   "id": "b0115f3f",
   "metadata": {},
   "outputs": [
    {
     "name": "stdout",
     "output_type": "stream",
     "text": [
      "n\n"
     ]
    }
   ],
   "source": [
    "i=\"Python\"\n",
    "print(i[-1])"
   ]
  },
  {
   "cell_type": "markdown",
   "id": "da796f4d",
   "metadata": {},
   "source": [
    "34.문제: 문자열 \"Python Programming\"에서 \"Programming\"만 출력하세요.\n",
    "\n",
    "결과 값: \n",
    "```python\n",
    "Programming\n",
    "```"
   ]
  },
  {
   "cell_type": "markdown",
   "id": "66ecc3c6",
   "metadata": {},
   "source": [
    "#"
   ]
  },
  {
   "cell_type": "code",
   "execution_count": 72,
   "id": "b9ba5ef3",
   "metadata": {},
   "outputs": [
    {
     "data": {
      "text/plain": [
       "['Python', 'Programming']"
      ]
     },
     "execution_count": 72,
     "metadata": {},
     "output_type": "execute_result"
    }
   ],
   "source": [
    "u=\"Python Programming\"\n",
    "u.split(\" \")\n"
   ]
  },
  {
   "cell_type": "markdown",
   "id": "37cc181a",
   "metadata": {},
   "source": [
    "35.문제: 문자열 \"Python\"을 3번 반복하여 출력하세요.\n",
    "\n",
    "결과 값: \n",
    "```python\n",
    "PythonPythonPython\n",
    "```"
   ]
  },
  {
   "cell_type": "code",
   "execution_count": 73,
   "id": "36c581c4",
   "metadata": {},
   "outputs": [
    {
     "name": "stdout",
     "output_type": "stream",
     "text": [
      "PythonPythonPython\n"
     ]
    }
   ],
   "source": [
    "o='Python'\n",
    "print(o*3)"
   ]
  },
  {
   "cell_type": "markdown",
   "id": "a8c53831",
   "metadata": {},
   "source": [
    "36.문제: 리스트 numbers = [1, 2, 3, 4, 5]를 생성하고 출력하세요.\n",
    "\n",
    "결과 값: \n",
    "```python\n",
    "[1, 2, 3, 4, 5]\n",
    "```"
   ]
  },
  {
   "cell_type": "code",
   "execution_count": 79,
   "id": "5f18f368",
   "metadata": {},
   "outputs": [
    {
     "data": {
      "text/plain": [
       "[1, 2, 3, 4, 5]"
      ]
     },
     "execution_count": 79,
     "metadata": {},
     "output_type": "execute_result"
    }
   ],
   "source": [
    "numbers = [1, 2, 3, 4, 5]\n",
    "numbers"
   ]
  },
  {
   "cell_type": "markdown",
   "id": "d8e1876c",
   "metadata": {},
   "source": [
    "37.문제: 리스트 numbers의 첫 번째 요소를 출력하세요.\n",
    "\n",
    "결과 값: \n",
    "```python\n",
    "1\n",
    "```"
   ]
  },
  {
   "cell_type": "code",
   "execution_count": 75,
   "id": "1755d7fb",
   "metadata": {},
   "outputs": [
    {
     "data": {
      "text/plain": [
       "1"
      ]
     },
     "execution_count": 75,
     "metadata": {},
     "output_type": "execute_result"
    }
   ],
   "source": [
    "numbers[0]"
   ]
  },
  {
   "cell_type": "markdown",
   "id": "6bb849b4",
   "metadata": {},
   "source": [
    "38.문제: 리스트 numbers의 마지막 요소를 출력하세요.\n",
    "\n",
    "결과 값: \n",
    "```python\n",
    "5\n",
    "```\n"
   ]
  },
  {
   "cell_type": "code",
   "execution_count": null,
   "id": "5075438a",
   "metadata": {},
   "outputs": [],
   "source": [
    "numbers[-1]"
   ]
  },
  {
   "cell_type": "markdown",
   "id": "fb63a31e",
   "metadata": {},
   "source": [
    "39.문제: 리스트 numbers의 길이를 출력하세요.\n",
    "\n",
    "결과 값: \n",
    "```python\n",
    "5\n",
    "```"
   ]
  },
  {
   "cell_type": "code",
   "execution_count": 76,
   "id": "b18135c2",
   "metadata": {},
   "outputs": [
    {
     "data": {
      "text/plain": [
       "5"
      ]
     },
     "execution_count": 76,
     "metadata": {},
     "output_type": "execute_result"
    }
   ],
   "source": [
    "len(numbers)"
   ]
  },
  {
   "cell_type": "markdown",
   "id": "a744a409",
   "metadata": {},
   "source": [
    "40.문제: 리스트 numbers에 숫자 6을 추가하고 출력하세요.\n",
    "\n",
    "결과 값: \n",
    "```python\n",
    "[1, 2, 3, 4, 5, 6]\n",
    "```"
   ]
  },
  {
   "cell_type": "code",
   "execution_count": 80,
   "id": "41af57ba",
   "metadata": {},
   "outputs": [
    {
     "data": {
      "text/plain": [
       "[1, 2, 3, 4, 5, 6]"
      ]
     },
     "execution_count": 80,
     "metadata": {},
     "output_type": "execute_result"
    }
   ],
   "source": [
    "numbers.append(6)\n",
    "numbers"
   ]
  },
  {
   "cell_type": "markdown",
   "id": "45e2e846",
   "metadata": {},
   "source": [
    "41.문제: 중첩 리스트 nested_list = [[1, 2, 3], [4, 5, 6], [7, 8, 9]]를 생성하고 출력하세요.\n",
    "\n",
    "결과 값: \n",
    "```python\n",
    "[[1, 2, 3], [4, 5, 6], [7, 8, 9]]\n",
    "```"
   ]
  },
  {
   "cell_type": "code",
   "execution_count": 81,
   "id": "dd804211",
   "metadata": {},
   "outputs": [
    {
     "data": {
      "text/plain": [
       "[[1, 2, 3], [4, 5, 6], [7, 8, 9]]"
      ]
     },
     "execution_count": 81,
     "metadata": {},
     "output_type": "execute_result"
    }
   ],
   "source": [
    "nested_list = [[1, 2, 3], [4, 5, 6], [7, 8, 9]]\n",
    "nested_list"
   ]
  },
  {
   "cell_type": "markdown",
   "id": "0a6aaeb6",
   "metadata": {},
   "source": [
    "42.문제: nested_list에서 두 번째 리스트의 첫 번째 요소를 출력하세요.\n",
    "\n",
    "결과 값: \n",
    "```python\n",
    "4\n",
    "```"
   ]
  },
  {
   "cell_type": "code",
   "execution_count": 82,
   "id": "67668bca",
   "metadata": {},
   "outputs": [
    {
     "data": {
      "text/plain": [
       "4"
      ]
     },
     "execution_count": 82,
     "metadata": {},
     "output_type": "execute_result"
    }
   ],
   "source": [
    "nested_list[1][0]"
   ]
  },
  {
   "cell_type": "markdown",
   "id": "9f0d957a",
   "metadata": {},
   "source": [
    "43.문제: nested_list에서 세 번째 리스트의 마지막 요소를 출력하세요.\n",
    "\n",
    "결과 값: \n",
    "```python\n",
    "9\n",
    "```"
   ]
  },
  {
   "cell_type": "code",
   "execution_count": 83,
   "id": "477ea04f",
   "metadata": {},
   "outputs": [
    {
     "data": {
      "text/plain": [
       "9"
      ]
     },
     "execution_count": 83,
     "metadata": {},
     "output_type": "execute_result"
    }
   ],
   "source": [
    "nested_list[2][-1]"
   ]
  },
  {
   "cell_type": "markdown",
   "id": "77a18b36",
   "metadata": {},
   "source": [
    "44.문제: 중첩 튜플 nested_tuple = ((1, 2), (3, 4, 5), (6, 7, 8, 9))을 생성하고 출력하세요.\n",
    "\n",
    "결과 값: \n",
    "```python\n",
    "((1, 2), (3, 4, 5), (6, 7, 8, 9))\n",
    "```"
   ]
  },
  {
   "cell_type": "code",
   "execution_count": 84,
   "id": "c2515815",
   "metadata": {},
   "outputs": [
    {
     "data": {
      "text/plain": [
       "((1, 2), (3, 4, 5), (6, 7, 8, 9))"
      ]
     },
     "execution_count": 84,
     "metadata": {},
     "output_type": "execute_result"
    }
   ],
   "source": [
    " nested_tuple = ((1, 2), (3, 4, 5), (6, 7, 8, 9))\n",
    "nested_tuple"
   ]
  },
  {
   "cell_type": "markdown",
   "id": "657e9805",
   "metadata": {},
   "source": [
    "45.문제: nested_tuple에서 두 번째 튜플의 두 번째 요소를 출력하세요.\n",
    "\n",
    "결과 값: \n",
    "```python\n",
    "4\n",
    "```"
   ]
  },
  {
   "cell_type": "code",
   "execution_count": 88,
   "id": "8efc00d3",
   "metadata": {},
   "outputs": [
    {
     "data": {
      "text/plain": [
       "4"
      ]
     },
     "execution_count": 88,
     "metadata": {},
     "output_type": "execute_result"
    }
   ],
   "source": [
    "lnt=list(nested_tuple)\n",
    "lnt_2=list(lnt[1])\n",
    "lnt_2[1]"
   ]
  },
  {
   "cell_type": "markdown",
   "id": "f7c68f5e",
   "metadata": {},
   "source": [
    "46.문제: person = {\"name\": \"Alice\", \"info\": {\"age\": 25, \"city\": \"Seoul\"}}을 생성하고 출력하세요.\n",
    "\n",
    "결과 값: \n",
    "```python\n",
    "{'name': 'Alice', 'info': {'age': 25, 'city': 'Seoul'}}\n",
    "```"
   ]
  },
  {
   "cell_type": "code",
   "execution_count": 6,
   "id": "e1122391",
   "metadata": {},
   "outputs": [
    {
     "data": {
      "text/plain": [
       "{'name': 'Alice', 'info': {'age': 25, 'city': 'Seoul'}}"
      ]
     },
     "execution_count": 6,
     "metadata": {},
     "output_type": "execute_result"
    }
   ],
   "source": [
    "person = {\"name\": \"Alice\", \"info\": {\"age\": 25, \"city\": \"Seoul\"}}\n",
    "person"
   ]
  },
  {
   "cell_type": "markdown",
   "id": "886cf7ce",
   "metadata": {},
   "source": [
    "47.문제: person 딕셔너리에서 \"age\" 값을 출력하세요.\n",
    "\n",
    "결과 값: \n",
    "```python\n",
    "25\n",
    "```"
   ]
  },
  {
   "cell_type": "code",
   "execution_count": 9,
   "id": "bed9a4c5",
   "metadata": {},
   "outputs": [
    {
     "data": {
      "text/plain": [
       "25"
      ]
     },
     "execution_count": 9,
     "metadata": {},
     "output_type": "execute_result"
    }
   ],
   "source": [
    "person['info'][\"age\"]"
   ]
  },
  {
   "cell_type": "markdown",
   "id": "81ac1b4e",
   "metadata": {},
   "source": [
    "48.문제: 복합 자료 구조 data를 생성하고 출력하세요.\n",
    "\n",
    "결과 값:\n",
    "```python\n",
    "{'info': [{'name': 'Alice', 'scores': (95, 88, 92)},\n",
    "  {'name': 'Bob', 'scores': (78, 85, 89)}],\n",
    " 'extra': {'hobbies': ['reading', 'coding'], 'location': ('Seoul', 'Busan')}}\n",
    "```"
   ]
  },
  {
   "cell_type": "code",
   "execution_count": 10,
   "id": "106c4cb1",
   "metadata": {},
   "outputs": [
    {
     "data": {
      "text/plain": [
       "{'info': [{'name': 'Alice', 'scores': (95, 88, 92)},\n",
       "  {'name': 'Bob', 'scores': (78, 85, 89)}],\n",
       " 'extra': {'hobbies': ['reading', 'coding'], 'location': ('Seoul', 'Busan')}}"
      ]
     },
     "execution_count": 10,
     "metadata": {},
     "output_type": "execute_result"
    }
   ],
   "source": [
    "data={'info': [{'name': 'Alice', 'scores': (95, 88, 92)},\n",
    "  {'name': 'Bob', 'scores': (78, 85, 89)}],\n",
    " 'extra': {'hobbies': ['reading', 'coding'], 'location': ('Seoul', 'Busan')}}\n",
    "data"
   ]
  },
  {
   "cell_type": "markdown",
   "id": "cd42dcf6",
   "metadata": {},
   "source": [
    "49.문제: data에서 \"Alice\"의 첫 번째 점수를 출력하세요.\n",
    "결과 값: \n",
    "```python\n",
    "95\n",
    "```"
   ]
  },
  {
   "cell_type": "code",
   "execution_count": 4,
   "id": "4d8b10fe",
   "metadata": {},
   "outputs": [
    {
     "data": {
      "text/plain": [
       "{'info': [{'name': 'Alice', 'scores': (95, 88, 92)},\n",
       "  {'name': 'Bob', 'scores': (78, 85, 89)}],\n",
       " 'extra': {'hobbies': ['reading', 'coding'], 'location': ('Seoul', 'Busan')}}"
      ]
     },
     "execution_count": 4,
     "metadata": {},
     "output_type": "execute_result"
    }
   ],
   "source": [
    "data"
   ]
  },
  {
   "cell_type": "code",
   "execution_count": 114,
   "id": "e0cd5f5d",
   "metadata": {},
   "outputs": [
    {
     "data": {
      "text/plain": [
       "95"
      ]
     },
     "execution_count": 114,
     "metadata": {},
     "output_type": "execute_result"
    }
   ],
   "source": [
    "data['info'][0]['scores'][0]"
   ]
  },
  {
   "cell_type": "markdown",
   "id": "5e7f3e05",
   "metadata": {},
   "source": [
    "50.문제: data에서 \"Bob\"의 마지막 점수를 출력하세요.\n",
    "결과 값: \n",
    "```python\n",
    "89\n",
    "```"
   ]
  },
  {
   "cell_type": "code",
   "execution_count": 115,
   "id": "6c806e3f",
   "metadata": {},
   "outputs": [
    {
     "data": {
      "text/plain": [
       "89"
      ]
     },
     "execution_count": 115,
     "metadata": {},
     "output_type": "execute_result"
    }
   ],
   "source": [
    "data['info'][1]['scores'][-1]"
   ]
  },
  {
   "cell_type": "markdown",
   "id": "cb555511",
   "metadata": {},
   "source": [
    "51.문제: data에서 \"coding\"을 출력하세요.\n",
    "\n",
    "결과 값: \n",
    "```python\n",
    "\"coding\"\n",
    "```"
   ]
  },
  {
   "cell_type": "code",
   "execution_count": 121,
   "id": "e1124a31",
   "metadata": {},
   "outputs": [
    {
     "data": {
      "text/plain": [
       "'coding'"
      ]
     },
     "execution_count": 121,
     "metadata": {},
     "output_type": "execute_result"
    }
   ],
   "source": [
    "data['extra']['hobbies'][1]"
   ]
  },
  {
   "cell_type": "markdown",
   "id": "dc163361",
   "metadata": {},
   "source": [
    "52.문제: data에서 \"Busan\"을 출력하세요.\n",
    "\n",
    "결과 값: \n",
    "```python\n",
    "\"Busan\"\n",
    "```"
   ]
  },
  {
   "cell_type": "code",
   "execution_count": 129,
   "id": "15dff08d",
   "metadata": {},
   "outputs": [
    {
     "data": {
      "text/plain": [
       "'Busan'"
      ]
     },
     "execution_count": 129,
     "metadata": {},
     "output_type": "execute_result"
    }
   ],
   "source": [
    "data['extra']['location'][1]"
   ]
  },
  {
   "cell_type": "markdown",
   "id": "a990131a",
   "metadata": {},
   "source": [
    "53.문제: data에서 \"Alice\"의 전체 점수를 리스트로 변환하여 출력하세요.\n",
    "\n",
    "결과 값: \n",
    "```python\n",
    "[95, 88, 92]\n",
    "```"
   ]
  },
  {
   "cell_type": "code",
   "execution_count": 15,
   "id": "69cf5fec",
   "metadata": {},
   "outputs": [
    {
     "data": {
      "text/plain": [
       "{'info': [{'name': 'Alice', 'scores': (95, 88, 92)},\n",
       "  {'name': 'Bob', 'scores': (78, 85, 89)}],\n",
       " 'extra': {'hobbies': ['reading', 'coding'], 'location': ('Seoul', 'Busan')}}"
      ]
     },
     "execution_count": 15,
     "metadata": {},
     "output_type": "execute_result"
    }
   ],
   "source": [
    "data"
   ]
  },
  {
   "cell_type": "code",
   "execution_count": 19,
   "id": "f5bcb94f",
   "metadata": {},
   "outputs": [
    {
     "data": {
      "text/plain": [
       "[95, 88, 92]"
      ]
     },
     "execution_count": 19,
     "metadata": {},
     "output_type": "execute_result"
    }
   ],
   "source": [
    "list(data['info'][0]['scores'])"
   ]
  },
  {
   "cell_type": "markdown",
   "id": "d78ab8de",
   "metadata": {},
   "source": [
    "54.문제: data에서 \"Bob\"의 평균 점수를 출력하세요.\n",
    "\n",
    "결과 값: \n",
    "```python\n",
    "84.0\n",
    "```"
   ]
  },
  {
   "cell_type": "code",
   "execution_count": 24,
   "id": "1aa1849d",
   "metadata": {},
   "outputs": [],
   "source": []
  },
  {
   "cell_type": "code",
   "execution_count": 25,
   "id": "a87b5c90",
   "metadata": {},
   "outputs": [
    {
     "data": {
      "text/plain": [
       "84.0"
      ]
     },
     "execution_count": 25,
     "metadata": {},
     "output_type": "execute_result"
    }
   ],
   "source": [
    "sum(data['info'][1]['scores'])/3"
   ]
  },
  {
   "cell_type": "markdown",
   "id": "c6bf7d86",
   "metadata": {},
   "source": [
    "55.문제: data에 새로운 키 \"school\": \"XYZ High\"를 추가하고 출력하세요.\n",
    "\n",
    "결과 값: \n",
    "```python\n",
    "{'info': [...], 'extra': {...}, 'school': 'XYZ High'}\n",
    "```"
   ]
  },
  {
   "cell_type": "code",
   "execution_count": 45,
   "id": "ca614768",
   "metadata": {},
   "outputs": [],
   "source": [
    "data['school']=['XYZ High']"
   ]
  },
  {
   "cell_type": "code",
   "execution_count": 46,
   "id": "bbbaaaa6",
   "metadata": {},
   "outputs": [
    {
     "data": {
      "text/plain": [
       "{'info': [{'name': 'Alice', 'scores': [95, 88, 90]},\n",
       "  {'name': 'Bob', 'scores': (78, 85, 89)}],\n",
       " 'extra': {'hobbies': ['reading', 'coding', 'gaming'],\n",
       "  'location': ('Seoul', 'Busan')},\n",
       " 'school': ['XYZ High']}"
      ]
     },
     "execution_count": 46,
     "metadata": {},
     "output_type": "execute_result"
    }
   ],
   "source": [
    "\n",
    "data"
   ]
  },
  {
   "cell_type": "markdown",
   "id": "0de6e66f",
   "metadata": {},
   "source": [
    "56.문제: data[\"extra\"][\"hobbies\"]에 \"gaming\"을 추가하고 출력하세요.\n",
    "\n",
    "결과 값: \n",
    "```python\n",
    "['reading', 'coding', 'gaming']\n",
    "```"
   ]
  },
  {
   "cell_type": "code",
   "execution_count": 31,
   "id": "032d4145",
   "metadata": {},
   "outputs": [
    {
     "data": {
      "text/plain": [
       "{'info': [{'name': 'Alice', 'scores': (95, 88, 92)},\n",
       "  {'name': 'Bob', 'scores': (78, 85, 89)}],\n",
       " 'extra': {'hobbies': ['reading', 'coding', 'gaming'],\n",
       "  'location': ('Seoul', 'Busan')}}"
      ]
     },
     "execution_count": 31,
     "metadata": {},
     "output_type": "execute_result"
    }
   ],
   "source": [
    "data[\"extra\"][\"hobbies\"].append('gaming')\n",
    "data"
   ]
  },
  {
   "cell_type": "code",
   "execution_count": 32,
   "id": "491aa2ed",
   "metadata": {},
   "outputs": [
    {
     "data": {
      "text/plain": [
       "['reading', 'coding', 'gaming']"
      ]
     },
     "execution_count": 32,
     "metadata": {},
     "output_type": "execute_result"
    }
   ],
   "source": [
    "data[\"extra\"][\"hobbies\"]"
   ]
  },
  {
   "cell_type": "markdown",
   "id": "ecc426f5",
   "metadata": {},
   "source": [
    "57.문제: data에서 \"Alice\"의 두 번째 점수를 \"90\"으로 변경하고 출력하세요.\n",
    "\n",
    "결과 값: \n",
    "```python\n",
    "{'info': [{'name': 'Alice', 'scores': (95, 90, 92)}, ...]}\n",
    "```\n"
   ]
  },
  {
   "cell_type": "code",
   "execution_count": 42,
   "id": "9524c78c",
   "metadata": {},
   "outputs": [
    {
     "data": {
      "text/plain": [
       "{'info': [{'name': 'Alice', 'scores': [95, 88, 90]},\n",
       "  {'name': 'Bob', 'scores': (78, 85, 89)}],\n",
       " 'extra': {'hobbies': ['reading', 'coding', 'gaming'],\n",
       "  'location': ('Seoul', 'Busan')}}"
      ]
     },
     "execution_count": 42,
     "metadata": {},
     "output_type": "execute_result"
    }
   ],
   "source": [
    "data['info'][0]['scores']=list(data['info'][0]['scores'])\n",
    "data['info'][0]['scores'][2]=90\n",
    "data"
   ]
  },
  {
   "cell_type": "markdown",
   "id": "5bd90870",
   "metadata": {},
   "source": [
    "58.문제: \"Bob\"의 첫 번째 점수를 출력하세요.\n",
    "\n",
    "결과 값: \n",
    "```python\n",
    "78\n",
    "```"
   ]
  },
  {
   "cell_type": "code",
   "execution_count": 43,
   "id": "40805e12",
   "metadata": {},
   "outputs": [
    {
     "data": {
      "text/plain": [
       "78"
      ]
     },
     "execution_count": 43,
     "metadata": {},
     "output_type": "execute_result"
    }
   ],
   "source": [
    "data['info'][1]['scores'][0]"
   ]
  },
  {
   "cell_type": "markdown",
   "id": "aaacf7d3",
   "metadata": {},
   "source": [
    "59.\"Alice\"의 모든 점수의 합을 출력하세요.\n",
    "\n",
    "결과 값: \n",
    "```python\n",
    "275\n",
    "```"
   ]
  },
  {
   "cell_type": "code",
   "execution_count": 44,
   "id": "59a97a85",
   "metadata": {},
   "outputs": [
    {
     "data": {
      "text/plain": [
       "273"
      ]
     },
     "execution_count": 44,
     "metadata": {},
     "output_type": "execute_result"
    }
   ],
   "source": [
    "sum(data['info'][0]['scores'])"
   ]
  },
  {
   "cell_type": "code",
   "execution_count": null,
   "id": "c810d63b",
   "metadata": {},
   "outputs": [],
   "source": [
    "alice_score=data['info'][0]['scores']"
   ]
  },
  {
   "cell_type": "code",
   "execution_count": null,
   "id": "2df10783",
   "metadata": {},
   "outputs": [],
   "source": []
  },
  {
   "cell_type": "markdown",
   "id": "2f5313a7",
   "metadata": {},
   "source": [
    "60.위의 자료에서 'Alice', 'coding', 'Seoul'을 추출하고 print()를 이용해 \"Seoul에 사는 Alice는 coding을 좋아합니다\"를 출력하세요.\n",
    "\n",
    "결과 값:\n",
    "```python\n",
    "\"Seoul에 사는 Alice는 coding을 좋아합니다\"\n",
    "```"
   ]
  },
  {
   "cell_type": "code",
   "execution_count": 5,
   "id": "7de17d25",
   "metadata": {},
   "outputs": [
    {
     "data": {
      "text/plain": [
       "{'info': [{'name': 'Alice', 'scores': (95, 88, 92)},\n",
       "  {'name': 'Bob', 'scores': (78, 85, 89)}],\n",
       " 'extra': {'hobbies': ['reading', 'coding'], 'location': ('Seoul', 'Busan')}}"
      ]
     },
     "execution_count": 5,
     "metadata": {},
     "output_type": "execute_result"
    }
   ],
   "source": [
    "data"
   ]
  },
  {
   "cell_type": "code",
   "execution_count": 7,
   "id": "a6b979da",
   "metadata": {},
   "outputs": [],
   "source": [
    "name= data['info'][0]['name']"
   ]
  },
  {
   "cell_type": "code",
   "execution_count": 11,
   "id": "5e76a701",
   "metadata": {},
   "outputs": [
    {
     "data": {
      "text/plain": [
       "'coding'"
      ]
     },
     "execution_count": 11,
     "metadata": {},
     "output_type": "execute_result"
    }
   ],
   "source": [
    "bohhy= data['extra']['hobbies'][1]\n",
    "bohhy"
   ]
  },
  {
   "cell_type": "code",
   "execution_count": 9,
   "id": "69c14f5e",
   "metadata": {},
   "outputs": [
    {
     "data": {
      "text/plain": [
       "'Seoul'"
      ]
     },
     "execution_count": 9,
     "metadata": {},
     "output_type": "execute_result"
    }
   ],
   "source": [
    "data['extra']['location'][0]"
   ]
  },
  {
   "cell_type": "code",
   "execution_count": 10,
   "id": "a134a3b9",
   "metadata": {},
   "outputs": [],
   "source": [
    "location=data['extra']['location'][0]"
   ]
  },
  {
   "cell_type": "code",
   "execution_count": 13,
   "id": "eeabfc17",
   "metadata": {},
   "outputs": [
    {
     "name": "stdout",
     "output_type": "stream",
     "text": [
      "Seoul 에 사는 Alice 는 coding 를 좋아합니다\n"
     ]
    }
   ],
   "source": [
    "print(location,\"에 사는\",name,\"는\", bohhy,\"를 좋아합니다\")"
   ]
  },
  {
   "cell_type": "code",
   "execution_count": 16,
   "id": "2e954e78",
   "metadata": {},
   "outputs": [
    {
     "name": "stdout",
     "output_type": "stream",
     "text": [
      "Seoul에 사는Alice는 coding를 좋아합니다\n"
     ]
    }
   ],
   "source": [
    "# 변수명과 str사이에 공백 없애려면 sep주기\n",
    "print(location,\"에 사는\",name,\"는 \", bohhy,\"를 좋아합니다\",sep=\"\")"
   ]
  },
  {
   "cell_type": "markdown",
   "id": "b9f715bf",
   "metadata": {},
   "source": [
    "** 그렇다면 을/를을 단어에 따라 다르게 나오게하는것도 할 수 있나???"
   ]
  }
 ],
 "metadata": {
  "kernelspec": {
   "display_name": "Python 3 (ipykernel)",
   "language": "python",
   "name": "python3"
  },
  "language_info": {
   "codemirror_mode": {
    "name": "ipython",
    "version": 3
   },
   "file_extension": ".py",
   "mimetype": "text/x-python",
   "name": "python",
   "nbconvert_exporter": "python",
   "pygments_lexer": "ipython3",
   "version": "3.9.21"
  }
 },
 "nbformat": 4,
 "nbformat_minor": 5
}
