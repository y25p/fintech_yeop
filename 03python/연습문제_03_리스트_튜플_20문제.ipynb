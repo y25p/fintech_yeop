{
 "cells": [
  {
   "cell_type": "markdown",
   "id": "2f36cfaf",
   "metadata": {},
   "source": [
    "1.**빈 리스트 `numbers`를 생성하고 출력하세요.**  \n",
    "   ```python\n",
    "   []\n",
    "   ```"
   ]
  },
  {
   "cell_type": "code",
   "execution_count": 6,
   "id": "cb38001d",
   "metadata": {},
   "outputs": [
    {
     "data": {
      "text/plain": [
       "[]"
      ]
     },
     "execution_count": 6,
     "metadata": {},
     "output_type": "execute_result"
    }
   ],
   "source": [
    "numbers=[]\n",
    "numbers"
   ]
  },
  {
   "cell_type": "markdown",
   "id": "c1ee7c56",
   "metadata": {},
   "source": [
    "2.**`'numbers'`에 1,2,3,4,5 를 추가하고 출력하세요.**\n",
    "```python\n",
    "[1,2,3,4,5]\n",
    "```"
   ]
  },
  {
   "cell_type": "code",
   "execution_count": 21,
   "id": "9a7e491c",
   "metadata": {},
   "outputs": [
    {
     "data": {
      "text/plain": [
       "[1, 2, 3, 4, 5]"
      ]
     },
     "execution_count": 21,
     "metadata": {},
     "output_type": "execute_result"
    }
   ],
   "source": [
    "numbers=[1,2,3,4,5]\n",
    "numbers"
   ]
  },
  {
   "cell_type": "code",
   "execution_count": null,
   "id": "bcd92dfc",
   "metadata": {},
   "outputs": [],
   "source": [
    "#풀이\n",
    "numbers=numbers+[1,2,3,4,5] #재할당 주의"
   ]
  },
  {
   "cell_type": "markdown",
   "id": "b356443b",
   "metadata": {},
   "source": [
    "3.**리스트 `numbers`에 숫자 `6`을 추가하고 출력하세요.**  \n",
    "   ```python\n",
    "   [1, 2, 3, 4, 5, 6]\n",
    "   ```"
   ]
  },
  {
   "cell_type": "code",
   "execution_count": 22,
   "id": "df3b9870",
   "metadata": {},
   "outputs": [
    {
     "data": {
      "text/plain": [
       "[1, 2, 3, 4, 5, 6]"
      ]
     },
     "execution_count": 22,
     "metadata": {},
     "output_type": "execute_result"
    }
   ],
   "source": [
    "numbers.append(6)\n",
    "numbers"
   ]
  },
  {
   "cell_type": "markdown",
   "id": "29600ada",
   "metadata": {},
   "source": [
    "4.**`'numbers'` 에 자료 1,2,3,4,5 를 추가하세요. append가 아닌 다른 함수로 추가**\n",
    "```python\n",
    "[1, 2, 3, 4, 5, 6, 1, 2, 3, 4, 5]\n",
    "```"
   ]
  },
  {
   "cell_type": "code",
   "execution_count": 23,
   "id": "5ce3df07",
   "metadata": {
    "scrolled": false
   },
   "outputs": [
    {
     "name": "stdout",
     "output_type": "stream",
     "text": [
      "[1, 2, 3, 4, 5, 6, 1, 2, 3, 4, 5]\n"
     ]
    }
   ],
   "source": [
    "numbers.extend([1, 2, 3, 4, 5])\n",
    "print(numbers)"
   ]
  },
  {
   "cell_type": "markdown",
   "id": "4eb7175a",
   "metadata": {},
   "source": [
    "5.**`'numbers'` 에 자료 1,2,3,4,5를 연산자를 이용해 추가하세요.**\n",
    "```python\n",
    "[1, 2, 3, 4, 5, 6, 1, 2, 3, 4, 5, 1, 2, 3, 4, 5]\n",
    "```"
   ]
  },
  {
   "cell_type": "code",
   "execution_count": 24,
   "id": "4b316849",
   "metadata": {},
   "outputs": [
    {
     "name": "stdout",
     "output_type": "stream",
     "text": [
      "[1, 2, 3, 4, 5, 6, 1, 2, 3, 4, 5, 1, 2, 3, 4, 5] "
     ]
    }
   ],
   "source": [
    "numbers=numbers+[1, 2, 3, 4, 5]\n",
    "print(numbers, end=\" \")"
   ]
  },
  {
   "cell_type": "markdown",
   "id": "9b9c7567",
   "metadata": {},
   "source": [
    "6.**`'numbers'` 의 자료를 2배로 늘리세요.**\n",
    "```python\n",
    "[1, 2, 3, 4, 5, 6, 1, 2, 3, 4, 5, 1, 2, 3, 4, 5, 1, 2, 3, 4, 5, 6, 1, 2, 3, 4, 5, 1, 2, 3, 4, 5]\n",
    "```"
   ]
  },
  {
   "cell_type": "code",
   "execution_count": 25,
   "id": "a9a9bd05",
   "metadata": {},
   "outputs": [
    {
     "data": {
      "text/plain": [
       "[1,\n",
       " 2,\n",
       " 3,\n",
       " 4,\n",
       " 5,\n",
       " 6,\n",
       " 1,\n",
       " 2,\n",
       " 3,\n",
       " 4,\n",
       " 5,\n",
       " 1,\n",
       " 2,\n",
       " 3,\n",
       " 4,\n",
       " 5,\n",
       " 1,\n",
       " 2,\n",
       " 3,\n",
       " 4,\n",
       " 5,\n",
       " 6,\n",
       " 1,\n",
       " 2,\n",
       " 3,\n",
       " 4,\n",
       " 5,\n",
       " 1,\n",
       " 2,\n",
       " 3,\n",
       " 4,\n",
       " 5]"
      ]
     },
     "execution_count": 25,
     "metadata": {},
     "output_type": "execute_result"
    }
   ],
   "source": [
    "numbers=numbers*2\n",
    "numbers"
   ]
  },
  {
   "cell_type": "markdown",
   "id": "cb546b6f",
   "metadata": {},
   "source": [
    "7. **리스트 `numbers`에서 두 번째 요소를 `99`로 변경하고 출력하세요.**  \n",
    "```python\n",
    "[1, 99, 3, 4, 5, 6, 1, 2, 3, 4, 5, 1, 2, 3, 4, 5, 1, 2, 3, 4, 5, 6, 1, 2, 3, 4, 5, 1, 2, 3, 4, 5]\n",
    "```"
   ]
  },
  {
   "cell_type": "code",
   "execution_count": 26,
   "id": "c4b0af23",
   "metadata": {},
   "outputs": [
    {
     "name": "stdout",
     "output_type": "stream",
     "text": [
      "[1, 99, 3, 4, 5, 6, 1, 2, 3, 4, 5, 1, 2, 3, 4, 5, 1, 2, 3, 4, 5, 6, 1, 2, 3, 4, 5, 1, 2, 3, 4, 5] "
     ]
    }
   ],
   "source": [
    "numbers[1]=99\n",
    "print(numbers, end=' ')"
   ]
  },
  {
   "cell_type": "markdown",
   "id": "dc81bba6",
   "metadata": {},
   "source": [
    "8. **리스트 `numbers`에서 마지막 요소를 제거하고 출력하세요.**  \n",
    "```python\n",
    "[1, 99, 3, 4, 5, 6, 1, 2, 3, 4, 5, 1, 2, 3, 4, 5, 1, 2, 3, 4, 5, 6, 1, 2, 3, 4, 5, 1, 2, 3, 4]\n",
    "```"
   ]
  },
  {
   "cell_type": "code",
   "execution_count": 27,
   "id": "bcac9e58",
   "metadata": {},
   "outputs": [
    {
     "name": "stdout",
     "output_type": "stream",
     "text": [
      "[1, 99, 3, 4, 5, 6, 1, 2, 3, 4, 5, 1, 2, 3, 4, 5, 1, 2, 3, 4, 5, 6, 1, 2, 3, 4, 5, 1, 2, 3, 4] "
     ]
    }
   ],
   "source": [
    "numbers.pop()\n",
    "print(numbers, end=' ')"
   ]
  },
  {
   "cell_type": "markdown",
   "id": "06bba1b6",
   "metadata": {},
   "source": [
    "9. **리스트 `numbers`에서 `99`를 삭제하고 출력하세요.**\n",
    "```python\n",
    "[1, 3, 4, 5, 6, 1, 2, 3, 4, 5, 1, 2, 3, 4, 5, 1, 2, 3, 4, 5, 6, 1, 2, 3, 4, 5, 1, 2, 3, 4]\n",
    "```"
   ]
  },
  {
   "cell_type": "code",
   "execution_count": null,
   "id": "0cdeaac3",
   "metadata": {},
   "outputs": [],
   "source": [
    "# 풀이\n",
    "numbers.remove(99)"
   ]
  },
  {
   "cell_type": "code",
   "execution_count": 28,
   "id": "47613219",
   "metadata": {},
   "outputs": [
    {
     "name": "stdout",
     "output_type": "stream",
     "text": [
      "[1, 3, 4, 5, 6, 1, 2, 3, 4, 5, 1, 2, 3, 4, 5, 1, 2, 3, 4, 5, 6, 1, 2, 3, 4, 5, 1, 2, 3, 4] "
     ]
    }
   ],
   "source": [
    "del numbers[1]\n",
    "print(numbers, end=' ')"
   ]
  },
  {
   "cell_type": "markdown",
   "id": "2aefd51e",
   "metadata": {},
   "source": [
    "10.**리스트 `numbers`에서 4번째 `4`의 인덱스를 출력하고 삭제하세요.**\n",
    "```python\n",
    "18\n",
    "4\n",
    "[1, 3, 4, 5, 6, 1, 2, 3, 4, 5, 1, 2, 3, 4, 5, 1, 2, 3, 5, 6, 1, 2, 3, 4, 5, 1, 2, 3, 4]\n",
    "```\n"
   ]
  },
  {
   "cell_type": "code",
   "execution_count": null,
   "id": "d3938125",
   "metadata": {},
   "outputs": [],
   "source": [
    "numbers.index(4,4) # 4번째 4"
   ]
  },
  {
   "cell_type": "code",
   "execution_count": null,
   "id": "7016ff0a",
   "metadata": {},
   "outputs": [],
   "source": [
    "# 풀이\n",
    "numbers.pop(18)"
   ]
  },
  {
   "cell_type": "code",
   "execution_count": 31,
   "id": "8d14bbe6",
   "metadata": {},
   "outputs": [],
   "source": [
    "del numbers[8]"
   ]
  },
  {
   "cell_type": "markdown",
   "id": "f5483151",
   "metadata": {},
   "source": [
    "11.**리스트 `numbers`에서 `5`의 개수를 출력하세요.**\n",
    "```python\n",
    "5\n",
    "```\n"
   ]
  },
  {
   "cell_type": "code",
   "execution_count": 34,
   "id": "47c15361",
   "metadata": {
    "scrolled": true
   },
   "outputs": [
    {
     "data": {
      "text/plain": [
       "5"
      ]
     },
     "execution_count": 34,
     "metadata": {},
     "output_type": "execute_result"
    }
   ],
   "source": [
    "numbers.count(5)"
   ]
  },
  {
   "cell_type": "markdown",
   "id": "8a6e6b24",
   "metadata": {},
   "source": [
    "12. **complex_list 변수에 리스트 `[1, 2, 3, [4, 5, 6], (7, 8, \"튜플\")]`을 만들고 ``\"튜플\"`을 출력하세요.**  \n",
    "```python\n",
    "[1, 2, 3, [4, 5, 6], (7, 8, '튜플')]\n",
    "튜플\n",
    "```"
   ]
  },
  {
   "cell_type": "code",
   "execution_count": 114,
   "id": "57a53cf1",
   "metadata": {},
   "outputs": [
    {
     "name": "stdout",
     "output_type": "stream",
     "text": [
      "[1, 2, 3, [4, 5, 6], (7, 8, '튜플')] 튜플\n"
     ]
    }
   ],
   "source": [
    "complex_list=[1, 2, 3, [4, 5, 6], (7, 8, \"튜플\")]\n",
    "print(complex_list,complex_list[4][2])\n"
   ]
  },
  {
   "cell_type": "markdown",
   "id": "ac469393",
   "metadata": {},
   "source": [
    "13. **`complex_list`의 모든 요소를 역순으로 출력하세요.**  \n",
    "```python\n",
    "[(7, 8, '튜플'), [4, 5, 6], 3, 2, 1]\n",
    "```"
   ]
  },
  {
   "cell_type": "code",
   "execution_count": null,
   "id": "ec83b729",
   "metadata": {},
   "outputs": [],
   "source": [
    "# 풀이\n",
    "complex_list.reverse() # 리버스된채 덮어씀"
   ]
  },
  {
   "cell_type": "code",
   "execution_count": 50,
   "id": "04e7954d",
   "metadata": {},
   "outputs": [
    {
     "name": "stdout",
     "output_type": "stream",
     "text": [
      "None\n"
     ]
    }
   ],
   "source": [
    "print(complex_list.reverse())"
   ]
  },
  {
   "cell_type": "code",
   "execution_count": 58,
   "id": "74431d31",
   "metadata": {},
   "outputs": [
    {
     "name": "stdout",
     "output_type": "stream",
     "text": [
      "[(7, 8, '튜플'), [4, 5, 6], 3, 2, 1]\n"
     ]
    }
   ],
   "source": [
    "print(complex_list[::-1])"
   ]
  },
  {
   "cell_type": "markdown",
   "id": "f97447ed",
   "metadata": {},
   "source": [
    "14. **`complex_list`내의 [4,5,6] 리스트를 역순 정렬하고 출력하세요.**  \n",
    "```python\n",
    "[1, 2, 3, [6, 5, 4], (7, 8, '튜플')]\n",
    "```"
   ]
  },
  {
   "cell_type": "code",
   "execution_count": 67,
   "id": "ed20321d",
   "metadata": {},
   "outputs": [
    {
     "data": {
      "text/plain": [
       "[1, 2, 3, [4, 5, 6], (7, 8, '튜플')]"
      ]
     },
     "execution_count": 67,
     "metadata": {},
     "output_type": "execute_result"
    }
   ],
   "source": [
    "complex_list[::1]"
   ]
  },
  {
   "cell_type": "code",
   "execution_count": 109,
   "id": "ec69237c",
   "metadata": {},
   "outputs": [
    {
     "data": {
      "text/plain": [
       "[1, 2, 3, [6, 5, 4], (7, 8, '튜플')]"
      ]
     },
     "execution_count": 109,
     "metadata": {},
     "output_type": "execute_result"
    }
   ],
   "source": [
    "# 풀이\n",
    "complex_list[3].reverse()\n",
    "complex_list"
   ]
  },
  {
   "cell_type": "code",
   "execution_count": null,
   "id": "a96a2188",
   "metadata": {},
   "outputs": [],
   "source": [
    "complex_list[3]=complex_list[3][::-1] # 바꿀부분 다시 할당해주는것 가능한점!!"
   ]
  },
  {
   "cell_type": "markdown",
   "id": "674f8d21",
   "metadata": {},
   "source": [
    "15. **`complex_list`에서 '튜플'을 삭제하세요**\n",
    "```python\n",
    "[1, 2, 3, [6, 5, 4], [7, 8]]\n",
    "```"
   ]
  },
  {
   "cell_type": "code",
   "execution_count": 115,
   "id": "ac4184c9",
   "metadata": {},
   "outputs": [
    {
     "data": {
      "text/plain": [
       "[1, 2, 3, [4, 5, 6], [7, 8]]"
      ]
     },
     "execution_count": 115,
     "metadata": {},
     "output_type": "execute_result"
    }
   ],
   "source": [
    "# 풀이\n",
    "# 먼저 꺼내놓고\n",
    "complex_list[4]=list(complex_list[4])\n",
    "complex_list[4].pop()\n",
    "complex_list"
   ]
  },
  {
   "cell_type": "code",
   "execution_count": 81,
   "id": "2a506615",
   "metadata": {},
   "outputs": [
    {
     "data": {
      "text/plain": [
       "list[7, 8, '튜플']"
      ]
     },
     "execution_count": 81,
     "metadata": {},
     "output_type": "execute_result"
    }
   ],
   "source": [
    "# 밑에서부터는 내가풀었음.. 뭔가 안맞음\n",
    "list[complex_list[4]]"
   ]
  },
  {
   "cell_type": "code",
   "execution_count": 84,
   "id": "9fd0c06e",
   "metadata": {},
   "outputs": [
    {
     "ename": "TypeError",
     "evalue": "unbound method list.pop() needs an argument",
     "output_type": "error",
     "traceback": [
      "\u001b[1;31m---------------------------------------------------------------------------\u001b[0m",
      "\u001b[1;31mTypeError\u001b[0m                                 Traceback (most recent call last)",
      "Cell \u001b[1;32mIn[84], line 2\u001b[0m\n\u001b[0;32m      1\u001b[0m q\u001b[38;5;241m=\u001b[39m\u001b[38;5;28mlist\u001b[39m[complex_list[\u001b[38;5;241m4\u001b[39m]]\n\u001b[1;32m----> 2\u001b[0m q\u001b[38;5;241m=\u001b[39m\u001b[43mq\u001b[49m\u001b[38;5;241;43m.\u001b[39;49m\u001b[43mpop\u001b[49m\u001b[43m(\u001b[49m\u001b[43m)\u001b[49m\n\u001b[0;32m      3\u001b[0m complex_list\u001b[38;5;241m.\u001b[39mappend(q)\n\u001b[0;32m      4\u001b[0m \u001b[38;5;28mprint\u001b[39m(complex_list, end\u001b[38;5;241m=\u001b[39m\u001b[38;5;124m\"\u001b[39m\u001b[38;5;124m \u001b[39m\u001b[38;5;124m\"\u001b[39m)\n",
      "\u001b[1;31mTypeError\u001b[0m: unbound method list.pop() needs an argument"
     ]
    }
   ],
   "source": [
    "q=list[complex_list[4]]\n",
    "q=q.pop()\n",
    "complex_list.append(q)\n",
    "print(complex_list, end=\" \")"
   ]
  },
  {
   "cell_type": "markdown",
   "id": "ea115721",
   "metadata": {},
   "source": [
    "16.**변수 t에 튜플 `(10, 20, 30, 40, 50)`을 만들고 최대값과 최소값을 결과 형식에 맞게 출력하세요.**  \n",
    "```python\n",
    "(10, 20, 30, 40, 50)\n",
    "최대값: 50 최솟값: 10\n",
    "```"
   ]
  },
  {
   "cell_type": "code",
   "execution_count": null,
   "id": "69273806",
   "metadata": {},
   "outputs": [],
   "source": [
    "# 풀이가 좀더 간단함\n",
    "t=(10, 20, 30, 40, 50)\n",
    "print(t,\"\\n\",f\"최대값:{max(t)} 최솟값:{min(t)}\")"
   ]
  },
  {
   "cell_type": "code",
   "execution_count": 85,
   "id": "884d24d8",
   "metadata": {},
   "outputs": [
    {
     "data": {
      "text/plain": [
       "50"
      ]
     },
     "execution_count": 85,
     "metadata": {},
     "output_type": "execute_result"
    }
   ],
   "source": [
    "t=(10, 20, 30, 40, 50)\n",
    "maxx=max(t)\n",
    "maxx"
   ]
  },
  {
   "cell_type": "code",
   "execution_count": 88,
   "id": "70e0c3ee",
   "metadata": {},
   "outputs": [
    {
     "name": "stdout",
     "output_type": "stream",
     "text": [
      "(10, 20, 30, 40, 50) \n",
      " 최대값:50 최솟값:10\n"
     ]
    }
   ],
   "source": [
    "t=(10, 20, 30, 40, 50)\n",
    "maxx=max(t)\n",
    "minn=min(t)\n",
    "print(t,\"\\n\",f\"최대값:{maxx} 최솟값:{minn}\")"
   ]
  },
  {
   "cell_type": "markdown",
   "id": "7ce95e67",
   "metadata": {},
   "source": [
    "17.**튜플 `t`에서 모든 요소의 합을 출력하세요.**  \n",
    "```python\n",
    "150\n",
    "```"
   ]
  },
  {
   "cell_type": "code",
   "execution_count": 89,
   "id": "3443ba2a",
   "metadata": {},
   "outputs": [
    {
     "data": {
      "text/plain": [
       "150"
      ]
     },
     "execution_count": 89,
     "metadata": {},
     "output_type": "execute_result"
    }
   ],
   "source": [
    "sum(t)"
   ]
  },
  {
   "cell_type": "markdown",
   "id": "ab804deb",
   "metadata": {},
   "source": [
    "18.**튜플 `t`에서 두 번째 요소(20)을 `\"Python\"`으로 변경하고 출력하세요.**  \n",
    "```python\n",
    "(10, 'Python', 30, 40, 50)\n",
    "```"
   ]
  },
  {
   "cell_type": "code",
   "execution_count": 94,
   "id": "a8c2150f",
   "metadata": {},
   "outputs": [
    {
     "data": {
      "text/plain": [
       "(10, 'python', 30, 40, 50)"
      ]
     },
     "execution_count": 94,
     "metadata": {},
     "output_type": "execute_result"
    }
   ],
   "source": [
    "tt=list(t)\n",
    "tt[1]='python'\n",
    "t=tuple(tt)\n",
    "t"
   ]
  },
  {
   "cell_type": "markdown",
   "id": "2e117188",
   "metadata": {},
   "source": [
    "19.**튜플 t에 1,2,3,4,5를 list로 변경 없이 추가하고 출력하세요**\n",
    "```python\n",
    "(10, 'Python', 30, 40, 50, 1, 2, 3, 4, 5)\n",
    "```"
   ]
  },
  {
   "cell_type": "code",
   "execution_count": null,
   "id": "1ff09f40",
   "metadata": {},
   "outputs": [],
   "source": [
    "# 풀이\n",
    "t= t+(1,2,3,4,5)\n",
    "t"
   ]
  },
  {
   "cell_type": "code",
   "execution_count": 103,
   "id": "291c7ce9",
   "metadata": {},
   "outputs": [
    {
     "data": {
      "text/plain": [
       "(10, 'python', 30, 40, 50, 1, 2, 3, 4, 5)"
      ]
     },
     "execution_count": 103,
     "metadata": {},
     "output_type": "execute_result"
    }
   ],
   "source": [
    "ttt=tuple(range(1,6))\n",
    "T=t+ttt\n",
    "T"
   ]
  },
  {
   "cell_type": "markdown",
   "id": "187dd6d0",
   "metadata": {},
   "source": [
    "20. **`'튜플 t'`의 요소를 2배로 늘리세요.**\n",
    "```python\n",
    "(10, 'Python', 30, 40, 50, 1, 2, 3, 4, 5, 10, 'Python', 30, 40, 50, 1, 2, 3, 4, 5)\n",
    "```"
   ]
  },
  {
   "cell_type": "code",
   "execution_count": null,
   "id": "ac14e97c",
   "metadata": {},
   "outputs": [],
   "source": [
    "# 풀이\n",
    "t=t*2 #19번에서 썼던 변수 이어서 재할당\n",
    "print(t)"
   ]
  },
  {
   "cell_type": "code",
   "execution_count": 106,
   "id": "69e34b7b",
   "metadata": {},
   "outputs": [
    {
     "name": "stdout",
     "output_type": "stream",
     "text": [
      "(10, 'python', 30, 40, 50, 1, 2, 3, 4, 5, 10, 'python', 30, 40, 50, 1, 2, 3, 4, 5) "
     ]
    }
   ],
   "source": [
    "print(T*2, end=' ')"
   ]
  }
 ],
 "metadata": {
  "kernelspec": {
   "display_name": "Python 3 (ipykernel)",
   "language": "python",
   "name": "python3"
  },
  "language_info": {
   "codemirror_mode": {
    "name": "ipython",
    "version": 3
   },
   "file_extension": ".py",
   "mimetype": "text/x-python",
   "name": "python",
   "nbconvert_exporter": "python",
   "pygments_lexer": "ipython3",
   "version": "3.9.21"
  }
 },
 "nbformat": 4,
 "nbformat_minor": 5
}
