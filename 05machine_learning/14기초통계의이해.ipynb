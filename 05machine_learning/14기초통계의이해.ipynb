{
 "cells": [
  {
   "cell_type": "code",
   "execution_count": 1,
   "id": "affed8cf",
   "metadata": {},
   "outputs": [],
   "source": [
    "import pandas as pd\n",
    "import numpy as np\n",
    "import matplotlib.pyplot as plt\n",
    "import seaborn as sns\n",
    "import math"
   ]
  },
  {
   "cell_type": "markdown",
   "id": "b6296448",
   "metadata": {},
   "source": [
    "[예제 파일](https://raw.githubusercontent.com/haram4th/ablearn/main/Taitanic_train.csv)"
   ]
  },
  {
   "cell_type": "markdown",
   "id": "edbd6a30",
   "metadata": {},
   "source": [
    "# 기초통계 개념정리\n",
    "## 1) 대푯값: 데이터의 중심을 나타냄\n",
    "- 평균(mean)\n",
    "- 중앙값(median)\n",
    "- 최빈값(mode)"
   ]
  },
  {
   "cell_type": "code",
   "execution_count": null,
   "id": "68761b14",
   "metadata": {},
   "outputs": [],
   "source": []
  },
  {
   "cell_type": "code",
   "execution_count": null,
   "id": "3f2b2ca8",
   "metadata": {},
   "outputs": [],
   "source": []
  },
  {
   "cell_type": "code",
   "execution_count": null,
   "id": "3d6ee8c6",
   "metadata": {},
   "outputs": [],
   "source": []
  },
  {
   "cell_type": "code",
   "execution_count": null,
   "id": "9854e9bf",
   "metadata": {},
   "outputs": [],
   "source": []
  }
 ],
 "metadata": {
  "kernelspec": {
   "display_name": "Python 3 (ipykernel)",
   "language": "python",
   "name": "python3"
  },
  "language_info": {
   "codemirror_mode": {
    "name": "ipython",
    "version": 3
   },
   "file_extension": ".py",
   "mimetype": "text/x-python",
   "name": "python",
   "nbconvert_exporter": "python",
   "pygments_lexer": "ipython3",
   "version": "3.9.21"
  }
 },
 "nbformat": 4,
 "nbformat_minor": 5
}
