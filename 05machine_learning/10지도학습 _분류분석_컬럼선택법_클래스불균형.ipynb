{
 "cells": [
  {
   "cell_type": "markdown",
   "id": "f85f0cc0",
   "metadata": {},
   "source": [
    "# 데이터분석 과정 재정리\n",
    "1) 데이터 선택 및 로딩\n",
    "2) 결측값, 이상값 탐지\n",
    "3) EDA(탐색적 데이터 분석)\n",
    "4) 변수 데이터타임, 서열변수, 카테고리 변수 처리\n",
    "5) 변수 선택, 파생변수 생성\n",
    "6) 홀드아웃(훈련데이터, 테스트 데이터로 분리)\n",
    "7) 분석에 맞는 알고리즘 불러와 모델 생성\n",
    "8) 분석 목적에 맞는 지표를 통해 모델성능검증\n",
    "9) 하이퍼파라미터튜닝 (클래스 불균형 해소)<br> 모델에서 소수클래스 가중치 조절\n",
    "10) 최종 모델 선택\n",
    "<br>\n",
    "**위 과정은 공통적이되, 알고리즘이 달라질것**"
   ]
  },
  {
   "cell_type": "code",
   "execution_count": null,
   "id": "2c996f5a",
   "metadata": {},
   "outputs": [],
   "source": []
  }
 ],
 "metadata": {
  "kernelspec": {
   "display_name": "Python 3 (ipykernel)",
   "language": "python",
   "name": "python3"
  },
  "language_info": {
   "codemirror_mode": {
    "name": "ipython",
    "version": 3
   },
   "file_extension": ".py",
   "mimetype": "text/x-python",
   "name": "python",
   "nbconvert_exporter": "python",
   "pygments_lexer": "ipython3",
   "version": "3.9.21"
  }
 },
 "nbformat": 4,
 "nbformat_minor": 5
}
