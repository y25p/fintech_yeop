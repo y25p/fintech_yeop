{
  "nbformat": 4,
  "nbformat_minor": 0,
  "metadata": {
    "colab": {
      "provenance": [],
      "authorship_tag": "ABX9TyOjvyhJ8F9fRhcMYUJUOLXb",
      "include_colab_link": true
    },
    "kernelspec": {
      "name": "python3",
      "display_name": "Python 3"
    },
    "language_info": {
      "name": "python"
    }
  },
  "cells": [
    {
      "cell_type": "markdown",
      "metadata": {
        "id": "view-in-github",
        "colab_type": "text"
      },
      "source": [
        "<a href=\"https://colab.research.google.com/github/y25p/fintech_yeop/blob/main/%EC%97%B0%EC%8A%B5%EB%AC%B8%EC%A0%9C_%EC%A2%85%ED%95%A9%EC%9E%A5.ipynb\" target=\"_parent\"><img src=\"https://colab.research.google.com/assets/colab-badge.svg\" alt=\"Open In Colab\"/></a>"
      ]
    },
    {
      "cell_type": "markdown",
      "source": [],
      "metadata": {
        "id": "7yti-Kom5HKc"
      }
    },
    {
      "cell_type": "code",
      "source": [],
      "metadata": {
        "id": "YJ1E2su95HWe"
      },
      "execution_count": null,
      "outputs": []
    },
    {
      "cell_type": "code",
      "source": [],
      "metadata": {
        "id": "eL8mYK0g5HqR"
      },
      "execution_count": null,
      "outputs": []
    },
    {
      "cell_type": "markdown",
      "source": [
        "03python/연습문제_02_문자열_리스트.ipynb"
      ],
      "metadata": {
        "id": "iIYxx2PibfR4"
      }
    },
    {
      "cell_type": "markdown",
      "source": [
        "1. 30을 8로 나눈 몫과 나머지를 각각 변수 a와 b에 저장하고 다음과 같이 출력하는 코드를 작성하세요."
      ],
      "metadata": {
        "id": "EVc1Ra0NcK0u"
      }
    },
    {
      "cell_type": "code",
      "source": [
        "a= 30//8\n",
        "b=30%8\n",
        "print(a, b)"
      ],
      "metadata": {
        "colab": {
          "base_uri": "https://localhost:8080/"
        },
        "id": "B_l_OB0RFgUd",
        "outputId": "35e78081-d650-4100-de6d-e136c2c9ad38"
      },
      "execution_count": null,
      "outputs": [
        {
          "output_type": "stream",
          "name": "stdout",
          "text": [
            "3 6\n"
          ]
        }
      ]
    },
    {
      "cell_type": "code",
      "source": [
        "print('30을 8로 나눈 몫은',a)\n",
        "print('30을 8로 나눈 나머지는',b)\n",
        "print('30을 8로 나눈 결과는',float(30/8))"
      ],
      "metadata": {
        "colab": {
          "base_uri": "https://localhost:8080/"
        },
        "id": "Ceu4Tl3VccP1",
        "outputId": "17a07778-3aa8-40a2-caef-2c7add99939e"
      },
      "execution_count": null,
      "outputs": [
        {
          "output_type": "stream",
          "name": "stdout",
          "text": [
            "30을 8로 나눈 몫은 3\n",
            "30을 8로 나눈 나머지는 6\n",
            "30을 8로 나눈 결과는 3.75\n"
          ]
        }
      ]
    },
    {
      "cell_type": "markdown",
      "source": [
        "2. 다음과 같이 코드 실행 결과가 나오도록 코드의 빈칸을 완성한 코드를 작성하세요."
      ],
      "metadata": {
        "id": "9DB2oFkVcvIa"
      }
    },
    {
      "cell_type": "code",
      "source": [
        "a='시은 우진'\n",
        "print(a+'화이팅!!','\\n','\\n',a+'화이팅!!')"
      ],
      "metadata": {
        "colab": {
          "base_uri": "https://localhost:8080/"
        },
        "id": "s7BxHoDIcl1Z",
        "outputId": "363e10eb-5307-4fe4-9a9f-62216d5d6c3e"
      },
      "execution_count": null,
      "outputs": [
        {
          "output_type": "stream",
          "name": "stdout",
          "text": [
            "시은 우진화이팅!! \n",
            " \n",
            " 시은 우진화이팅!!\n"
          ]
        }
      ]
    },
    {
      "cell_type": "code",
      "source": [
        "# 다른풀이\n",
        "a='시은 우진'\n",
        "b='화이팅!!'\n",
        "print(a,b,end='\\n\\n')\n",
        "print(a,b)"
      ],
      "metadata": {
        "colab": {
          "base_uri": "https://localhost:8080/"
        },
        "id": "hv7-UVs0dsJd",
        "outputId": "1eee7b79-6be8-4fc7-a5f9-349f16466269"
      },
      "execution_count": null,
      "outputs": [
        {
          "output_type": "stream",
          "name": "stdout",
          "text": [
            "시은 우진 화이팅!!\n",
            "\n",
            "시은 우진 화이팅!!\n"
          ]
        }
      ]
    },
    {
      "cell_type": "markdown",
      "source": [
        "3.이름과 나이를 키보드로 입력받은 값을 각각 변수 name과 age에 저장하고 다음과 같이 출력하는 코드를 작성하세요."
      ],
      "metadata": {
        "id": "pYQ83CgCcubt"
      }
    },
    {
      "cell_type": "code",
      "source": [
        "name, age=input('이름과 나이를 입력하세요').split()\n",
        "#print(name, age)\n",
        "print('이름이 무엇인가요?', name)\n",
        "print('나이는?', age)\n",
        "print('메이킷님은 내년에', int(age) +1, '살이 되네요')"
      ],
      "metadata": {
        "colab": {
          "base_uri": "https://localhost:8080/",
          "height": 237
        },
        "id": "H0jK-1NvbhLc",
        "outputId": "af1b59ce-b132-4c06-e270-fe239e45f60e"
      },
      "execution_count": null,
      "outputs": [
        {
          "output_type": "stream",
          "name": "stdout",
          "text": [
            "이름과 나이를 입력하세요메 이2\n",
            "이름이 무엇인가요? 메\n",
            "나이는? 이2\n"
          ]
        },
        {
          "output_type": "error",
          "ename": "ValueError",
          "evalue": "invalid literal for int() with base 10: '이2'",
          "traceback": [
            "\u001b[0;31m---------------------------------------------------------------------------\u001b[0m",
            "\u001b[0;31mValueError\u001b[0m                                Traceback (most recent call last)",
            "\u001b[0;32m<ipython-input-17-d38653f86dd0>\u001b[0m in \u001b[0;36m<cell line: 0>\u001b[0;34m()\u001b[0m\n\u001b[1;32m      3\u001b[0m \u001b[0mprint\u001b[0m\u001b[0;34m(\u001b[0m\u001b[0;34m'이름이 무엇인가요?'\u001b[0m\u001b[0;34m,\u001b[0m \u001b[0mname\u001b[0m\u001b[0;34m)\u001b[0m\u001b[0;34m\u001b[0m\u001b[0;34m\u001b[0m\u001b[0m\n\u001b[1;32m      4\u001b[0m \u001b[0mprint\u001b[0m\u001b[0;34m(\u001b[0m\u001b[0;34m'나이는?'\u001b[0m\u001b[0;34m,\u001b[0m \u001b[0mage\u001b[0m\u001b[0;34m)\u001b[0m\u001b[0;34m\u001b[0m\u001b[0;34m\u001b[0m\u001b[0m\n\u001b[0;32m----> 5\u001b[0;31m \u001b[0mprint\u001b[0m\u001b[0;34m(\u001b[0m\u001b[0;34m'메이킷님은 내년에'\u001b[0m\u001b[0;34m,\u001b[0m \u001b[0mint\u001b[0m\u001b[0;34m(\u001b[0m\u001b[0mage\u001b[0m\u001b[0;34m)\u001b[0m \u001b[0;34m+\u001b[0m\u001b[0;36m1\u001b[0m\u001b[0;34m,\u001b[0m \u001b[0;34m'살이 되네요'\u001b[0m\u001b[0;34m)\u001b[0m\u001b[0;34m\u001b[0m\u001b[0;34m\u001b[0m\u001b[0m\n\u001b[0m",
            "\u001b[0;31mValueError\u001b[0m: invalid literal for int() with base 10: '이2'"
          ]
        }
      ]
    },
    {
      "cell_type": "markdown",
      "source": [
        "4. 정수와 실수를 각각 변수 a, b에 입력받아 두 숫자의 합과 평균을 구하는 코드를 작성하세요."
      ],
      "metadata": {
        "id": "r_Vm_-z9jI7u"
      }
    },
    {
      "cell_type": "code",
      "source": [
        "a,b=input('정수와 실수를 하나씩 입력하세요').split()\n",
        "avgg=(a+b)/2\n",
        "\n",
        "print(a,'\\n',b)\n",
        "print('두 수의 합은',float(a+b))\n",
        "print('두 수의 평균값은',avgg)"
      ],
      "metadata": {
        "colab": {
          "base_uri": "https://localhost:8080/",
          "height": 237
        },
        "id": "rPhrkl3chBzE",
        "outputId": "b0b95916-e015-4941-cdcd-0529cc8c6632"
      },
      "execution_count": null,
      "outputs": [
        {
          "name": "stdout",
          "output_type": "stream",
          "text": [
            "정수와 실수를 하나씩 입력하세요1 1.23\n"
          ]
        },
        {
          "output_type": "error",
          "ename": "TypeError",
          "evalue": "unsupported operand type(s) for /: 'str' and 'int'",
          "traceback": [
            "\u001b[0;31m---------------------------------------------------------------------------\u001b[0m",
            "\u001b[0;31mTypeError\u001b[0m                                 Traceback (most recent call last)",
            "\u001b[0;32m<ipython-input-26-83559772bbcf>\u001b[0m in \u001b[0;36m<cell line: 0>\u001b[0;34m()\u001b[0m\n\u001b[1;32m      1\u001b[0m \u001b[0ma\u001b[0m\u001b[0;34m,\u001b[0m\u001b[0mb\u001b[0m\u001b[0;34m=\u001b[0m\u001b[0minput\u001b[0m\u001b[0;34m(\u001b[0m\u001b[0;34m'정수와 실수를 하나씩 입력하세요'\u001b[0m\u001b[0;34m)\u001b[0m\u001b[0;34m.\u001b[0m\u001b[0msplit\u001b[0m\u001b[0;34m(\u001b[0m\u001b[0;34m)\u001b[0m\u001b[0;34m\u001b[0m\u001b[0;34m\u001b[0m\u001b[0m\n\u001b[0;32m----> 2\u001b[0;31m \u001b[0mavgg\u001b[0m\u001b[0;34m=\u001b[0m\u001b[0;34m(\u001b[0m\u001b[0ma\u001b[0m\u001b[0;34m+\u001b[0m\u001b[0mb\u001b[0m\u001b[0;34m)\u001b[0m\u001b[0;34m/\u001b[0m\u001b[0;36m2\u001b[0m\u001b[0;34m\u001b[0m\u001b[0;34m\u001b[0m\u001b[0m\n\u001b[0m\u001b[1;32m      3\u001b[0m \u001b[0mprint\u001b[0m\u001b[0;34m(\u001b[0m\u001b[0ma\u001b[0m\u001b[0;34m,\u001b[0m\u001b[0;34m'\\n'\u001b[0m\u001b[0;34m,\u001b[0m\u001b[0mb\u001b[0m\u001b[0;34m)\u001b[0m\u001b[0;34m\u001b[0m\u001b[0;34m\u001b[0m\u001b[0m\n\u001b[1;32m      4\u001b[0m \u001b[0mprint\u001b[0m\u001b[0;34m(\u001b[0m\u001b[0;34m'두 수의 합은'\u001b[0m\u001b[0;34m,\u001b[0m\u001b[0mfloat\u001b[0m\u001b[0;34m(\u001b[0m\u001b[0ma\u001b[0m\u001b[0;34m+\u001b[0m\u001b[0mb\u001b[0m\u001b[0;34m)\u001b[0m\u001b[0;34m)\u001b[0m\u001b[0;34m\u001b[0m\u001b[0;34m\u001b[0m\u001b[0m\n\u001b[1;32m      5\u001b[0m \u001b[0mprint\u001b[0m\u001b[0;34m(\u001b[0m\u001b[0;34m'두 수의 평균값은'\u001b[0m\u001b[0;34m,\u001b[0m\u001b[0mavgg\u001b[0m\u001b[0;34m)\u001b[0m\u001b[0;34m\u001b[0m\u001b[0;34m\u001b[0m\u001b[0m\n",
            "\u001b[0;31mTypeError\u001b[0m: unsupported operand type(s) for /: 'str' and 'int'"
          ]
        }
      ]
    },
    {
      "cell_type": "code",
      "source": [
        "# 풀이\n",
        "a,b=input('정수와 실수를 하나씩 입력하세요').split()\n",
        "#print(a,b,type(a),type(b))\n",
        "a=int(a)\n",
        "b=float(b)\n",
        "print(a)\n",
        "print(b)\n",
        "print('두 수의 합은',a+b)\n",
        "print('두 수의 평균값은', (a+b)/2)"
      ],
      "metadata": {
        "colab": {
          "base_uri": "https://localhost:8080/"
        },
        "id": "wAYGLHo3j9Xt",
        "outputId": "9f3b7950-3700-47d0-f0c6-ce3717ec0c29"
      },
      "execution_count": null,
      "outputs": [
        {
          "output_type": "stream",
          "name": "stdout",
          "text": [
            "정수와 실수를 하나씩 입력하세요3 2.4\n",
            "3\n",
            "2.4\n",
            "두 수의 합은 5.4\n",
            "두 수의 평균값은 2.7\n"
          ]
        }
      ]
    },
    {
      "cell_type": "markdown",
      "source": [
        "5. makit 문자열 변수를 활용해 아래와 같은 실행 결과가 나오도록 코드의 빈칸을 완성하세요."
      ],
      "metadata": {
        "id": "hw86LYbYlVWk"
      }
    },
    {
      "cell_type": "code",
      "source": [
        "# 메이킷 문자열 변수 개념자체가 처음인듯\n",
        "makeit = 'Sieun Woojin!'\n",
        "\n",
        "result1='S'\n",
        "result2='W'\n",
        "result3='!'\n",
        "\n",
        "print(result1, result2, result3)"
      ],
      "metadata": {
        "colab": {
          "base_uri": "https://localhost:8080/"
        },
        "id": "U2rZxPRzjsSk",
        "outputId": "4854351a-3b48-4fe7-df67-0bb3930c9bb8"
      },
      "execution_count": null,
      "outputs": [
        {
          "output_type": "stream",
          "name": "stdout",
          "text": [
            "S W !\n"
          ]
        }
      ]
    },
    {
      "cell_type": "code",
      "source": [
        "#풀이 . 인덱싱\n",
        "makeit = 'Sieun Woojin!'\n",
        "print('result1=',makeit[0])\n",
        "print('result2=',makeit[6])\n",
        "print('result3=',makeit[-1])\n",
        "\n"
      ],
      "metadata": {
        "colab": {
          "base_uri": "https://localhost:8080/"
        },
        "id": "9nEKLYHblmMP",
        "outputId": "9331ab3c-227b-4cf0-e807-2e8fe18b43fd"
      },
      "execution_count": null,
      "outputs": [
        {
          "output_type": "stream",
          "name": "stdout",
          "text": [
            "result1= S\n",
            "result2= W\n",
            "result3= !\n"
          ]
        }
      ]
    },
    {
      "cell_type": "markdown",
      "source": [
        "6."
      ],
      "metadata": {
        "id": "OnmVHJ8TmlwC"
      }
    },
    {
      "cell_type": "code",
      "source": [
        "makit = 'Sieun Woojin!'\n",
        "\n",
        "print(makeit[2:9])\n",
        "print(makeit[:5])\n",
        "print(makeit[6:])"
      ],
      "metadata": {
        "colab": {
          "base_uri": "https://localhost:8080/"
        },
        "id": "6l8flMzMeE-2",
        "outputId": "98b65bd5-8708-456b-f64b-1fadd208eae9"
      },
      "execution_count": null,
      "outputs": [
        {
          "output_type": "stream",
          "name": "stdout",
          "text": [
            "eun Woo\n",
            "Sieun\n",
            "Woojin!\n"
          ]
        }
      ]
    },
    {
      "cell_type": "markdown",
      "source": [
        "7"
      ],
      "metadata": {
        "id": "P53HTVwlnntg"
      }
    },
    {
      "cell_type": "code",
      "source": [
        "makit = '동서남북동서남북동서남북'\n",
        "print(makit[::4])\n"
      ],
      "metadata": {
        "colab": {
          "base_uri": "https://localhost:8080/"
        },
        "id": "e9V9XsRYnpi-",
        "outputId": "b7262148-77f0-4a7d-9627-bd27b8ea449b"
      },
      "execution_count": null,
      "outputs": [
        {
          "output_type": "stream",
          "name": "stdout",
          "text": [
            "동동동\n"
          ]
        }
      ]
    },
    {
      "cell_type": "markdown",
      "source": [
        "8"
      ],
      "metadata": {
        "id": "piLzQ6g4o01c"
      }
    },
    {
      "cell_type": "code",
      "source": [
        "makit = '동서남북'\n",
        "makit[::-1]"
      ],
      "metadata": {
        "colab": {
          "base_uri": "https://localhost:8080/",
          "height": 35
        },
        "id": "ed7i4nwVo2J5",
        "outputId": "36275466-6651-4cca-eb95-a6ea368c348c"
      },
      "execution_count": null,
      "outputs": [
        {
          "output_type": "execute_result",
          "data": {
            "text/plain": [
              "'북남서동'"
            ],
            "application/vnd.google.colaboratory.intrinsic+json": {
              "type": "string"
            }
          },
          "metadata": {},
          "execution_count": 45
        }
      ]
    },
    {
      "cell_type": "markdown",
      "source": [
        "9"
      ],
      "metadata": {
        "id": "7A6HM5DZq138"
      }
    },
    {
      "cell_type": "code",
      "source": [],
      "metadata": {
        "id": "11bLMvVgPJn6"
      },
      "execution_count": 7,
      "outputs": []
    },
    {
      "cell_type": "code",
      "source": [],
      "metadata": {
        "id": "O_ZOX5A5PKA9"
      },
      "execution_count": 7,
      "outputs": []
    },
    {
      "cell_type": "code",
      "source": [],
      "metadata": {
        "id": "l-uMTcXsPKDy"
      },
      "execution_count": null,
      "outputs": []
    },
    {
      "cell_type": "code",
      "source": [
        "import re"
      ],
      "metadata": {
        "id": "izSHG-aYo2BW"
      },
      "execution_count": 1,
      "outputs": []
    },
    {
      "cell_type": "code",
      "source": [
        "text='안녕하세요! this is a test. 1234  #$%^&*&()'\n",
        "text"
      ],
      "metadata": {
        "id": "3WV7qaeWo146",
        "colab": {
          "base_uri": "https://localhost:8080/",
          "height": 35
        },
        "outputId": "48aaaf4f-8bab-431b-e307-def224feff19"
      },
      "execution_count": 2,
      "outputs": [
        {
          "output_type": "execute_result",
          "data": {
            "text/plain": [
              "'안녕하세요! this is a test. 1234  #$%^&*&()'"
            ],
            "application/vnd.google.colaboratory.intrinsic+json": {
              "type": "string"
            }
          },
          "metadata": {},
          "execution_count": 2
        }
      ]
    },
    {
      "cell_type": "code",
      "source": [
        "re.sub('[^가-힣a-zA-Z0-9]',' ',text)"
      ],
      "metadata": {
        "colab": {
          "base_uri": "https://localhost:8080/",
          "height": 35
        },
        "id": "1krH3uJfo1rh",
        "outputId": "5e746673-2488-4a20-88c6-c07c12a12d66"
      },
      "execution_count": 7,
      "outputs": [
        {
          "output_type": "execute_result",
          "data": {
            "text/plain": [
              "'안녕하세요  this is a test  1234'"
            ],
            "application/vnd.google.colaboratory.intrinsic+json": {
              "type": "string"
            }
          },
          "metadata": {},
          "execution_count": 7
        }
      ]
    },
    {
      "cell_type": "code",
      "source": [],
      "metadata": {
        "id": "3xbHwhefnoUW"
      },
      "execution_count": null,
      "outputs": []
    },
    {
      "cell_type": "markdown",
      "source": [
        "03python/연습문제_05_딕셔너리_조건문_반복문연습문제.ipynb"
      ],
      "metadata": {
        "id": "Yfdt2OUmbhpU"
      }
    },
    {
      "cell_type": "code",
      "source": [
        "# 딕셔너리 조건문 반복문연습문제\n",
        "a, b, c=list(map(int, input(\"터널 높이 3개를 입력하세요\").split()))\n",
        "if a>150 and b>150 and c>150:\n",
        "  print('터널 통과 가능 ')"
      ],
      "metadata": {
        "id": "oNJSIowBFxcI"
      },
      "execution_count": null,
      "outputs": []
    },
    {
      "cell_type": "code",
      "source": [
        "# 올해는 윤년일까? YES or No\n",
        "Year=int(input('연도를 입력하세요:'))"
      ],
      "metadata": {
        "colab": {
          "base_uri": "https://localhost:8080/"
        },
        "id": "kCys2QJDSsGG",
        "outputId": "2c049f90-1c39-4b73-f786-cc03d9aff18a"
      },
      "execution_count": null,
      "outputs": [
        {
          "name": "stdout",
          "output_type": "stream",
          "text": [
            "연도를 입력하세요:2025\n"
          ]
        }
      ]
    },
    {
      "cell_type": "code",
      "source": [
        "print(year, type(year))"
      ],
      "metadata": {
        "colab": {
          "base_uri": "https://localhost:8080/",
          "height": 146
        },
        "id": "sv9Rf1ZhUdVy",
        "outputId": "c12fd4c5-ff25-4322-ff1d-769492543e71"
      },
      "execution_count": null,
      "outputs": [
        {
          "output_type": "error",
          "ename": "NameError",
          "evalue": "name 'year' is not defined",
          "traceback": [
            "\u001b[0;31m---------------------------------------------------------------------------\u001b[0m",
            "\u001b[0;31mNameError\u001b[0m                                 Traceback (most recent call last)",
            "\u001b[0;32m<ipython-input-5-a486aea4cfef>\u001b[0m in \u001b[0;36m<cell line: 0>\u001b[0;34m()\u001b[0m\n\u001b[0;32m----> 1\u001b[0;31m \u001b[0mprint\u001b[0m\u001b[0;34m(\u001b[0m\u001b[0myear\u001b[0m\u001b[0;34m,\u001b[0m \u001b[0mtype\u001b[0m\u001b[0;34m(\u001b[0m\u001b[0myear\u001b[0m\u001b[0;34m)\u001b[0m\u001b[0;34m)\u001b[0m\u001b[0;34m\u001b[0m\u001b[0;34m\u001b[0m\u001b[0m\n\u001b[0m",
            "\u001b[0;31mNameError\u001b[0m: name 'year' is not defined"
          ]
        }
      ]
    },
    {
      "cell_type": "code",
      "source": [
        "if(year%4==0 and year%100)"
      ],
      "metadata": {
        "id": "z05iTjspUr8U"
      },
      "execution_count": null,
      "outputs": []
    }
  ]
}