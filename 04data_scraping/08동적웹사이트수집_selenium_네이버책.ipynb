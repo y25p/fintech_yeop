{
 "cells": [
  {
   "cell_type": "code",
   "execution_count": 1,
   "id": "6be10cdb",
   "metadata": {},
   "outputs": [],
   "source": [
    "import requests\n",
    "from bs4 import BeautifulSoup as bs"
   ]
  },
  {
   "cell_type": "code",
   "execution_count": 2,
   "id": "be9c077f",
   "metadata": {},
   "outputs": [
    {
     "ename": "SyntaxError",
     "evalue": "invalid syntax (524716491.py, line 3)",
     "output_type": "error",
     "traceback": [
      "\u001b[1;36m  Cell \u001b[1;32mIn[2], line 3\u001b[1;36m\u001b[0m\n\u001b[1;33m    soup = bs(r.content.'lxml')\u001b[0m\n\u001b[1;37m                        ^\u001b[0m\n\u001b[1;31mSyntaxError\u001b[0m\u001b[1;31m:\u001b[0m invalid syntax\n"
     ]
    }
   ],
   "source": [
    "url=\"https://www.g2b.go.kr/\"\n",
    "r= requests.get(url)\n",
    "soup = bs(r.content.'lxml')\n",
    "soup"
   ]
  },
  {
   "cell_type": "markdown",
   "id": "472e0b4a",
   "metadata": {},
   "source": [
    "# Selenium이란?\n",
    "- 웹브라우저 내 옵션들\n"
   ]
  },
  {
   "cell_type": "code",
   "execution_count": null,
   "id": "e28c6dd4",
   "metadata": {},
   "outputs": [],
   "source": []
  },
  {
   "cell_type": "markdown",
   "id": "cb4e72c3",
   "metadata": {},
   "source": [
    "# Selenium에서 원하는 요소 찾기\n",
    "- driver.find_element(By.CSS_SELECTOR, css셀렉터): 요소 1개 찾기\n",
    "- driver.find_elements(By.CSS_SELECTOR, css셀렉터): 요소 여러개 찾기\n",
    "- driver.find_element(By.ID,\"id\"): html에서 id속성을 찾아줌"
   ]
  },
  {
   "cell_type": "code",
   "execution_count": null,
   "id": "77659005",
   "metadata": {},
   "outputs": [],
   "source": []
  },
  {
   "cell_type": "markdown",
   "id": "da4972ad",
   "metadata": {},
   "source": [
    "# 웹페이지가 모두 로딩될때까지 대기시간주기\n",
    "from selenium.webdrive.support.ui import WebDriverWait"
   ]
  }
 ],
 "metadata": {
  "kernelspec": {
   "display_name": "Python 3 (ipykernel)",
   "language": "python",
   "name": "python3"
  },
  "language_info": {
   "codemirror_mode": {
    "name": "ipython",
    "version": 3
   },
   "file_extension": ".py",
   "mimetype": "text/x-python",
   "name": "python",
   "nbconvert_exporter": "python",
   "pygments_lexer": "ipython3",
   "version": "3.9.21"
  }
 },
 "nbformat": 4,
 "nbformat_minor": 5
}
