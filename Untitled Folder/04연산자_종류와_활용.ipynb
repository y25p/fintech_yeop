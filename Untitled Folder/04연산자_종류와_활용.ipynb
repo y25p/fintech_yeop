{
 "cells": [
  {
   "cell_type": "markdown",
   "id": "f13dd4a9",
   "metadata": {},
   "source": [
    "# 연산자의 종류\n",
    "* 산술,할당,비교,논리,식별,멤버\n",
    "* 산술은 사칙연산 및 %,//,** 가 있음\n",
    "* 비교는 <,>"
   ]
  },
  {
   "cell_type": "markdown",
   "id": "a086f216",
   "metadata": {},
   "source": [
    "## 산술연산자\n",
    "* 정수/정수는 무조건 float\n",
    "* 몫만 구하는 연산자\n",
    "* 나머지만 구하는 연산자"
   ]
  },
  {
   "cell_type": "code",
   "execution_count": 2,
   "id": "dd5c9dc7",
   "metadata": {},
   "outputs": [
    {
     "data": {
      "text/plain": [
       "6.198812654463674e+16"
      ]
     },
     "execution_count": 2,
     "metadata": {},
     "output_type": "execute_result"
    }
   ],
   "source": [
    "123976253089273470/2 #결과 바로나옴"
   ]
  },
  {
   "cell_type": "code",
   "execution_count": 3,
   "id": "2ad6c2ca",
   "metadata": {},
   "outputs": [
    {
     "data": {
      "text/plain": [
       "0"
      ]
     },
     "execution_count": 3,
     "metadata": {},
     "output_type": "execute_result"
    }
   ],
   "source": [
    "# %\n",
    "# 나머지를 구하는 연산자\n",
    "# 홀짝 구분 필요할 때 쓰임\n",
    "\n",
    "4%2 "
   ]
  },
  {
   "cell_type": "code",
   "execution_count": 4,
   "id": "fbd24215",
   "metadata": {},
   "outputs": [
    {
     "data": {
      "text/plain": [
       "2"
      ]
     },
     "execution_count": 4,
     "metadata": {},
     "output_type": "execute_result"
    }
   ],
   "source": [
    "# 나누기나누기\n",
    "# 몫을 구하는 연산자\n",
    "7//3\n"
   ]
  },
  {
   "cell_type": "code",
   "execution_count": 5,
   "id": "fa07b09f",
   "metadata": {},
   "outputs": [
    {
     "data": {
      "text/plain": [
       "8"
      ]
     },
     "execution_count": 5,
     "metadata": {},
     "output_type": "execute_result"
    }
   ],
   "source": [
    "# 제곱은 **\n",
    "2**3 #2의 3승"
   ]
  },
  {
   "cell_type": "markdown",
   "id": "7da8de00",
   "metadata": {},
   "source": [
    "## 할당연산자\n",
    "* =, +=, -=, *=, /=, %=\n",
    "* equl의 의미가 아니라 변수에 할당됨을 의미.\n",
    "* +=는 "
   ]
  },
  {
   "cell_type": "code",
   "execution_count": 8,
   "id": "e809edd7",
   "metadata": {},
   "outputs": [
    {
     "data": {
      "text/plain": [
       "15"
      ]
     },
     "execution_count": 8,
     "metadata": {},
     "output_type": "execute_result"
    }
   ],
   "source": [
    "a=10\n",
    "b=5\n",
    "a=a+5   #원래 할당된 값에 덮어쓰기\n",
    "a"
   ]
  },
  {
   "cell_type": "code",
   "execution_count": 19,
   "id": "99d5d159",
   "metadata": {},
   "outputs": [
    {
     "data": {
      "text/plain": [
       "15"
      ]
     },
     "execution_count": 19,
     "metadata": {},
     "output_type": "execute_result"
    }
   ],
   "source": [
    "a=10\n",
    "b=5\n",
    "a+=5   #같은과정 다른 연산자\n",
    "a"
   ]
  },
  {
   "cell_type": "code",
   "execution_count": 20,
   "id": "18d2281a",
   "metadata": {},
   "outputs": [
    {
     "data": {
      "text/plain": [
       "-5"
      ]
     },
     "execution_count": 20,
     "metadata": {},
     "output_type": "execute_result"
    }
   ],
   "source": [
    "#b= b-10\n",
    "b-=10\n",
    "b"
   ]
  },
  {
   "cell_type": "code",
   "execution_count": 21,
   "id": "cf602066",
   "metadata": {},
   "outputs": [
    {
     "data": {
      "text/plain": [
       "(1.5, 5)"
      ]
     },
     "execution_count": 21,
     "metadata": {},
     "output_type": "execute_result"
    }
   ],
   "source": [
    "b*=-1\n",
    "a/=10\n",
    "a,b"
   ]
  },
  {
   "cell_type": "code",
   "execution_count": 22,
   "id": "7a3c82b1",
   "metadata": {},
   "outputs": [
    {
     "data": {
      "text/plain": [
       "1.5"
      ]
     },
     "execution_count": 22,
     "metadata": {},
     "output_type": "execute_result"
    }
   ],
   "source": [
    "a %= 1000\n",
    "a"
   ]
  },
  {
   "cell_type": "markdown",
   "id": "c54fd0c3",
   "metadata": {},
   "source": [
    "# 비교연산자\n",
    "* == 완전히 일치함\n",
    "* != 다르다\n",
    "* > 초과 < 미만 >=이상 <=이하"
   ]
  },
  {
   "cell_type": "code",
   "execution_count": 23,
   "id": "b6a3988e",
   "metadata": {},
   "outputs": [],
   "source": [
    "a=3\n",
    "b=3.0\n",
    "c=5\n",
    "d='python'\n",
    "e='Python' # 대소문자 - ascii코드값 차이\n",
    "f= True\n",
    "g= False"
   ]
  },
  {
   "cell_type": "markdown",
   "id": "b0115a68",
   "metadata": {},
   "source": [
    "일치여부에 따라 True False"
   ]
  },
  {
   "cell_type": "code",
   "execution_count": 24,
   "id": "dd907bb8",
   "metadata": {},
   "outputs": [
    {
     "data": {
      "text/plain": [
       "True"
      ]
     },
     "execution_count": 24,
     "metadata": {},
     "output_type": "execute_result"
    }
   ],
   "source": [
    "a==b"
   ]
  },
  {
   "cell_type": "code",
   "execution_count": 25,
   "id": "ffd74500",
   "metadata": {},
   "outputs": [
    {
     "data": {
      "text/plain": [
       "False"
      ]
     },
     "execution_count": 25,
     "metadata": {},
     "output_type": "execute_result"
    }
   ],
   "source": [
    "a==c"
   ]
  },
  {
   "cell_type": "code",
   "execution_count": 26,
   "id": "b723cd35",
   "metadata": {},
   "outputs": [
    {
     "data": {
      "text/plain": [
       "False"
      ]
     },
     "execution_count": 26,
     "metadata": {},
     "output_type": "execute_result"
    }
   ],
   "source": [
    "d==e"
   ]
  },
  {
   "cell_type": "markdown",
   "id": "06dd853b",
   "metadata": {},
   "source": [
    "- != "
   ]
  },
  {
   "cell_type": "code",
   "execution_count": null,
   "id": "a9a00473",
   "metadata": {},
   "outputs": [],
   "source": []
  },
  {
   "cell_type": "code",
   "execution_count": null,
   "id": "b9548a41",
   "metadata": {},
   "outputs": [],
   "source": []
  },
  {
   "cell_type": "code",
   "execution_count": null,
   "id": "6f695fff",
   "metadata": {},
   "outputs": [],
   "source": []
  },
  {
   "cell_type": "code",
   "execution_count": null,
   "id": "809afa7f",
   "metadata": {},
   "outputs": [],
   "source": []
  },
  {
   "cell_type": "code",
   "execution_count": null,
   "id": "28203993",
   "metadata": {},
   "outputs": [],
   "source": []
  },
  {
   "cell_type": "code",
   "execution_count": null,
   "id": "c3e9dda3",
   "metadata": {},
   "outputs": [],
   "source": []
  },
  {
   "cell_type": "code",
   "execution_count": null,
   "id": "f1051739",
   "metadata": {},
   "outputs": [],
   "source": []
  }
 ],
 "metadata": {
  "kernelspec": {
   "display_name": "Python 3 (ipykernel)",
   "language": "python",
   "name": "python3"
  },
  "language_info": {
   "codemirror_mode": {
    "name": "ipython",
    "version": 3
   },
   "file_extension": ".py",
   "mimetype": "text/x-python",
   "name": "python",
   "nbconvert_exporter": "python",
   "pygments_lexer": "ipython3",
   "version": "3.9.21"
  }
 },
 "nbformat": 4,
 "nbformat_minor": 5
}
