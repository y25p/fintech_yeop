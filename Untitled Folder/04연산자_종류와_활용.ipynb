{
 "cells": [
  {
   "cell_type": "markdown",
   "id": "f13dd4a9",
   "metadata": {},
   "source": [
    "# 연산자의 종류\n",
    "* 산술,할당,비교,논리,식별,멤버\n",
    "* 산술은 사칙연산 및 %,//,** 가 있음\n",
    "* 비교는 <,>"
   ]
  },
  {
   "cell_type": "markdown",
   "id": "a086f216",
   "metadata": {},
   "source": [
    "## 산술연산자\n",
    "* 정수/정수는 무조건 float\n",
    "* 몫만 구하는 연산자\n",
    "* 나머지만 구하는 연산자"
   ]
  },
  {
   "cell_type": "code",
   "execution_count": 1,
   "id": "dd5c9dc7",
   "metadata": {},
   "outputs": [
    {
     "data": {
      "text/plain": [
       "6.198812654463674e+16"
      ]
     },
     "execution_count": 1,
     "metadata": {},
     "output_type": "execute_result"
    }
   ],
   "source": [
    "123976253089273470/2 #결과 바로나옴"
   ]
  },
  {
   "cell_type": "code",
   "execution_count": 2,
   "id": "2ad6c2ca",
   "metadata": {},
   "outputs": [
    {
     "data": {
      "text/plain": [
       "0"
      ]
     },
     "execution_count": 2,
     "metadata": {},
     "output_type": "execute_result"
    }
   ],
   "source": [
    "# %\n",
    "# 나머지를 구하는 연산자\n",
    "# 홀짝 구분 필요할 때 쓰임\n",
    "\n",
    "4%2 "
   ]
  },
  {
   "cell_type": "code",
   "execution_count": 3,
   "id": "fbd24215",
   "metadata": {},
   "outputs": [
    {
     "data": {
      "text/plain": [
       "2"
      ]
     },
     "execution_count": 3,
     "metadata": {},
     "output_type": "execute_result"
    }
   ],
   "source": [
    "# 나누기나누기\n",
    "# 몫을 구하는 연산자\n",
    "7//3\n"
   ]
  },
  {
   "cell_type": "code",
   "execution_count": 4,
   "id": "fa07b09f",
   "metadata": {},
   "outputs": [
    {
     "data": {
      "text/plain": [
       "8"
      ]
     },
     "execution_count": 4,
     "metadata": {},
     "output_type": "execute_result"
    }
   ],
   "source": [
    "# 제곱은 **\n",
    "2**3 #2의 3승"
   ]
  },
  {
   "cell_type": "markdown",
   "id": "7da8de00",
   "metadata": {},
   "source": [
    "## 할당연산자\n",
    "* =, +=, -=, *=, /=, %=\n",
    "* equl의 의미가 아니라 변수에 할당됨을 의미.\n",
    "* +=는 "
   ]
  },
  {
   "cell_type": "code",
   "execution_count": 5,
   "id": "e809edd7",
   "metadata": {},
   "outputs": [
    {
     "data": {
      "text/plain": [
       "15"
      ]
     },
     "execution_count": 5,
     "metadata": {},
     "output_type": "execute_result"
    }
   ],
   "source": [
    "a=10\n",
    "b=5\n",
    "a=a+5   #원래 할당된 값에 덮어쓰기\n",
    "a"
   ]
  },
  {
   "cell_type": "code",
   "execution_count": 6,
   "id": "99d5d159",
   "metadata": {},
   "outputs": [
    {
     "data": {
      "text/plain": [
       "15"
      ]
     },
     "execution_count": 6,
     "metadata": {},
     "output_type": "execute_result"
    }
   ],
   "source": [
    "a=10\n",
    "b=5\n",
    "a+=5   #같은과정 다른 연산자\n",
    "a"
   ]
  },
  {
   "cell_type": "code",
   "execution_count": 7,
   "id": "18d2281a",
   "metadata": {},
   "outputs": [
    {
     "data": {
      "text/plain": [
       "-5"
      ]
     },
     "execution_count": 7,
     "metadata": {},
     "output_type": "execute_result"
    }
   ],
   "source": [
    "#b= b-10\n",
    "b-=10\n",
    "b"
   ]
  },
  {
   "cell_type": "code",
   "execution_count": 8,
   "id": "cf602066",
   "metadata": {},
   "outputs": [
    {
     "data": {
      "text/plain": [
       "(1.5, 5)"
      ]
     },
     "execution_count": 8,
     "metadata": {},
     "output_type": "execute_result"
    }
   ],
   "source": [
    "b*=-1\n",
    "a/=10\n",
    "a,b"
   ]
  },
  {
   "cell_type": "code",
   "execution_count": 9,
   "id": "7a3c82b1",
   "metadata": {},
   "outputs": [
    {
     "data": {
      "text/plain": [
       "1.5"
      ]
     },
     "execution_count": 9,
     "metadata": {},
     "output_type": "execute_result"
    }
   ],
   "source": [
    "a %= 1000\n",
    "a"
   ]
  },
  {
   "cell_type": "markdown",
   "id": "c54fd0c3",
   "metadata": {},
   "source": [
    "# 비교연산자\n",
    "* == 완전히 일치함\n",
    "* != 다르다\n",
    "* > 초과 < 미만 >=이상 <=이하"
   ]
  },
  {
   "cell_type": "code",
   "execution_count": 10,
   "id": "b6a3988e",
   "metadata": {},
   "outputs": [],
   "source": [
    "a=3\n",
    "b=3.0\n",
    "c=5\n",
    "d='python'\n",
    "e='Python' # 대소문자 - ascii코드값 차이\n",
    "f= True\n",
    "g= False"
   ]
  },
  {
   "cell_type": "markdown",
   "id": "b0115a68",
   "metadata": {},
   "source": [
    "**일치여부에 따라 True False**"
   ]
  },
  {
   "cell_type": "code",
   "execution_count": 11,
   "id": "dd907bb8",
   "metadata": {},
   "outputs": [
    {
     "data": {
      "text/plain": [
       "True"
      ]
     },
     "execution_count": 11,
     "metadata": {},
     "output_type": "execute_result"
    }
   ],
   "source": [
    "a==b"
   ]
  },
  {
   "cell_type": "code",
   "execution_count": 12,
   "id": "ffd74500",
   "metadata": {},
   "outputs": [
    {
     "data": {
      "text/plain": [
       "False"
      ]
     },
     "execution_count": 12,
     "metadata": {},
     "output_type": "execute_result"
    }
   ],
   "source": [
    "a==c"
   ]
  },
  {
   "cell_type": "code",
   "execution_count": 13,
   "id": "b723cd35",
   "metadata": {},
   "outputs": [
    {
     "data": {
      "text/plain": [
       "False"
      ]
     },
     "execution_count": 13,
     "metadata": {},
     "output_type": "execute_result"
    }
   ],
   "source": [
    "d==e"
   ]
  },
  {
   "cell_type": "markdown",
   "id": "06dd853b",
   "metadata": {},
   "source": [
    "#### **!=** 불일치하면 True 일치하면 False"
   ]
  },
  {
   "cell_type": "code",
   "execution_count": 14,
   "id": "2febc1d3",
   "metadata": {},
   "outputs": [
    {
     "data": {
      "text/plain": [
       "(True, False)"
      ]
     },
     "execution_count": 14,
     "metadata": {},
     "output_type": "execute_result"
    }
   ],
   "source": [
    "a!=c, a!=b"
   ]
  },
  {
   "cell_type": "code",
   "execution_count": 15,
   "id": "e228b51c",
   "metadata": {},
   "outputs": [
    {
     "name": "stdout",
     "output_type": "stream",
     "text": [
      "True True\n"
     ]
    }
   ],
   "source": [
    "print(d!=e,f!=g)"
   ]
  },
  {
   "cell_type": "code",
   "execution_count": 16,
   "id": "05823be1",
   "metadata": {},
   "outputs": [
    {
     "name": "stdout",
     "output_type": "stream",
     "text": [
      "3 \n",
      " 5\n",
      "False\n"
     ]
    }
   ],
   "source": [
    "print( a,'\\n', c)\n",
    "print(a>c)"
   ]
  },
  {
   "cell_type": "code",
   "execution_count": 17,
   "id": "8f667499",
   "metadata": {},
   "outputs": [
    {
     "name": "stdout",
     "output_type": "stream",
     "text": [
      "3 \r",
      " 3.0\n",
      "True\n"
     ]
    }
   ],
   "source": [
    "print(a,'\\r',b)\n",
    "print(a>=b)"
   ]
  },
  {
   "cell_type": "markdown",
   "id": "583ec56f",
   "metadata": {},
   "source": [
    "#  논리연산자 \n",
    "- end, or, not"
   ]
  },
  {
   "cell_type": "markdown",
   "id": "72c1367f",
   "metadata": {},
   "source": [
    "### and는 하나라도 False면 False"
   ]
  },
  {
   "cell_type": "code",
   "execution_count": 18,
   "id": "5e120ae0",
   "metadata": {},
   "outputs": [
    {
     "data": {
      "text/plain": [
       "True"
      ]
     },
     "execution_count": 18,
     "metadata": {},
     "output_type": "execute_result"
    }
   ],
   "source": [
    "True and True"
   ]
  },
  {
   "cell_type": "code",
   "execution_count": 19,
   "id": "aa80f88b",
   "metadata": {},
   "outputs": [
    {
     "data": {
      "text/plain": [
       "False"
      ]
     },
     "execution_count": 19,
     "metadata": {},
     "output_type": "execute_result"
    }
   ],
   "source": [
    "True and False #False가 있긴하네"
   ]
  },
  {
   "cell_type": "code",
   "execution_count": 20,
   "id": "ad7cf98a",
   "metadata": {},
   "outputs": [
    {
     "data": {
      "text/plain": [
       "False"
      ]
     },
     "execution_count": 20,
     "metadata": {},
     "output_type": "execute_result"
    }
   ],
   "source": [
    "False and False"
   ]
  },
  {
   "cell_type": "markdown",
   "id": "fbafd9dc",
   "metadata": {},
   "source": [
    "### or는 하나라도 True면 True"
   ]
  },
  {
   "cell_type": "code",
   "execution_count": 21,
   "id": "80f8c505",
   "metadata": {},
   "outputs": [
    {
     "data": {
      "text/plain": [
       "True"
      ]
     },
     "execution_count": 21,
     "metadata": {},
     "output_type": "execute_result"
    }
   ],
   "source": [
    "True or False # True가 있긴하네"
   ]
  },
  {
   "cell_type": "code",
   "execution_count": 22,
   "id": "429668b9",
   "metadata": {},
   "outputs": [
    {
     "name": "stdout",
     "output_type": "stream",
     "text": [
      "False True\n"
     ]
    }
   ],
   "source": [
    "print(False or False, True or True)"
   ]
  },
  {
   "cell_type": "markdown",
   "id": "6ef55c57",
   "metadata": {},
   "source": [
    "### not 값을 반대로 뒤집음 "
   ]
  },
  {
   "cell_type": "code",
   "execution_count": 23,
   "id": "55edd142",
   "metadata": {},
   "outputs": [
    {
     "name": "stdout",
     "output_type": "stream",
     "text": [
      "False , True\n"
     ]
    }
   ],
   "source": [
    "print(not True,',', not False)"
   ]
  },
  {
   "cell_type": "markdown",
   "id": "4a4a62de",
   "metadata": {},
   "source": [
    " ###  not, and, or의 우선순위  @헷갈림 주의@\n",
    " - not and or 순서"
   ]
  },
  {
   "cell_type": "code",
   "execution_count": 24,
   "id": "e12d4732",
   "metadata": {},
   "outputs": [
    {
     "data": {
      "text/plain": [
       "True"
      ]
     },
     "execution_count": 24,
     "metadata": {},
     "output_type": "execute_result"
    }
   ],
   "source": [
    "not True and False or not False\n",
    "# False and Fase 까지 False\n",
    "# False or True는 True"
   ]
  },
  {
   "cell_type": "code",
   "execution_count": 25,
   "id": "ba751343",
   "metadata": {},
   "outputs": [
    {
     "data": {
      "text/plain": [
       "True"
      ]
     },
     "execution_count": 25,
     "metadata": {},
     "output_type": "execute_result"
    }
   ],
   "source": [
    "10 == 10 and 10 !=5"
   ]
  },
  {
   "cell_type": "markdown",
   "id": "c4aa4560",
   "metadata": {},
   "source": [
    "## 식별연산자\n",
    "- is와 is not ( object나 dtype ) 일치여부"
   ]
  },
  {
   "cell_type": "code",
   "execution_count": 26,
   "id": "f306dffc",
   "metadata": {},
   "outputs": [
    {
     "name": "stdout",
     "output_type": "stream",
     "text": [
      "3\n",
      "3.0\n",
      "5\n",
      "True\n",
      "False\n"
     ]
    }
   ],
   "source": [
    "print(a)\n",
    "print(b)\n",
    "print(c)\n",
    "\n",
    "#이렇게 있으면\n",
    "\n",
    "print(a==b)\n",
    "print(a is b)"
   ]
  },
  {
   "cell_type": "markdown",
   "id": "fe1984e1",
   "metadata": {},
   "source": [
    "- print(a is b)가 False 인 이유\n",
    "- 정수와 실수는 dtype 다름\n",
    "- dtype이 다른것과 수학적 값이 같은것을 별개로 생각할것."
   ]
  },
  {
   "cell_type": "code",
   "execution_count": 27,
   "id": "853240f6",
   "metadata": {},
   "outputs": [
    {
     "name": "stdout",
     "output_type": "stream",
     "text": [
      "True\n"
     ]
    }
   ],
   "source": [
    "d=3\n",
    "print(a is d) # 둘다 정수"
   ]
  },
  {
   "cell_type": "code",
   "execution_count": 28,
   "id": "2bd2e007",
   "metadata": {},
   "outputs": [
    {
     "name": "stdout",
     "output_type": "stream",
     "text": [
      "False\n"
     ]
    }
   ],
   "source": [
    "o=1\n",
    "print(a is d is o) "
   ]
  },
  {
   "cell_type": "code",
   "execution_count": 29,
   "id": "80296b25",
   "metadata": {},
   "outputs": [
    {
     "name": "stdout",
     "output_type": "stream",
     "text": [
      "False\n"
     ]
    }
   ],
   "source": [
    "print(a is d and c is o) "
   ]
  },
  {
   "cell_type": "code",
   "execution_count": 30,
   "id": "1859e768",
   "metadata": {},
   "outputs": [
    {
     "name": "stdout",
     "output_type": "stream",
     "text": [
      "True\n"
     ]
    }
   ],
   "source": [
    "print(a is not b)"
   ]
  },
  {
   "cell_type": "markdown",
   "id": "a8138a43",
   "metadata": {},
   "source": [
    "## 멤버연산자\n",
    "- in, not in \n",
    "- sql에서 or로 필터링할게 여러개일때 썼음"
   ]
  },
  {
   "cell_type": "code",
   "execution_count": 31,
   "id": "13585ab8",
   "metadata": {},
   "outputs": [
    {
     "name": "stdout",
     "output_type": "stream",
     "text": [
      "True False\n"
     ]
    }
   ],
   "source": [
    "mem=[1,2,3,4,5]\n",
    "print(10 not in mem, 10 in mem)"
   ]
  },
  {
   "cell_type": "markdown",
   "id": "503ebbaa",
   "metadata": {},
   "source": [
    "## 문자열에서 특정문자 치환"
   ]
  },
  {
   "cell_type": "markdown",
   "id": "b34ff84a",
   "metadata": {},
   "source": [
    "-정수로 형변환 int()"
   ]
  },
  {
   "cell_type": "code",
   "execution_count": 32,
   "id": "3739f357",
   "metadata": {},
   "outputs": [],
   "source": [
    "a=6.6\n",
    "b=3.3"
   ]
  },
  {
   "cell_type": "code",
   "execution_count": 33,
   "id": "28203993",
   "metadata": {},
   "outputs": [
    {
     "data": {
      "text/plain": [
       "9.6"
      ]
     },
     "execution_count": 33,
     "metadata": {},
     "output_type": "execute_result"
    }
   ],
   "source": [
    "a+int(b)"
   ]
  },
  {
   "cell_type": "markdown",
   "id": "b4c55fb1",
   "metadata": {},
   "source": [
    "-실수로 변환 float()"
   ]
  },
  {
   "cell_type": "code",
   "execution_count": 34,
   "id": "cfcb2a05",
   "metadata": {},
   "outputs": [
    {
     "data": {
      "text/plain": [
       "9.899999999999999"
      ]
     },
     "execution_count": 34,
     "metadata": {},
     "output_type": "execute_result"
    }
   ],
   "source": [
    "a+float(b)"
   ]
  },
  {
   "cell_type": "markdown",
   "id": "3c927be0",
   "metadata": {},
   "source": [
    "-문자열로 변환 str()"
   ]
  },
  {
   "cell_type": "code",
   "execution_count": 35,
   "id": "0261ae0c",
   "metadata": {},
   "outputs": [
    {
     "data": {
      "text/plain": [
       "'331'"
      ]
     },
     "execution_count": 35,
     "metadata": {},
     "output_type": "execute_result"
    }
   ],
   "source": [
    "a=33\n",
    "b='1'\n",
    "str(a)+b  #'33'+'1'은 "
   ]
  },
  {
   "cell_type": "markdown",
   "id": "6cbebc74",
   "metadata": {},
   "source": [
    "-list의 형변환"
   ]
  },
  {
   "cell_type": "code",
   "execution_count": 36,
   "id": "2e9f0928",
   "metadata": {},
   "outputs": [
    {
     "name": "stdout",
     "output_type": "stream",
     "text": [
      "(0, 2, 4, 6) <class 'tuple'>\n"
     ]
    }
   ],
   "source": [
    "t=(0,2,4,6)\n",
    "print(t,type(t))"
   ]
  },
  {
   "cell_type": "code",
   "execution_count": 37,
   "id": "eda92b26",
   "metadata": {},
   "outputs": [
    {
     "name": "stdout",
     "output_type": "stream",
     "text": [
      "[0, 2, 4, 6] <class 'list'>\n"
     ]
    }
   ],
   "source": [
    "t2=list(t)\n",
    "print(t2,type(t2))"
   ]
  },
  {
   "cell_type": "code",
   "execution_count": 38,
   "id": "6ebe8e40",
   "metadata": {},
   "outputs": [
    {
     "name": "stdout",
     "output_type": "stream",
     "text": [
      "[0, 2, 4, 6, 5]\n"
     ]
    }
   ],
   "source": [
    "t2.append(5)\n",
    "print(t2)"
   ]
  },
  {
   "cell_type": "markdown",
   "id": "6a0af44a",
   "metadata": {},
   "source": [
    "-튜플로 형변환 tuple()\n",
    "* 자료추가삭제해야할때 리스트로 변환했다가 다시 튜플화할수있는것"
   ]
  },
  {
   "cell_type": "code",
   "execution_count": 39,
   "id": "daae6742",
   "metadata": {},
   "outputs": [
    {
     "name": "stdout",
     "output_type": "stream",
     "text": [
      "(0, 2, 4, 6, 5) <class 'tuple'>\n"
     ]
    }
   ],
   "source": [
    "t3=tuple(t2)\n",
    "print(t3,type(t3))"
   ]
  },
  {
   "cell_type": "code",
   "execution_count": 40,
   "id": "68ad3de1",
   "metadata": {},
   "outputs": [
    {
     "data": {
      "text/plain": [
       "(0, 2, 4, 6, 5)"
      ]
     },
     "execution_count": 40,
     "metadata": {},
     "output_type": "execute_result"
    }
   ],
   "source": [
    "t3"
   ]
  },
  {
   "cell_type": "markdown",
   "id": "2131d437",
   "metadata": {},
   "source": [
    "-dict를 다양하게 활용할 수있지만 dictionary로 변환은 어려움"
   ]
  },
  {
   "cell_type": "markdown",
   "id": "3a97ec1d",
   "metadata": {},
   "source": [
    "# Input() :\n",
    "입력받는 값은 \"\"으로 구분해서 여러가지 받을 수 있음"
   ]
  },
  {
   "cell_type": "code",
   "execution_count": null,
   "id": "7560edb5",
   "metadata": {},
   "outputs": [],
   "source": [
    "data = input('숫자 3개 써넣기')\n",
    "print(data)"
   ]
  },
  {
   "cell_type": "markdown",
   "id": "649a165c",
   "metadata": {},
   "source": [
    "- input(),split()과 함께 섞어 쓸수 있음\n",
    "- split(\",\")의 형식"
   ]
  },
  {
   "cell_type": "code",
   "execution_count": null,
   "id": "88c9bea2",
   "metadata": {},
   "outputs": [],
   "source": [
    "data = input('숫자 3개 써넣기').split()\n",
    "print(data, type(data))"
   ]
  },
  {
   "cell_type": "code",
   "execution_count": null,
   "id": "e6bd8931",
   "metadata": {},
   "outputs": [],
   "source": [
    "type(data[2])"
   ]
  },
  {
   "cell_type": "code",
   "execution_count": null,
   "id": "e52c50c8",
   "metadata": {},
   "outputs": [],
   "source": [
    " #문자열이니까 붙어나오니\n",
    "int(data[0]+data[1]) #형변환을 해서 답이 정수로 떨어질 수 있게"
   ]
  },
  {
   "cell_type": "code",
   "execution_count": 1,
   "id": "f2dd723f",
   "metadata": {},
   "outputs": [
    {
     "name": "stdout",
     "output_type": "stream",
     "text": [
      "숫자 3개 써넣기10 20 9\n",
      "['10', '20', '9'] <class 'list'>\n"
     ]
    }
   ],
   "source": [
    "data = input('숫자 3개 써넣기').split()\n",
    "print(data, type(data))"
   ]
  },
  {
   "cell_type": "code",
   "execution_count": 2,
   "id": "f1051739",
   "metadata": {},
   "outputs": [
    {
     "name": "stdout",
     "output_type": "stream",
     "text": [
      "숫자 입력해봐요10 20 30 40\n"
     ]
    }
   ],
   "source": [
    "a,b,c,d = input('숫자 입력해봐요').split()\n",
    "print"
   ]
  }
 ],
 "metadata": {
  "kernelspec": {
   "display_name": "Python 3 (ipykernel)",
   "language": "python",
   "name": "python3"
  },
  "language_info": {
   "codemirror_mode": {
    "name": "ipython",
    "version": 3
   },
   "file_extension": ".py",
   "mimetype": "text/x-python",
   "name": "python",
   "nbconvert_exporter": "python",
   "pygments_lexer": "ipython3",
   "version": "3.9.21"
  }
 },
 "nbformat": 4,
 "nbformat_minor": 5
}
