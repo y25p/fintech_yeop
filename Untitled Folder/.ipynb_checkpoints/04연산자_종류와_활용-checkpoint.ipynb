{
 "cells": [
  {
   "cell_type": "markdown",
   "id": "f13dd4a9",
   "metadata": {},
   "source": [
    "# 연산자의 종류\n",
    "*산술,할당,비교,논리,식별,멤버\n",
    "*산술은 사칙연산\n",
    "*비교는 <,>"
   ]
  }
 ],
 "metadata": {
  "kernelspec": {
   "display_name": "Python 3 (ipykernel)",
   "language": "python",
   "name": "python3"
  },
  "language_info": {
   "codemirror_mode": {
    "name": "ipython",
    "version": 3
   },
   "file_extension": ".py",
   "mimetype": "text/x-python",
   "name": "python",
   "nbconvert_exporter": "python",
   "pygments_lexer": "ipython3",
   "version": "3.9.21"
  }
 },
 "nbformat": 4,
 "nbformat_minor": 5
}
