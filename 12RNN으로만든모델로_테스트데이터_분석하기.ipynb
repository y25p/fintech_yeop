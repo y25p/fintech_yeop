{
 "cells": [
  {
   "cell_type": "code",
   "execution_count": null,
   "id": "d19313cb",
   "metadata": {
    "scrolled": true
   },
   "outputs": [],
   "source": [
    "import pandas as pd\n",
    "import numpy as np\n",
    "import matplotlib.pyplot as plt\n",
    "from konlpy.tag import Mecab\n",
    "from tensorflow.keras.preprocessing.text import Tokenizer, text_to_word_sequence\n",
    "from tensorflow.keras.preprocessing.sequence import pad_sequences\n",
    "from tensorflow.keras.models import Sequential, load_model\n",
    "from tensorflow.keras.layers import Dense, Flatten, Embedding\n",
    "from tensorflow.keras.utils import to_categorical"
   ]
  },
  {
   "cell_type": "code",
   "execution_count": null,
   "id": "95c6c660",
   "metadata": {},
   "outputs": [],
   "source": [
    "test_data = pd.read_csv(\"../05machine_learning/data/bank_app_reviews_test.csv\")\n",
    "test_data.head(2)"
   ]
  },
  {
   "cell_type": "code",
   "execution_count": null,
   "id": "79137a69",
   "metadata": {},
   "outputs": [],
   "source": [
    "import re\n",
    "\n",
    "def clean_text(text):\n",
    "    cleaned = re.sub(r'[^가-힣a-zA-Z0-9\\s]','', text) #한글, 영문, 숫자\n",
    "    cleaned = re.sub(r'\\s+', ' ', cleaned) # 연속된 공백을 하나의 공백\n",
    "    return cleaned.strip()"
   ]
  },
  {
   "cell_type": "code",
   "execution_count": null,
   "id": "9110a2af",
   "metadata": {},
   "outputs": [],
   "source": [
    "test_data['사용자리뷰'] = test_data['사용자리뷰'].apply(clean_text)\n",
    "test_data['사용자리뷰']"
   ]
  },
  {
   "cell_type": "code",
   "execution_count": null,
   "id": "14886a23",
   "metadata": {},
   "outputs": [],
   "source": [
    "test_data['is_good'] = test_data['평점'].apply(lambda x: 1 if x >=4 else 0)\n",
    "test_data['is_good']"
   ]
  },
  {
   "cell_type": "code",
   "execution_count": null,
   "id": "edfe182a",
   "metadata": {},
   "outputs": [],
   "source": [
    "mecab = Mecab()"
   ]
  },
  {
   "cell_type": "code",
   "execution_count": null,
   "id": "f32803c7",
   "metadata": {},
   "outputs": [],
   "source": [
    "tokenized_docs = test_data['사용자리뷰'].apply(mecab.morphs)"
   ]
  },
  {
   "cell_type": "code",
   "execution_count": null,
   "id": "75f319e5",
   "metadata": {},
   "outputs": [],
   "source": [
    "tokenized_docs[0]"
   ]
  },
  {
   "cell_type": "markdown",
   "id": "0b5c3395",
   "metadata": {},
   "source": [
    "# train에서 사용했던 tokenizer를 불러와서 one hot encoding"
   ]
  },
  {
   "cell_type": "code",
   "execution_count": null,
   "id": "e5e4e790",
   "metadata": {},
   "outputs": [],
   "source": [
    "import joblib"
   ]
  },
  {
   "cell_type": "code",
   "execution_count": null,
   "id": "4f4432ec",
   "metadata": {},
   "outputs": [],
   "source": [
    "token = joblib.load(\"./model/bank_app_tokeizer.joblib\")"
   ]
  },
  {
   "cell_type": "code",
   "execution_count": null,
   "id": "4f71f6a9",
   "metadata": {},
   "outputs": [],
   "source": [
    "x = token.texts_to_sequences(tokenized_docs)\n",
    "print(x[0])"
   ]
  },
  {
   "cell_type": "markdown",
   "id": "627579fb",
   "metadata": {},
   "source": [
    "# train에서 사용했던 패딩 길이(모델에 넣을 컬럼 수)"
   ]
  },
  {
   "cell_type": "code",
   "execution_count": null,
   "id": "74e9b8c6",
   "metadata": {},
   "outputs": [],
   "source": [
    "max_length = joblib.load(\"./model/bank_app_max_length.joblib\")\n",
    "print(max_length)"
   ]
  },
  {
   "cell_type": "code",
   "execution_count": null,
   "id": "0c14c260",
   "metadata": {},
   "outputs": [],
   "source": [
    "X_padded = pad_sequences(x, maxlen=max_length, padding='post')\n",
    "print(X_padded[1])"
   ]
  },
  {
   "cell_type": "code",
   "execution_count": null,
   "id": "f701a006",
   "metadata": {},
   "outputs": [],
   "source": [
    "len(X_padded[1])"
   ]
  },
  {
   "cell_type": "code",
   "execution_count": null,
   "id": "87e871aa",
   "metadata": {},
   "outputs": [],
   "source": [
    "y = test_data['is_good']\n",
    "y"
   ]
  },
  {
   "cell_type": "markdown",
   "id": "05ff3645",
   "metadata": {},
   "source": [
    "# 모델 불러와서 예측하고 결과 비교하기"
   ]
  },
  {
   "cell_type": "code",
   "execution_count": null,
   "id": "222bf2eb",
   "metadata": {},
   "outputs": [],
   "source": [
    "birnn_best = load_model(\"./model/bank_app_review_birnn.keras\")\n",
    "cnn_lstm_best = load_model(\"./model/bank_app_review_lstm_cnn.keras\")\n",
    "attn_best = load_model(\"./model/bank_app_review_attn_model.keras\")"
   ]
  },
  {
   "cell_type": "code",
   "execution_count": null,
   "id": "c5a5dc28",
   "metadata": {},
   "outputs": [],
   "source": [
    "birnn_pred = birnn_best.predict(X_padded)\n",
    "cnn_latm_pred = cnn_lstm_best.predict(X_padded)\n",
    "attn_pred = attn_best.predict(X_padded)"
   ]
  },
  {
   "cell_type": "code",
   "execution_count": null,
   "id": "1e382bd6",
   "metadata": {},
   "outputs": [],
   "source": [
    "birnn_pred = pd.DataFrame(birnn_pred)\n",
    "cnn_lstm_pred = pd.DataFrame(cnn_latm_pred)\n",
    "attn_pred = pd.DataFrame(attn_pred)"
   ]
  },
  {
   "cell_type": "code",
   "execution_count": null,
   "id": "3e7dc89d",
   "metadata": {},
   "outputs": [],
   "source": [
    "y"
   ]
  },
  {
   "cell_type": "code",
   "execution_count": null,
   "id": "6e613205",
   "metadata": {},
   "outputs": [],
   "source": [
    "y = pd.DataFrame(y)"
   ]
  },
  {
   "cell_type": "code",
   "execution_count": null,
   "id": "a0f27a8e",
   "metadata": {
    "scrolled": true
   },
   "outputs": [],
   "source": [
    "birnn_result = y.join(birnn_pred)\n",
    "cnn_lstm_result = y.join(cnn_lstm_pred)\n",
    "attn_pred_result = y.join(attn_pred)"
   ]
  },
  {
   "cell_type": "code",
   "execution_count": null,
   "id": "b6c563cb",
   "metadata": {},
   "outputs": [],
   "source": [
    "birnn_result.loc[:, 0] = birnn_result.loc[:, 0].apply(lambda x: 1 if x > 0.5 else 0)\n",
    "cnn_lstm_result.loc[:, 0] = cnn_lstm_result.loc[:, 0].apply(lambda x: 1 if x > 0.5 else 0)\n",
    "attn_pred_result.loc[:, 0] = attn_pred_result.loc[:, 0].apply(lambda x: 1 if x > 0.5 else 0)\n"
   ]
  },
  {
   "cell_type": "code",
   "execution_count": null,
   "id": "be46dacd",
   "metadata": {},
   "outputs": [],
   "source": [
    "birnn_result"
   ]
  },
  {
   "cell_type": "code",
   "execution_count": null,
   "id": "733e1fbf",
   "metadata": {
    "scrolled": true
   },
   "outputs": [],
   "source": [
    "cnn_lstm_result"
   ]
  },
  {
   "cell_type": "code",
   "execution_count": null,
   "id": "1c224ab4",
   "metadata": {
    "scrolled": true
   },
   "outputs": [],
   "source": [
    "attn_pred_result"
   ]
  },
  {
   "cell_type": "code",
   "execution_count": null,
   "id": "3be85105",
   "metadata": {},
   "outputs": [],
   "source": [
    "from sklearn.metrics import classification_report"
   ]
  },
  {
   "cell_type": "code",
   "execution_count": null,
   "id": "983c6603",
   "metadata": {},
   "outputs": [],
   "source": [
    "print(classification_report(birnn_result['is_good'], birnn_result[0]))"
   ]
  },
  {
   "cell_type": "code",
   "execution_count": null,
   "id": "a81bf5f4",
   "metadata": {},
   "outputs": [],
   "source": [
    "print(classification_report(cnn_lstm_result['is_good'], cnn_lstm_result[0]))"
   ]
  },
  {
   "cell_type": "code",
   "execution_count": null,
   "id": "b62ac812",
   "metadata": {},
   "outputs": [],
   "source": [
    "print(classification_report(attn_pred_result['is_good'], attn_pred_result[0]))"
   ]
  },
  {
   "cell_type": "code",
   "execution_count": null,
   "id": "eb23aac9",
   "metadata": {},
   "outputs": [],
   "source": [
    "attn_pred_result"
   ]
  },
  {
   "cell_type": "markdown",
   "id": "aaad8f49",
   "metadata": {},
   "source": [
    "# evaluate"
   ]
  },
  {
   "cell_type": "code",
   "execution_count": null,
   "id": "dfa57b81",
   "metadata": {},
   "outputs": [],
   "source": [
    "%%time\n",
    "birnn_best.evaluate(X_padded, test_data['is_good'])"
   ]
  },
  {
   "cell_type": "code",
   "execution_count": null,
   "id": "60933905",
   "metadata": {},
   "outputs": [],
   "source": [
    "%%time\n",
    "cnn_lstm_best.evaluate(X_padded, test_data['is_good'])"
   ]
  },
  {
   "cell_type": "code",
   "execution_count": null,
   "id": "080de92e",
   "metadata": {},
   "outputs": [],
   "source": [
    "%%time\n",
    "attn_best.evaluate(X_padded, test_data['is_good'])"
   ]
  },
  {
   "cell_type": "code",
   "execution_count": null,
   "id": "f5636cf2",
   "metadata": {},
   "outputs": [],
   "source": []
  }
 ],
 "metadata": {
  "kernelspec": {
   "display_name": "Python 3 (ipykernel)",
   "language": "python",
   "name": "python3"
  },
  "language_info": {
   "codemirror_mode": {
    "name": "ipython",
    "version": 3
   },
   "file_extension": ".py",
   "mimetype": "text/x-python",
   "name": "python",
   "nbconvert_exporter": "python",
   "pygments_lexer": "ipython3",
   "version": "3.9.22"
  }
 },
 "nbformat": 4,
 "nbformat_minor": 5
}
